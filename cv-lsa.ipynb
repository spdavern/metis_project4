{
 "cells": [
  {
   "cell_type": "code",
   "execution_count": 1,
   "metadata": {
    "ExecuteTime": {
     "end_time": "2019-11-13T23:23:13.609559Z",
     "start_time": "2019-11-13T23:23:12.275170Z"
    }
   },
   "outputs": [],
   "source": [
    "import pandas as pd\n",
    "import numpy as np\n",
    "import nltk\n",
    "from nltk.tokenize import sent_tokenize\n",
    "from nltk.tokenize import punkt\n",
    "from sklearn.feature_extraction.text import CountVectorizer\n",
    "from sklearn.metrics.pairwise import cosine_similarity\n",
    "from sklearn.metrics import pairwise_distances\n",
    "from sklearn.preprocessing import normalize\n",
    "from src.functions import get_sents, display_topics\n",
    "from sklearn.decomposition import TruncatedSVD\n",
    "from sklearn.cluster import KMeans\n",
    "from yellowbrick.cluster import KElbowVisualizer\n",
    "import matplotlib.pylab as plt\n",
    "%matplotlib inline"
   ]
  },
  {
   "cell_type": "code",
   "execution_count": 2,
   "metadata": {
    "ExecuteTime": {
     "end_time": "2019-11-13T23:23:13.791479Z",
     "start_time": "2019-11-13T23:23:13.611762Z"
    }
   },
   "outputs": [],
   "source": [
    "# Get the collection of n(=1)-sentence snippets with the word 'love'\n",
    "love_snippets = pd.read_pickle('./data/processed/love_snippets')"
   ]
  },
  {
   "cell_type": "markdown",
   "metadata": {},
   "source": [
    "From results EDA I found that talk ID=132 and 2382 were 'outliers' after dimension reduction was performed when using CountVectorizer(binary=False).  These two talks were songs that mentioned love a lot.  By deleting them I'm trying to capture orthogonal variance in topics modeling to not be dominated by these 2 talks."
   ]
  },
  {
   "cell_type": "code",
   "execution_count": 3,
   "metadata": {
    "ExecuteTime": {
     "end_time": "2019-11-13T23:23:13.804775Z",
     "start_time": "2019-11-13T23:23:13.794200Z"
    },
    "scrolled": false
   },
   "outputs": [
    {
     "data": {
      "text/html": [
       "<div>\n",
       "<style scoped>\n",
       "    .dataframe tbody tr th:only-of-type {\n",
       "        vertical-align: middle;\n",
       "    }\n",
       "\n",
       "    .dataframe tbody tr th {\n",
       "        vertical-align: top;\n",
       "    }\n",
       "\n",
       "    .dataframe thead th {\n",
       "        text-align: right;\n",
       "    }\n",
       "</style>\n",
       "<table border=\"1\" class=\"dataframe\">\n",
       "  <thead>\n",
       "    <tr style=\"text-align: right;\">\n",
       "      <th></th>\n",
       "      <th>transcript</th>\n",
       "      <th>url</th>\n",
       "      <th>n_love_sents</th>\n",
       "      <th>love</th>\n",
       "    </tr>\n",
       "  </thead>\n",
       "  <tbody>\n",
       "    <tr>\n",
       "      <td>132</td>\n",
       "      <td>I’d like to dedicate this one to all the women...</td>\n",
       "      <td>https://www.ted.com/talks/vusi_mahlasela_sings...</td>\n",
       "      <td>12.0</td>\n",
       "      <td>♫ ♫ Should I now stop singing of love, ♫ ♫ now...</td>\n",
       "    </tr>\n",
       "    <tr>\n",
       "      <td>2382</td>\n",
       "      <td>(Sings) Water Boy(Guitar strum)where are you h...</td>\n",
       "      <td>https://www.ted.com/talks/rhiannon_giddens_3_s...</td>\n",
       "      <td>15.0</td>\n",
       "      <td>So I wrote a song based on some of those narra...</td>\n",
       "    </tr>\n",
       "  </tbody>\n",
       "</table>\n",
       "</div>"
      ],
      "text/plain": [
       "                                             transcript  \\\n",
       "132   I’d like to dedicate this one to all the women...   \n",
       "2382  (Sings) Water Boy(Guitar strum)where are you h...   \n",
       "\n",
       "                                                    url  n_love_sents  \\\n",
       "132   https://www.ted.com/talks/vusi_mahlasela_sings...          12.0   \n",
       "2382  https://www.ted.com/talks/rhiannon_giddens_3_s...          15.0   \n",
       "\n",
       "                                                   love  \n",
       "132   ♫ ♫ Should I now stop singing of love, ♫ ♫ now...  \n",
       "2382  So I wrote a song based on some of those narra...  "
      ]
     },
     "execution_count": 3,
     "metadata": {},
     "output_type": "execute_result"
    }
   ],
   "source": [
    "love_snippets.loc[[132, 2382]]"
   ]
  },
  {
   "cell_type": "markdown",
   "metadata": {},
   "source": [
    "I'll uncomment this when I want those song talks eliminated."
   ]
  },
  {
   "cell_type": "code",
   "execution_count": 4,
   "metadata": {
    "ExecuteTime": {
     "end_time": "2019-11-13T23:23:13.809778Z",
     "start_time": "2019-11-13T23:23:13.806709Z"
    }
   },
   "outputs": [],
   "source": [
    "love_snippets.drop(labels=[132, 2382],inplace=True)"
   ]
  },
  {
   "cell_type": "code",
   "execution_count": 5,
   "metadata": {
    "ExecuteTime": {
     "end_time": "2019-11-13T23:23:13.935177Z",
     "start_time": "2019-11-13T23:23:13.811521Z"
    }
   },
   "outputs": [
    {
     "name": "stdout",
     "output_type": "stream",
     "text": [
      "2 topics variance ratios: [0.35450067 0.03588727]\n",
      "3 topics variance ratios: [0.35450067 0.03588728 0.02086246]\n",
      "4 topics variance ratios: [0.35450067 0.03588728 0.02086142 0.01752554]\n",
      "5 topics variance ratios: [0.35450067 0.03588727 0.02086135 0.01752582 0.01359874]\n"
     ]
    }
   ],
   "source": [
    "# Topic modeling\n",
    "# Vectorize\n",
    "cv1 = CountVectorizer(stop_words='english',binary=False)\n",
    "cv_doc_word = cv1.fit_transform(love_snippets.love)\n",
    "# Dimension Reduction\n",
    "cv_lsa=[]\n",
    "cv_doc_topic=[]\n",
    "for i in range(2,6):\n",
    "    cv_lsa.append(TruncatedSVD(i))\n",
    "    cv_doc_topic.append(cv_lsa[i-2].fit_transform(cv_doc_word))\n",
    "    print(int(i),'topics variance ratios:',cv_lsa[i-2].explained_variance_ratio_)"
   ]
  },
  {
   "cell_type": "code",
   "execution_count": 6,
   "metadata": {
    "ExecuteTime": {
     "end_time": "2019-11-13T23:23:13.945486Z",
     "start_time": "2019-11-13T23:23:13.937223Z"
    }
   },
   "outputs": [
    {
     "name": "stdout",
     "output_type": "stream",
     "text": [
      "\n",
      "Topic  0\n",
      "love, romantic, people, just, like, loved, think, know, want, ve, laughter, fall, really, brain\n",
      "\n",
      "Topic  1\n",
      "la, thank, li, janitor, want, boy, oh, lovewith, know, gave, bound, boyis, music, making\n"
     ]
    }
   ],
   "source": [
    "display_topics(cv_lsa[0], cv1.get_feature_names(), 14)"
   ]
  },
  {
   "cell_type": "code",
   "execution_count": 7,
   "metadata": {
    "ExecuteTime": {
     "end_time": "2019-11-13T23:23:14.125159Z",
     "start_time": "2019-11-13T23:23:13.947290Z"
    },
    "scrolled": true
   },
   "outputs": [
    {
     "data": {
      "image/png": "[encoded data removed]",
      "text/plain": [
       "<Figure size 432x288 with 1 Axes>"
      ]
     },
     "metadata": {
      "needs_background": "light"
     },
     "output_type": "display_data"
    }
   ],
   "source": [
    "plt.scatter(cv_doc_topic[0][:,0],cv_doc_topic[0][:,1], alpha = 0.5);\n",
    "# plt.axis([0, 60, -30, 10])"
   ]
  },
  {
   "cell_type": "markdown",
   "metadata": {},
   "source": [
    "Investigating the interesting result above seemed  to show that the points in the upper right had longer snippets.  So, I decided to see if there was a relationship with the number of sentences with love in it:\n",
    "\n",
    "Matplotlib colormaps: https://matplotlib.org/3.1.0/tutorials/colors/colormaps.html"
   ]
  },
  {
   "cell_type": "code",
   "execution_count": 8,
   "metadata": {
    "ExecuteTime": {
     "end_time": "2019-11-13T23:23:14.513509Z",
     "start_time": "2019-11-13T23:23:14.128886Z"
    },
    "scrolled": true
   },
   "outputs": [
    {
     "data": {
      "image/png": "[encoded data removed]",
      "text/plain": [
       "<Figure size 288x288 with 2 Axes>"
      ]
     },
     "metadata": {
      "needs_background": "light"
     },
     "output_type": "display_data"
    }
   ],
   "source": [
    "df=pd.DataFrame(cv_doc_topic[0])\n",
    "df.plot.scatter(x=0,y=1,figsize=(4,4), alpha=0.5,\\\n",
    "               c=love_snippets.n_love_sents+3, cmap=plt.get_cmap('gist_heat_r'),vmin=0);"
   ]
  },
  {
   "cell_type": "code",
   "execution_count": 9,
   "metadata": {
    "ExecuteTime": {
     "end_time": "2019-11-13T23:23:14.893553Z",
     "start_time": "2019-11-13T23:23:14.517203Z"
    }
   },
   "outputs": [
    {
     "data": {
      "image/png": "[encoded data removed]",
      "text/plain": [
       "<Figure size 144x288 with 2 Axes>"
      ]
     },
     "metadata": {
      "needs_background": "light"
     },
     "output_type": "display_data"
    }
   ],
   "source": [
    "df = pd.DataFrame(normalize(cv_doc_topic[0]))\n",
    "df.plot.scatter(x=0,y=1,figsize=(2,4), alpha=0.5,\\\n",
    "               c=love_snippets.n_love_sents+2, cmap=plt.get_cmap('gist_heat_r'),vmin=0)\n",
    "plt.axis([0,1.05,-1,1]);\n",
    "# plt.savefig(\"reports/figures/figure_1.png\")"
   ]
  },
  {
   "cell_type": "code",
   "execution_count": 10,
   "metadata": {
    "ExecuteTime": {
     "end_time": "2019-11-13T23:23:15.899196Z",
     "start_time": "2019-11-13T23:23:14.895256Z"
    }
   },
   "outputs": [
    {
     "data": {
      "image/png": "[encoded data removed]",
      "text/plain": [
       "<Figure size 432x288 with 2 Axes>"
      ]
     },
     "metadata": {},
     "output_type": "display_data"
    }
   ],
   "source": [
    "km=KMeans()\n",
    "visualizer = KElbowVisualizer(km, k=(2,12))\n",
    "visualizer.fit(cv_doc_topic[0])        # Fit the data to the visualizer\n",
    "visualizer.show();        # Finalize and render the figure"
   ]
  },
  {
   "cell_type": "code",
   "execution_count": 11,
   "metadata": {
    "ExecuteTime": {
     "end_time": "2019-11-13T23:23:15.905700Z",
     "start_time": "2019-11-13T23:23:15.901066Z"
    }
   },
   "outputs": [
    {
     "data": {
      "text/plain": [
       "5"
      ]
     },
     "execution_count": 11,
     "metadata": {},
     "output_type": "execute_result"
    }
   ],
   "source": [
    "visualizer.elbow_value_"
   ]
  },
  {
   "cell_type": "code",
   "execution_count": 12,
   "metadata": {
    "ExecuteTime": {
     "end_time": "2019-11-13T23:23:17.177332Z",
     "start_time": "2019-11-13T23:23:15.907695Z"
    },
    "scrolled": true
   },
   "outputs": [
    {
     "data": {
      "image/png": "[encoded data removed]",
      "text/plain": [
       "<Figure size 360x288 with 1 Axes>"
      ]
     },
     "metadata": {
      "needs_background": "light"
     },
     "output_type": "display_data"
    }
   ],
   "source": [
    "df=pd.DataFrame(cv_doc_topic[0],columns=['LSA Dimension 0','LSA Dimension 1'])\n",
    "num_clusters = visualizer.elbow_value_\n",
    "km = KMeans(n_clusters=num_clusters,random_state=None,n_init=300,verbose=0) # n_init, number of times the K-mean algorithm will run\n",
    "km.fit(df)\n",
    "km.labels_\n",
    "cmap = {0:'r',1:'g',2:'b',3:'c',4:'m',5:'y',6:'orange',7:'k',8:'aqua',9:'yellow'}\n",
    "col = pd.DataFrame(np.array([km.labels_])).transpose()[0].map(cmap)\n",
    "df.plot.scatter(x='LSA Dimension 0',y='LSA Dimension 1',\\\n",
    "                figsize=(5,4), c=col, alpha = 0.5,title='Topic Modeling of Love');\n",
    "# plt.axis([-1,1.05,-1,1]);"
   ]
  },
  {
   "cell_type": "code",
   "execution_count": 13,
   "metadata": {
    "ExecuteTime": {
     "end_time": "2019-11-13T23:23:17.184874Z",
     "start_time": "2019-11-13T23:23:17.179597Z"
    },
    "scrolled": true
   },
   "outputs": [
    {
     "name": "stdout",
     "output_type": "stream",
     "text": [
      "r [ 4.35340085 -0.01363158]\n",
      "g [ 1.12562242 -0.00468251]\n",
      "b [56.17904295 -0.70959931]\n",
      "c [13.91757792 -0.03443014]\n",
      "m [ 4.67868909 44.78070875]\n"
     ]
    }
   ],
   "source": [
    "for i,center in enumerate(km.cluster_centers_):\n",
    "    print(cmap[i],center)"
   ]
  },
  {
   "cell_type": "markdown",
   "metadata": {},
   "source": [
    "Getting the matrix of euclidean distances from the cluster centers: (used to work that out)"
   ]
  },
  {
   "cell_type": "code",
   "execution_count": 14,
   "metadata": {
    "ExecuteTime": {
     "end_time": "2019-11-13T23:23:17.198124Z",
     "start_time": "2019-11-13T23:23:17.186800Z"
    },
    "scrolled": false
   },
   "outputs": [
    {
     "data": {
      "text/html": [
       "<div>\n",
       "<style scoped>\n",
       "    .dataframe tbody tr th:only-of-type {\n",
       "        vertical-align: middle;\n",
       "    }\n",
       "\n",
       "    .dataframe tbody tr th {\n",
       "        vertical-align: top;\n",
       "    }\n",
       "\n",
       "    .dataframe thead th {\n",
       "        text-align: right;\n",
       "    }\n",
       "</style>\n",
       "<table border=\"1\" class=\"dataframe\">\n",
       "  <thead>\n",
       "    <tr style=\"text-align: right;\">\n",
       "      <th></th>\n",
       "      <th>0</th>\n",
       "      <th>1</th>\n",
       "      <th>2</th>\n",
       "      <th>3</th>\n",
       "      <th>4</th>\n",
       "    </tr>\n",
       "  </thead>\n",
       "  <tbody>\n",
       "    <tr>\n",
       "      <td>0</td>\n",
       "      <td>2.232782</td>\n",
       "      <td>0.995477</td>\n",
       "      <td>54.062578</td>\n",
       "      <td>11.796877</td>\n",
       "      <td>44.886484</td>\n",
       "    </tr>\n",
       "    <tr>\n",
       "      <td>1</td>\n",
       "      <td>3.226871</td>\n",
       "      <td>0.018389</td>\n",
       "      <td>55.056781</td>\n",
       "      <td>12.791040</td>\n",
       "      <td>44.944348</td>\n",
       "    </tr>\n",
       "    <tr>\n",
       "      <td>2</td>\n",
       "      <td>3.347734</td>\n",
       "      <td>0.120532</td>\n",
       "      <td>55.177971</td>\n",
       "      <td>12.911912</td>\n",
       "      <td>44.923340</td>\n",
       "    </tr>\n",
       "    <tr>\n",
       "      <td>3</td>\n",
       "      <td>3.174534</td>\n",
       "      <td>0.056683</td>\n",
       "      <td>55.004431</td>\n",
       "      <td>12.738698</td>\n",
       "      <td>44.941268</td>\n",
       "    </tr>\n",
       "    <tr>\n",
       "      <td>4</td>\n",
       "      <td>9.331580</td>\n",
       "      <td>12.557796</td>\n",
       "      <td>42.511245</td>\n",
       "      <td>0.409253</td>\n",
       "      <td>45.383638</td>\n",
       "    </tr>\n",
       "  </tbody>\n",
       "</table>\n",
       "</div>"
      ],
      "text/plain": [
       "          0          1          2          3          4\n",
       "0  2.232782   0.995477  54.062578  11.796877  44.886484\n",
       "1  3.226871   0.018389  55.056781  12.791040  44.944348\n",
       "2  3.347734   0.120532  55.177971  12.911912  44.923340\n",
       "3  3.174534   0.056683  55.004431  12.738698  44.941268\n",
       "4  9.331580  12.557796  42.511245   0.409253  45.383638"
      ]
     },
     "execution_count": 14,
     "metadata": {},
     "output_type": "execute_result"
    }
   ],
   "source": [
    "pd.DataFrame(pairwise_distances(km.cluster_centers_,cv_doc_topic[0]).T).head()"
   ]
  },
  {
   "cell_type": "markdown",
   "metadata": {},
   "source": [
    "Show the snippets from the 4 (euclidean distance) closest documents:"
   ]
  },
  {
   "cell_type": "code",
   "execution_count": 15,
   "metadata": {
    "ExecuteTime": {
     "end_time": "2019-11-13T23:23:17.225479Z",
     "start_time": "2019-11-13T23:23:17.200326Z"
    }
   },
   "outputs": [
    {
     "name": "stdout",
     "output_type": "stream",
     "text": [
      "Cluster centered at: [ 4.35340085 -0.01363158] color= r\n",
      "816 : [4.33396354 0.00806383] Can you imagine our country embracing young black men, seeing them as part of our future, giving them that kind of openness, that kind of grace we give to people we love? When we see something, we have to have the courage to say something, even to the people we love. And you know, we love Grandma and we love Uncle Joe. We've got to take  our lovely darlings, our future, and we've got to tell them we have  an amazing country with incredible ideals, we have worked incredibly hard, and we have made some progress, but we are not done.\n",
      "1000 : [4.36332136 0.01817658] And that is why, although my daughter is an athlete, she's also a huge nerd, which I love. But she knows there's someone called the Mother of Dragons, and she calls herself that and she loves it. She loves Groot. She's played by Zoe Saldana, and she is strong and smart and fast and fights like a ninja, and she is played by a beautiful black woman, and my daughter fell in love with her. Now, there will be females in the rest of these movies, but they will be sidekicks, they will be love interests, they will be members of teams. He's 11 years old, and the thing that he loves most in the world is a show called \"My Little Pony: Friendship is Magic,\" like millions of other children across America. As a matter of fact, what I would love is a world in which every person who goes to the store goes with a little flowchart in their head of whether or not they should buy this toy for a boy or a girl, and it's a real simple flowchart because it only has one question on it.\n",
      "1052 : [4.35688502 0.02058708] You know, white, brown, whatever — I loved them all. I know they sound kind of awful, but I absolutely love them. And now that I say it out loud, I realize how terrible that sounds, but be that as it may, I absolutely love them. She was beaten so badly her ears would bleed, and when she finally left and she found a young man that she chose and she fell in love with, the community and the family found out and she disappeared. They're also promising our young people the things that they crave: significance, heroism, a sense of belonging and purpose, a community that loves and accepts them. I would like to ask — to Muslim parents and Muslim communities, will you love and care for your children without forcing them to meet your expectations?\n",
      "981 : [ 4.37169883 -0.04680397] And when we get access to them, we are blown away, we fall in love. We would love to spend hours showing you each and every decade, but we don't have the time right now. This next idea comes from discussions with curators that we've been having at museums, who, by the way, I've fallen in love with, because they dedicate their whole life to try to tell these stories. I love my mother, but she thought I was wasting my life with this museum stuff. And it took around four and a half years for me to convince my lovely Indian mother that actually, this is worthwhile. And the way I did it was, I realized one day that she loves gold.\n",
      "\n",
      "\n",
      "Cluster centered at: [ 1.12562242 -0.00468251] color= g\n",
      "461 : [ 1.12796271 -0.00634344] And one thing I've learned in Boston is that you people will do anything for cancer, and I love that.\n",
      "133 : [ 1.1291634  -0.00416515] That's why VCs love to fund serial entrepreneurs — even if you didn't do it right the first time, you've learned the lessons, which puts you in good stead the next time.\n",
      "855 : [ 1.12025238 -0.00785218] Nine of them are at Green Village — you've just seen inside some of these homes — and we fill them with bespoke furniture, we surround them with veggie gardens, we would love to invite you all to come visit someday.\n",
      "771 : [ 1.12506212 -0.01954302] I really loved philosophy. So if what matters to us — a child's delight, the love you have for your partner — can't be represented by real numbers, then there's no reason to believe that in choice, there are only three possibilities — that one alternative is better, worse or equal to the other.\n",
      "\n",
      "\n",
      "Cluster centered at: [56.17904295 -0.70959931] color= b\n",
      "16 : [58.74310246 -1.36854187] But I want to start with my work on romantic love, because that's my most recent work. What I and my colleagues did was put 32 people, who were madly in love, into a functional MRI brain scanner. 17 who were madly in love and their love was accepted; and 15 who were madly in love and they had just been dumped. And so I want to tell you about that first, and then go on into where I think love is going. (Laughter)\"What 'tis to love?\" I started out by trying to figure out what romantic love was by looking at the last 45 years of the psychological research and as it turns out, there's a very specific group of things that happen when you fall in love. \"Love consists of overestimating the differences between one woman and another. \" As Chaucer said, \"Love is blind. \"In trying to understand romantic love, I decided I would read poetry from all over the world, and I just want to give you one very short poem from eighth-century China, because it's an almost perfect example of a man who is focused totally on a particular woman. It's a little bit like when you are madly in love with somebody and you walk into a parking lot — their car is different from every other car in the parking lot. Romantic love is very simple. But the moment you fall in love, you become extremely sexually possessive of them. But the main characteristics of romantic love are craving: an intense craving to be with a particular person, not just sexually, but emotionally. , to tell you that they love you. I began to realize that romantic love is not an emotion. But certainly, around the world, people who are rejected in love will kill for it. People live for love. They kill for love. They die for love. The second of these three brain systems is romantic love: that elation, obsession of early love. I think romantic love evolved to enable you to focus your mating energy on just one individual at a time, thereby conserving mating time and energy. One of the last 10,000 years and the other, certainly of the last 25 years, that are going to have an impact on these three different brain systems: lust, romantic love and deep attachment to a partner. I'll say just a couple of things, and then go on to sex and love. I'll only just use a couple and then move on to sex and love. We're also seeing a rise of romantic love. 91 percent of American women and 86 percent of American men would not marry somebody who had every single quality they were looking for in a partner, if they were not in love with that person. People around the world, in a study of 37 societies, want to be in love with the person that they marry. These three brain systems — lust, romantic love and attachment — don't always go together. Dopamine's associated with romantic love, and you can just fall in love with somebody who you're just having casual sex with. This is why you can feel such a sense of cosmic union with somebody after you've made love to them. But these three brain systems: lust, romantic love and attachment, aren't always connected to each other. You can feel deep attachment to a long-term partner while you feel intense romantic love for somebody else, while you feel the sex drive for people unrelated to these other partners. In fact, you can lie in bed at night and swing from deep feelings of attachment for one person to deep feelings of romantic love for somebody else. Dopamine is associated with romantic love. I'm just simply saying that a world without love is a deadly place. I've been studying romantic love and sex and attachment for 30 years. It got me thinking about why it is that you fall in love with one person rather than another. There's all kinds of reasons that you fall in love with one person rather than another. You fall in love with somebody who's somewhat mysterious, in part because mystery elevates dopamine in the brain, probably pushes you over that threshold to fall in love. You fall in love with somebody who fits within what I call your \"love map,\" an unconscious list of traits that you build in childhood as you grow up. I've been carrying on here about the biology of love. And this graduate student was madly in love with another graduate student, and she was not in love with him. And he knew from our work that if you go and do something very novel with somebody, you can drive up the dopamine in the brain, and perhaps trigger this brain system for romantic love. He figured that this would drive up the dopamine, and she'd fall in love with him. \"(Laughter)(Applause)There's magic to love! (Applause)But I will end by saying that millions of years ago, we evolved three basic drives: the sex drive, romantic love and attachment to a long-term partner.\n",
      "1044 : [58.89385629 -0.1744038 ] OK, so today I want to talk about how we talk about love. And specifically, I want to talk about what's wrong with how we talk about love. Most of us will probably fall in love a few times over the course of our lives, and in the English language, this metaphor, falling, is really the main way that we talk about that experience. You could say that I get paid to argue that the language we use matters, and I would like to argue that many of the metaphors we use to talk about love — maybe even most of them — are a problem. So, in love, we fall. Love makes us crazy, and it makes us sick. And if you look this word up in the dictionary —(Laughter)you will see that it can be defined as both \"grievous affliction,\" and, \"to be very much in love. \" (Laughter)Here we are using the same word to talk about love that we use to explain a plague of locusts. How have we come to associate love with great pain and suffering? And to think this through, I want to focus on one metaphor in particular, which is the idea of love as madness. When I first started researching romantic love, I found these madness metaphors everywhere. The history of Western culture is full of language that equates love to mental illness. William Shakespeare: \"Love is merely a madness,\" from \"As You Like It. \" Friedrich Nietzsche: \"There is always some madness in love. \" \"Got me looking, got me looking so crazy in love — \"(Laughter)from the great philosopher, Beyoncé Knowles. (Laughter)I fell in love for the first time when I was 20, and it was a pretty turbulent relationship right from the start. I was sitting on a bed in a hostel in South America, and I was watching the person I love walk out the door. I must really be doing this love thing right. \"(Laughter)Because some part of me wanted to feel miserable in love. I think on some level I wanted to feel a little bit crazy, because I thought that that was how loved worked. This really should not be surprising, considering that according to Wikipedia, there are eight films, 14 songs, two albums and one novel with the title \"Crazy Love. I expected my first love to feel like madness, and of course, it met that expectation very well. But I suspect this experience of love is not that unusual. Most of us do feel a bit mad in the early stages of romantic love. In fact, there is research to confirm that this is somewhat normal, because, neurochemically speaking, romantic love and mental illness are not that easily distinguished. This study from 1999 used blood tests to confirm that the serotonin levels of the newly in love very closely resembled the serotonin levels of people who had been diagnosed with obsessive-compulsive disorder. So there is some evidence that love is associated with changes to our moods and our behaviors. Researchers believe that the low levels of serotonin is correlated with obsessive thinking about the object of love, which is like this feeling that someone has set up camp in your brain. And most of us feel this way when we first fall in love. When I got back from my trip to South America, I spent a lot of time alone in my room, checking my email, desperate to hear from the guy I loved. But I think I felt like it was my job to be miserable, because if I could be miserable, then I would prove how much I loved him. This is the real madness, because there is no cosmic rule that says that great suffering equals great reward, but we talk about love as if this is true. Our experiences of love are both biological and cultural. Our biology tells us that love is good by activating these reward circuits in our brain, and it tells us that love is painful when, after a fight or a breakup, that neurochemical reward is withdrawn. (Laughter)And then our culture uses language to shape and reinforce these ideas about love. Love is powerful and at times painful, and we express this in our words and stories, but then our words and stories prime us to expect love to be powerful and painful. It seems like we want it both ways: we want love to feel like madness, and we want it to last an entire lifetime. So, imagine if we were all less passive in love. If we were more assertive, more open-minded, more generous and instead of falling in love, we stepped into love. Johnson and Lakoff suggest a new metaphor for love: love as a collaborative work of art. I really like this way of thinking about love. So if love is a collaborative work of art, then love is an aesthetic experience. Love is unpredictable, love is creative, love requires communication and discipline, it is frustrating and emotionally demanding. And love involves both joy and pain. Ultimately, each experience of love is different. When I was younger, it never occurred to me that I was allowed to demand more from love, that I didn't have to just accept whatever love offered. Reframing love as something I get to create with someone I admire, rather than something that just happens to me without my control or consent, is empowering. Love still feels totally maddening and crushing some days, and when I feel really frustrated, I have to remind myself: my job in this relationship is to talk to my partner about what I want to make together. This version of love is not about winning or losing someone's affection. This version of love allows us to say things like, \"Hey, we're not very good collaborators. This version of love allows us to decide what it looks like.\n",
      "113 : [63.0814791  -1.24744034] I and my colleagues Art Aron and Lucy Brown and others, have put 37 people who are madly in love into a functional MRI brain scanner. 17 who were happily in love, 15 who had just been dumped, and we're just starting our third experiment: studying people who report that they're still in love after 10 to 25 years of marriage. And Mayan inscriptions proclaim that he was deeply in love with his wife. After 1,300 years, these two lovers still touch and kiss from their tomb. Around the world, people love. They sing for love, they dance for love, they compose poems and stories about love. They tell myths and legends about love. They pine for love, they live for love, they kill for love, and they die for love. Anthropologists have found evidence of romantic love in 170 societies. But love isn't always a happy experience. In one study of college students, they asked a lot of questions about love, but the two that stood out to me the most were: \"Have you ever been rejected by somebody who you really loved?\" And the second question was: \"Have you ever dumped somebody who really loved you?\" Almost nobody gets out of love alive. So, before I start telling you about the brain, I want to read for you what I think is the most powerful love poem on Earth. There's other love poems that are, of course, just as good, but I don't think this one can be surpassed. Pain runs through my body with the fires of my love for you. Pain like a boil about to burst with my love for you, consumed by fire with my love for you. I am thinking of your love for me. I am torn by your love for me. Pain and more pain — where are you going with my love? Remember what I said, my love. Goodbye, my love, goodbye. \" Romantic love is one of the most powerful sensations on Earth. Our first study of people who were happily in love has been widely publicized, so I'm only going to say very little about it. But romantic love is much more than a cocaine high — at least you come down from cocaine. Romantic love is an obsession, it possesses you. Wild is love. We found activity in the brain region, in exactly the same brain region associated with intense romantic love. You know, when you've been dumped, the one thing you love to do is just forget about this human being, and then go on with your life — but no, you just love them harder. As the poet Terence, the Roman poet once said, he said, \"The less my hope, the hotter my love. \" When you've been rejected in love, not only are you engulfed with feelings of romantic love, but you're feeling deep attachment to this individual. Foremost, I have come to think that romantic love is a drive, a basic mating drive. Romantic love enables you to focus your mating energy on just one at a time, conserve your mating energy, and start the mating process with this single individual. I think of all the poetry that I've read about romantic love, what sums it up best is something that is said by Plato over 2,000 years ago. He said, \"The god of love lives in a state of need. I've also come to believe that romantic love is an addiction: a perfectly wonderful addiction when it's going well, and a perfectly horrible addiction when it's going poorly. I've got a girlfriend who's just getting over a terrible love affair. So, one thing I would like the medical community, and the legal community, and even the college community, to see if they can understand, that indeed, romantic love is one of the most addictive substances on Earth. I would also like to tell the world that animals love. And I think that this is really the origin of what you and I call \"love at first sight. \"People have often asked me whether what I know about love has spoiled it for me. Our newest experiment has been hatched by my colleague, Art Aron — putting people who are reporting that they are still in love, in a long-term relationship, into the functional MRI. The brain areas associated with intense romantic love still become active, 25 years later. There are still many questions to be answered and asked about romantic love. The question that I'm working on right this minute — and I'm only going to say it for a second, and then end — is, why do you fall in love with one person, rather than another? I know what happens in the brain, when you do become in love, but I don't know why you fall in love with one person rather than another. And there are many reasons that you fall in love with one person rather than another, that psychologists can tell you. And we tend to fall in love with somebody from the same socioeconomic background, the same general level of intelligence, of good looks, the same religious values. com, I ask you first a series of questions to see to what degree you express these chemicals, and I'm watching who chooses who to love. I'm putting the data together now, and at some point — there will always be magic to love, but I think I will come closer to understanding why it is you can walk into a room and everybody is from your background, your same general level of intelligence, good looks, and you don't feel pulled towards all of them. So my final statement is: love is in us.\n",
      "892 : [43.99773394 -0.04801124] I published this article in the New York Times Modern Love column in January of this year. \"To Fall in Love With Anyone, Do This. \" And the article is about a psychological study designed to create romantic love in the laboratory, and my own experience trying the study myself one night last summer. So I was of course very skeptical about this process of just manufacturing romantic love, but of course I was intrigued. And when I got the chance to try this study myself, with someone I knew but not particularly well, I wasn't expecting to fall in love. But then we did, and —(Laughter)And I thought it made a good story, so I sent it to the Modern Love column a few months later. I had been working on a book about love stories for the past few years, so I had gotten used to writing about my own experiences with romantic love on my blog. It's one thing to work up the confidence to write honestly about your experiences with love, but it is another thing to discover that your love life has made international news —(Laughter)and to realize that people across the world are genuinely invested in the status of your new relationship. I think I was afraid that we would become inadvertent icons for the process of falling in love, a position I did not at all feel qualified for. And I get it: people didn't just want to know if the study worked, they wanted to know if it really worked: that is, if it was capable of producing love that would last, not just a fling, but real love, sustainable love. Dr. Arthur Aron first wrote about these questions in this study here in 1997, and here, the researcher's goal was not to produce romantic love. \"You mean, you didn't fall in love with the person you did it with?\" In fact, I don't think this is the answer that any of us are looking for when it comes to love. I had been in the relationship since I was 20, which was basically my entire adult life, and he was my first real love, and I had no idea how or if I could make a life without him. I researched everything I could find about the science of romantic love, and I think I was hoping that it might somehow inoculate me from heartache. I hoped that if I armed myself with the knowledge of romantic love, I might never have to feel as terrible and lonely as I did then. I am more patient with love. What I want from love is a guarantee, not just that I am loved today and that I will be loved tomorrow, but that I will continue to be loved by the person I love indefinitely. So the story that the media told about the 36 questions was that there might be a shortcut to falling in love. There might be a way to somehow mitigate some of the risk involved, and this is a very appealing story, because falling in love feels amazing, but it's also terrifying. The moment you admit to loving someone, you admit to having a lot to lose, and it's true that these questions do provide a mechanism for getting to know someone quickly, which is also a mechanism for being known, and I think this is the thing that most of us really want from love: to be known, to be seen, to be understood. But I think when it comes to love, we are too willing to accept the short version of the story. So rather than that question, I would propose we ask some more difficult questions, questions like: How do you decide who deserves your love and who does not? How do you stay in love when things get difficult, and how do you know when to just cut and run? I don't necessarily know the answers to these questions, but I think they're an important start at having a more thoughtful conversation about what it means to love someone. So, if you want it, the short version of the story of my relationship is this: a year ago, an acquaintance and I did a study designed to create romantic love, and we fell in love, and we are still together, and I am so glad. But falling in love is not the same thing as staying in love. Falling in love is the easy part. So at the end of my article, I wrote, \"Love didn't happen to us. We're in love because we each made the choice to be. \" I want it to be enough to have asked and answered 36 questions, and to have chosen to love someone so generous and kind and fun and to have broadcast that choice in the biggest newspaper in America. (Laughter)But what I have instead is the chance to make the choice to love someone, and the hope that he will choose to love me back, and it is terrifying, but that's the deal with love.\n",
      "\n",
      "\n",
      "Cluster centered at: [13.91757792 -0.03443014] color= c\n",
      "1003 : [13.81696277 -0.17596878] And they see in our faces that our approval, that our love, that their very worth, comes from A's. What I'm saying is, our kids need us to be a little less obsessed with grades and scores and a whole lot more interested in childhood providing a foundation for their success built on things like love and chores. How can I anticipate a few steps ahead to what my boss might need?A second very important finding from the Harvard Grant Study said that happiness in life comes from love, not love of work, love of humans: our spouse, our partner, our friends, our family. So childhood needs to teach our kids how to love, and they can't love others if they don't first love themselves, and they won't love themselves if we can't offer them unconditional love. All right, so you're thinking, chores and love, that sounds all well and good, but give me a break. They're wildflowers of an unknown genus and species —(Laughter)and it's my job to provide a nourishing environment, to strengthen them through chores and to love them so they can love others and receive love and the college, the major, the career, that's up to them.\n",
      "4 : [13.67975533  0.29862901] You gave them love, joy, were there to comfort them. Those people very often — you know some of them — end up the rest of their life with all this love, education, money and background going in and out of rehab. So the bottom line is, maybe it was where to go to work, and you met the love of your life there, a career decision. Some people think the way to get them is to destroy the world, some people, to build, create something, love someone. How many of you here love surprises? Here's what we really need: connection and love, fourth need. We all want it; most settle for connection, love's too scary. If a relationship or business is not growing, if you're not growing, doesn't matter how much money or friends you have, how many love you, you feel like hell. Are you driven by significance or love? If you've got a target and a map — I can't use Google because I love Macs, and they haven't made it good for Macs yet. When I finished that night, she called him and left a message at the top of the World Trade Center where he worked, saying, \"I love you, I want you to know I want to marry you. From now on, every day, give your all, love your all. I'd love to hold your hand and say I'm sorry, but frankly, this is retribution. \"\n",
      "365 : [13.04277361 -0.06855816] \"(Laughter)So I'm a researcher-storyteller, and I'm going to talk to you today — we're talking about expanding perception — and so I want to talk to you and tell some stories about a piece of my research that fundamentally expanded my perception and really actually changed the way that I live and love and work and parent. D. in social work, so my entire academic career was surrounded by people who kind of believed in the \"life's messy, love it. \" Well, apparently this is the way my work went as well, because, when you ask people about love, they tell you about heartbreak. I wrote a book, I published a theory, but something was not okay — and what it was is that, if I roughly took the people I interviewed and divided them into people who really have a sense of worthiness — that's what this comes down to, a sense of worthiness — they have a strong sense of love and belonging — and folks who struggle for it, and folks who are always wondering if they're good enough. There was only one variable that separated the people who have a strong sense of love and belonging and the people who really struggle for it. And that was, the people who have a strong sense of love and belonging believe they're worthy of love and belonging. They talked about the willingness to say, \"I love you\" first .. . And I know that vulnerability is the core of shame and fear and our struggle for worthiness, but it appears that it's also the birthplace of joy, of creativity, of belonging, of love. You're imperfect, and you're wired for struggle, but you are worthy of love and belonging. \" to love with our whole hearts, even though there's no guarantee — and that's really hard, and I can tell you as a parent, that's excruciatingly difficult — to practice gratitude and joy in those moments of terror, when we're wondering, \"Can I love you this much?\n",
      "208 : [1.30205982e+01 2.81026961e-03] I love her. It's lovely to know they're concerned, you know. I love her, too; she's wonderful. Yeah, she's lovely. So anyway, what I was trying to say is that I really love TED. Like, I love everything about this. You know, like even, I mean I love like the name, the — TED. I love that. And I just — I love you guys. I love TED. They love rock music, pop culture, American culture. She said she is in love — in love with a nice Chinese girl. It's such a feeling that my love, I can't hide, I can't hide, I can't hide. \" It was lovely. I love you.\n",
      "\n",
      "\n",
      "Cluster centered at: [ 4.67868909 44.78070875] color= m\n",
      "287 : [ 4.67868909 44.78070875] (Music)♫ Oh, I'm in lovewith the janitor's boy, ♫♫ And the janitor's boyis in love with me. ♫♫ Oh, I'm in lovewith the janitor's boy, ♫♫ And the janitor's boyis in love with me. ♫♫ Oh, I'm in lovewith the janitor's boy, ♫♫ And the janitor's boy, ♫he's busy as can be; ♫♫ Down in the cellar he's making a raft ♫♫ Out of an old settee. ♫♫ So for everything you've done,you know I'm bound ♫♫ I'm bound to thank you for it ♫ (Clapping)♫ La li la la li la la la ♫♫ La li la la li la la la ♫♫ La li la la la ♫♫ La li la la la la ♫♫ La li la la li la la la ♫♫ La li la la li la li la la la ♫♫ La li la la la ♫♫ Oh, I want to thank you for so many gifts ♫♫ You gave in love with tenderness ♫♫ Thank you ♫♫ I want to thank youfor your generosity ♫♫ the love and the honesty that you gave me ♫♫ I want to thank youshow my gratitude, ♫ My loveand my respect for you ♫♫ I want to thank you, thank you ♫♫ Thank you, thank you ♫♫ Thank you, thank you ♫♫ Thank you, thank you ♫♫ I want to thank you, thank you ♫♫ Thank you, thank you ♫You know what?\n",
      "1024 : [4.79738476 0.85557659] When Deah and Yusor have their first dance, I see the love in his eyes, her reciprocated joy, and my emotions begin to overwhelm me. I love you. I love her. She shared his love for basketball, and at her urging, they started their honeymoon off attending their favorite team of the NBA, the LA Lakers. I sit on my brother's bed and remember his words, the words he gave me so freely and with so much love, \"I am who I am because of you. \"\n",
      "483 : [3.40553119 0.70734372] (Music)♫ They stood together ♫ ♫ under a tree in tall grass ♫ ♫ on TV ♫ ♫ telling the world ♫ ♫ their story ♫ ♫ We will be left to wander ♫ ♫ and fade away ♫ ♫ Soldiers came and took our husbands ♫ ♫ at the break of day ♫ ♫ We will live on ♫ ♫ then fade away ♫ ♫ Soldiers came and killed our children ♫ ♫ at the break of day ♫ ♫ Women of hope ♫ ♫ Women of change ♫ ♫ Women of war and pain ♫ ♫ I believe ♫ ♫ I believe the almighty knows each and every one of you ♫ ♫ by your name ♫ ♫ Women of hope ♫ ♫ Women of change ♫ ♫ Women of love, joy, no shame ♫ ♫ You've got something this little life ♫ ♫ can never take away ♫ ♫ Running through the darkness of night ♫ ♫ with a child by her side ♫ ♫ Oh Lord, won't you give them ♫ ♫ a shining armor of light ♫ ♫ Oh Lord, won't you give them ♫ ♫ a shining armor of light ♫ ♫ Daybreak brings a sign of new life ♫ ♫ with the power to stand ♫ ♫ Crossing the border ♫ ♫ she said, \"You will grow free on this land\" ♫ ♫ Women of hope ♫ ♫ Women of change ♫ ♫ Women of war and pain ♫ ♫ I can feel your power ♫ ♫ in these words she said ♫ ♫ If you're feeling helpless ♫ ♫ help someone ♫ ♫ If you're feeling helpless ♫ ♫ help someone ♫ ♫ Nobody really knows ♫ ♫ how far they will go ♫ ♫ to keep on living ♫ ♫ Nobody really knows ♫ ♫ how far they will go ♫ ♫ to keep on giving ♫ ♫ and forgiving ♫ ♫ Aung San Suu Kyi ♫ ♫ living under house arrest ♫ ♫ for her peaceful protest ♫ ♫ under house arrest ♫ ♫ for her peaceful protest ♫ ♫ When her people asked her for a message ♫ ♫ she said ♫ ♫ If you're feeling helpless ♫ ♫ help someone ♫ ♫ If you're feeling helpless ♫ ♫ help someone ♫ ♫ If you're feeling helpless ♫ ♫ help someone ♫ ♫ If you're feeling helpless ♫ ♫ help someone ♫ Now we know the words, let's sing. ♫ If you're feeling helpless ♫ ♫ help someone ♫ ♫ If you're feeling helpless ♫ ♫ help someone ♫ ♫ If you're feeling helpless ♫ ♫ help someone ♫ ♫ If you're feeling helpless ♫ ♫ help someone ♫ ♫ People of hope ♫ ♫ People of change ♫ ♫ People of love, joy, no shame ♫ ♫ I believe the almighty ♫ ♫ knows each and every one of you ♫ ♫ by your name ♫Thank you.\n",
      "567 : [6.17984595 0.67764491] The crazy teacher — that's me on the left, I dress up pretty, thank you, my wife, I love you for getting a good suit — my passionate borough president and a guy named George Irwin from Green Living Technologies who helped me with my class and helped me get involved with this patented technology. But we were just getting started, the kids loved the technology, so we called up George and we said, \"We gotta learn more!\" So thank you all and I love them. And I love it! Big kids love strawberries and bananas. But most importantly, just love them. Nothing works like unconditional love.\n",
      "\n",
      "\n"
     ]
    }
   ],
   "source": [
    "doc_topic = cv_doc_topic[0]\n",
    "euclidean_distances_to_centers=pd.DataFrame(pairwise_distances(km.cluster_centers_,doc_topic).T)\n",
    "for i,center in enumerate(km.cluster_centers_):\n",
    "    n_closest=euclidean_distances_to_centers[i].nsmallest(4)\n",
    "    print('Cluster centered at:',center,'color=',cmap[i])\n",
    "    for j,cs in n_closest.iteritems():\n",
    "#         print(j,cs)\n",
    "        print(j,':',doc_topic[j],love_snippets.iloc[j].love)\n",
    "    print('\\n')"
   ]
  },
  {
   "cell_type": "markdown",
   "metadata": {},
   "source": [
    "I'll now project the doc_topic values onto the unit circle, sphere, hypersphere I.  If I don't re-cluster yet, I'm looking at the clustering results from above:"
   ]
  },
  {
   "cell_type": "code",
   "execution_count": 16,
   "metadata": {
    "ExecuteTime": {
     "end_time": "2019-11-13T23:23:17.488203Z",
     "start_time": "2019-11-13T23:23:17.228418Z"
    },
    "scrolled": true
   },
   "outputs": [
    {
     "data": {
      "image/png": "[encoded data removed]",
      "text/plain": [
       "<Figure size 144x288 with 1 Axes>"
      ]
     },
     "metadata": {
      "needs_background": "light"
     },
     "output_type": "display_data"
    }
   ],
   "source": [
    "df = pd.DataFrame(normalize(doc_topic))\n",
    "df.plot.scatter(x=0,y=1,figsize=(2,4), c=col, alpha = 0.5);\n",
    "plt.axis([0,1.05,-1,1]);\n",
    "# plt.savefig(\"reports/figures/figure_1.png\")"
   ]
  },
  {
   "cell_type": "markdown",
   "metadata": {},
   "source": [
    "This next cell identifies the documents closest to the cluster centers using cosine similarity."
   ]
  },
  {
   "cell_type": "code",
   "execution_count": 17,
   "metadata": {
    "ExecuteTime": {
     "end_time": "2019-11-13T23:23:17.513442Z",
     "start_time": "2019-11-13T23:23:17.489912Z"
    }
   },
   "outputs": [
    {
     "name": "stdout",
     "output_type": "stream",
     "text": [
      "Cluster centered at: [ 4.35340085 -0.01363158] color= r\n",
      "1135 : [ 6.98244182 -0.02181228] From our love of Colorado to our love of sushi, there wasn't much we didn't agree on. We also discovered that we share a deep love of this country and feel a responsibility to be politically active. CQ: I may hate camping, but I love politics. (Laughter)Seeing Lauran's sons at the march and holding signs took it to a new level for me, and not in a good way, because I know these boys, I love these boys, and I didn't feel they were old enough to understand what the march stood for. \"But we love them. Love you.\n",
      "652 : [ 4.04717425 -0.01262042] The second aspect is love. And I just love this guy. I've been in love with this guy since I was a kid. And I wanted this guy to be involved in my crazy project, and he was kind enough to lend his image to the character of Eugène Spaak, who is a cosmologist and artist who seeks relation in between time, space, love, music and women.\n",
      "672 : [ 1.05279404 -0.0033263 ] If we flip the brain on its back — I love this little bit of spinal cord here — this bit here is the hypothalamus, and right under there is a whole raft of interesting structures, not least the biological clock.\n",
      "650 : [12.30279037 -0.03996549] (Laughter)(Applause)When I was little, my mother used to say, \"The love you have for your children is like no other feeling in the world. And a lot of the time, people who have these conditions are very angry because they feel as though their parents don't love them, when what actually has happened is that their parents don't accept them. Love is something that ideally is there unconditionally throughout the relationship between a parent and a child. I loved him, that's all. And when I see the way they're intersecting in conditions like the three I've just described, I sometimes think it's like those moments in grand opera when the hero realizes he loves the heroine at the exact moment that she lies expiring on a divan. This is what we hear when you pray for a cure — that your fondest wish for us is that someday we will cease to be and strangers you can love will move in behind our faces. \" But I've come to feel that I love the children I had so much that I don't want to imagine a life without them. And then I thought, all of us who have children love the children we have, with their flaws. What I'm studying is how much love there can be, even when everything appears to be going wrong. And when his ashes were interred, his mother said, \"I pray here for forgiveness for having been twice robbed, once of the child I wanted and once of the son I loved. \" And I figured it was possible then for anyone to love any child if they had the effective will to do so. And I don't accept subtractive models of love, only additive ones. I thought, the love you have for your children is unlike any other feeling in the world, and until you have children, you don't know what it feels like. I'd encountered so much strange love, and I fell very naturally into its bewitching patterns.\n",
      "\n",
      "\n",
      "Cluster centered at: [ 1.12562242 -0.00468251] color= g\n",
      "41 : [ 5.9417057  -0.02419713] And he says, you know, \"Philosophers love rational argument. \" \"This is a lovely book by a friend of mine named Lee Siegel, who's a professor of religion, actually, at the University of Hawaii, and he's an expert magician, and an expert on the street magic of India, which is what this book is about, \"Net of Magic. \" And there's a passage in it which I would love to share with you. And I love paintings like that — the painting is actually about as big as it is right here. And I love Canalettos, because Canaletto has this fantastic detail, and you can get right up and see all the details on the painting. This is a figure that I love: Bradley, Petrie, and Dumais. I love this one.\n",
      "596 : [ 1.18834391 -0.0047374 ] How can we share more of our hopes for our vacant storefronts, so our communities can reflect our needs and dreams today?Now, I live in New Orleans, and I am in love with New Orleans. My soul is always soothed by the giant live oak trees, shading lovers, drunks and dreamers for hundreds of years, and I trust a city that always makes way for music. In 2009, I lost someone I loved very much.\n",
      "858 : [ 8.40777097 -0.03653267] Is it a hookup, a love story, paid sex, a chat room, a massage with a happy ending? So this talk is for anyone who has ever loved. The fact is that monogamy had nothing to do with love. And alchemy is the key word here, because the erotic frisson is such that the kiss that you only imagine giving, can be as powerful and as enchanting as hours of actual lovemaking. As Marcel Proust said, it's our imagination that is responsible for love, not the other person. Ironically, we used to turn to adultery — that was the space where we sought pure love. But now that we seek love in marriage, adultery destroys it. We have a romantic ideal in which we turn to one person to fulfill an endless list of needs: to be my greatest lover, my best friend, the best parent, my trusted confidant, my emotional companion, my intellectual equal. Infidelity shatters the grand ambition of love. I'm thinking about another patient of mine, Priya, who is blissfully married, loves her husband, and would never want to hurt the man. And the very structure of an affair, the fact that you can never have your lover, keeps you wanting. But for Heather, or deceived partners, it is essential to do things that bring back a sense of self-worth, to surround oneself with love and with friends and activities that give back joy and meaning and identity. And the dilemmas of love and desire, they don't yield just simple answers of black and white and good and bad, and victim and perpetrator.\n",
      "484 : [ 2.94193779 -0.01168051] But,\" a very important but, \"I love Christmas carols. That's a lovely idea. Firstly, it's trying to remind you of what there is to love. And they should make sure that when you walk into a museum — if I was a museum curator, I would make a room for love, a room for generosity.\n",
      "\n",
      "\n",
      "Cluster centered at: [56.17904295 -0.70959931] color= b\n",
      "210 : [ 0.98370412 -0.01243184] I would love to go back to Tuscany to this kind of traditional setting, gastronomy, good food.\n",
      "961 : [ 0.9754913  -0.01230727] I love this thing.\n",
      "13 : [ 1.95990885 -0.02471671] (Laughter)(Applause)Design — I love its design. Entertainment — I love the entertainment.\n",
      "1050 : [ 2.055388   -0.02602019] A lot of parents now can love those kids. They're adorable, you love them, but there on the swing next to them, their best friend is a GM kid, and the two of them are kind of swinging like this, and you can't help but compare them, right?\n",
      "\n",
      "\n",
      "Cluster centered at: [13.91757792 -0.03443014] color= c\n",
      "969 : [ 4.032903   -0.00980804] And what can we gain by the right to marry if we are not able to cross the acrimony and emotional distance that so often separates us from our love? I have seen the most hurtful, destructive, tragic infighting in LGBT and AIDS and breast cancer and non-profit activism, all in the name of love. But this idea, that our present and our future are mutually exclusive, that to fulfill our potential for doing we have to surrender our profound potential for being, that the number of transistors on a circuit can be doubled and doubled, but our capacity for compassion and humanity and serenity and love is somehow limited is a false and suffocating choice. Imagine living in a world where we simply recognize that deep, existential fear in one another and love one another boldly because we know that to be human is to live with that fear.\n",
      "700 : [ 3.1778896  -0.00823729] This is true, so if you play this game with me today for just one single minute, you will get to feel joy, relief, love, surprise, pride, curiosity, excitement, awe and wonder, contentment, and creativity, all in the span of one minute. And speaking of physical connection, you guys know I love the hormone oxytocin, you release oxytocin, you feel bonded to everyone in the room. You guys were all holding hands for way more than six seconds, so we are all now biochemically primed to love each other.\n",
      "630 : [ 1.50327216 -0.00396011] It was loved. There's a sense of deep tragedy that goes with these things, and it happened to lots of birds that people loved. Now, there's the shifting baseline problem, which is, so when these things come back, they might replace some birds that are there that people really know and love.\n",
      "505 : [ 3.11729027 -0.00708108] Now I think at this point it's important for me to say that I actually love extroverts. The same religions who send their sages off to lonely mountain tops also teach us love and trust. But he also loved his congregation, and you could feel this love in the sermons that he gave every week for the 62 years that he was a rabbi.\n",
      "\n",
      "\n",
      "Cluster centered at: [ 4.67868909 44.78070875] color= m\n",
      "287 : [ 4.67868909 44.78070875] (Music)♫ Oh, I'm in lovewith the janitor's boy, ♫♫ And the janitor's boyis in love with me. ♫♫ Oh, I'm in lovewith the janitor's boy, ♫♫ And the janitor's boyis in love with me. ♫♫ Oh, I'm in lovewith the janitor's boy, ♫♫ And the janitor's boy, ♫he's busy as can be; ♫♫ Down in the cellar he's making a raft ♫♫ Out of an old settee. ♫♫ So for everything you've done,you know I'm bound ♫♫ I'm bound to thank you for it ♫ (Clapping)♫ La li la la li la la la ♫♫ La li la la li la la la ♫♫ La li la la la ♫♫ La li la la la la ♫♫ La li la la li la la la ♫♫ La li la la li la li la la la ♫♫ La li la la la ♫♫ Oh, I want to thank you for so many gifts ♫♫ You gave in love with tenderness ♫♫ Thank you ♫♫ I want to thank youfor your generosity ♫♫ the love and the honesty that you gave me ♫♫ I want to thank youshow my gratitude, ♫ My loveand my respect for you ♫♫ I want to thank you, thank you ♫♫ Thank you, thank you ♫♫ Thank you, thank you ♫♫ Thank you, thank you ♫♫ I want to thank you, thank you ♫♫ Thank you, thank you ♫You know what?\n",
      "968 : [0.274762   0.36261545] And was it even worthwhile to donate?WRTC invited Ross and I to a grief retreat, and we met about 15 other grieving families who had donated their loved one's organs for transplant. Some of them had even received letters from the people who received their loved one's organs, saying thank you.\n",
      "397 : [0.07895073 0.08728901] As a boy, I loved cars.\n",
      "1099 : [0.1154699  0.10635887] ](Music)(Guitar)(Singing) You're right,there's nothing more lovely,there's nothing more profound than the certainty,than the certainty that all of this will endThat all of this will endSo open your arms to me,open your arms to meAnd this will be the one moment that matters,and this will be the one thing we remember,and this will be the reason to have been here,and this will be the one moment that matters —Oh ..\n",
      "\n",
      "\n"
     ]
    }
   ],
   "source": [
    "for i,center in enumerate(km.cluster_centers_):\n",
    "    n_closest=pd.DataFrame(cosine_similarity(X=[center],Y=doc_topic).T)[0].nlargest(4)\n",
    "    print('Cluster centered at:',center,'color=',cmap[i])\n",
    "    for j,item in n_closest.iteritems():\n",
    "        print(j,':',doc_topic[j],love_snippets.iloc[j].love)\n",
    "    print('\\n')"
   ]
  },
  {
   "cell_type": "markdown",
   "metadata": {},
   "source": [
    "Now clustering on the "
   ]
  },
  {
   "cell_type": "code",
   "execution_count": 18,
   "metadata": {
    "ExecuteTime": {
     "end_time": "2019-11-13T23:23:18.306318Z",
     "start_time": "2019-11-13T23:23:17.515748Z"
    }
   },
   "outputs": [
    {
     "data": {
      "image/png": "[encoded data removed]",
      "text/plain": [
       "<Figure size 432x288 with 2 Axes>"
      ]
     },
     "metadata": {},
     "output_type": "display_data"
    }
   ],
   "source": [
    "km=KMeans()\n",
    "visualizer = KElbowVisualizer(km, k=(2,12))\n",
    "visualizer.fit(df)        # Fit the data to the visualizer\n",
    "visualizer.show();                     # Finalize and render the figure"
   ]
  },
  {
   "cell_type": "code",
   "execution_count": 19,
   "metadata": {
    "ExecuteTime": {
     "end_time": "2019-11-13T23:23:19.591318Z",
     "start_time": "2019-11-13T23:23:18.308195Z"
    },
    "scrolled": true
   },
   "outputs": [
    {
     "data": {
      "image/png": "[encoded data removed]",
      "text/plain": [
       "<Figure size 144x288 with 1 Axes>"
      ]
     },
     "metadata": {
      "needs_background": "light"
     },
     "output_type": "display_data"
    }
   ],
   "source": [
    "df = pd.DataFrame(normalize(doc_topic))\n",
    "num_clusters = visualizer.elbow_value_\n",
    "km = KMeans(n_clusters=num_clusters,random_state=10,n_init=300,verbose=0) # n_init, number of times the K-mean algorithm will run\n",
    "km.fit(df)\n",
    "km.labels_\n",
    "cmap = {0:'r',1:'g',2:'b',3:'c',4:'m',5:'y',6:'orange',7:'k',8:'aqua',9:'yellow'}\n",
    "col = pd.DataFrame(np.array([km.labels_])).transpose()[0].map(cmap)\n",
    "df.plot.scatter(x=0,y=1,figsize=(2,4), c=col, alpha = 0.5);\n",
    "plt.axis([0,1.05,-1,1]);\n",
    "# plt.savefig(\"reports/figures/figure_1.png\")"
   ]
  },
  {
   "cell_type": "code",
   "execution_count": 20,
   "metadata": {
    "ExecuteTime": {
     "end_time": "2019-11-13T23:23:19.627905Z",
     "start_time": "2019-11-13T23:23:19.593038Z"
    }
   },
   "outputs": [
    {
     "name": "stdout",
     "output_type": "stream",
     "text": [
      "Cluster centered at: [0.98537758 0.15113173] color= r\n",
      "957 : [0.98871076 0.14983666] They were simply so good at making what they loved doing, that they wouldn't change.\n",
      "847 : [0.98936144 0.1454783 ] If you are a parent, you know that kids love to keep making circles. The boy on the branch, he loves the tree so he is eating the tree.\n",
      "179 : [0.98981386 0.14236754] Love it. I mean, I love the fact that I can go in anywhere and pick out what I want — the shoes I want, the skirts I want — and I'm hoping to try to bring these over here and make them accessible to a lot of people.\n",
      "334 : [0.98564097 0.16885463] And if people feel used, worthless and ashamed, because something horrible has happened to them, then they retreat, and they fall into social isolation, and they do not dare to tell this evil to other people or to their loved ones, because they do not want to burden them.\n",
      "\n",
      "\n",
      "Cluster centered at: [ 0.99981777 -0.00892621] color= g\n",
      "594 : [ 0.99996046 -0.0088923 ] Overnight, my inbox morphed into this harbor of heartbreak — a single mother in Sacramento, a girl being bullied in rural Kansas, all asking me, a 22-year-old girl who barely even knew her own coffee order, to write them a love letter and give them a reason to wait by the mailbox. But, you know, the thing that always gets me about these letters is that most of them have been written by people that have never known themselves loved on a piece of paper. They could not tell you about the ink of their own love letters. And so I could tell you about a woman whose husband has just come home from Afghanistan, and she is having a hard time unearthing this thing called conversation, and so she tucks love letters throughout the house as a way to say, \"Come back to me. Or a girl who decides that she is going to leave love letters around her campus in Dubuque, Iowa, only to find her efforts ripple-effected the next day when she walks out onto the quad and finds love letters hanging from the trees, tucked in the bushes and the benches.\n",
      "1087 : [ 0.99996067 -0.00886876] \"First and foremost, I would love it if this meeting could help to remind us that we all need each other, none of us is an island, an autonomous and independent \"I,\" separated from the other, and we can only build the future by standing together, including everyone. When one realizes that life, even in the middle of so many contradictions, is a gift, that love is the source and the meaning of life, how can they withhold their urge to do good to another fellow being?In order to do good, we need memory, we need courage and we need creativity. Yes, love does require a creative, concrete and ingenious attitude. Mother Teresa actually said: \"One cannot love, unless it is at their own expense. It is the love that comes close and becomes real. A child’s love for mom and dad grows through their touch, their gaze, their voice, their tenderness. He lowered himself, he lived his entire human existence practicing the real, concrete language of love. Through humility and concrete love, on the other hand, power – the highest, the strongest one – becomes a service, a force for good.\n",
      "829 : [ 0.9999596  -0.00898886] And there's others that are all about the toaster, and the engineers love to draw the mechanics of this.\n",
      "861 : [ 0.99995954 -0.00899497] This is how I love you. It was very, very, very emotional, and one night we were sitting around the campfire, and I have to be honest, I think I'd had a little bit too much to drink, and I was sort of sitting under the stars going, \"This is great, you've seen my pictures, we love each other. \"\n",
      "\n",
      "\n",
      "Cluster centered at: [0.77466699 0.61541733] color= b\n",
      "619 : [0.79331308 0.60881389] The final thing I want to say is in relation to this one, which is a lovely website from India called IPaidABribe.\n",
      "820 : [0.79799147 0.60266874] They want the bodies of their loved ones. But most of all, what they want is they want you, they want everyone to know that their loved ones did nothing wrong. We let them decide to tell us the stories, to tell us what they saw, to tell us about their loved ones.\n",
      "1099 : [0.7355292  0.67749302] ](Music)(Guitar)(Singing) You're right,there's nothing more lovely,there's nothing more profound than the certainty,than the certainty that all of this will endThat all of this will endSo open your arms to me,open your arms to meAnd this will be the one moment that matters,and this will be the one thing we remember,and this will be the reason to have been here,and this will be the one moment that matters —Oh ..\n",
      "39 : [0.83376663 0.55211702] ♫ Strolling along in Central Park ♫♫ Everyone's out today ♫♫ The daisies and dogwoods are all in bloom ♫♫ Oh, what a glorious day ♫♫ For picnics and Frisbees and roller skaters, ♫♫ Friends and lovers and lonely sunbathers ♫♫ Everyone's out in merry Manhattan in January ♫(Laughter) (Applause)♫ I brought the iced tea; ♫♫ Did you bring the bug spray?\n",
      "\n",
      "\n",
      "Cluster centered at: [0.10391439 0.99458625] color= c\n",
      "287 : [0.10391439 0.99458625] (Music)♫ Oh, I'm in lovewith the janitor's boy, ♫♫ And the janitor's boyis in love with me. ♫♫ Oh, I'm in lovewith the janitor's boy, ♫♫ And the janitor's boyis in love with me. ♫♫ Oh, I'm in lovewith the janitor's boy, ♫♫ And the janitor's boy, ♫he's busy as can be; ♫♫ Down in the cellar he's making a raft ♫♫ Out of an old settee. ♫♫ So for everything you've done,you know I'm bound ♫♫ I'm bound to thank you for it ♫ (Clapping)♫ La li la la li la la la ♫♫ La li la la li la la la ♫♫ La li la la la ♫♫ La li la la la la ♫♫ La li la la li la la la ♫♫ La li la la li la li la la la ♫♫ La li la la la ♫♫ Oh, I want to thank you for so many gifts ♫♫ You gave in love with tenderness ♫♫ Thank you ♫♫ I want to thank youfor your generosity ♫♫ the love and the honesty that you gave me ♫♫ I want to thank youshow my gratitude, ♫ My loveand my respect for you ♫♫ I want to thank you, thank you ♫♫ Thank you, thank you ♫♫ Thank you, thank you ♫♫ Thank you, thank you ♫♫ I want to thank you, thank you ♫♫ Thank you, thank you ♫You know what?\n",
      "968 : [0.60393215 0.79703573] And was it even worthwhile to donate?WRTC invited Ross and I to a grief retreat, and we met about 15 other grieving families who had donated their loved one's organs for transplant. Some of them had even received letters from the people who received their loved one's organs, saying thank you.\n",
      "397 : [0.6707963  0.74164164] As a boy, I loved cars.\n",
      "1099 : [0.7355292  0.67749302] ](Music)(Guitar)(Singing) You're right,there's nothing more lovely,there's nothing more profound than the certainty,than the certainty that all of this will endThat all of this will endSo open your arms to me,open your arms to meAnd this will be the one moment that matters,and this will be the one thing we remember,and this will be the reason to have been here,and this will be the one moment that matters —Oh ..\n",
      "\n",
      "\n",
      "Cluster centered at: [ 0.99655177 -0.07920055] color= m\n",
      "316 : [ 0.99689453 -0.07874829] Now suppose, instead of Styrofoam peanuts, we take these lovely little chocolates that we get and we had those instead.\n",
      "682 : [ 0.99690388 -0.07862991] And even stranger, there were these people, these beekeepers, that loved their bees like they were family, and when I put down the book, I knew I had to see this for myself.\n",
      "274 : [ 0.99676321 -0.08039338] In fact, I loved the movie, how they duplicated all my projects. Like if the kid loves race cars, let's use race cars for math. (Laughter)CA: Is it unrealistic for them to hope or think that that child loves them, as some might, as most, wish?TG: Well, I tell you, that child will be loyal, and if your house is burning down, they're going to get you out of it. So most people, if you ask them what they're most passionate about, they'd say things like, \"My kids\" or \"My lover. \"\n",
      "750 : [ 0.99695204 -0.07801683] After the curator Robert Storr selected all the paintings from her lifetime body of work, I loved looking at the paintings from the 1970s.\n",
      "\n",
      "\n"
     ]
    }
   ],
   "source": [
    "for i,center in enumerate(km.cluster_centers_):\n",
    "    n_closest=pd.DataFrame(cosine_similarity(X=[center],Y=normalize(doc_topic)).T)[0].nlargest(4)\n",
    "    print('Cluster centered at:',center,'color=',cmap[i])\n",
    "    for j,item in n_closest.iteritems():\n",
    "        print(j,':',normalize(doc_topic)[j],love_snippets.iloc[j].love)\n",
    "    print('\\n')"
   ]
  },
  {
   "cell_type": "markdown",
   "metadata": {},
   "source": [
    "# The 3-topic Result"
   ]
  },
  {
   "cell_type": "code",
   "execution_count": 21,
   "metadata": {
    "ExecuteTime": {
     "end_time": "2019-11-13T23:23:19.638804Z",
     "start_time": "2019-11-13T23:23:19.630090Z"
    },
    "scrolled": true
   },
   "outputs": [
    {
     "name": "stdout",
     "output_type": "stream",
     "text": [
      "\n",
      "Topic  0\n",
      "love, romantic, people, just, like, loved, think, know, want, ve, laughter, fall, really, brain\n",
      "\n",
      "Topic  1\n",
      "la, thank, li, janitor, want, boy, oh, lovewith, know, gave, bound, boyis, music, making\n",
      "\n",
      "Topic  2\n",
      "romantic, brain, somebody, fall, attachment, sex, madly, drive, dopamine, love, systems, mating, person, deep\n"
     ]
    }
   ],
   "source": [
    "display_topics(cv_lsa[1], cv1.get_feature_names(), 14)"
   ]
  },
  {
   "cell_type": "code",
   "execution_count": 22,
   "metadata": {
    "ExecuteTime": {
     "end_time": "2019-11-13T23:23:19.644042Z",
     "start_time": "2019-11-13T23:23:19.640347Z"
    }
   },
   "outputs": [
    {
     "data": {
      "text/plain": [
       "array([[ 2.12070103, -0.03278425, -0.7866032 ],\n",
       "       [ 1.12654311, -0.02304485, -0.39288059],\n",
       "       [ 1.00573525,  0.00779111,  0.06145928],\n",
       "       ...,\n",
       "       [ 0.97426408, -0.01196234,  0.05676218],\n",
       "       [ 1.16277211, -0.02748069, -0.36371757],\n",
       "       [ 1.98235358, -0.0287015 , -0.06728337]])"
      ]
     },
     "execution_count": 22,
     "metadata": {},
     "output_type": "execute_result"
    }
   ],
   "source": [
    "cv_doc_topic[1]"
   ]
  },
  {
   "cell_type": "code",
   "execution_count": 23,
   "metadata": {
    "ExecuteTime": {
     "end_time": "2019-11-13T23:23:19.658925Z",
     "start_time": "2019-11-13T23:23:19.649418Z"
    }
   },
   "outputs": [],
   "source": [
    "from mpl_toolkits.mplot3d import Axes3D"
   ]
  },
  {
   "cell_type": "code",
   "execution_count": 24,
   "metadata": {
    "ExecuteTime": {
     "end_time": "2019-11-13T23:23:19.664815Z",
     "start_time": "2019-11-13T23:23:19.661399Z"
    }
   },
   "outputs": [],
   "source": [
    "# Use this to visualize the un-projected doc-topic space:\n",
    "# df = pd.DataFrame(cv_doc_topic[1])\n",
    "# Use this to visualize the projected doc-topic space:\n",
    "df = pd.DataFrame(normalize(cv_doc_topic[1]))"
   ]
  },
  {
   "cell_type": "markdown",
   "metadata": {},
   "source": [
    "Helpful in getting started with 3D plotting:\n",
    "* https://pythonprogramming.net/3d-graphing-pandas-matplotlib/\n",
    "* https://matplotlib.org/3.1.1/gallery/mplot3d/scatter3d.html#sphx-glr-gallery-mplot3d-scatter3d-py\n",
    "* https://stackoverflow.com/questions/47311632/jupyter-how-to-rotate-3d-graph"
   ]
  },
  {
   "cell_type": "code",
   "execution_count": 25,
   "metadata": {
    "ExecuteTime": {
     "end_time": "2019-11-13T23:23:20.480237Z",
     "start_time": "2019-11-13T23:23:19.666915Z"
    }
   },
   "outputs": [
    {
     "data": {
      "image/png": "[encoded data removed]",
      "text/plain": [
       "<Figure size 432x288 with 2 Axes>"
      ]
     },
     "metadata": {},
     "output_type": "display_data"
    }
   ],
   "source": [
    "%matplotlib inline\n",
    "km=KMeans()\n",
    "visualizer = KElbowVisualizer(km, k=(2,12))\n",
    "visualizer.fit(df)                     # Fit the data to the visualizer\n",
    "visualizer.show();                     # Finalize and render the figure"
   ]
  },
  {
   "cell_type": "code",
   "execution_count": 26,
   "metadata": {
    "ExecuteTime": {
     "end_time": "2019-11-13T23:23:21.884810Z",
     "start_time": "2019-11-13T23:23:20.482236Z"
    }
   },
   "outputs": [],
   "source": [
    "num_clusters = visualizer.elbow_value_\n",
    "km = KMeans(n_clusters=num_clusters,random_state=10,n_init=300,verbose=0) # n_init, number of times the K-mean algorithm will run\n",
    "km.fit(df)\n",
    "col = pd.DataFrame(np.array([km.labels_])).transpose()[0].map(cmap)"
   ]
  },
  {
   "cell_type": "code",
   "execution_count": 30,
   "metadata": {
    "ExecuteTime": {
     "end_time": "2019-11-13T23:23:35.008923Z",
     "start_time": "2019-11-13T23:23:34.971386Z"
    }
   },
   "outputs": [
    {
     "data": {
      "application/javascript": [
       "/* Put everything inside the global mpl namespace */\n",
       "window.mpl = {};\n",
       "\n",
       "\n",
       "mpl.get_websocket_type = function() {\n",
       "    if (typeof(WebSocket) !== 'undefined') {\n",
       "        return WebSocket;\n",
       "    } else if (typeof(MozWebSocket) !== 'undefined') {\n",
       "        return MozWebSocket;\n",
       "    } else {\n",
       "        alert('Your browser does not have WebSocket support. ' +\n",
       "              'Please try Chrome, Safari or Firefox ≥ 6. ' +\n",
       "              'Firefox 4 and 5 are also supported but you ' +\n",
       "              'have to enable WebSockets in about:config.');\n",
       "    };\n",
       "}\n",
       "\n",
       "mpl.figure = function(figure_id, websocket, ondownload, parent_element) {\n",
       "    this.id = figure_id;\n",
       "\n",
       "    this.ws = websocket;\n",
       "\n",
       "    this.supports_binary = (this.ws.binaryType != undefined);\n",
       "\n",
       "    if (!this.supports_binary) {\n",
       "        var warnings = document.getElementById(\"mpl-warnings\");\n",
       "        if (warnings) {\n",
       "            warnings.style.display = 'block';\n",
       "            warnings.textContent = (\n",
       "                \"This browser does not support binary websocket messages. \" +\n",
       "                    \"Performance may be slow.\");\n",
       "        }\n",
       "    }\n",
       "\n",
       "    this.imageObj = new Image();\n",
       "\n",
       "    this.context = undefined;\n",
       "    this.message = undefined;\n",
       "    this.canvas = undefined;\n",
       "    this.rubberband_canvas = undefined;\n",
       "    this.rubberband_context = undefined;\n",
       "    this.format_dropdown = undefined;\n",
       "\n",
       "    this.image_mode = 'full';\n",
       "\n",
       "    this.root = $('<div/>');\n",
       "    this._root_extra_style(this.root)\n",
       "    this.root.attr('style', 'display: inline-block');\n",
       "\n",
       "    $(parent_element).append(this.root);\n",
       "\n",
       "    this._init_header(this);\n",
       "    this._init_canvas(this);\n",
       "    this._init_toolbar(this);\n",
       "\n",
       "    var fig = this;\n",
       "\n",
       "    this.waiting = false;\n",
       "\n",
       "    this.ws.onopen =  function () {\n",
       "            fig.send_message(\"supports_binary\", {value: fig.supports_binary});\n",
       "            fig.send_message(\"send_image_mode\", {});\n",
       "            if (mpl.ratio != 1) {\n",
       "                fig.send_message(\"set_dpi_ratio\", {'dpi_ratio': mpl.ratio});\n",
       "            }\n",
       "            fig.send_message(\"refresh\", {});\n",
       "        }\n",
       "\n",
       "    this.imageObj.onload = function() {\n",
       "            if (fig.image_mode == 'full') {\n",
       "                // Full images could contain transparency (where diff images\n",
       "                // almost always do), so we need to clear the canvas so that\n",
       "                // there is no ghosting.\n",
       "                fig.context.clearRect(0, 0, fig.canvas.width, fig.canvas.height);\n",
       "            }\n",
       "            fig.context.drawImage(fig.imageObj, 0, 0);\n",
       "        };\n",
       "\n",
       "    this.imageObj.onunload = function() {\n",
       "        fig.ws.close();\n",
       "    }\n",
       "\n",
       "    this.ws.onmessage = this._make_on_message_function(this);\n",
       "\n",
       "    this.ondownload = ondownload;\n",
       "}\n",
       "\n",
       "mpl.figure.prototype._init_header = function() {\n",
       "    var titlebar = $(\n",
       "        '<div class=\"ui-dialog-titlebar ui-widget-header ui-corner-all ' +\n",
       "        'ui-helper-clearfix\"/>');\n",
       "    var titletext = $(\n",
       "        '<div class=\"ui-dialog-title\" style=\"width: 100%; ' +\n",
       "        'text-align: center; padding: 3px;\"/>');\n",
       "    titlebar.append(titletext)\n",
       "    this.root.append(titlebar);\n",
       "    this.header = titletext[0];\n",
       "}\n",
       "\n",
       "\n",
       "\n",
       "mpl.figure.prototype._canvas_extra_style = function(canvas_div) {\n",
       "\n",
       "}\n",
       "\n",
       "\n",
       "mpl.figure.prototype._root_extra_style = function(canvas_div) {\n",
       "\n",
       "}\n",
       "\n",
       "mpl.figure.prototype._init_canvas = function() {\n",
       "    var fig = this;\n",
       "\n",
       "    var canvas_div = $('<div/>');\n",
       "\n",
       "    canvas_div.attr('style', 'position: relative; clear: both; outline: 0');\n",
       "\n",
       "    function canvas_keyboard_event(event) {\n",
       "        return fig.key_event(event, event['data']);\n",
       "    }\n",
       "\n",
       "    canvas_div.keydown('key_press', canvas_keyboard_event);\n",
       "    canvas_div.keyup('key_release', canvas_keyboard_event);\n",
       "    this.canvas_div = canvas_div\n",
       "    this._canvas_extra_style(canvas_div)\n",
       "    this.root.append(canvas_div);\n",
       "\n",
       "    var canvas = $('<canvas/>');\n",
       "    canvas.addClass('mpl-canvas');\n",
       "    canvas.attr('style', \"left: 0; top: 0; z-index: 0; outline: 0\")\n",
       "\n",
       "    this.canvas = canvas[0];\n",
       "    this.context = canvas[0].getContext(\"2d\");\n",
       "\n",
       "    var backingStore = this.context.backingStorePixelRatio ||\n",
       "\tthis.context.webkitBackingStorePixelRatio ||\n",
       "\tthis.context.mozBackingStorePixelRatio ||\n",
       "\tthis.context.msBackingStorePixelRatio ||\n",
       "\tthis.context.oBackingStorePixelRatio ||\n",
       "\tthis.context.backingStorePixelRatio || 1;\n",
       "\n",
       "    mpl.ratio = (window.devicePixelRatio || 1) / backingStore;\n",
       "\n",
       "    var rubberband = $('<canvas/>');\n",
       "    rubberband.attr('style', \"position: absolute; left: 0; top: 0; z-index: 1;\")\n",
       "\n",
       "    var pass_mouse_events = true;\n",
       "\n",
       "    canvas_div.resizable({\n",
       "        start: function(event, ui) {\n",
       "            pass_mouse_events = false;\n",
       "        },\n",
       "        resize: function(event, ui) {\n",
       "            fig.request_resize(ui.size.width, ui.size.height);\n",
       "        },\n",
       "        stop: function(event, ui) {\n",
       "            pass_mouse_events = true;\n",
       "            fig.request_resize(ui.size.width, ui.size.height);\n",
       "        },\n",
       "    });\n",
       "\n",
       "    function mouse_event_fn(event) {\n",
       "        if (pass_mouse_events)\n",
       "            return fig.mouse_event(event, event['data']);\n",
       "    }\n",
       "\n",
       "    rubberband.mousedown('button_press', mouse_event_fn);\n",
       "    rubberband.mouseup('button_release', mouse_event_fn);\n",
       "    // Throttle sequential mouse events to 1 every 20ms.\n",
       "    rubberband.mousemove('motion_notify', mouse_event_fn);\n",
       "\n",
       "    rubberband.mouseenter('figure_enter', mouse_event_fn);\n",
       "    rubberband.mouseleave('figure_leave', mouse_event_fn);\n",
       "\n",
       "    canvas_div.on(\"wheel\", function (event) {\n",
       "        event = event.originalEvent;\n",
       "        event['data'] = 'scroll'\n",
       "        if (event.deltaY < 0) {\n",
       "            event.step = 1;\n",
       "        } else {\n",
       "            event.step = -1;\n",
       "        }\n",
       "        mouse_event_fn(event);\n",
       "    });\n",
       "\n",
       "    canvas_div.append(canvas);\n",
       "    canvas_div.append(rubberband);\n",
       "\n",
       "    this.rubberband = rubberband;\n",
       "    this.rubberband_canvas = rubberband[0];\n",
       "    this.rubberband_context = rubberband[0].getContext(\"2d\");\n",
       "    this.rubberband_context.strokeStyle = \"#000000\";\n",
       "\n",
       "    this._resize_canvas = function(width, height) {\n",
       "        // Keep the size of the canvas, canvas container, and rubber band\n",
       "        // canvas in synch.\n",
       "        canvas_div.css('width', width)\n",
       "        canvas_div.css('height', height)\n",
       "\n",
       "        canvas.attr('width', width * mpl.ratio);\n",
       "        canvas.attr('height', height * mpl.ratio);\n",
       "        canvas.attr('style', 'width: ' + width + 'px; height: ' + height + 'px;');\n",
       "\n",
       "        rubberband.attr('width', width);\n",
       "        rubberband.attr('height', height);\n",
       "    }\n",
       "\n",
       "    // Set the figure to an initial 600x600px, this will subsequently be updated\n",
       "    // upon first draw.\n",
       "    this._resize_canvas(600, 600);\n",
       "\n",
       "    // Disable right mouse context menu.\n",
       "    $(this.rubberband_canvas).bind(\"contextmenu\",function(e){\n",
       "        return false;\n",
       "    });\n",
       "\n",
       "    function set_focus () {\n",
       "        canvas.focus();\n",
       "        canvas_div.focus();\n",
       "    }\n",
       "\n",
       "    window.setTimeout(set_focus, 100);\n",
       "}\n",
       "\n",
       "mpl.figure.prototype._init_toolbar = function() {\n",
       "    var fig = this;\n",
       "\n",
       "    var nav_element = $('<div/>');\n",
       "    nav_element.attr('style', 'width: 100%');\n",
       "    this.root.append(nav_element);\n",
       "\n",
       "    // Define a callback function for later on.\n",
       "    function toolbar_event(event) {\n",
       "        return fig.toolbar_button_onclick(event['data']);\n",
       "    }\n",
       "    function toolbar_mouse_event(event) {\n",
       "        return fig.toolbar_button_onmouseover(event['data']);\n",
       "    }\n",
       "\n",
       "    for(var toolbar_ind in mpl.toolbar_items) {\n",
       "        var name = mpl.toolbar_items[toolbar_ind][0];\n",
       "        var tooltip = mpl.toolbar_items[toolbar_ind][1];\n",
       "        var image = mpl.toolbar_items[toolbar_ind][2];\n",
       "        var method_name = mpl.toolbar_items[toolbar_ind][3];\n",
       "\n",
       "        if (!name) {\n",
       "            // put a spacer in here.\n",
       "            continue;\n",
       "        }\n",
       "        var button = $('<button/>');\n",
       "        button.addClass('ui-button ui-widget ui-state-default ui-corner-all ' +\n",
       "                        'ui-button-icon-only');\n",
       "        button.attr('role', 'button');\n",
       "        button.attr('aria-disabled', 'false');\n",
       "        button.click(method_name, toolbar_event);\n",
       "        button.mouseover(tooltip, toolbar_mouse_event);\n",
       "\n",
       "        var icon_img = $('<span/>');\n",
       "        icon_img.addClass('ui-button-icon-primary ui-icon');\n",
       "        icon_img.addClass(image);\n",
       "        icon_img.addClass('ui-corner-all');\n",
       "\n",
       "        var tooltip_span = $('<span/>');\n",
       "        tooltip_span.addClass('ui-button-text');\n",
       "        tooltip_span.html(tooltip);\n",
       "\n",
       "        button.append(icon_img);\n",
       "        button.append(tooltip_span);\n",
       "\n",
       "        nav_element.append(button);\n",
       "    }\n",
       "\n",
       "    var fmt_picker_span = $('<span/>');\n",
       "\n",
       "    var fmt_picker = $('<select/>');\n",
       "    fmt_picker.addClass('mpl-toolbar-option ui-widget ui-widget-content');\n",
       "    fmt_picker_span.append(fmt_picker);\n",
       "    nav_element.append(fmt_picker_span);\n",
       "    this.format_dropdown = fmt_picker[0];\n",
       "\n",
       "    for (var ind in mpl.extensions) {\n",
       "        var fmt = mpl.extensions[ind];\n",
       "        var option = $(\n",
       "            '<option/>', {selected: fmt === mpl.default_extension}).html(fmt);\n",
       "        fmt_picker.append(option);\n",
       "    }\n",
       "\n",
       "    // Add hover states to the ui-buttons\n",
       "    $( \".ui-button\" ).hover(\n",
       "        function() { $(this).addClass(\"ui-state-hover\");},\n",
       "        function() { $(this).removeClass(\"ui-state-hover\");}\n",
       "    );\n",
       "\n",
       "    var status_bar = $('<span class=\"mpl-message\"/>');\n",
       "    nav_element.append(status_bar);\n",
       "    this.message = status_bar[0];\n",
       "}\n",
       "\n",
       "mpl.figure.prototype.request_resize = function(x_pixels, y_pixels) {\n",
       "    // Request matplotlib to resize the figure. Matplotlib will then trigger a resize in the client,\n",
       "    // which will in turn request a refresh of the image.\n",
       "    this.send_message('resize', {'width': x_pixels, 'height': y_pixels});\n",
       "}\n",
       "\n",
       "mpl.figure.prototype.send_message = function(type, properties) {\n",
       "    properties['type'] = type;\n",
       "    properties['figure_id'] = this.id;\n",
       "    this.ws.send(JSON.stringify(properties));\n",
       "}\n",
       "\n",
       "mpl.figure.prototype.send_draw_message = function() {\n",
       "    if (!this.waiting) {\n",
       "        this.waiting = true;\n",
       "        this.ws.send(JSON.stringify({type: \"draw\", figure_id: this.id}));\n",
       "    }\n",
       "}\n",
       "\n",
       "\n",
       "mpl.figure.prototype.handle_save = function(fig, msg) {\n",
       "    var format_dropdown = fig.format_dropdown;\n",
       "    var format = format_dropdown.options[format_dropdown.selectedIndex].value;\n",
       "    fig.ondownload(fig, format);\n",
       "}\n",
       "\n",
       "\n",
       "mpl.figure.prototype.handle_resize = function(fig, msg) {\n",
       "    var size = msg['size'];\n",
       "    if (size[0] != fig.canvas.width || size[1] != fig.canvas.height) {\n",
       "        fig._resize_canvas(size[0], size[1]);\n",
       "        fig.send_message(\"refresh\", {});\n",
       "    };\n",
       "}\n",
       "\n",
       "mpl.figure.prototype.handle_rubberband = function(fig, msg) {\n",
       "    var x0 = msg['x0'] / mpl.ratio;\n",
       "    var y0 = (fig.canvas.height - msg['y0']) / mpl.ratio;\n",
       "    var x1 = msg['x1'] / mpl.ratio;\n",
       "    var y1 = (fig.canvas.height - msg['y1']) / mpl.ratio;\n",
       "    x0 = Math.floor(x0) + 0.5;\n",
       "    y0 = Math.floor(y0) + 0.5;\n",
       "    x1 = Math.floor(x1) + 0.5;\n",
       "    y1 = Math.floor(y1) + 0.5;\n",
       "    var min_x = Math.min(x0, x1);\n",
       "    var min_y = Math.min(y0, y1);\n",
       "    var width = Math.abs(x1 - x0);\n",
       "    var height = Math.abs(y1 - y0);\n",
       "\n",
       "    fig.rubberband_context.clearRect(\n",
       "        0, 0, fig.canvas.width / mpl.ratio, fig.canvas.height / mpl.ratio);\n",
       "\n",
       "    fig.rubberband_context.strokeRect(min_x, min_y, width, height);\n",
       "}\n",
       "\n",
       "mpl.figure.prototype.handle_figure_label = function(fig, msg) {\n",
       "    // Updates the figure title.\n",
       "    fig.header.textContent = msg['label'];\n",
       "}\n",
       "\n",
       "mpl.figure.prototype.handle_cursor = function(fig, msg) {\n",
       "    var cursor = msg['cursor'];\n",
       "    switch(cursor)\n",
       "    {\n",
       "    case 0:\n",
       "        cursor = 'pointer';\n",
       "        break;\n",
       "    case 1:\n",
       "        cursor = 'default';\n",
       "        break;\n",
       "    case 2:\n",
       "        cursor = 'crosshair';\n",
       "        break;\n",
       "    case 3:\n",
       "        cursor = 'move';\n",
       "        break;\n",
       "    }\n",
       "    fig.rubberband_canvas.style.cursor = cursor;\n",
       "}\n",
       "\n",
       "mpl.figure.prototype.handle_message = function(fig, msg) {\n",
       "    fig.message.textContent = msg['message'];\n",
       "}\n",
       "\n",
       "mpl.figure.prototype.handle_draw = function(fig, msg) {\n",
       "    // Request the server to send over a new figure.\n",
       "    fig.send_draw_message();\n",
       "}\n",
       "\n",
       "mpl.figure.prototype.handle_image_mode = function(fig, msg) {\n",
       "    fig.image_mode = msg['mode'];\n",
       "}\n",
       "\n",
       "mpl.figure.prototype.updated_canvas_event = function() {\n",
       "    // Called whenever the canvas gets updated.\n",
       "    this.send_message(\"ack\", {});\n",
       "}\n",
       "\n",
       "// A function to construct a web socket function for onmessage handling.\n",
       "// Called in the figure constructor.\n",
       "mpl.figure.prototype._make_on_message_function = function(fig) {\n",
       "    return function socket_on_message(evt) {\n",
       "        if (evt.data instanceof Blob) {\n",
       "            /* FIXME: We get \"Resource interpreted as Image but\n",
       "             * transferred with MIME type text/plain:\" errors on\n",
       "             * Chrome.  But how to set the MIME type?  It doesn't seem\n",
       "             * to be part of the websocket stream */\n",
       "            evt.data.type = \"image/png\";\n",
       "\n",
       "            /* Free the memory for the previous frames */\n",
       "            if (fig.imageObj.src) {\n",
       "                (window.URL || window.webkitURL).revokeObjectURL(\n",
       "                    fig.imageObj.src);\n",
       "            }\n",
       "\n",
       "            fig.imageObj.src = (window.URL || window.webkitURL).createObjectURL(\n",
       "                evt.data);\n",
       "            fig.updated_canvas_event();\n",
       "            fig.waiting = false;\n",
       "            return;\n",
       "        }\n",
       "        else if (typeof evt.data === 'string' && evt.data.slice(0, 21) == \"data:image/png;base64\") {\n",
       "            fig.imageObj.src = evt.data;\n",
       "            fig.updated_canvas_event();\n",
       "            fig.waiting = false;\n",
       "            return;\n",
       "        }\n",
       "\n",
       "        var msg = JSON.parse(evt.data);\n",
       "        var msg_type = msg['type'];\n",
       "\n",
       "        // Call the  \"handle_{type}\" callback, which takes\n",
       "        // the figure and JSON message as its only arguments.\n",
       "        try {\n",
       "            var callback = fig[\"handle_\" + msg_type];\n",
       "        } catch (e) {\n",
       "            console.log(\"No handler for the '\" + msg_type + \"' message type: \", msg);\n",
       "            return;\n",
       "        }\n",
       "\n",
       "        if (callback) {\n",
       "            try {\n",
       "                // console.log(\"Handling '\" + msg_type + \"' message: \", msg);\n",
       "                callback(fig, msg);\n",
       "            } catch (e) {\n",
       "                console.log(\"Exception inside the 'handler_\" + msg_type + \"' callback:\", e, e.stack, msg);\n",
       "            }\n",
       "        }\n",
       "    };\n",
       "}\n",
       "\n",
       "// from http://stackoverflow.com/questions/1114465/getting-mouse-location-in-canvas\n",
       "mpl.findpos = function(e) {\n",
       "    //this section is from http://www.quirksmode.org/js/events_properties.html\n",
       "    var targ;\n",
       "    if (!e)\n",
       "        e = window.event;\n",
       "    if (e.target)\n",
       "        targ = e.target;\n",
       "    else if (e.srcElement)\n",
       "        targ = e.srcElement;\n",
       "    if (targ.nodeType == 3) // defeat Safari bug\n",
       "        targ = targ.parentNode;\n",
       "\n",
       "    // jQuery normalizes the pageX and pageY\n",
       "    // pageX,Y are the mouse positions relative to the document\n",
       "    // offset() returns the position of the element relative to the document\n",
       "    var x = e.pageX - $(targ).offset().left;\n",
       "    var y = e.pageY - $(targ).offset().top;\n",
       "\n",
       "    return {\"x\": x, \"y\": y};\n",
       "};\n",
       "\n",
       "/*\n",
       " * return a copy of an object with only non-object keys\n",
       " * we need this to avoid circular references\n",
       " * http://stackoverflow.com/a/24161582/3208463\n",
       " */\n",
       "function simpleKeys (original) {\n",
       "  return Object.keys(original).reduce(function (obj, key) {\n",
       "    if (typeof original[key] !== 'object')\n",
       "        obj[key] = original[key]\n",
       "    return obj;\n",
       "  }, {});\n",
       "}\n",
       "\n",
       "mpl.figure.prototype.mouse_event = function(event, name) {\n",
       "    var canvas_pos = mpl.findpos(event)\n",
       "\n",
       "    if (name === 'button_press')\n",
       "    {\n",
       "        this.canvas.focus();\n",
       "        this.canvas_div.focus();\n",
       "    }\n",
       "\n",
       "    var x = canvas_pos.x * mpl.ratio;\n",
       "    var y = canvas_pos.y * mpl.ratio;\n",
       "\n",
       "    this.send_message(name, {x: x, y: y, button: event.button,\n",
       "                             step: event.step,\n",
       "                             guiEvent: simpleKeys(event)});\n",
       "\n",
       "    /* This prevents the web browser from automatically changing to\n",
       "     * the text insertion cursor when the button is pressed.  We want\n",
       "     * to control all of the cursor setting manually through the\n",
       "     * 'cursor' event from matplotlib */\n",
       "    event.preventDefault();\n",
       "    return false;\n",
       "}\n",
       "\n",
       "mpl.figure.prototype._key_event_extra = function(event, name) {\n",
       "    // Handle any extra behaviour associated with a key event\n",
       "}\n",
       "\n",
       "mpl.figure.prototype.key_event = function(event, name) {\n",
       "\n",
       "    // Prevent repeat events\n",
       "    if (name == 'key_press')\n",
       "    {\n",
       "        if (event.which === this._key)\n",
       "            return;\n",
       "        else\n",
       "            this._key = event.which;\n",
       "    }\n",
       "    if (name == 'key_release')\n",
       "        this._key = null;\n",
       "\n",
       "    var value = '';\n",
       "    if (event.ctrlKey && event.which != 17)\n",
       "        value += \"ctrl+\";\n",
       "    if (event.altKey && event.which != 18)\n",
       "        value += \"alt+\";\n",
       "    if (event.shiftKey && event.which != 16)\n",
       "        value += \"shift+\";\n",
       "\n",
       "    value += 'k';\n",
       "    value += event.which.toString();\n",
       "\n",
       "    this._key_event_extra(event, name);\n",
       "\n",
       "    this.send_message(name, {key: value,\n",
       "                             guiEvent: simpleKeys(event)});\n",
       "    return false;\n",
       "}\n",
       "\n",
       "mpl.figure.prototype.toolbar_button_onclick = function(name) {\n",
       "    if (name == 'download') {\n",
       "        this.handle_save(this, null);\n",
       "    } else {\n",
       "        this.send_message(\"toolbar_button\", {name: name});\n",
       "    }\n",
       "};\n",
       "\n",
       "mpl.figure.prototype.toolbar_button_onmouseover = function(tooltip) {\n",
       "    this.message.textContent = tooltip;\n",
       "};\n",
       "mpl.toolbar_items = [[\"Home\", \"Reset original view\", \"fa fa-home icon-home\", \"home\"], [\"Back\", \"Back to previous view\", \"fa fa-arrow-left icon-arrow-left\", \"back\"], [\"Forward\", \"Forward to next view\", \"fa fa-arrow-right icon-arrow-right\", \"forward\"], [\"\", \"\", \"\", \"\"], [\"Pan\", \"Pan axes with left mouse, zoom with right\", \"fa fa-arrows icon-move\", \"pan\"], [\"Zoom\", \"Zoom to rectangle\", \"fa fa-square-o icon-check-empty\", \"zoom\"], [\"\", \"\", \"\", \"\"], [\"Download\", \"Download plot\", \"fa fa-floppy-o icon-save\", \"download\"]];\n",
       "\n",
       "mpl.extensions = [\"eps\", \"jpeg\", \"pdf\", \"png\", \"ps\", \"raw\", \"svg\", \"tif\"];\n",
       "\n",
       "mpl.default_extension = \"png\";var comm_websocket_adapter = function(comm) {\n",
       "    // Create a \"websocket\"-like object which calls the given IPython comm\n",
       "    // object with the appropriate methods. Currently this is a non binary\n",
       "    // socket, so there is still some room for performance tuning.\n",
       "    var ws = {};\n",
       "\n",
       "    ws.close = function() {\n",
       "        comm.close()\n",
       "    };\n",
       "    ws.send = function(m) {\n",
       "        //console.log('sending', m);\n",
       "        comm.send(m);\n",
       "    };\n",
       "    // Register the callback with on_msg.\n",
       "    comm.on_msg(function(msg) {\n",
       "        //console.log('receiving', msg['content']['data'], msg);\n",
       "        // Pass the mpl event to the overridden (by mpl) onmessage function.\n",
       "        ws.onmessage(msg['content']['data'])\n",
       "    });\n",
       "    return ws;\n",
       "}\n",
       "\n",
       "mpl.mpl_figure_comm = function(comm, msg) {\n",
       "    // This is the function which gets called when the mpl process\n",
       "    // starts-up an IPython Comm through the \"matplotlib\" channel.\n",
       "\n",
       "    var id = msg.content.data.id;\n",
       "    // Get hold of the div created by the display call when the Comm\n",
       "    // socket was opened in Python.\n",
       "    var element = $(\"#\" + id);\n",
       "    var ws_proxy = comm_websocket_adapter(comm)\n",
       "\n",
       "    function ondownload(figure, format) {\n",
       "        window.open(figure.imageObj.src);\n",
       "    }\n",
       "\n",
       "    var fig = new mpl.figure(id, ws_proxy,\n",
       "                           ondownload,\n",
       "                           element.get(0));\n",
       "\n",
       "    // Call onopen now - mpl needs it, as it is assuming we've passed it a real\n",
       "    // web socket which is closed, not our websocket->open comm proxy.\n",
       "    ws_proxy.onopen();\n",
       "\n",
       "    fig.parent_element = element.get(0);\n",
       "    fig.cell_info = mpl.find_output_cell(\"<div id='\" + id + \"'></div>\");\n",
       "    if (!fig.cell_info) {\n",
       "        console.error(\"Failed to find cell for figure\", id, fig);\n",
       "        return;\n",
       "    }\n",
       "\n",
       "    var output_index = fig.cell_info[2]\n",
       "    var cell = fig.cell_info[0];\n",
       "\n",
       "};\n",
       "\n",
       "mpl.figure.prototype.handle_close = function(fig, msg) {\n",
       "    var width = fig.canvas.width/mpl.ratio\n",
       "    fig.root.unbind('remove')\n",
       "\n",
       "    // Update the output cell to use the data from the current canvas.\n",
       "    fig.push_to_output();\n",
       "    var dataURL = fig.canvas.toDataURL();\n",
       "    // Re-enable the keyboard manager in IPython - without this line, in FF,\n",
       "    // the notebook keyboard shortcuts fail.\n",
       "    IPython.keyboard_manager.enable()\n",
       "    $(fig.parent_element).html('<img src=\"' + dataURL + '\" width=\"' + width + '\">');\n",
       "    fig.close_ws(fig, msg);\n",
       "}\n",
       "\n",
       "mpl.figure.prototype.close_ws = function(fig, msg){\n",
       "    fig.send_message('closing', msg);\n",
       "    // fig.ws.close()\n",
       "}\n",
       "\n",
       "mpl.figure.prototype.push_to_output = function(remove_interactive) {\n",
       "    // Turn the data on the canvas into data in the output cell.\n",
       "    var width = this.canvas.width/mpl.ratio\n",
       "    var dataURL = this.canvas.toDataURL();\n",
       "    this.cell_info[1]['text/html'] = '<img src=\"' + dataURL + '\" width=\"' + width + '\">';\n",
       "}\n",
       "\n",
       "mpl.figure.prototype.updated_canvas_event = function() {\n",
       "    // Tell IPython that the notebook contents must change.\n",
       "    IPython.notebook.set_dirty(true);\n",
       "    this.send_message(\"ack\", {});\n",
       "    var fig = this;\n",
       "    // Wait a second, then push the new image to the DOM so\n",
       "    // that it is saved nicely (might be nice to debounce this).\n",
       "    setTimeout(function () { fig.push_to_output() }, 1000);\n",
       "}\n",
       "\n",
       "mpl.figure.prototype._init_toolbar = function() {\n",
       "    var fig = this;\n",
       "\n",
       "    var nav_element = $('<div/>');\n",
       "    nav_element.attr('style', 'width: 100%');\n",
       "    this.root.append(nav_element);\n",
       "\n",
       "    // Define a callback function for later on.\n",
       "    function toolbar_event(event) {\n",
       "        return fig.toolbar_button_onclick(event['data']);\n",
       "    }\n",
       "    function toolbar_mouse_event(event) {\n",
       "        return fig.toolbar_button_onmouseover(event['data']);\n",
       "    }\n",
       "\n",
       "    for(var toolbar_ind in mpl.toolbar_items){\n",
       "        var name = mpl.toolbar_items[toolbar_ind][0];\n",
       "        var tooltip = mpl.toolbar_items[toolbar_ind][1];\n",
       "        var image = mpl.toolbar_items[toolbar_ind][2];\n",
       "        var method_name = mpl.toolbar_items[toolbar_ind][3];\n",
       "\n",
       "        if (!name) { continue; };\n",
       "\n",
       "        var button = $('<button class=\"btn btn-default\" href=\"#\" title=\"' + name + '\"><i class=\"fa ' + image + ' fa-lg\"></i></button>');\n",
       "        button.click(method_name, toolbar_event);\n",
       "        button.mouseover(tooltip, toolbar_mouse_event);\n",
       "        nav_element.append(button);\n",
       "    }\n",
       "\n",
       "    // Add the status bar.\n",
       "    var status_bar = $('<span class=\"mpl-message\" style=\"text-align:right; float: right;\"/>');\n",
       "    nav_element.append(status_bar);\n",
       "    this.message = status_bar[0];\n",
       "\n",
       "    // Add the close button to the window.\n",
       "    var buttongrp = $('<div class=\"btn-group inline pull-right\"></div>');\n",
       "    var button = $('<button class=\"btn btn-mini btn-primary\" href=\"#\" title=\"Stop Interaction\"><i class=\"fa fa-power-off icon-remove icon-large\"></i></button>');\n",
       "    button.click(function (evt) { fig.handle_close(fig, {}); } );\n",
       "    button.mouseover('Stop Interaction', toolbar_mouse_event);\n",
       "    buttongrp.append(button);\n",
       "    var titlebar = this.root.find($('.ui-dialog-titlebar'));\n",
       "    titlebar.prepend(buttongrp);\n",
       "}\n",
       "\n",
       "mpl.figure.prototype._root_extra_style = function(el){\n",
       "    var fig = this\n",
       "    el.on(\"remove\", function(){\n",
       "\tfig.close_ws(fig, {});\n",
       "    });\n",
       "}\n",
       "\n",
       "mpl.figure.prototype._canvas_extra_style = function(el){\n",
       "    // this is important to make the div 'focusable\n",
       "    el.attr('tabindex', 0)\n",
       "    // reach out to IPython and tell the keyboard manager to turn it's self\n",
       "    // off when our div gets focus\n",
       "\n",
       "    // location in version 3\n",
       "    if (IPython.notebook.keyboard_manager) {\n",
       "        IPython.notebook.keyboard_manager.register_events(el);\n",
       "    }\n",
       "    else {\n",
       "        // location in version 2\n",
       "        IPython.keyboard_manager.register_events(el);\n",
       "    }\n",
       "\n",
       "}\n",
       "\n",
       "mpl.figure.prototype._key_event_extra = function(event, name) {\n",
       "    var manager = IPython.notebook.keyboard_manager;\n",
       "    if (!manager)\n",
       "        manager = IPython.keyboard_manager;\n",
       "\n",
       "    // Check for shift+enter\n",
       "    if (event.shiftKey && event.which == 13) {\n",
       "        this.canvas_div.blur();\n",
       "        event.shiftKey = false;\n",
       "        // Send a \"J\" for go to next cell\n",
       "        event.which = 74;\n",
       "        event.keyCode = 74;\n",
       "        manager.command_mode();\n",
       "        manager.handle_keydown(event);\n",
       "    }\n",
       "}\n",
       "\n",
       "mpl.figure.prototype.handle_save = function(fig, msg) {\n",
       "    fig.ondownload(fig, null);\n",
       "}\n",
       "\n",
       "\n",
       "mpl.find_output_cell = function(html_output) {\n",
       "    // Return the cell and output element which can be found *uniquely* in the notebook.\n",
       "    // Note - this is a bit hacky, but it is done because the \"notebook_saving.Notebook\"\n",
       "    // IPython event is triggered only after the cells have been serialised, which for\n",
       "    // our purposes (turning an active figure into a static one), is too late.\n",
       "    var cells = IPython.notebook.get_cells();\n",
       "    var ncells = cells.length;\n",
       "    for (var i=0; i<ncells; i++) {\n",
       "        var cell = cells[i];\n",
       "        if (cell.cell_type === 'code'){\n",
       "            for (var j=0; j<cell.output_area.outputs.length; j++) {\n",
       "                var data = cell.output_area.outputs[j];\n",
       "                if (data.data) {\n",
       "                    // IPython >= 3 moved mimebundle to data attribute of output\n",
       "                    data = data.data;\n",
       "                }\n",
       "                if (data['text/html'] == html_output) {\n",
       "                    return [cell, data, j];\n",
       "                }\n",
       "            }\n",
       "        }\n",
       "    }\n",
       "}\n",
       "\n",
       "// Register the function which deals with the matplotlib target/channel.\n",
       "// The kernel may be null if the page has been refreshed.\n",
       "if (IPython.notebook.kernel != null) {\n",
       "    IPython.notebook.kernel.comm_manager.register_target('matplotlib', mpl.mpl_figure_comm);\n",
       "}\n"
      ],
      "text/plain": [
       "<IPython.core.display.Javascript object>"
      ]
     },
     "metadata": {},
     "output_type": "display_data"
    },
    {
     "data": {
      "text/html": [
       "<img src=\"data:image/png;base64,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\" width=\"432\">"
      ],
      "text/plain": [
       "<IPython.core.display.HTML object>"
      ]
     },
     "metadata": {},
     "output_type": "display_data"
    }
   ],
   "source": [
    "%matplotlib notebook\n",
    "fig = plt.figure() #.gca(projection='3d')\n",
    "ax = fig.add_subplot(111, projection='3d')\n",
    "ax.scatter(df[0],df[1],df[2],c=col)\n",
    "ax.set_xlabel('Topic 0')\n",
    "ax.set_ylabel('Topic 1')\n",
    "ax.set_zlabel('Topic 2');"
   ]
  },
  {
   "cell_type": "markdown",
   "metadata": {},
   "source": [
    "So, what do the clusters mean?"
   ]
  },
  {
   "cell_type": "code",
   "execution_count": 31,
   "metadata": {
    "ExecuteTime": {
     "end_time": "2019-11-13T23:24:17.308424Z",
     "start_time": "2019-11-13T23:24:17.280163Z"
    }
   },
   "outputs": [
    {
     "name": "stdout",
     "output_type": "stream",
     "text": [
      "Cluster centered at: [ 0.96937496 -0.00469679 -0.22680871] color= r\n",
      "111 : [ 0.97284028 -0.0110675  -0.23121267] I always live in the present — I love the present. That's Arthur Leipzig's original photograph I loved. I love being at TED.\n",
      "1131 : [ 0.97478579 -0.01272451 -0.22277962] And then on top of that you have a steady stream of visitors and volunteers coming in, showering you in the love and affection you're craving and then leaving again, evoking all of those feelings of abandonment, and proving again and again that you are not worthy of being loved. She was suffering terrible neglect, and she yearned desperately for the warmth and love of her mother.\n",
      "606 : [ 0.97477743 -0.01450056 -0.22270765] Tell the Iranians we from Israel love you too. \" \")(\"I love that blue. I love that star. I love that flag. \") This one is really moving for me because it's the story of a girl who has been raised in Iran to walk on an Israeli flag to enter her school every morning, and now that she sees the posters that we're sending, she starts — she said that she changed her mind, and now she loves that blue, she loves that star, and she loves that flag, talking about the Israeli flag, and she wished that we'd meet and come to visit one another, and just a few days after I posted the first poster. I love those guys. \" Every time a country started talking about it, like Germany, America, wherever, a page on Facebook popped up with the same logo with the same stories, so at the beginning we had \"Iran-Loves-Israel,\" which is an Iranian sitting in Tehran, saying, \"Okay, Israel loves Iran? I give you Iran-Loves-Israel. \" You have Palestine-Loves-Israel. And this whole list of pages on Facebook dedicated to the same message, to people sending their love, one to each other. Today the Israel-Loves-Iran page is this number, 80,831, and two million people last week went on the page and shared, liked, I don't know, commented on one of the photos. This is the Iran-Loves-Israel page. This is not the Israel-Loves-Iran.\n",
      "426 : [ 0.97306243 -0.01611331 -0.22997795] But I really began to love cars then. And even though the color was pretty hideous, I did love the car, and it really cemented my love affair with cars that's continued on to this day. And it really struck me as the years went by, in a very negative way, when I would go to some stream that I'd loved, and was used to walking through this field that was once filled with fireflies, and now had a strip mall or a bunch of condos on it. But it never really occurred to me that my love of cars and trucks would ever be in conflict with nature.\n",
      "\n",
      "\n",
      "Cluster centered at: [ 2.54989108e-01 -5.85829441e-04 -9.57442314e-01] color= g\n",
      "865 : [ 0.24896116  0.00557521 -0.96849742] And I hope instead that you, my lovely young gentlemen, will one day help make it beautiful.\n",
      "1101 : [ 0.26286233  0.01152545 -0.96476451] (Laughter)I really loved this idea, and I somehow was not focused on the idea that librarians as a class are sort of interested in spelling and I don't know. So I loved going to these things.\n",
      "682 : [ 0.24745823 -0.01952796 -0.96870175] And even stranger, there were these people, these beekeepers, that loved their bees like they were family, and when I put down the book, I knew I had to see this for myself.\n",
      "500 : [ 0.24421015 -0.0179912  -0.96955542] I met people from all walks of life, so many of them doing the thing they loved, living on the frontiers of possibility.\n",
      "\n",
      "\n",
      "Cluster centered at: [ 0.9963372  -0.0033574   0.00332488] color= b\n",
      "1135 : [ 0.99999212 -0.00312193  0.00245424] From our love of Colorado to our love of sushi, there wasn't much we didn't agree on. We also discovered that we share a deep love of this country and feel a responsibility to be politically active. CQ: I may hate camping, but I love politics. (Laughter)Seeing Lauran's sons at the march and holding signs took it to a new level for me, and not in a good way, because I know these boys, I love these boys, and I didn't feel they were old enough to understand what the march stood for. \"But we love them. Love you.\n",
      "284 : [ 0.99998235 -0.00507768  0.00308366] But isn't it strange that little boys all over the world love fast bikes? I've learned so much from them: love, compassion, imagination and such creativity.\n",
      "652 : [ 9.99994684e-01 -3.13421506e-03 -8.98899782e-04] The second aspect is love. And I just love this guy. I've been in love with this guy since I was a kid. And I wanted this guy to be involved in my crazy project, and he was kind enough to lend his image to the character of Eugène Spaak, who is a cosmologist and artist who seeks relation in between time, space, love, music and women.\n",
      "29 : [ 0.99995363 -0.00931425  0.00244681] There was a girl who insisted we stay late at night — (Video): Kids: I love the Fab Lab.\n",
      "\n",
      "\n",
      "Cluster centered at: [ 0.77618626 -0.0052598  -0.6100544 ] color= c\n",
      "596 : [ 0.79043766 -0.00315017 -0.61253439] How can we share more of our hopes for our vacant storefronts, so our communities can reflect our needs and dreams today?Now, I live in New Orleans, and I am in love with New Orleans. My soul is always soothed by the giant live oak trees, shading lovers, drunks and dreamers for hundreds of years, and I trust a city that always makes way for music. In 2009, I lost someone I loved very much.\n",
      "579 : [ 0.78227276 -0.01139727 -0.62283178] I would love my children to be able to meet my family in the Congo. It connects us to our loved ones, our family, friends and colleagues, at home and overseas.\n",
      "509 : [ 0.7913709  -0.01848626 -0.61105675] And so many of the calls went like this, \"Dr. Brown, we loved your TED talk. It wasn't until a man looked at me after a book signing, and said, \"I love what say about shame, I'm curious why you didn't mention men. \"\n",
      "512 : [ 0.7913709  -0.01848626 -0.61105675] And so many of the calls went like this, \"Dr. Brown, we loved your TED talk. It wasn't until a man looked at me after a book signing, and said, \"I love what say about shame, I'm curious why you didn't mention men. \"\n",
      "\n",
      "\n"
     ]
    }
   ],
   "source": [
    "doc_topic = cv_doc_topic[1]\n",
    "for i,center in enumerate(km.cluster_centers_):\n",
    "    n_closest=pd.DataFrame(cosine_similarity(X=[center],Y=normalize(doc_topic)).T)[0].nlargest(4)\n",
    "    print('Cluster centered at:',center,'color=',cmap[i])\n",
    "    for j,item in n_closest.iteritems():\n",
    "        print(j,':',normalize(doc_topic)[j],love_snippets.iloc[j].love)\n",
    "    print('\\n')"
   ]
  },
  {
   "cell_type": "code",
   "execution_count": null,
   "metadata": {},
   "outputs": [],
   "source": []
  }
 ],
 "metadata": {
  "kernelspec": {
   "display_name": "Python [conda env:metis] *",
   "language": "python",
   "name": "conda-env-metis-py"
  },
  "language_info": {
   "codemirror_mode": {
    "name": "ipython",
    "version": 3
   },
   "file_extension": ".py",
   "mimetype": "text/x-python",
   "name": "python",
   "nbconvert_exporter": "python",
   "pygments_lexer": "ipython3",
   "version": "3.7.3"
  },
  "toc": {
   "base_numbering": 1,
   "nav_menu": {},
   "number_sections": true,
   "sideBar": true,
   "skip_h1_title": false,
   "title_cell": "Table of Contents",
   "title_sidebar": "Contents",
   "toc_cell": false,
   "toc_position": {},
   "toc_section_display": true,
   "toc_window_display": false
  }
 },
 "nbformat": 4,
 "nbformat_minor": 2
}
