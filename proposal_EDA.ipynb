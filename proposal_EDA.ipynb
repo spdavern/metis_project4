{
 "cells": [
  {
   "cell_type": "code",
   "execution_count": 1,
   "metadata": {
    "ExecuteTime": {
     "end_time": "2019-11-04T14:52:13.478525Z",
     "start_time": "2019-11-04T14:52:12.866786Z"
    }
   },
   "outputs": [],
   "source": [
    "import pandas as pd\n",
    "import re"
   ]
  },
  {
   "cell_type": "code",
   "execution_count": 2,
   "metadata": {
    "ExecuteTime": {
     "end_time": "2019-11-04T14:52:13.745804Z",
     "start_time": "2019-11-04T14:52:13.480438Z"
    }
   },
   "outputs": [],
   "source": [
    "raw_data_path = './data/raw/ted-talks/'\n",
    "meta_data_filename = 'ted_main.csv'\n",
    "transcripts_filename = 'transcripts.csv'\n",
    "m_df = pd.read_csv(raw_data_path+meta_data_filename)\n",
    "t_df = pd.read_csv(raw_data_path+transcripts_filename)"
   ]
  },
  {
   "cell_type": "code",
   "execution_count": 3,
   "metadata": {
    "ExecuteTime": {
     "end_time": "2019-11-04T14:52:13.756535Z",
     "start_time": "2019-11-04T14:52:13.748530Z"
    }
   },
   "outputs": [
    {
     "data": {
      "text/plain": [
       "(2467, 2)"
      ]
     },
     "execution_count": 3,
     "metadata": {},
     "output_type": "execute_result"
    }
   ],
   "source": [
    "t_df.shape"
   ]
  },
  {
   "cell_type": "markdown",
   "metadata": {
    "heading_collapsed": true
   },
   "source": [
    "### Figuring out the regex"
   ]
  },
  {
   "cell_type": "code",
   "execution_count": 4,
   "metadata": {
    "ExecuteTime": {
     "end_time": "2019-11-04T14:52:13.762046Z",
     "start_time": "2019-11-04T14:52:13.758725Z"
    },
    "hidden": true
   },
   "outputs": [
    {
     "name": "stdout",
     "output_type": "stream",
     "text": [
      "<re.Match object; span=(0, 0), match=''>\n"
     ]
    }
   ],
   "source": [
    "print(re.match('(?=.*love)(?=.*hope)','hope love'))"
   ]
  },
  {
   "cell_type": "code",
   "execution_count": 5,
   "metadata": {
    "ExecuteTime": {
     "end_time": "2019-11-04T14:52:13.766752Z",
     "start_time": "2019-11-04T14:52:13.763871Z"
    },
    "hidden": true
   },
   "outputs": [
    {
     "name": "stdout",
     "output_type": "stream",
     "text": [
      "<re.Match object; span=(0, 0), match=''>\n"
     ]
    }
   ],
   "source": [
    "s='This sentence contains both the word hope and the word love.'\n",
    "print(re.match('(?=.*love)(?=.*hope)',s))"
   ]
  },
  {
   "cell_type": "markdown",
   "metadata": {
    "hidden": true
   },
   "source": [
    "Finding the words using regex ended up being very time consuming.  It was much faster to use single word `contains` and [pandas overloaded 'bitwise' `&` operator](https://stackoverflow.com/questions/36921951/truth-value-of-a-series-is-ambiguous-use-a-empty-a-bool-a-item-a-any-o)."
   ]
  },
  {
   "cell_type": "markdown",
   "metadata": {},
   "source": [
    "### Looking for the words in the transcripts"
   ]
  },
  {
   "cell_type": "code",
   "execution_count": 6,
   "metadata": {
    "ExecuteTime": {
     "end_time": "2019-11-04T14:52:16.564064Z",
     "start_time": "2019-11-04T14:52:13.768857Z"
    },
    "scrolled": true
   },
   "outputs": [
    {
     "name": "stdout",
     "output_type": "stream",
     "text": [
      "Transcripts that contain the words:\n",
      "  faith 168\n",
      "  hope 1022\n",
      "  love 1175\n",
      "  faith & hope 88\n",
      "  hope & love 520\n",
      "  faith & love 101\n",
      "  faith, hope and love 56\n"
     ]
    }
   ],
   "source": [
    "print('Transcripts that contain the words:')\n",
    "print('  faith',t_df[t_df['transcript'].str.contains('faith',case=False)].shape[0])\n",
    "print('  hope',t_df[t_df['transcript'].str.contains('hope',case=False)].shape[0])\n",
    "print('  love',t_df[t_df['transcript'].str.contains('love',case=False)].shape[0])\n",
    "print('  faith & hope',t_df[t_df['transcript'].str.contains('faith',case=False) & t_df['transcript'].str.contains('hope',case=False)].shape[0])\n",
    "print('  hope & love', t_df[t_df['transcript'].str.contains('hope',case=False)  & t_df['transcript'].str.contains('love',case=False)].shape[0])\n",
    "print('  faith & love',t_df[t_df['transcript'].str.contains('faith',case=False) & t_df['transcript'].str.contains('love',case=False)].shape[0])\n",
    "print('  faith, hope and love',t_df[t_df['transcript'].str.contains('faith',case=False) & t_df['transcript'].str.contains('hope',case=False) & t_df['transcript'].str.contains('love',case=False)].shape[0])"
   ]
  },
  {
   "cell_type": "markdown",
   "metadata": {},
   "source": [
    "### Looking for the words in the descriptions"
   ]
  },
  {
   "cell_type": "code",
   "execution_count": 7,
   "metadata": {
    "ExecuteTime": {
     "end_time": "2019-11-04T14:52:16.704817Z",
     "start_time": "2019-11-04T14:52:16.566015Z"
    }
   },
   "outputs": [
    {
     "name": "stdout",
     "output_type": "stream",
     "text": [
      "Descriptions that contain the words:\n",
      "  faith 13\n",
      "  hope 66\n",
      "  love 114\n",
      "  faith & hope 2\n",
      "  hope & love 2\n",
      "  faith & love 1\n",
      "  faith, hope & love 0\n"
     ]
    }
   ],
   "source": [
    "print('Descriptions that contain the words:')\n",
    "print('  faith',m_df[m_df['description'].str.contains('faith',case=False)].shape[0])\n",
    "print('  hope',m_df[m_df['description'].str.contains('hope',case=False)].shape[0])\n",
    "print('  love',m_df[m_df['description'].str.contains('love',case=False)].shape[0])\n",
    "print('  faith & hope',m_df[m_df['description'].str.contains('faith',case=False) & m_df['description'].str.contains('hope',case=False)].shape[0])\n",
    "print('  hope & love',m_df[m_df['description'].str.contains('hope',case=False) & m_df['description'].str.contains('love',case=False)].shape[0])\n",
    "print('  faith & love',m_df[m_df['description'].str.contains('faith',case=False) & m_df['description'].str.contains('love',case=False)].shape[0])\n",
    "print('  faith, hope & love',m_df[m_df['description'].str.contains('faith',case=False) & m_df['description'].str.contains('hope',case=False) & m_df['description'].str.contains('love',case=False)].shape[0])"
   ]
  },
  {
   "cell_type": "markdown",
   "metadata": {},
   "source": [
    "### Looking for any of the words in the titles"
   ]
  },
  {
   "cell_type": "code",
   "execution_count": 8,
   "metadata": {
    "ExecuteTime": {
     "end_time": "2019-11-04T14:52:16.729425Z",
     "start_time": "2019-11-04T14:52:16.707902Z"
    },
    "scrolled": true
   },
   "outputs": [
    {
     "name": "stdout",
     "output_type": "stream",
     "text": [
      "Titles that contain the words:\n",
      "  faith 5\n",
      "  hope 5\n",
      "  love 35\n",
      "  faith, hope or love 45\n"
     ]
    }
   ],
   "source": [
    "print('Titles that contain the words:')\n",
    "print('  faith',m_df[m_df['title'].str.contains('faith',case=False)].title.count())\n",
    "print('  hope',m_df[m_df['title'].str.contains('hope',case=False)].title.count())\n",
    "print('  love',m_df[m_df['title'].str.contains('love',case=False)].title.count())\n",
    "print('  faith, hope or love',m_df[m_df['title'].str.contains('faith|hope|love',case=False)].title.count())"
   ]
  },
  {
   "cell_type": "code",
   "execution_count": null,
   "metadata": {},
   "outputs": [],
   "source": []
  }
 ],
 "metadata": {
  "kernelspec": {
   "display_name": "Python [conda env:metis] *",
   "language": "python",
   "name": "conda-env-metis-py"
  },
  "language_info": {
   "codemirror_mode": {
    "name": "ipython",
    "version": 3
   },
   "file_extension": ".py",
   "mimetype": "text/x-python",
   "name": "python",
   "nbconvert_exporter": "python",
   "pygments_lexer": "ipython3",
   "version": "3.7.3"
  },
  "toc": {
   "base_numbering": 1,
   "nav_menu": {},
   "number_sections": true,
   "sideBar": true,
   "skip_h1_title": false,
   "title_cell": "Table of Contents",
   "title_sidebar": "Contents",
   "toc_cell": false,
   "toc_position": {},
   "toc_section_display": true,
   "toc_window_display": false
  }
 },
 "nbformat": 4,
 "nbformat_minor": 2
}
