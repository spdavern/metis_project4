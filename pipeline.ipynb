{
 "cells": [
  {
   "cell_type": "code",
   "execution_count": 1,
   "metadata": {
    "ExecuteTime": {
     "end_time": "2019-11-10T08:19:47.593330Z",
     "start_time": "2019-11-10T08:19:46.312030Z"
    }
   },
   "outputs": [],
   "source": [
    "import pandas as pd\n",
    "import numpy as np\n",
    "import nltk\n",
    "from nltk.tokenize import sent_tokenize\n",
    "from nltk.tokenize import punkt\n",
    "from sklearn.feature_extraction.text import CountVectorizer\n",
    "from sklearn.metrics.pairwise import cosine_similarity\n",
    "from src.functions import get_sents, display_topics, unit_norm\n",
    "from sklearn.decomposition import TruncatedSVD\n",
    "from sklearn.cluster import KMeans\n",
    "import matplotlib.pylab as plt\n",
    "%matplotlib inline"
   ]
  },
  {
   "cell_type": "code",
   "execution_count": 2,
   "metadata": {
    "ExecuteTime": {
     "end_time": "2019-11-10T08:19:56.241602Z",
     "start_time": "2019-11-10T08:19:47.595428Z"
    }
   },
   "outputs": [],
   "source": [
    "# Read in the transcripts\n",
    "raw_data_path = './data/raw/ted-talks/'\n",
    "transcripts_filename = 'transcripts.csv'\n",
    "t_df = pd.read_csv(raw_data_path+transcripts_filename)\n",
    "# Pare down the corpus to only those talks with the word 'love'\n",
    "love=t_df[t_df['transcript'].str.contains('love',case=False)]\n",
    "# Tokenize\n",
    "# Get the collection of n(=5)-sentence snippets with the word 'love'\n",
    "love_snippets = get_sents(love,'love',0,0)"
   ]
  },
  {
   "cell_type": "markdown",
   "metadata": {},
   "source": [
    "From results EDA I found that talk ID=132 and 2382 were 'outliers' after dimension reduction was performed when using CountVectorizer(binary=False).  These two talks were songs that mentioned love a lot.  By deleting them I'm trying to capture orthogonal variance in topics modeling to not be dominated by these 2 talks."
   ]
  },
  {
   "cell_type": "code",
   "execution_count": 3,
   "metadata": {
    "ExecuteTime": {
     "end_time": "2019-11-10T08:19:56.255676Z",
     "start_time": "2019-11-10T08:19:56.244056Z"
    },
    "scrolled": false
   },
   "outputs": [
    {
     "data": {
      "text/html": [
       "<div>\n",
       "<style scoped>\n",
       "    .dataframe tbody tr th:only-of-type {\n",
       "        vertical-align: middle;\n",
       "    }\n",
       "\n",
       "    .dataframe tbody tr th {\n",
       "        vertical-align: top;\n",
       "    }\n",
       "\n",
       "    .dataframe thead th {\n",
       "        text-align: right;\n",
       "    }\n",
       "</style>\n",
       "<table border=\"1\" class=\"dataframe\">\n",
       "  <thead>\n",
       "    <tr style=\"text-align: right;\">\n",
       "      <th></th>\n",
       "      <th>transcript</th>\n",
       "      <th>url</th>\n",
       "      <th>n_love_sents</th>\n",
       "      <th>love</th>\n",
       "    </tr>\n",
       "  </thead>\n",
       "  <tbody>\n",
       "    <tr>\n",
       "      <td>132</td>\n",
       "      <td>I’d like to dedicate this one to all the women...</td>\n",
       "      <td>https://www.ted.com/talks/vusi_mahlasela_sings...</td>\n",
       "      <td>12.0</td>\n",
       "      <td>♫ ♫ Should I now stop singing of love, ♫ ♫ now...</td>\n",
       "    </tr>\n",
       "    <tr>\n",
       "      <td>2382</td>\n",
       "      <td>(Sings) Water Boy(Guitar strum)where are you h...</td>\n",
       "      <td>https://www.ted.com/talks/rhiannon_giddens_3_s...</td>\n",
       "      <td>14.0</td>\n",
       "      <td>So I wrote a song based on some of those narra...</td>\n",
       "    </tr>\n",
       "  </tbody>\n",
       "</table>\n",
       "</div>"
      ],
      "text/plain": [
       "                                             transcript  \\\n",
       "132   I’d like to dedicate this one to all the women...   \n",
       "2382  (Sings) Water Boy(Guitar strum)where are you h...   \n",
       "\n",
       "                                                    url  n_love_sents  \\\n",
       "132   https://www.ted.com/talks/vusi_mahlasela_sings...          12.0   \n",
       "2382  https://www.ted.com/talks/rhiannon_giddens_3_s...          14.0   \n",
       "\n",
       "                                                   love  \n",
       "132   ♫ ♫ Should I now stop singing of love, ♫ ♫ now...  \n",
       "2382  So I wrote a song based on some of those narra...  "
      ]
     },
     "execution_count": 3,
     "metadata": {},
     "output_type": "execute_result"
    }
   ],
   "source": [
    "love_snippets.loc[[132, 2382]]"
   ]
  },
  {
   "cell_type": "markdown",
   "metadata": {},
   "source": [
    "I'll uncomment this when I want those song talks eliminated."
   ]
  },
  {
   "cell_type": "code",
   "execution_count": 4,
   "metadata": {
    "ExecuteTime": {
     "end_time": "2019-11-10T08:19:56.262074Z",
     "start_time": "2019-11-10T08:19:56.259311Z"
    }
   },
   "outputs": [],
   "source": [
    "# love_snippets.drop(labels=[132, 2382],inplace=True)"
   ]
  },
  {
   "cell_type": "code",
   "execution_count": 5,
   "metadata": {
    "ExecuteTime": {
     "end_time": "2019-11-10T08:19:56.401900Z",
     "start_time": "2019-11-10T08:19:56.264311Z"
    }
   },
   "outputs": [
    {
     "name": "stdout",
     "output_type": "stream",
     "text": [
      "2 topics variance ratios: [0.02570641 0.01420521]\n",
      "3 topics variance ratios: [0.02570641 0.01421547 0.01198931]\n",
      "4 topics variance ratios: [0.02570641 0.0142091  0.01198736 0.01068457]\n",
      "5 topics variance ratios: [0.02570641 0.01420989 0.01194661 0.01066725 0.01003962]\n"
     ]
    }
   ],
   "source": [
    "# Topic modeling\n",
    "# Vectorize\n",
    "cv1 = CountVectorizer(stop_words='english',binary=True)\n",
    "cv_doc_word = cv1.fit_transform(love_snippets.love)\n",
    "# Dimension Reduction\n",
    "cv_lsa=[]\n",
    "cv_doc_topic=[]\n",
    "for i in range(2,6):\n",
    "    cv_lsa.append(TruncatedSVD(i))\n",
    "    cv_doc_topic.append(cv_lsa[i-2].fit_transform(cv_doc_word))\n",
    "    print(int(i),'topics variance ratios:',cv_lsa[i-2].explained_variance_ratio_)"
   ]
  },
  {
   "cell_type": "code",
   "execution_count": 6,
   "metadata": {
    "ExecuteTime": {
     "end_time": "2019-11-10T08:19:56.414792Z",
     "start_time": "2019-11-10T08:19:56.403890Z"
    }
   },
   "outputs": [
    {
     "name": "stdout",
     "output_type": "stream",
     "text": [
      "\n",
      "Topic  0\n",
      "love, loved, people, like, just, know, think, really, time, ve, life, laughter, world, way, going\n",
      "\n",
      "Topic  1\n",
      "person, feel, loved, end, say, got, time, long, thank, life, just, years, later, thinking, way\n"
     ]
    }
   ],
   "source": [
    "display_topics(cv_lsa[0], cv1.get_feature_names(), 15)"
   ]
  },
  {
   "cell_type": "code",
   "execution_count": 7,
   "metadata": {
    "ExecuteTime": {
     "end_time": "2019-11-10T08:19:56.585146Z",
     "start_time": "2019-11-10T08:19:56.416733Z"
    }
   },
   "outputs": [
    {
     "data": {
      "image/png": "[encoded data removed]",
      "text/plain": [
       "<Figure size 432x288 with 1 Axes>"
      ]
     },
     "metadata": {
      "needs_background": "light"
     },
     "output_type": "display_data"
    }
   ],
   "source": [
    "plt.scatter(cv_doc_topic[0][:,0],cv_doc_topic[0][:,1], alpha = 0.5);\n",
    "# plt.axis([0, 60, -30, 10])"
   ]
  },
  {
   "cell_type": "code",
   "execution_count": 8,
   "metadata": {
    "ExecuteTime": {
     "end_time": "2019-11-10T08:19:57.942862Z",
     "start_time": "2019-11-10T08:19:56.588563Z"
    },
    "scrolled": true
   },
   "outputs": [
    {
     "data": {
      "image/png": "[encoded data removed]",
      "text/plain": [
       "<Figure size 288x288 with 1 Axes>"
      ]
     },
     "metadata": {
      "needs_background": "light"
     },
     "output_type": "display_data"
    }
   ],
   "source": [
    "df=pd.DataFrame(cv_doc_topic[0],columns=['LSA Dimension 0','LSA Dimension 1'])\n",
    "num_clusters = 4\n",
    "km = KMeans(n_clusters=num_clusters,random_state=None,n_init=300,verbose=0) # n_init, number of times the K-mean algorithm will run\n",
    "km.fit(df)\n",
    "km.labels_\n",
    "cmap = {0:'r',1:'g',2:'b',3:'c',4:'m',5:'y',6:'orange',7:'k',8:'aqua',9:'yellow'}\n",
    "col = pd.DataFrame(np.array([km.labels_])).transpose()[0].map(cmap)\n",
    "df.plot.scatter(x='LSA Dimension 0',y='LSA Dimension 1',\\\n",
    "                figsize=(4,4), c=col, alpha = 0.5,title='Topic Modeling of Love');\n",
    "# plt.axis([-1,1.05,-1,1]);"
   ]
  },
  {
   "cell_type": "code",
   "execution_count": 9,
   "metadata": {
    "ExecuteTime": {
     "end_time": "2019-11-10T08:19:57.949611Z",
     "start_time": "2019-11-10T08:19:57.945396Z"
    },
    "scrolled": true
   },
   "outputs": [
    {
     "name": "stdout",
     "output_type": "stream",
     "text": [
      "r [2.03459229 0.00491777]\n",
      "g [ 0.9479017  -0.55095588]\n",
      "b [4.99482495 3.06056069]\n",
      "c [0.40110254 0.17654659]\n"
     ]
    }
   ],
   "source": [
    "for i,center in enumerate(km.cluster_centers_):\n",
    "    print(cmap[i],center)"
   ]
  },
  {
   "cell_type": "code",
   "execution_count": 10,
   "metadata": {
    "ExecuteTime": {
     "end_time": "2019-11-10T08:19:57.974694Z",
     "start_time": "2019-11-10T08:19:57.951856Z"
    }
   },
   "outputs": [
    {
     "name": "stdout",
     "output_type": "stream",
     "text": [
      "Cluster centered at: [2.03459229 0.00491777] color= r\n",
      "233 : And so the power music has I normally compare to the power love when love doesn't see a color. You know, if you fall in love with a frog, that's it.One testimony about how I find music is powerful is when I was still a soldier back then. ♫♫ Another starving refugee ♫♫ I remember the time when I was small ♫♫ When I couldn't read or write at all ♫♫ Now I'm all grown up, I got my education ♫♫ The sky is the limit and I can't be stopped by no one ♫♫ How I prayed for this day to come ♫♫ And I pray that the world find wisdom ♫♫ To give the poor in need some assistance ♫♫ Instead of putting up resistance, yeah ♫♫ Sitting and waiting for the politics to fix this ♫♫ It ain't gonna happen ♫♫ They're all sitting on they asses ♫♫ Popping champagne and sponging off the masses ♫♫ Coming from a refugee boy-soldier ♫♫ But I still got my dignity ♫♫ I gotta say it again ♫♫ If Emma never rescued me ♫♫ I'd be a corpse on the African plain ♫Is there anybody who's here in the back, some love.Big scream for Emma everybody.Yeah!\n",
      "936 : Once an aspiring student thinking only of her future, now she was scared all the time.But she was also full of hope, because she was in love with a fellow Syrian refugee named Bassem. And now it was Doaa's turn to say to Bassem, \"My love, please hold on to hope, to our future. And he said to her, \"I'm sorry, my love, that I put you in this situation. I have never loved anyone as much as I love you.\" And he released himself into the water, and Doaa watched as the love of her life drowned before her eyes.Later that day, a mother came up to Doaa with her small 18-month-old daughter, Masa.\n",
      "274 : And this is the insight, the thing that we are excited about, because we have gone away from the community that we are, the fact that we really do love each other and want to care for each other. I love some of these, physical exercise, prayer. What I love about this, just sort of interesting design problems. In the side effects for his drug, integrated into that, the stem cell transplant that he had, the first in the world, shared openly for anyone who wants to see it.I love here — the cyberkinetics implant, which was, again, the only patient's data that was online and available. Doctors actually love this sheet, and they're actually really engaged. So, you know we said — we looked at this, and what I love also is that people always accuse these Internet sites of promoting bad medicine and having people do things irresponsibly. And we said — because it's really cool, you can go back and you can look at the entire history of your computer, and find everything you've lost, and I loved it.\n",
      "1085 : We shared a lovely teenage romance, and we'd meet at lunchtimes to just hold hands and walk around old downtown Reykjavík. We'd been in a budding relationship for a bit over a month when our school's Christmas Ball was held.Thordis Elva: I was 16 and in love for the first time. I was a surfer, a social science student, a friend to good people, a loved brother and son, an outdoor recreation guide, and eventually, a youth worker. My self-worth was buried under a soul-crushing load of silence that isolated me from everyone that I cared about, and I was consumed with misplaced hatred and anger that I took out on myself.One day, I stormed out of the door in tears after a fight with a loved one, and I wandered into a café, where I asked the waitress for a pen.\n",
      "\n",
      "\n",
      "Cluster centered at: [ 0.9479017  -0.55095588] color= g\n",
      "600 : He's projecting out at us, and she's clearly projecting, you know, love and admiration at him.Here's another couple. (Laughter) And I'm thinking I'm not seeing love and admiration on the left.\n",
      "27 : (Laughter) But it's not a crazy concern, OK, because understanding behavior can lead to a kind of empathy, and it can make it a little harder to deliver tough love, and so on.\n",
      "1167 : (Laughter)I would love to keep on doing this for an hour, but OK —(Laughter)And this is the result that we made: a bicycle path which charges at daytime via the sun and glows at night, up to eight hours. (Laughter)I love this image so much for a lot of different reasons.\n",
      "1082 : They are powerful reminders that our common humanity has not changed.The thrill of archaeological discovery is as powerful as love, because ancient history is the most seductive mistress imaginable. History may be cyclical, but we are singular.I love what I do, because I learn that we haven't changed. (Arabic) Omer by brother, I will always love you. (English) Omer my brother, I will always love you.So, just before my first dig in Egypt, my mentor, the very famous Egyptologist Professor William Kelly Simpson, called me into his office.\n",
      "\n",
      "\n",
      "Cluster centered at: [4.99482495 3.06056069] color= b\n",
      "1136 : I told him about Ivan, that he had autism, and that I wanted him to learn to walk down the street by himself, without anyone holding his hand.So I decided to ask Jose if Thursdays around 2pm, Ivan could come and help him arrange the water bottles on the shelves, because he loved to organize things.\n",
      "504 : And that turned out to be women.I had left ABC news and a career I loved at the age of 30 for business school, a path I knew almost nothing about.\n",
      "453 : And what this lets you do is create an online tribute to your loved ones, complete with photos and videos and stories that they can post after you die. What if we were able to use that same type of technology to beam a representation of our loved ones into our living rooms — interacting in a very lifelike way based on all the content they created while they were alive?\n",
      "332 : As they handle the ice, in fact, they keep an extra pair of gloves warming in an oven, so that, when their work gloves freeze and their fingers stiffen, they can don a fresh pair.\n",
      "\n",
      "\n",
      "Cluster centered at: [0.40110254 0.17654659] color= c\n",
      "858 : This is the second iteration of that same project, but in Slovenia, in a different country, and the new group was like, we're going  to do the architecture differently. And this is, for example, on the right hand side you can see an isolation mission in the Museum of Modern Art in Ljubljana in Slovenia, where six artists and designers locked themselves up — I was part of that — for four days inside the museum.\n",
      "884 : Is it a hookup, a love story, paid sex, a chat room, a massage with a happy ending? So this talk is for anyone who has ever loved.Adultery has existed since marriage was invented, and so, too, the taboo against it. The fact is that monogamy had nothing to do with love. And alchemy is the key word here, because the erotic frisson is such that the kiss that you only imagine giving, can be as powerful and as enchanting as hours of actual lovemaking. As Marcel Proust said, it's our imagination that is responsible for love, not the other person.So it's never been easier to cheat, and it's never been more difficult to keep a secret. Ironically, we used to turn to adultery — that was the space where we sought pure love. But now that we seek love in marriage, adultery destroys it.Now, there are three ways that I think infidelity hurts differently today. We have a romantic ideal in which we turn to one person to fulfill an endless list of needs: to be my greatest lover, my best friend, the best parent, my trusted confidant, my emotional companion, my intellectual equal. Infidelity shatters the grand ambition of love. At the heart of an affair, you will often find a longing and a yearning for an emotional connection, for novelty, for freedom, for autonomy, for sexual intensity, a wish to recapture lost parts of ourselves or an attempt to bring back vitality in the face of loss and tragedy.I'm thinking about another patient of mine, Priya, who is blissfully married, loves her husband, and would never want to hurt the man. And the very structure of an affair, the fact that you can never have your lover, keeps you wanting. It's his responsibility to bring it up, because if he thinks about it, he can relieve Heather from the obsession, and from having to make sure that the affair isn't forgotten, and that in itself begins to restore trust.But for Heather, or deceived partners, it is essential to do things that bring back a sense of self-worth, to surround oneself with love and with friends and activities that give back joy and meaning and identity. And the dilemmas of love and desire, they don't yield just simple answers of black and white and good and bad, and victim and perpetrator.\n",
      "45 : I'll get your ex-lover telling someone else, \"Good morning.\"\n",
      "775 : You got something to do with that whole 'Eat, Pray, Love' thing that's been going on lately? And believe me, I'm extremely grateful to be that person, because that whole \"Eat, Pray, Love\" thing was a huge break for me. But it also left me in a really tricky position moving forward as an author trying to figure out how in the world I was ever going to write a book again that would ever please anybody, because I knew well in advance that all of those people who had adored \"Eat, Pray, Love\" were going to be incredibly disappointed in whatever I wrote next because it wasn't going to be \"Eat, Pray, Love,\" and all of those people who had hated \"Eat, Pray, Love\" were going to be incredibly disappointed in whatever I wrote next because it would provide evidence that I still lived. But if I had done that, if I had given up writing, I would have lost my beloved vocation, so I knew that the task was that I had to find some way to gin up the inspiration to write the next book regardless of its inevitable negative outcome. For me, going home meant returning to the work of writing because writing was my home, because I loved writing more than I hated failing at writing, which is to say that I loved writing more than I loved my own ego, which is ultimately to say that I loved writing more than I loved myself. And that's how I pushed through it.But the weird thing is that 20 years later, during the crazy ride of \"Eat, Pray, Love,\" I found myself identifying all over again with that unpublished young diner waitress who I used to be, thinking about her constantly, and feeling like I was her again, which made no rational sense whatsoever because our lives could not have been more different. And there's a real equal danger in both cases of getting lost out there in the hinterlands of the psyche.But in both cases, it turns out that there is also the same remedy for self-restoration, and that is that you have got to find your way back home again as swiftly and smoothly as you can, and if you're wondering what your home is, here's a hint: Your home is whatever in this world you love more than you love yourself. So after the weird, disorienting success that I went through with \"Eat, Pray, Love,\" I realized that all I had to do was exactly the same thing that I used to have to do all the time when I was an equally disoriented failure. I had to get my ass back to work, and that's what I did, and that's how, in 2010, I was able to publish the dreaded follow-up to \"Eat, Pray, Love.\" My point is that I'm writing another one now, and I'll write another book after that and another and another and another and many of them will fail, and some of them might succeed, but I will always be safe from the random hurricanes of outcome as long as I never forget where I rightfully live.Look, I don't know where you rightfully live, but I know that there's something in this world that you love more than you love yourself. The only trick is that you've got to identify the best, worthiest thing that you love most, and then build your house right on top of it and don't budge from it. And if you should someday, somehow get vaulted out of your home by either great failure or great success, then your job is to fight your way back to that home the only way that it has ever been done, by putting your head down and performing with diligence and devotion and respect and reverence whatever the task is that love is calling forth from you next.\n",
      "\n",
      "\n"
     ]
    }
   ],
   "source": [
    "for i,center in enumerate(km.cluster_centers_):\n",
    "    clo=pd.DataFrame(cosine_similarity(X=[center],Y=cv_doc_topic[0]).T)[0].nlargest(4)\n",
    "    print('Cluster centered at:',center,'color=',cmap[i])\n",
    "    for j,cs in clo.iteritems():\n",
    "        print(j,':',love_snippets.iloc[j].love)\n",
    "    print('\\n')"
   ]
  },
  {
   "cell_type": "code",
   "execution_count": 11,
   "metadata": {
    "ExecuteTime": {
     "end_time": "2019-11-10T08:19:58.654326Z",
     "start_time": "2019-11-10T08:19:57.976648Z"
    },
    "scrolled": true
   },
   "outputs": [
    {
     "data": {
      "image/png": "[encoded data removed]",
      "text/plain": [
       "<Figure size 144x288 with 1 Axes>"
      ]
     },
     "metadata": {
      "needs_background": "light"
     },
     "output_type": "display_data"
    }
   ],
   "source": [
    "df = unit_norm(pd.DataFrame(cv_doc_topic[0]),demean=False)\n",
    "# num_clusters = 2\n",
    "# km = KMeans(n_clusters=num_clusters,random_state=10,n_init=300,verbose=0) # n_init, number of times the K-mean algorithm will run\n",
    "# km.fit(df)\n",
    "# km.labels_\n",
    "cmap = {0:'r',1:'g',2:'b',3:'c',4:'m',5:'y',6:'orange',7:'k',8:'aqua',9:'yellow'}\n",
    "col = pd.DataFrame(np.array([km.labels_])).transpose()[0].map(cmap)\n",
    "df.plot.scatter(x=0,y=1,figsize=(2,4), c=col, alpha = 0.5);\n",
    "plt.axis([0,1.05,-1,1]);\n",
    "# plt.savefig(\"reports/figures/figure_1.png\")"
   ]
  },
  {
   "cell_type": "code",
   "execution_count": 12,
   "metadata": {
    "ExecuteTime": {
     "end_time": "2019-11-10T08:20:00.621395Z",
     "start_time": "2019-11-10T08:19:58.656476Z"
    },
    "scrolled": true
   },
   "outputs": [
    {
     "data": {
      "image/png": "[encoded data removed]",
      "text/plain": [
       "<Figure size 144x288 with 1 Axes>"
      ]
     },
     "metadata": {
      "needs_background": "light"
     },
     "output_type": "display_data"
    }
   ],
   "source": [
    "df = unit_norm(pd.DataFrame(cv_doc_topic[0]),demean=False)\n",
    "num_clusters = 4\n",
    "km = KMeans(n_clusters=num_clusters,random_state=10,n_init=300,verbose=0) # n_init, number of times the K-mean algorithm will run\n",
    "km.fit(df)\n",
    "km.labels_\n",
    "cmap = {0:'r',1:'g',2:'b',3:'c',4:'m',5:'y',6:'orange',7:'k',8:'aqua',9:'yellow'}\n",
    "col = pd.DataFrame(np.array([km.labels_])).transpose()[0].map(cmap)\n",
    "df.plot.scatter(x=0,y=1,figsize=(2,4), c=col, alpha = 0.5);\n",
    "plt.axis([0,1.05,-1,1]);\n",
    "# plt.savefig(\"reports/figures/figure_1.png\")"
   ]
  },
  {
   "cell_type": "code",
   "execution_count": 13,
   "metadata": {
    "ExecuteTime": {
     "end_time": "2019-11-10T08:20:00.626925Z",
     "start_time": "2019-11-10T08:20:00.623309Z"
    }
   },
   "outputs": [
    {
     "data": {
      "text/plain": [
       "array([[ 0.89217394, -0.44092619],\n",
       "       [ 0.90879503,  0.39717133],\n",
       "       [ 0.70934882, -0.69950889],\n",
       "       [ 0.9877101 , -0.10003431]])"
      ]
     },
     "execution_count": 13,
     "metadata": {},
     "output_type": "execute_result"
    }
   ],
   "source": [
    "km.cluster_centers_"
   ]
  },
  {
   "cell_type": "code",
   "execution_count": 14,
   "metadata": {
    "ExecuteTime": {
     "end_time": "2019-11-10T08:20:00.632795Z",
     "start_time": "2019-11-10T08:20:00.628888Z"
    }
   },
   "outputs": [
    {
     "name": "stdout",
     "output_type": "stream",
     "text": [
      "0 [ 0.89217394 -0.44092619]\n",
      "1 [0.90879503 0.39717133]\n",
      "2 [ 0.70934882 -0.69950889]\n",
      "3 [ 0.9877101  -0.10003431]\n"
     ]
    }
   ],
   "source": [
    "for i, x in enumerate(km.cluster_centers_):\n",
    "    print(i, x)"
   ]
  },
  {
   "cell_type": "code",
   "execution_count": 15,
   "metadata": {
    "ExecuteTime": {
     "end_time": "2019-11-10T08:20:00.657686Z",
     "start_time": "2019-11-10T08:20:00.635371Z"
    },
    "scrolled": true
   },
   "outputs": [
    {
     "name": "stdout",
     "output_type": "stream",
     "text": [
      "Cluster centered at: [ 0.89217394 -0.44092619] color= r\n",
      "1109 : Although I'd love to go on about all the details of this algorithm, luckily for you, I don't have the time.But I'd still like to give you a brief idea of how we define what our universe looks like, and how we use this to reconstruct and verify our results.\n",
      "1026 : In real life, I love to hike, but every time I want to go on a hike, it makes me nervous.\n",
      "53 : So that, very much, is in the realm of things I've been interested in before.KA: It seems to me, among other things, a lovely piece of civic infrastructure. And it gets to another issue that was probably inappropriate to discuss six months ago, but perhaps isn't now, which is, not many of us love the World Trade Center as a piece of architecture, as what it had done to this city and that huge plaza.\n",
      "664 : (Clang) (Laughs)Now obviously, as Maddie's chemistry teacher, I love that she went home and continued to geek out about this kind of ridiculous demonstration that we did in class. She's going to be four years old, and anyone who knows a four-year-old knows that they love to ask, \"Why?\"\n",
      "\n",
      "\n",
      "Cluster centered at: [0.90879503 0.39717133] color= g\n",
      "884 : Is it a hookup, a love story, paid sex, a chat room, a massage with a happy ending? So this talk is for anyone who has ever loved.Adultery has existed since marriage was invented, and so, too, the taboo against it. The fact is that monogamy had nothing to do with love. And alchemy is the key word here, because the erotic frisson is such that the kiss that you only imagine giving, can be as powerful and as enchanting as hours of actual lovemaking. As Marcel Proust said, it's our imagination that is responsible for love, not the other person.So it's never been easier to cheat, and it's never been more difficult to keep a secret. Ironically, we used to turn to adultery — that was the space where we sought pure love. But now that we seek love in marriage, adultery destroys it.Now, there are three ways that I think infidelity hurts differently today. We have a romantic ideal in which we turn to one person to fulfill an endless list of needs: to be my greatest lover, my best friend, the best parent, my trusted confidant, my emotional companion, my intellectual equal. Infidelity shatters the grand ambition of love. At the heart of an affair, you will often find a longing and a yearning for an emotional connection, for novelty, for freedom, for autonomy, for sexual intensity, a wish to recapture lost parts of ourselves or an attempt to bring back vitality in the face of loss and tragedy.I'm thinking about another patient of mine, Priya, who is blissfully married, loves her husband, and would never want to hurt the man. And the very structure of an affair, the fact that you can never have your lover, keeps you wanting. It's his responsibility to bring it up, because if he thinks about it, he can relieve Heather from the obsession, and from having to make sure that the affair isn't forgotten, and that in itself begins to restore trust.But for Heather, or deceived partners, it is essential to do things that bring back a sense of self-worth, to surround oneself with love and with friends and activities that give back joy and meaning and identity. And the dilemmas of love and desire, they don't yield just simple answers of black and white and good and bad, and victim and perpetrator.\n",
      "858 : This is the second iteration of that same project, but in Slovenia, in a different country, and the new group was like, we're going  to do the architecture differently. And this is, for example, on the right hand side you can see an isolation mission in the Museum of Modern Art in Ljubljana in Slovenia, where six artists and designers locked themselves up — I was part of that — for four days inside the museum.\n",
      "379 : He was a big figure in all of our lives, and we loved him very much.\n",
      "45 : I'll get your ex-lover telling someone else, \"Good morning.\"\n",
      "\n",
      "\n",
      "Cluster centered at: [ 0.70934882 -0.69950889] color= b\n",
      "22 : It's a love story — she's sort of the Norah Jones of the UK — about how she much loves her guy, and compared to nine million bicycles, and so forth.\n",
      "864 : We have to go to the other side and reengage those symbols that we know you love. We take these forms that we know you love and we update them. And you love it.\n",
      "462 : I love to do synthetic biology. I love things that are alive. I love manipulating the infrastructure of biology.\n",
      "338 : And for those of you who love the arts, aren't you glad you invited me here to brighten your day?\n",
      "\n",
      "\n",
      "Cluster centered at: [ 0.9877101  -0.10003431] color= c\n",
      "1138 : But it's an inside job, and we can't arrange peace or lasting improvement for the people we love most in the world. (Laughter)When William Blake said that we are here to learn to endure the beams of love, he knew that your family would be an intimate part of this, even as you want to run screaming for your cute little life. The mystery of grace is that God loves Henry Kissinger and Vladimir Putin and me exactly as much as He or She loves your new grandchild. And I was surprised, but they said I could give a talk, and I said I'd love to.\n",
      "3 : I'd lived in this area all my life, and you could not get to the river, because of all the lovely facilities that I mentioned earlier. We leveraged that $10,000 seed grant more than 300 times, into a $3 million park.And in the fall, I'm going to exchange marriage vows with my beloved. And luckily for me, that home and the love inside of it, along with help from teachers, mentors and friends along the way, was enough.Now, why is this story important? Because on top of that, the world's richest sports team is replacing the House That Ruth Built by destroying two well-loved community parks.\n",
      "433 : I love finding, wearing, and more recently, photographing and blogging a different, colorful, crazy outfit for every single occasion. And I'd really love to show you my week's worth of outfits right now. I don't need to get emotionally attached to these things because around the corner, there is always going to be another crazy, colorful, shiny outfit just waiting for me, if I put a little love in my heart and look.Thank you very much.\n",
      "964 : Amy was there as the TED Prize Director; me, an entrepreneur from the Netherlands and concerned citizen, love to dive, passion for the oceans.Mission Blue truly changed our lives. We fell in love, got married and we came away really inspired, thinking we really want to do something about ocean conservation — something that was meant to last, that could make a real difference and something that we could do together.Little did we expect that that would lead us to fish farming.\n",
      "\n",
      "\n"
     ]
    }
   ],
   "source": [
    "for i,center in enumerate(km.cluster_centers_):\n",
    "    clo=pd.DataFrame(cosine_similarity(X=[center],Y=cv_doc_topic[0]).T)[0].nlargest(4)\n",
    "    print('Cluster centered at:',center,'color=',cmap[i])\n",
    "    for j,cs in clo.iteritems():\n",
    "        print(j,':',love_snippets.iloc[j].love)\n",
    "    print('\\n')"
   ]
  },
  {
   "cell_type": "code",
   "execution_count": null,
   "metadata": {},
   "outputs": [],
   "source": []
  },
  {
   "cell_type": "code",
   "execution_count": null,
   "metadata": {},
   "outputs": [],
   "source": []
  },
  {
   "cell_type": "code",
   "execution_count": 16,
   "metadata": {
    "ExecuteTime": {
     "end_time": "2019-11-10T08:20:01.128120Z",
     "start_time": "2019-11-10T08:20:00.659499Z"
    }
   },
   "outputs": [
    {
     "name": "stdout",
     "output_type": "stream",
     "text": [
      "Top 5:\n",
      " 684     0.747410\n",
      "1073    0.712369\n",
      "749     0.703490\n",
      "862     0.677377\n",
      "1151    0.649712\n",
      "Name: 1, dtype: float64\n",
      "Bottom 5:\n",
      " 910   -0.791276\n",
      "533   -0.789609\n",
      "127   -0.789453\n",
      "257   -0.789331\n",
      "597   -0.789262\n",
      "Name: 1, dtype: float64\n"
     ]
    }
   ],
   "source": [
    "df = unit_norm(pd.DataFrame(cv_doc_topic[0]))\n",
    "print('Top 5:\\n', df[1].nlargest(5))\n",
    "print('Bottom 5:\\n', df[1].nsmallest(5))"
   ]
  },
  {
   "cell_type": "code",
   "execution_count": 17,
   "metadata": {
    "ExecuteTime": {
     "end_time": "2019-11-10T08:20:01.136038Z",
     "start_time": "2019-11-10T08:20:01.129757Z"
    },
    "scrolled": true
   },
   "outputs": [
    {
     "name": "stdout",
     "output_type": "stream",
     "text": [
      "684 A glove or a catcher's mitt is a condom. \n",
      "\n",
      "1073 OK, so today I want to talk about how we talk about love. And specifically, I want to talk about what's wrong with how we talk about love.Most of us will probably fall in love a few times over the course of our lives, and in the English language, this metaphor, falling, is really the main way that we talk about that experience. You could say that I get paid to argue that the language we use matters, and I would like to argue that many of the metaphors we use to talk about love — maybe even most of them — are a problem.So, in love, we fall. Love makes us crazy, and it makes us sick. And if you look this word up in the dictionary —(Laughter)you will see that it can be defined as both \"grievous affliction,\" and, \"to be very much in love.\" (Laughter)Here we are using the same word to talk about love that we use to explain a plague of locusts. How have we come to associate love with great pain and suffering? And to think this through, I want to focus on one metaphor in particular, which is the idea of love as madness.When I first started researching romantic love, I found these madness metaphors everywhere. The history of Western culture is full of language that equates love to mental illness. William Shakespeare: \"Love is merely a madness,\" from \"As You Like It.\" Friedrich Nietzsche: \"There is always some madness in love.\" \"Got me looking, got me looking so crazy in love — \"(Laughter)from the great philosopher, Beyoncé Knowles. (Laughter)I fell in love for the first time when I was 20, and it was a pretty turbulent relationship right from the start. I was sitting on a bed in a hostel in South America, and I was watching the person I love walk out the door. I must really be doing this love thing right. \"(Laughter)Because some part of me wanted to feel miserable in love. And it sounds so strange to me now, but at 22, I longed to have dramatic experiences, and in that moment, I was irrational and furious and devastated, and weirdly enough, I thought that this somehow legitimized the feelings I had for the guy who had just left me.I think on some level I wanted to feel a little bit crazy, because I thought that that was how loved worked. This really should not be surprising, considering that according to Wikipedia, there are eight films, 14 songs, two albums and one novel with the title \"Crazy Love. I expected my first love to feel like madness, and of course, it met that expectation very well. But loving someone like that — as if my entire well-being depended on him loving me back — was not very good for me or for him.But I suspect this experience of love is not that unusual. Most of us do feel a bit mad in the early stages of romantic love. In fact, there is research to confirm that this is somewhat normal, because, neurochemically speaking, romantic love and mental illness are not that easily distinguished. This is true.This study from 1999 used blood tests to confirm that the serotonin levels of the newly in love very closely resembled the serotonin levels of people who had been diagnosed with obsessive-compulsive disorder. So there is some evidence that love is associated with changes to our moods and our behaviors. And there are other studies to confirm that most relationships begin this way.Researchers believe that the low levels of serotonin is correlated with obsessive thinking about the object of love, which is like this feeling that someone has set up camp in your brain. And most of us feel this way when we first fall in love. But the good news is, it doesn't always last that long — usually from a few months to a couple of years.When I got back from my trip to South America, I spent a lot of time alone in my room, checking my email, desperate to hear from the guy I loved. But I think I felt like it was my job to be miserable, because if I could be miserable, then I would prove how much I loved him. And if I could prove it, then we would have to end up together eventually.This is the real madness, because there is no cosmic rule that says that great suffering equals great reward, but we talk about love as if this is true.Our experiences of love are both biological and cultural. Our biology tells us that love is good by activating these reward circuits in our brain, and it tells us that love is painful when, after a fight or a breakup, that neurochemical reward is withdrawn. (Laughter)And then our culture uses language to shape and reinforce these ideas about love. Love is powerful and at times painful, and we express this in our words and stories, but then our words and stories prime us to expect love to be powerful and painful.What's interesting to me is that all of this happens in a culture that values lifelong monogamy. It seems like we want it both ways: we want love to feel like madness, and we want it to last an entire lifetime. So, imagine if we were all less passive in love. If we were more assertive, more open-minded, more generous and instead of falling in love, we stepped into love. They argue that metaphors really do shape the way we experience the world, and that they can even act as a guide for future actions, like self-fulfilling prophecies.Johnson and Lakoff suggest a new metaphor for love: love as a collaborative work of art. I really like this way of thinking about love. These ideas align nicely with our cultural investment in long-term romantic commitment, but they also work well for other kinds of relationships — short-term, casual, polyamorous, non-monogamous, asexual — because this metaphor brings much more complex ideas to the experience of loving someone.So if love is a collaborative work of art, then love is an aesthetic experience. Love is unpredictable, love is creative, love requires communication and discipline, it is frustrating and emotionally demanding. And love involves both joy and pain. Ultimately, each experience of love is different.When I was younger, it never occurred to me that I was allowed to demand more from love, that I didn't have to just accept whatever love offered. I understand that 16th-century Verona is unlike contemporary North America, and yet when I first read this play, also at age 14, Juliet's suffering made sense to me.Reframing love as something I get to create with someone I admire, rather than something that just happens to me without my control or consent, is empowering. Love still feels totally maddening and crushing some days, and when I feel really frustrated, I have to remind myself: my job in this relationship is to talk to my partner about what I want to make together. But it's just so much better than the alternative, which is that thing that feels like madness.This version of love is not about winning or losing someone's affection. This version of love allows us to say things like, \"Hey, we're not very good collaborators. This version of love allows us to decide what it looks like.Thank you. \n",
      "\n",
      "749 They would come into the emergency room with what the police would call \"a lovers' quarrel,\" and I would see a woman who was beaten, I would see a broken nose and a fractured wrist and swollen eyes. \n",
      "\n",
      "862 So I thought I'd start with a love poem about prime numbers. \"She preferred the sequel.He romanticized the idea they were star-crossed lovers.They could overcome the odds and evens because they had each other.While she maintained the strict views imposed on her by her motherThat separate could not be equal.And though at the time he felt stupid and dumbFor trying to love a girl controlled by her stupid mum,He should have been comforted by the simple sum.Take 59 away from 60, and you’re left with the one.Sure enough after two months of moping around,61 days later, 61 was who he found,He had lost his keys  and his parents were out.So one day after school  he went into a houseAs he noticed the slightly wonky numbers on the door,He wondered why he’d never introduced himself before,As she let him in, his jaw  dropped in awe.61 was like 60, but a little bit more. \"She loved talking to someone  just as quirky,She agreed to this unofficial first date.In the end he was only ready one minute early,But it didn’t matter because she arrived one minute late.And from that moment on there was nonstop chatter,How they loved \"X Factor,\" how they had two factors,How that did not matter, distinctiveness made them better,By the end of the night they knew they were meant together.And one day she was talking about stuck-up 60,She noticed that 59 looked a bit shifty.He blushed, told her of his crush:“The best thing that never happened because it led to us.”61 was clever, see, not prone to jealousy,She looked him in the eyes and told him quite tenderly,\"You’re 59, I’m 61, together we combine to become twice what 60 could ever be.\" (Laughter)At this point 59 had tears in his eyes,Was so glad to have this one-of-a-kind girl in his life.He told her the very definition of being primeWas that with only one and himself could his heart divide,And she was the one he wanted to give his heart to,She said she felt the same and now she knew the films were half true.Because that wasn't real love, that love was just a sample,When it came to real love, they were a prime example.Cheers. (Laughter)But I loved it, and I got involved in these slams, and I became the U.K. slam champion and got invited to the Poetry World Cup in Paris, which was unbelievable. \"Thank you very much for listening.Old man sunshine was proud of his sun,And it brightened his day to see his little boy run,Not because of what he’d done, nor the problems overcome,But that despite that his disposition remained a sunny one.It hadn’t always been like this.There’d been times when he’d tried to hide his brightness,You see, every star hits periods of hardship,It takes a brighter light to inspire them through the darkness.If we go back to when he was born in a nebula,We know that he never was thought of as regular,Because he had a flair about him,To say the Midas touch is wrongBut all he went near seemed to turn a little bronze,Yes this sun was loved by some more than others,It was a case of Joseph and his dreamcoat and his brothersBecause standing out from the crowd had its pros and its cons,And jealousy created enemies in those he outshoneSuch as the Shadow People.Now the Shadow People didn’t like the Sunshine Kid,Because he showed up the dark things the Shadow People did,And when he shone he showed the places where the Shadow People hid,So the Shadow People had an evil plan to get rid of him,First up — they made fun of his sunspots,Shooting his dreams from the sky, their words were gunshots,Designed to remind him he wasn’t very coolAnd he didn’t fit in with any popular kids at school.They said his head was up in space and they would bring him down to Earth,Essentially he came from nothing and that is what he was worth,He’d never get to go to university to learn,Only degrees he’d ever show would be the first degree burnsFrom those that came too close, they told him he was too bright,That’s why no one ever looked him in the eyes,His judgment became cloudedSo did the sky, With evaporated tearsas the sun started to cry.Because the sunshine kid was bright, with a warm personality,And inside he burned savagelyHurt by the words and curses of the shadowy folkwho spoke holes in his soul and left cavities,And as his heart hardened, his spark darkened,Every time they called him names it cooled his flames,He thought they might like him if he kept his light dimBut they were busy telling lightning she had terrible aim,He couldn’t quite get to grips with what they said,So he let his light be eclipsed by what they said,He fell into a Lone Star State like Texas,And felt like he’d been punched in his solar plexus.But that’s when Little Miss Sunshine came alongSinging her favorite song about how we’re made to be strong,And you don’t have to be wrong to belong, Just be true to who you are,because we are all stars at heart.Little Miss Sunshine was hot stuff,The kind of girl when you looked at heryou forgot stuff,But for him, there was no forgetting her,The minute he saw her her image burned in his retina,She was out of this world, and she accepted him,Something about this girl meant he knew whenever she was next to him,Things weren’t as dark as they seemed, and he dared to dream,Shadows were nowhere to be seen; when she was there he beamed,His eyes would light up in ways that can’t be faked,When she grinned her rays erased the razor-tipped words of hate,They gave each other nicknames, they were \"cool star\" and \"fun sun,\"And gradually the shadowy damage became undone,She was one in a septillion, and she was brilliant,Could turn the coldest blooded reptilians vermillion,Loved by billions, from Chileans to Brazilians,And taught the Sunshine Kid the meaning of resilience.She said: “All the darkness in the worldcannot put out the light from a single candleSo how the hell can they handle your light?Only you can choose to dim it, and the sky is the limit, so silence the critics by burning.”And if eyes are windows to the soul then she drew back the curtainsAnd let the sun shine through the hurting.In a universe of adversity these stars stuck together,And though days became nights the memories would last forever,Whether the weatherman said it or not, it would be fine,'Cause even behind the clouds the kid could still shine.Yes, the Sunshine Kid was bright, with a warm personality,And inside he burned savagely,Fueled by the fire inspired across galaxiesBy the girl who showed him belief.Thank you very much. \n",
      "\n",
      "1151 You borrow each other's cars.And despite all this, as my daughter loves to say, everything is not rainbows and unicorns in cohousing, and I'm not best friends with every single person in my community. \n",
      "\n"
     ]
    }
   ],
   "source": [
    "for i,item in df[1].nlargest(5).iteritems():\n",
    "    print(i,love_snippets.iloc[i].love,'\\n')"
   ]
  },
  {
   "cell_type": "code",
   "execution_count": 18,
   "metadata": {
    "ExecuteTime": {
     "end_time": "2019-11-10T08:20:01.146381Z",
     "start_time": "2019-11-10T08:20:01.138938Z"
    },
    "scrolled": true
   },
   "outputs": [
    {
     "name": "stdout",
     "output_type": "stream",
     "text": [
      "910 There's this quote by activist and punk rock musician Jello Biafra that I love. \n",
      "\n",
      "533 And I love silver buckshot. \n",
      "\n",
      "127 Everything else on there is a labor of love. \n",
      "\n",
      "257 I love mythology too much. \n",
      "\n",
      "597 I love that phrase. \n",
      "\n"
     ]
    }
   ],
   "source": [
    "for i,item in df[1].nsmallest(5).iteritems():\n",
    "    print(i, love_snippets.iloc[i].love, '\\n')"
   ]
  },
  {
   "cell_type": "markdown",
   "metadata": {},
   "source": [
    "Matplotlib colormaps: https://matplotlib.org/3.1.0/tutorials/colors/colormaps.html"
   ]
  },
  {
   "cell_type": "code",
   "execution_count": 19,
   "metadata": {
    "ExecuteTime": {
     "end_time": "2019-11-10T08:20:01.593045Z",
     "start_time": "2019-11-10T08:20:01.148228Z"
    },
    "scrolled": true
   },
   "outputs": [
    {
     "data": {
      "image/png": "[encoded data removed]",
      "text/plain": [
       "<Figure size 288x288 with 2 Axes>"
      ]
     },
     "metadata": {
      "needs_background": "light"
     },
     "output_type": "display_data"
    }
   ],
   "source": [
    "df=pd.DataFrame(cv_doc_topic[0])\n",
    "df.plot.scatter(x=0,y=1,figsize=(4,4), alpha=0.5,\\\n",
    "               c=love_snippets.n_love_sents+3, cmap=plt.get_cmap('gist_heat_r'),vmin=0);"
   ]
  },
  {
   "cell_type": "code",
   "execution_count": 20,
   "metadata": {
    "ExecuteTime": {
     "end_time": "2019-11-10T08:20:02.458313Z",
     "start_time": "2019-11-10T08:20:01.594822Z"
    }
   },
   "outputs": [
    {
     "data": {
      "image/png": "[encoded data removed]",
      "text/plain": [
       "<Figure size 144x288 with 2 Axes>"
      ]
     },
     "metadata": {
      "needs_background": "light"
     },
     "output_type": "display_data"
    }
   ],
   "source": [
    "df = unit_norm(pd.DataFrame(cv_doc_topic[0]),demean=False)\n",
    "df.plot.scatter(x=0,y=1,figsize=(2,4), alpha=0.5,\\\n",
    "               c=love_snippets.n_love_sents+2, cmap=plt.get_cmap('gist_heat_r'),vmin=0)\n",
    "plt.axis([0,1.05,-1,1]);\n",
    "# plt.savefig(\"reports/figures/figure_1.png\")"
   ]
  },
  {
   "cell_type": "code",
   "execution_count": null,
   "metadata": {},
   "outputs": [],
   "source": []
  }
 ],
 "metadata": {
  "kernelspec": {
   "display_name": "Python [conda env:metis] *",
   "language": "python",
   "name": "conda-env-metis-py"
  },
  "language_info": {
   "codemirror_mode": {
    "name": "ipython",
    "version": 3
   },
   "file_extension": ".py",
   "mimetype": "text/x-python",
   "name": "python",
   "nbconvert_exporter": "python",
   "pygments_lexer": "ipython3",
   "version": "3.7.3"
  },
  "toc": {
   "base_numbering": 1,
   "nav_menu": {},
   "number_sections": true,
   "sideBar": true,
   "skip_h1_title": false,
   "title_cell": "Table of Contents",
   "title_sidebar": "Contents",
   "toc_cell": false,
   "toc_position": {},
   "toc_section_display": true,
   "toc_window_display": false
  }
 },
 "nbformat": 4,
 "nbformat_minor": 2
}
