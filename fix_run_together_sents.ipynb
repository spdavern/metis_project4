{
 "cells": [
  {
   "cell_type": "code",
   "execution_count": 2,
   "metadata": {
    "ExecuteTime": {
     "end_time": "2019-11-13T23:09:13.608939Z",
     "start_time": "2019-11-13T23:09:12.144453Z"
    }
   },
   "outputs": [],
   "source": [
    "import pandas as pd\n",
    "import re\n",
    "from src.functions import get_sents"
   ]
  },
  {
   "cell_type": "code",
   "execution_count": 2,
   "metadata": {
    "ExecuteTime": {
     "end_time": "2019-11-13T23:00:53.136418Z",
     "start_time": "2019-11-13T23:00:44.302055Z"
    }
   },
   "outputs": [],
   "source": [
    "# Read in the transcripts\n",
    "raw_data_path = './data/raw/ted-talks/'\n",
    "transcripts_filename = 'transcripts.csv'\n",
    "t_df = pd.read_csv(raw_data_path+transcripts_filename)\n",
    "# Pare down the corpus to only those talks with the word 'love'\n",
    "love=t_df[t_df['transcript'].str.contains(r'\\blove',case=False)]\n",
    "# Tokenize\n",
    "# Get the collection of n(=5)-sentence snippets with the word 'love'\n",
    "love_snippets = get_sents(love,'love',0,0)"
   ]
  },
  {
   "cell_type": "code",
   "execution_count": 3,
   "metadata": {
    "ExecuteTime": {
     "end_time": "2019-11-13T23:00:54.023718Z",
     "start_time": "2019-11-13T23:00:54.014591Z"
    }
   },
   "outputs": [
    {
     "data": {
      "text/plain": [
       "\"We love eye-popping color, and we try to bring this eye-popping color underwater with us.So there's been a long and sordid history of bringing color underwater, and it starts 88 years ago with Bill Longley and Charles Martin, who were trying to take the first underwater color photograph.\""
      ]
     },
     "execution_count": 3,
     "metadata": {},
     "output_type": "execute_result"
    }
   ],
   "source": [
    "love_snippets.iloc[931].love"
   ]
  },
  {
   "cell_type": "markdown",
   "metadata": {},
   "source": [
    "Using a function that Katrina worked out to help figure out my regex:"
   ]
  },
  {
   "cell_type": "code",
   "execution_count": null,
   "metadata": {},
   "outputs": [],
   "source": [
    "def sent_simple(text):\n",
    "#   text = re.sub(r'\\B([A-Z])', r'. \\1', text)\n",
    "    text = re.sub(r'([a-z](?=[A-Z])|[A-Z](?=[A-Z][a-z]))', r'\\1 ', text) # separate fused word with a capital letter\n",
    "    text = re.sub('[/\\n:\\)\\(!]', ' ', text)   # remove end of line char and others\n",
    "    \n",
    "    sents = text.split('.')\n",
    "    \n",
    "    return sents"
   ]
  },
  {
   "cell_type": "code",
   "execution_count": 4,
   "metadata": {
    "ExecuteTime": {
     "end_time": "2019-11-13T23:01:05.635674Z",
     "start_time": "2019-11-13T23:01:05.631155Z"
    }
   },
   "outputs": [
    {
     "data": {
      "text/plain": [
       "'abc A'"
      ]
     },
     "execution_count": 4,
     "metadata": {},
     "output_type": "execute_result"
    }
   ],
   "source": [
    "re.sub(r'([a-z](?=[A-Z])|[A-Z](?=[A-Z][a-z]))', r'\\1 ', 'abcA')"
   ]
  },
  {
   "cell_type": "code",
   "execution_count": 5,
   "metadata": {
    "ExecuteTime": {
     "end_time": "2019-11-13T23:01:06.728945Z",
     "start_time": "2019-11-13T23:01:06.724954Z"
    }
   },
   "outputs": [
    {
     "data": {
      "text/plain": [
       "'abc. A'"
      ]
     },
     "execution_count": 5,
     "metadata": {},
     "output_type": "execute_result"
    }
   ],
   "source": [
    "re.sub(r'([^ ]\\.)([^ ])',r'\\1 \\2','abc.A')"
   ]
  },
  {
   "cell_type": "code",
   "execution_count": 6,
   "metadata": {
    "ExecuteTime": {
     "end_time": "2019-11-13T23:01:08.214300Z",
     "start_time": "2019-11-13T23:01:08.196493Z"
    }
   },
   "outputs": [
    {
     "data": {
      "text/plain": [
       "\"We love eye-popping color, and we try to bring this eye-popping color underwater with us. So there's been a long and sordid history of bringing color underwater, and it starts 88 years ago with Bill Longley and Charles Martin, who were trying to take the first underwater color photograph.\""
      ]
     },
     "execution_count": 6,
     "metadata": {},
     "output_type": "execute_result"
    }
   ],
   "source": [
    "love_snippets.love.str.replace(r'([^ ]\\.)([^ ])',r'\\1 \\2').iloc[931]"
   ]
  },
  {
   "cell_type": "code",
   "execution_count": 3,
   "metadata": {
    "ExecuteTime": {
     "end_time": "2019-11-13T23:09:27.531732Z",
     "start_time": "2019-11-13T23:09:17.808460Z"
    }
   },
   "outputs": [],
   "source": [
    "# Read in the transcripts\n",
    "raw_data_path = './data/raw/ted-talks/'\n",
    "transcripts_filename = 'transcripts.csv'\n",
    "t_df = pd.read_csv(raw_data_path+transcripts_filename)\n",
    "t_df['transcript'] = t_df.transcript.str.replace(r'([^ ]\\.)([^ ])',r'\\1 \\2')\n",
    "# Pare down the corpus to only those talks with the word 'love'\n",
    "love=t_df[t_df['transcript'].str.contains(r'\\blove',case=False)]\n",
    "# Tokenize\n",
    "# Get the collection of n(=5)-sentence snippets with the word 'love'\n",
    "love_snippets = get_sents(love,'love',0,0)"
   ]
  },
  {
   "cell_type": "code",
   "execution_count": 4,
   "metadata": {
    "ExecuteTime": {
     "end_time": "2019-11-13T23:09:28.856046Z",
     "start_time": "2019-11-13T23:09:28.847095Z"
    }
   },
   "outputs": [
    {
     "data": {
      "text/plain": [
       "'We love eye-popping color, and we try to bring this eye-popping color underwater with us.'"
      ]
     },
     "execution_count": 4,
     "metadata": {},
     "output_type": "execute_result"
    }
   ],
   "source": [
    "love_snippets.iloc[931].love"
   ]
  },
  {
   "cell_type": "code",
   "execution_count": 7,
   "metadata": {
    "ExecuteTime": {
     "end_time": "2019-11-13T23:11:49.938597Z",
     "start_time": "2019-11-13T23:11:49.891278Z"
    }
   },
   "outputs": [],
   "source": [
    "love_snippets.to_pickle('./data/processed/love_snippets')"
   ]
  },
  {
   "cell_type": "markdown",
   "metadata": {},
   "source": [
    "Pickle the love_snippets dataframe:"
   ]
  },
  {
   "cell_type": "code",
   "execution_count": 8,
   "metadata": {
    "ExecuteTime": {
     "end_time": "2019-11-13T23:13:20.076818Z",
     "start_time": "2019-11-13T23:13:20.054909Z"
    }
   },
   "outputs": [],
   "source": [
    "df = pd.read_pickle('./data/processed/love_snippets')"
   ]
  },
  {
   "cell_type": "markdown",
   "metadata": {},
   "source": [
    "Verify what came back was the same as what went out:"
   ]
  },
  {
   "cell_type": "code",
   "execution_count": 12,
   "metadata": {
    "ExecuteTime": {
     "end_time": "2019-11-13T23:14:21.041475Z",
     "start_time": "2019-11-13T23:14:21.029285Z"
    },
    "scrolled": true
   },
   "outputs": [
    {
     "data": {
      "text/plain": [
       "transcript      True\n",
       "url             True\n",
       "n_love_sents    True\n",
       "love            True\n",
       "dtype: bool"
      ]
     },
     "execution_count": 12,
     "metadata": {},
     "output_type": "execute_result"
    }
   ],
   "source": [
    "(df == love_snippets).all()"
   ]
  },
  {
   "cell_type": "code",
   "execution_count": null,
   "metadata": {},
   "outputs": [],
   "source": []
  }
 ],
 "metadata": {
  "kernelspec": {
   "display_name": "Python [conda env:metis] *",
   "language": "python",
   "name": "conda-env-metis-py"
  },
  "language_info": {
   "codemirror_mode": {
    "name": "ipython",
    "version": 3
   },
   "file_extension": ".py",
   "mimetype": "text/x-python",
   "name": "python",
   "nbconvert_exporter": "python",
   "pygments_lexer": "ipython3",
   "version": "3.7.3"
  },
  "toc": {
   "base_numbering": 1,
   "nav_menu": {},
   "number_sections": true,
   "sideBar": true,
   "skip_h1_title": false,
   "title_cell": "Table of Contents",
   "title_sidebar": "Contents",
   "toc_cell": false,
   "toc_position": {},
   "toc_section_display": true,
   "toc_window_display": false
  }
 },
 "nbformat": 4,
 "nbformat_minor": 2
}
