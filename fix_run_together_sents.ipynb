{
 "cells": [
  {
   "cell_type": "code",
   "execution_count": 1,
   "metadata": {
    "ExecuteTime": {
     "end_time": "2019-11-15T00:16:50.285298Z",
     "start_time": "2019-11-15T00:16:49.157634Z"
    }
   },
   "outputs": [],
   "source": [
    "import pandas as pd\n",
    "import re\n",
    "from src.functions import get_sents"
   ]
  },
  {
   "cell_type": "code",
   "execution_count": 2,
   "metadata": {
    "ExecuteTime": {
     "end_time": "2019-11-15T00:16:59.625522Z",
     "start_time": "2019-11-15T00:16:50.288368Z"
    }
   },
   "outputs": [],
   "source": [
    "# Read in the transcripts\n",
    "raw_data_path = './data/raw/ted-talks/'\n",
    "transcripts_filename = 'transcripts.csv'\n",
    "t_df = pd.read_csv(raw_data_path+transcripts_filename)\n",
    "# Pare down the corpus to only those talks with the word 'love'\n",
    "love=t_df[t_df['transcript'].str.contains(r'\\blove',case=False)]\n",
    "# Tokenize\n",
    "# Get the collection of n(=5)-sentence snippets with the word 'love'\n",
    "love_snippets = get_sents(love,'love',0,0)"
   ]
  },
  {
   "cell_type": "code",
   "execution_count": 3,
   "metadata": {
    "ExecuteTime": {
     "end_time": "2019-11-15T00:16:59.640361Z",
     "start_time": "2019-11-15T00:16:59.628340Z"
    },
    "scrolled": true
   },
   "outputs": [
    {
     "data": {
      "text/plain": [
       "\"We love eye-popping color, and we try to bring this eye-popping color underwater with us.So there's been a long and sordid history of bringing color underwater, and it starts 88 years ago with Bill Longley and Charles Martin, who were trying to take the first underwater color photograph.\""
      ]
     },
     "execution_count": 3,
     "metadata": {},
     "output_type": "execute_result"
    }
   ],
   "source": [
    "love_snippets.iloc[931].love"
   ]
  },
  {
   "cell_type": "markdown",
   "metadata": {},
   "source": [
    "Using a function that Katrina worked out to help figure out my regex:"
   ]
  },
  {
   "cell_type": "code",
   "execution_count": 4,
   "metadata": {
    "ExecuteTime": {
     "end_time": "2019-11-15T00:16:59.647752Z",
     "start_time": "2019-11-15T00:16:59.643780Z"
    }
   },
   "outputs": [],
   "source": [
    "def sent_simple(text):\n",
    "#   text = re.sub(r'\\B([A-Z])', r'. \\1', text)\n",
    "    text = re.sub(r'([a-z](?=[A-Z])|[A-Z](?=[A-Z][a-z]))', r'\\1 ', text) # separate fused word with a capital letter\n",
    "    text = re.sub('[/\\n:\\)\\(!]', ' ', text)   # remove end of line char and others\n",
    "    \n",
    "    sents = text.split('.')\n",
    "    \n",
    "    return sents"
   ]
  },
  {
   "cell_type": "code",
   "execution_count": 5,
   "metadata": {
    "ExecuteTime": {
     "end_time": "2019-11-15T00:16:59.654016Z",
     "start_time": "2019-11-15T00:16:59.649573Z"
    }
   },
   "outputs": [
    {
     "data": {
      "text/plain": [
       "'abc A'"
      ]
     },
     "execution_count": 5,
     "metadata": {},
     "output_type": "execute_result"
    }
   ],
   "source": [
    "re.sub(r'([a-z](?=[A-Z])|[A-Z](?=[A-Z][a-z]))', r'\\1 ', 'abcA')"
   ]
  },
  {
   "cell_type": "code",
   "execution_count": 6,
   "metadata": {
    "ExecuteTime": {
     "end_time": "2019-11-15T00:16:59.660138Z",
     "start_time": "2019-11-15T00:16:59.656041Z"
    }
   },
   "outputs": [
    {
     "data": {
      "text/plain": [
       "'abc. A'"
      ]
     },
     "execution_count": 6,
     "metadata": {},
     "output_type": "execute_result"
    }
   ],
   "source": [
    "re.sub(r'([^ ]\\.)([^ ])',r'\\1 \\2','abc.A')"
   ]
  },
  {
   "cell_type": "code",
   "execution_count": 7,
   "metadata": {
    "ExecuteTime": {
     "end_time": "2019-11-15T00:16:59.681919Z",
     "start_time": "2019-11-15T00:16:59.662434Z"
    }
   },
   "outputs": [
    {
     "data": {
      "text/plain": [
       "\"We love eye-popping color, and we try to bring this eye-popping color underwater with us. So there's been a long and sordid history of bringing color underwater, and it starts 88 years ago with Bill Longley and Charles Martin, who were trying to take the first underwater color photograph.\""
      ]
     },
     "execution_count": 7,
     "metadata": {},
     "output_type": "execute_result"
    }
   ],
   "source": [
    "love_snippets.love.str.replace(r'([^ ]\\.)([^ ])',r'\\1 \\2').iloc[931]"
   ]
  },
  {
   "cell_type": "code",
   "execution_count": 8,
   "metadata": {
    "ExecuteTime": {
     "end_time": "2019-11-15T00:17:09.538039Z",
     "start_time": "2019-11-15T00:16:59.687076Z"
    }
   },
   "outputs": [],
   "source": [
    "# Read in the transcripts\n",
    "raw_data_path = './data/raw/ted-talks/'\n",
    "transcripts_filename = 'transcripts.csv'\n",
    "t_df = pd.read_csv(raw_data_path+transcripts_filename)\n",
    "t_df['transcript'] = t_df.transcript.str.replace(r'([^ ]\\.)([^ ])',r'\\1 \\2')\n",
    "# Pare down the corpus to only those talks with the word 'love'\n",
    "love=t_df[t_df['transcript'].str.contains(r'\\blove',case=False)]\n",
    "# Tokenize\n",
    "# Get the collection of n(=5)-sentence snippets with the word 'love'\n",
    "love_snippets = get_sents(love,'love',0,0)"
   ]
  },
  {
   "cell_type": "code",
   "execution_count": 9,
   "metadata": {
    "ExecuteTime": {
     "end_time": "2019-11-15T00:17:09.545993Z",
     "start_time": "2019-11-15T00:17:09.540253Z"
    },
    "scrolled": true
   },
   "outputs": [
    {
     "data": {
      "text/plain": [
       "'We love eye-popping color, and we try to bring this eye-popping color underwater with us.'"
      ]
     },
     "execution_count": 9,
     "metadata": {},
     "output_type": "execute_result"
    }
   ],
   "source": [
    "love_snippets.iloc[931].love"
   ]
  },
  {
   "cell_type": "code",
   "execution_count": 10,
   "metadata": {
    "ExecuteTime": {
     "end_time": "2019-11-15T00:17:09.795329Z",
     "start_time": "2019-11-15T00:17:09.548787Z"
    }
   },
   "outputs": [],
   "source": [
    "love_snippets.to_pickle('./data/processed/love_snippets')"
   ]
  },
  {
   "cell_type": "markdown",
   "metadata": {},
   "source": [
    "Pickle the love_snippets dataframe:"
   ]
  },
  {
   "cell_type": "code",
   "execution_count": 11,
   "metadata": {
    "ExecuteTime": {
     "end_time": "2019-11-15T00:17:09.821675Z",
     "start_time": "2019-11-15T00:17:09.797019Z"
    }
   },
   "outputs": [],
   "source": [
    "df = pd.read_pickle('./data/processed/love_snippets')"
   ]
  },
  {
   "cell_type": "markdown",
   "metadata": {},
   "source": [
    "Verify what came back was the same as what went out:"
   ]
  },
  {
   "cell_type": "code",
   "execution_count": 12,
   "metadata": {
    "ExecuteTime": {
     "end_time": "2019-11-15T00:17:09.839049Z",
     "start_time": "2019-11-15T00:17:09.823989Z"
    },
    "scrolled": true
   },
   "outputs": [
    {
     "data": {
      "text/plain": [
       "transcript      True\n",
       "url             True\n",
       "sentences       True\n",
       "n_love_sents    True\n",
       "love            True\n",
       "dtype: bool"
      ]
     },
     "execution_count": 12,
     "metadata": {},
     "output_type": "execute_result"
    }
   ],
   "source": [
    "(df == love_snippets).all()"
   ]
  },
  {
   "cell_type": "code",
   "execution_count": null,
   "metadata": {},
   "outputs": [],
   "source": []
  }
 ],
 "metadata": {
  "kernelspec": {
   "display_name": "Python [conda env:metis] *",
   "language": "python",
   "name": "conda-env-metis-py"
  },
  "language_info": {
   "codemirror_mode": {
    "name": "ipython",
    "version": 3
   },
   "file_extension": ".py",
   "mimetype": "text/x-python",
   "name": "python",
   "nbconvert_exporter": "python",
   "pygments_lexer": "ipython3",
   "version": "3.7.3"
  },
  "toc": {
   "base_numbering": 1,
   "nav_menu": {},
   "number_sections": true,
   "sideBar": true,
   "skip_h1_title": false,
   "title_cell": "Table of Contents",
   "title_sidebar": "Contents",
   "toc_cell": false,
   "toc_position": {},
   "toc_section_display": true,
   "toc_window_display": false
  }
 },
 "nbformat": 4,
 "nbformat_minor": 2
}
