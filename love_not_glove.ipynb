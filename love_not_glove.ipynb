{
 "cells": [
  {
   "cell_type": "markdown",
   "metadata": {},
   "source": [
    "# Improving 'Love' Matching\n",
    "\n",
    "This file was used to work out the regex and its implementation to match talks that contain words like 'love', 'loves', 'lover', 'loved' without capturing 'glove', 'Strangelove', 'Czechoslovakia' and other words containing the STRING 'love'.\n",
    "\n",
    "This resource was helpful: https://stackoverflow.com/questions/39359601/python-pandas-series-str-contains-whole-word"
   ]
  },
  {
   "cell_type": "code",
   "execution_count": 1,
   "metadata": {
    "ExecuteTime": {
     "end_time": "2019-11-13T23:39:05.166353Z",
     "start_time": "2019-11-13T23:39:04.000321Z"
    }
   },
   "outputs": [],
   "source": [
    "import pandas as pd\n",
    "from src.functions import get_sents"
   ]
  },
  {
   "cell_type": "markdown",
   "metadata": {},
   "source": [
    "I ended up implementing the regex in the variable named 'love' below rather than in the function get_sents."
   ]
  },
  {
   "cell_type": "markdown",
   "metadata": {},
   "source": [
    "SPD NOTE: A couple days later I realized I DID need to fix the get_sents file ALSO with the same solution.  The work in this file eliminated getting talks that contained the wrong words.  The get_sents function needed to be fixed also so I didn't get the sentences containing the wrong words."
   ]
  },
  {
   "cell_type": "markdown",
   "metadata": {},
   "source": [
    "Anyway, I was modifying get_sents for which the following lines were helpful:"
   ]
  },
  {
   "cell_type": "code",
   "execution_count": 2,
   "metadata": {
    "ExecuteTime": {
     "end_time": "2019-11-13T23:39:05.211802Z",
     "start_time": "2019-11-13T23:39:05.169484Z"
    }
   },
   "outputs": [],
   "source": [
    "%load_ext autoreload\n",
    "%autoreload 2"
   ]
  },
  {
   "cell_type": "code",
   "execution_count": 3,
   "metadata": {
    "ExecuteTime": {
     "end_time": "2019-11-13T23:39:14.052433Z",
     "start_time": "2019-11-13T23:39:05.214579Z"
    }
   },
   "outputs": [],
   "source": [
    "raw_data_path = './data/raw/ted-talks/'\n",
    "transcripts_filename = 'transcripts.csv'\n",
    "t_df = pd.read_csv(raw_data_path+transcripts_filename)\n",
    "# Pare down the corpus to only those talks with the word 'love'\n",
    "\n",
    "# This was the original attempt to do that:\n",
    "# love=t_df[t_df['transcript'].str.contains('love',case=False)]\n",
    "\n",
    "#Modified attempt:\n",
    "love=t_df[t_df['transcript'].str.contains(r'\\blove',case=False)]\n",
    "\n",
    "# Tokenize\n",
    "# Get the collection of n(=5)-sentence snippets with the word 'love'\n",
    "love_snippets = get_sents(love,'love',0,0)"
   ]
  },
  {
   "cell_type": "code",
   "execution_count": 4,
   "metadata": {
    "ExecuteTime": {
     "end_time": "2019-11-13T23:39:14.097723Z",
     "start_time": "2019-11-13T23:39:14.054582Z"
    }
   },
   "outputs": [
    {
     "data": {
      "text/plain": [
       "(1142, 4)"
      ]
     },
     "execution_count": 4,
     "metadata": {},
     "output_type": "execute_result"
    }
   ],
   "source": [
    "love_snippets.shape"
   ]
  },
  {
   "cell_type": "code",
   "execution_count": 5,
   "metadata": {
    "ExecuteTime": {
     "end_time": "2019-11-13T23:39:14.135816Z",
     "start_time": "2019-11-13T23:39:14.099645Z"
    }
   },
   "outputs": [
    {
     "data": {
      "text/plain": [
       "'\\\\blove'"
      ]
     },
     "execution_count": 5,
     "metadata": {},
     "output_type": "execute_result"
    }
   ],
   "source": [
    "word='love'\n",
    "r'\\b'+word"
   ]
  },
  {
   "cell_type": "markdown",
   "metadata": {},
   "source": [
    "This next series should be empty if I was successful:"
   ]
  },
  {
   "cell_type": "code",
   "execution_count": 6,
   "metadata": {
    "ExecuteTime": {
     "end_time": "2019-11-13T23:39:14.175360Z",
     "start_time": "2019-11-13T23:39:14.137680Z"
    }
   },
   "outputs": [
    {
     "data": {
      "text/plain": [
       "Series([], Name: love, dtype: object)"
      ]
     },
     "execution_count": 6,
     "metadata": {},
     "output_type": "execute_result"
    }
   ],
   "source": [
    "love_snippets[love_snippets.love.str.contains(r'\\b'+word,case=False)==False].love"
   ]
  },
  {
   "cell_type": "markdown",
   "metadata": {},
   "source": [
    "Success!"
   ]
  },
  {
   "cell_type": "markdown",
   "metadata": {},
   "source": [
    "NOT SO FAST!  See the file `fix_run_tegether_sents.ipynb` for further improving the love_snippets data."
   ]
  },
  {
   "cell_type": "code",
   "execution_count": null,
   "metadata": {},
   "outputs": [],
   "source": []
  }
 ],
 "metadata": {
  "kernelspec": {
   "display_name": "Python [conda env:metis] *",
   "language": "python",
   "name": "conda-env-metis-py"
  },
  "language_info": {
   "codemirror_mode": {
    "name": "ipython",
    "version": 3
   },
   "file_extension": ".py",
   "mimetype": "text/x-python",
   "name": "python",
   "nbconvert_exporter": "python",
   "pygments_lexer": "ipython3",
   "version": "3.7.3"
  },
  "toc": {
   "base_numbering": 1,
   "nav_menu": {},
   "number_sections": true,
   "sideBar": true,
   "skip_h1_title": false,
   "title_cell": "Table of Contents",
   "title_sidebar": "Contents",
   "toc_cell": false,
   "toc_position": {},
   "toc_section_display": true,
   "toc_window_display": false
  }
 },
 "nbformat": 4,
 "nbformat_minor": 2
}
