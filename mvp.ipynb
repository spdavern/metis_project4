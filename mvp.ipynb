{
 "cells": [
  {
   "cell_type": "markdown",
   "metadata": {},
   "source": []
  },
  {
   "cell_type": "code",
   "execution_count": 1,
   "metadata": {
    "ExecuteTime": {
     "end_time": "2019-11-08T21:52:08.145127Z",
     "start_time": "2019-11-08T21:52:06.861750Z"
    }
   },
   "outputs": [],
   "source": [
    "import pandas as pd\n",
    "import numpy as np\n",
    "import nltk\n",
    "from nltk.tokenize import sent_tokenize\n",
    "from nltk.tokenize import punkt\n",
    "from sklearn.feature_extraction.text import CountVectorizer\n",
    "from sklearn.metrics.pairwise import cosine_similarity\n",
    "from src.functions import get_sents\n",
    "from sklearn.decomposition import TruncatedSVD\n",
    "from sklearn.cluster import KMeans\n",
    "import matplotlib.pylab as plt\n",
    "%matplotlib inline"
   ]
  },
  {
   "cell_type": "markdown",
   "metadata": {},
   "source": [
    "See https://stackoverflow.com/questions/5364050/reloading-submodules-in-ipython\n",
    "for explanation of next cell:"
   ]
  },
  {
   "cell_type": "code",
   "execution_count": 2,
   "metadata": {
    "ExecuteTime": {
     "end_time": "2019-11-08T21:52:08.193079Z",
     "start_time": "2019-11-08T21:52:08.147249Z"
    }
   },
   "outputs": [],
   "source": [
    "%load_ext autoreload\n",
    "%autoreload 2\n",
    "#%autoreload?"
   ]
  },
  {
   "cell_type": "code",
   "execution_count": 3,
   "metadata": {
    "ExecuteTime": {
     "end_time": "2019-11-08T21:52:08.512654Z",
     "start_time": "2019-11-08T21:52:08.195473Z"
    },
    "scrolled": true
   },
   "outputs": [
    {
     "name": "stdout",
     "output_type": "stream",
     "text": [
      "m_df: (2550, 17)\n",
      "t_df: (2467, 2)\n"
     ]
    }
   ],
   "source": [
    "raw_data_path = './data/raw/ted-talks/'\n",
    "meta_data_filename = 'ted_main.csv'\n",
    "transcripts_filename = 'transcripts.csv'\n",
    "m_df = pd.read_csv(raw_data_path+meta_data_filename)\n",
    "print('m_df:',m_df.shape)\n",
    "t_df = pd.read_csv(raw_data_path+transcripts_filename)\n",
    "print('t_df:',t_df.shape)"
   ]
  },
  {
   "cell_type": "markdown",
   "metadata": {},
   "source": [
    "The dataframe t_df has all the transcripts.  I'll first break out the talks that contain the word love."
   ]
  },
  {
   "cell_type": "code",
   "execution_count": 4,
   "metadata": {
    "ExecuteTime": {
     "end_time": "2019-11-08T21:52:08.748723Z",
     "start_time": "2019-11-08T21:52:08.514889Z"
    }
   },
   "outputs": [
    {
     "data": {
      "text/plain": [
       "(1175, 2)"
      ]
     },
     "execution_count": 4,
     "metadata": {},
     "output_type": "execute_result"
    }
   ],
   "source": [
    "love=t_df[t_df['transcript'].str.contains('love',case=False)]\n",
    "love.shape"
   ]
  },
  {
   "cell_type": "markdown",
   "metadata": {},
   "source": [
    "The first talk that contains the word love: (uncomment and execute to view)"
   ]
  },
  {
   "cell_type": "code",
   "execution_count": 5,
   "metadata": {
    "ExecuteTime": {
     "end_time": "2019-11-08T21:52:08.785114Z",
     "start_time": "2019-11-08T21:52:08.750644Z"
    }
   },
   "outputs": [],
   "source": [
    "#love.iloc[0,0]"
   ]
  },
  {
   "cell_type": "markdown",
   "metadata": {},
   "source": [
    "I was getting an error message that googling suggested the following line of code would cure:  It appears that it only had to be run once on my machine to provide the functionality it delivers."
   ]
  },
  {
   "cell_type": "code",
   "execution_count": 6,
   "metadata": {
    "ExecuteTime": {
     "end_time": "2019-11-08T21:52:09.001645Z",
     "start_time": "2019-11-08T21:52:08.787335Z"
    },
    "scrolled": true
   },
   "outputs": [
    {
     "name": "stderr",
     "output_type": "stream",
     "text": [
      "[nltk_data] Downloading package punkt to /Users/sean/nltk_data...\n",
      "[nltk_data]   Package punkt is already up-to-date!\n"
     ]
    },
    {
     "data": {
      "text/plain": [
       "True"
      ]
     },
     "execution_count": 6,
     "metadata": {},
     "output_type": "execute_result"
    }
   ],
   "source": [
    "nltk.download('punkt')"
   ]
  },
  {
   "cell_type": "markdown",
   "metadata": {},
   "source": [
    "Ok, I'm going to want the sentences that contains the word and some context so I'd be able to tell what the author is talking about.  I'm figuring that out in the cell below."
   ]
  },
  {
   "cell_type": "code",
   "execution_count": 7,
   "metadata": {
    "ExecuteTime": {
     "end_time": "2019-11-08T21:52:09.058621Z",
     "start_time": "2019-11-08T21:52:09.003795Z"
    },
    "scrolled": false
   },
   "outputs": [
    {
     "data": {
      "text/plain": [
       "'(Laughter)Well, I was born... no. (Laughter)I heard a great story recently — I love telling it — of a little girl who was in a drawing lesson. She was six, and she was at the back, drawing, and the teacher said this girl hardly ever paid attention, and in this drawing lesson, she did.'"
      ]
     },
     "execution_count": 7,
     "metadata": {},
     "output_type": "execute_result"
    }
   ],
   "source": [
    "# Tokenize into sentences\n",
    "df=pd.DataFrame(sent_tokenize(love.iloc[0,0]))\n",
    "# Find only those sentences that contain the word love\n",
    "df2=df[df[0].str.contains('love',case=False)]\n",
    "# Get from 2 sentences before to 2 sentences after\n",
    "df.iloc[df2.iloc[0].name-2:df2.iloc[0].name+2][0].str.cat(sep=' ')\n"
   ]
  },
  {
   "cell_type": "markdown",
   "metadata": {},
   "source": [
    "Now I'll generalize that to find all the context snippets containing the word love.  I've placed this function into the file src/functions.py."
   ]
  },
  {
   "cell_type": "code",
   "execution_count": 8,
   "metadata": {
    "ExecuteTime": {
     "end_time": "2019-11-08T21:52:17.145874Z",
     "start_time": "2019-11-08T21:52:09.061955Z"
    },
    "scrolled": false
   },
   "outputs": [
    {
     "name": "stdout",
     "output_type": "stream",
     "text": [
      "(1175, 4)\n"
     ]
    },
    {
     "data": {
      "text/plain": [
       "Index(['transcript', 'url', 'n_love_sents', 'love'], dtype='object')"
      ]
     },
     "execution_count": 8,
     "metadata": {},
     "output_type": "execute_result"
    }
   ],
   "source": [
    "love_snippets = get_sents(love,'love')\n",
    "print(love_snippets.shape)\n",
    "love_snippets.columns"
   ]
  },
  {
   "cell_type": "markdown",
   "metadata": {},
   "source": [
    "I also kept track of (and returned) how many tokenized sentences containing the word each document had.  This is how it breaks out: (This gives some idea how sparse the word is across all the documents.)"
   ]
  },
  {
   "cell_type": "code",
   "execution_count": 9,
   "metadata": {
    "ExecuteTime": {
     "end_time": "2019-11-08T21:52:17.188571Z",
     "start_time": "2019-11-08T21:52:17.148361Z"
    }
   },
   "outputs": [
    {
     "name": "stdout",
     "output_type": "stream",
     "text": [
      "# of     | # of\n",
      "sentences| documents\n"
     ]
    },
    {
     "data": {
      "text/plain": [
       "1.0     512\n",
       "2.0     260\n",
       "3.0     145\n",
       "4.0     101\n",
       "5.0      55\n",
       "6.0      32\n",
       "7.0      16\n",
       "8.0      10\n",
       "13.0      9\n",
       "10.0      6\n",
       "12.0      5\n",
       "14.0      4\n",
       "9.0       4\n",
       "11.0      3\n",
       "17.0      2\n",
       "19.0      2\n",
       "15.0      2\n",
       "26.0      1\n",
       "45.0      1\n",
       "47.0      1\n",
       "18.0      1\n",
       "16.0      1\n",
       "29.0      1\n",
       "46.0      1\n",
       "Name: n_love_sents, dtype: int64"
      ]
     },
     "execution_count": 9,
     "metadata": {},
     "output_type": "execute_result"
    }
   ],
   "source": [
    "print('# of     | # of')\n",
    "print('sentences| documents')\n",
    "love_snippets.n_love_sents.value_counts()\n",
    "#Note value are not in order within value_counts"
   ]
  },
  {
   "cell_type": "markdown",
   "metadata": {},
   "source": [
    "Out of curiousity, what is the talk that has 46 sentences using 'love'?:"
   ]
  },
  {
   "cell_type": "code",
   "execution_count": 10,
   "metadata": {
    "ExecuteTime": {
     "end_time": "2019-11-08T21:52:17.249477Z",
     "start_time": "2019-11-08T21:52:17.194109Z"
    },
    "scrolled": true
   },
   "outputs": [
    {
     "data": {
      "text/html": [
       "<div>\n",
       "<style scoped>\n",
       "    .dataframe tbody tr th:only-of-type {\n",
       "        vertical-align: middle;\n",
       "    }\n",
       "\n",
       "    .dataframe tbody tr th {\n",
       "        vertical-align: top;\n",
       "    }\n",
       "\n",
       "    .dataframe thead th {\n",
       "        text-align: right;\n",
       "    }\n",
       "</style>\n",
       "<table border=\"1\" class=\"dataframe\">\n",
       "  <thead>\n",
       "    <tr style=\"text-align: right;\">\n",
       "      <th></th>\n",
       "      <th>transcript</th>\n",
       "      <th>url</th>\n",
       "      <th>n_love_sents</th>\n",
       "      <th>love</th>\n",
       "    </tr>\n",
       "  </thead>\n",
       "  <tbody>\n",
       "    <tr>\n",
       "      <td>2276</td>\n",
       "      <td>OK, so today I want to talk about how we talk ...</td>\n",
       "      <td>https://www.ted.com/talks/mandy_len_catron_a_b...</td>\n",
       "      <td>46.0</td>\n",
       "      <td>OK, so today I want to talk about how we talk ...</td>\n",
       "    </tr>\n",
       "  </tbody>\n",
       "</table>\n",
       "</div>"
      ],
      "text/plain": [
       "                                             transcript  \\\n",
       "2276  OK, so today I want to talk about how we talk ...   \n",
       "\n",
       "                                                    url  n_love_sents  \\\n",
       "2276  https://www.ted.com/talks/mandy_len_catron_a_b...          46.0   \n",
       "\n",
       "                                                   love  \n",
       "2276  OK, so today I want to talk about how we talk ...  "
      ]
     },
     "execution_count": 10,
     "metadata": {},
     "output_type": "execute_result"
    }
   ],
   "source": [
    "love_snippets[love_snippets.n_love_sents==46]"
   ]
  },
  {
   "cell_type": "code",
   "execution_count": 11,
   "metadata": {
    "ExecuteTime": {
     "end_time": "2019-11-08T21:52:17.298600Z",
     "start_time": "2019-11-08T21:52:17.251322Z"
    }
   },
   "outputs": [],
   "source": [
    "# love_snippets.loc[2276].love"
   ]
  },
  {
   "cell_type": "markdown",
   "metadata": {},
   "source": [
    "Let's do topic modeling for "
   ]
  },
  {
   "cell_type": "code",
   "execution_count": 41,
   "metadata": {
    "ExecuteTime": {
     "end_time": "2019-11-08T22:50:14.394569Z",
     "start_time": "2019-11-08T22:50:14.198597Z"
    }
   },
   "outputs": [
    {
     "data": {
      "text/plain": [
       "(1175, 14962)"
      ]
     },
     "execution_count": 41,
     "metadata": {},
     "output_type": "execute_result"
    }
   ],
   "source": [
    "cv1 = CountVectorizer(stop_words='english')\n",
    "cv_doc_word = cv1.fit_transform(love_snippets.love)\n",
    "cv_doc_word.shape"
   ]
  },
  {
   "cell_type": "code",
   "execution_count": 68,
   "metadata": {
    "ExecuteTime": {
     "end_time": "2019-11-08T23:05:45.384360Z",
     "start_time": "2019-11-08T23:05:45.239813Z"
    }
   },
   "outputs": [
    {
     "name": "stdout",
     "output_type": "stream",
     "text": [
      "2 topics variance ratios: [0.29669144 0.04290356]\n",
      "3 topics variance ratios: [0.29669144 0.04290356 0.0373023 ]\n",
      "4 topics variance ratios: [0.29669144 0.04290356 0.0373022  0.02290783]\n",
      "5 topics variance ratios: [0.29669144 0.04290357 0.03730228 0.02290947 0.02405711]\n"
     ]
    }
   ],
   "source": [
    "cv_lsa=[]\n",
    "cv_doc_topic=[]\n",
    "for i in range(2,6):\n",
    "    cv_lsa.append(TruncatedSVD(i))\n",
    "    cv_doc_topic.append(cv_lsa[i-2].fit_transform(cv_doc_word))\n",
    "    print(int(i),'topics variance ratios:',cv_lsa[i-2].explained_variance_ratio_)"
   ]
  },
  {
   "cell_type": "markdown",
   "metadata": {},
   "source": [
    "This is the topic_term matrix: (for the last loop)"
   ]
  },
  {
   "cell_type": "code",
   "execution_count": 69,
   "metadata": {
    "ExecuteTime": {
     "end_time": "2019-11-08T23:05:48.244247Z",
     "start_time": "2019-11-08T23:05:48.208207Z"
    },
    "scrolled": true
   },
   "outputs": [
    {
     "data": {
      "text/plain": [
       "array([[ 1.04489796e-02,  2.39145812e-05,  2.04060885e-05, ...,\n",
       "         1.01660322e-05,  3.40795455e-05,  4.32947104e-05],\n",
       "       [-6.10745529e-03, -2.22289755e-06, -1.89479276e-05, ...,\n",
       "        -1.10472291e-05,  8.84925449e-05, -4.79201511e-07]])"
      ]
     },
     "execution_count": 69,
     "metadata": {},
     "output_type": "execute_result"
    }
   ],
   "source": [
    "cv_lsa[0].components_"
   ]
  },
  {
   "cell_type": "code",
   "execution_count": 70,
   "metadata": {
    "ExecuteTime": {
     "end_time": "2019-11-08T23:05:48.933961Z",
     "start_time": "2019-11-08T23:05:48.896392Z"
    }
   },
   "outputs": [],
   "source": [
    "def display_topics(model, feature_names, no_top_words, topic_names=None):\n",
    "    for ix, topic in enumerate(model.components_):\n",
    "        if not topic_names or not topic_names[ix]:\n",
    "            print(\"\\nTopic \", ix)\n",
    "        else:\n",
    "            print(\"\\nTopic: '\",topic_names[ix],\"'\")\n",
    "        print(\", \".join([feature_names[i]\n",
    "                        for i in topic.argsort()[:-no_top_words - 1:-1]]))"
   ]
  },
  {
   "cell_type": "code",
   "execution_count": 71,
   "metadata": {
    "ExecuteTime": {
     "end_time": "2019-11-08T23:05:49.802506Z",
     "start_time": "2019-11-08T23:05:49.751989Z"
    },
    "scrolled": false
   },
   "outputs": [
    {
     "name": "stdout",
     "output_type": "stream",
     "text": [
      "\n",
      "Topic  0\n",
      "love, people, like, just, think, know, romantic, really, laughter, ve\n",
      "\n",
      "Topic  1\n",
      "come, wait, road, lies, free, ll, tennessee, way, hard, low\n",
      "\n",
      "Topic  2\n",
      "song, life, sing, love, baby, singing, oh, hear, everybody, pimple\n",
      "\n",
      "Topic  3\n",
      "love, romantic, brain, somebody, fall, attachment, drive, madly, sex, associated\n"
     ]
    }
   ],
   "source": [
    "display_topics(cv_lsa[2], cv1.get_feature_names(), 10)"
   ]
  },
  {
   "cell_type": "code",
   "execution_count": 72,
   "metadata": {
    "ExecuteTime": {
     "end_time": "2019-11-08T23:05:51.100523Z",
     "start_time": "2019-11-08T23:05:51.064190Z"
    }
   },
   "outputs": [
    {
     "data": {
      "text/plain": [
       "array([[ 3.73194552,  1.03688871],\n",
       "       [ 1.45559308, -0.04729895],\n",
       "       [ 1.26322018,  0.07875112],\n",
       "       [ 3.23350219,  0.49376873],\n",
       "       [20.66597454, -0.6104093 ]])"
      ]
     },
     "execution_count": 72,
     "metadata": {},
     "output_type": "execute_result"
    }
   ],
   "source": [
    "cv_doc_topic[0][:5,:]"
   ]
  },
  {
   "cell_type": "code",
   "execution_count": 73,
   "metadata": {
    "ExecuteTime": {
     "end_time": "2019-11-08T23:05:52.124239Z",
     "start_time": "2019-11-08T23:05:51.944209Z"
    }
   },
   "outputs": [
    {
     "data": {
      "image/png": "[encoded data removed]",
      "text/plain": [
       "<Figure size 432x288 with 1 Axes>"
      ]
     },
     "metadata": {
      "needs_background": "light"
     },
     "output_type": "display_data"
    }
   ],
   "source": [
    "plt.scatter(cv_doc_topic[0][:,0],cv_doc_topic[0][:,1], alpha = 0.5);\n",
    "# plt.axis([0, 140, 0, 10])"
   ]
  },
  {
   "cell_type": "markdown",
   "metadata": {},
   "source": [
    "There doesn't really seem to be a great collection of clusters in that 2D space!  However, some of the points are showing to be \"outliers\".  Let's look into them."
   ]
  },
  {
   "cell_type": "code",
   "execution_count": 74,
   "metadata": {
    "ExecuteTime": {
     "end_time": "2019-11-08T23:05:54.552320Z",
     "start_time": "2019-11-08T23:05:54.512318Z"
    }
   },
   "outputs": [
    {
     "data": {
      "text/html": [
       "<div>\n",
       "<style scoped>\n",
       "    .dataframe tbody tr th:only-of-type {\n",
       "        vertical-align: middle;\n",
       "    }\n",
       "\n",
       "    .dataframe tbody tr th {\n",
       "        vertical-align: top;\n",
       "    }\n",
       "\n",
       "    .dataframe thead th {\n",
       "        text-align: right;\n",
       "    }\n",
       "</style>\n",
       "<table border=\"1\" class=\"dataframe\">\n",
       "  <thead>\n",
       "    <tr style=\"text-align: right;\">\n",
       "      <th></th>\n",
       "      <th>0</th>\n",
       "      <th>1</th>\n",
       "    </tr>\n",
       "  </thead>\n",
       "  <tbody>\n",
       "    <tr>\n",
       "      <td>0</td>\n",
       "      <td>3.731946</td>\n",
       "      <td>1.036889</td>\n",
       "    </tr>\n",
       "    <tr>\n",
       "      <td>1</td>\n",
       "      <td>1.455593</td>\n",
       "      <td>-0.047299</td>\n",
       "    </tr>\n",
       "    <tr>\n",
       "      <td>2</td>\n",
       "      <td>1.263220</td>\n",
       "      <td>0.078751</td>\n",
       "    </tr>\n",
       "    <tr>\n",
       "      <td>3</td>\n",
       "      <td>3.233502</td>\n",
       "      <td>0.493769</td>\n",
       "    </tr>\n",
       "    <tr>\n",
       "      <td>4</td>\n",
       "      <td>20.665975</td>\n",
       "      <td>-0.610409</td>\n",
       "    </tr>\n",
       "  </tbody>\n",
       "</table>\n",
       "</div>"
      ],
      "text/plain": [
       "           0         1\n",
       "0   3.731946  1.036889\n",
       "1   1.455593 -0.047299\n",
       "2   1.263220  0.078751\n",
       "3   3.233502  0.493769\n",
       "4  20.665975 -0.610409"
      ]
     },
     "execution_count": 74,
     "metadata": {},
     "output_type": "execute_result"
    }
   ],
   "source": [
    "df = pd.DataFrame(cv_doc_topic[0])\n",
    "df.head()"
   ]
  },
  {
   "cell_type": "markdown",
   "metadata": {},
   "source": [
    "These are the rows of the doc_topic array that are \"interesting\"..."
   ]
  },
  {
   "cell_type": "code",
   "execution_count": 75,
   "metadata": {
    "ExecuteTime": {
     "end_time": "2019-11-08T23:06:01.821090Z",
     "start_time": "2019-11-08T23:06:01.783900Z"
    }
   },
   "outputs": [
    {
     "data": {
      "text/plain": [
       "0     49.372351\n",
       "1    121.593063\n",
       "Name: 1134, dtype: float64"
      ]
     },
     "execution_count": 75,
     "metadata": {},
     "output_type": "execute_result"
    }
   ],
   "source": [
    "df.loc[df.iloc[:,1].idxmax()]   # index of the single high y \"outlier\":"
   ]
  },
  {
   "cell_type": "code",
   "execution_count": 76,
   "metadata": {
    "ExecuteTime": {
     "end_time": "2019-11-08T23:06:07.133364Z",
     "start_time": "2019-11-08T23:06:07.094225Z"
    },
    "scrolled": true
   },
   "outputs": [
    {
     "data": {
      "text/html": [
       "<div>\n",
       "<style scoped>\n",
       "    .dataframe tbody tr th:only-of-type {\n",
       "        vertical-align: middle;\n",
       "    }\n",
       "\n",
       "    .dataframe tbody tr th {\n",
       "        vertical-align: top;\n",
       "    }\n",
       "\n",
       "    .dataframe thead th {\n",
       "        text-align: right;\n",
       "    }\n",
       "</style>\n",
       "<table border=\"1\" class=\"dataframe\">\n",
       "  <thead>\n",
       "    <tr style=\"text-align: right;\">\n",
       "      <th></th>\n",
       "      <th>0</th>\n",
       "      <th>1</th>\n",
       "    </tr>\n",
       "  </thead>\n",
       "  <tbody>\n",
       "    <tr>\n",
       "      <td>16</td>\n",
       "      <td>129.666019</td>\n",
       "      <td>-16.705347</td>\n",
       "    </tr>\n",
       "    <tr>\n",
       "      <td>116</td>\n",
       "      <td>146.072159</td>\n",
       "      <td>-9.393126</td>\n",
       "    </tr>\n",
       "    <tr>\n",
       "      <td>918</td>\n",
       "      <td>107.438569</td>\n",
       "      <td>-9.788755</td>\n",
       "    </tr>\n",
       "    <tr>\n",
       "      <td>1073</td>\n",
       "      <td>150.289949</td>\n",
       "      <td>-8.556608</td>\n",
       "    </tr>\n",
       "  </tbody>\n",
       "</table>\n",
       "</div>"
      ],
      "text/plain": [
       "               0          1\n",
       "16    129.666019 -16.705347\n",
       "116   146.072159  -9.393126\n",
       "918   107.438569  -9.788755\n",
       "1073  150.289949  -8.556608"
      ]
     },
     "execution_count": 76,
     "metadata": {},
     "output_type": "execute_result"
    }
   ],
   "source": [
    "df[df.iloc[:,0]>100]   # indices of 4 high x \"outliers\":"
   ]
  },
  {
   "cell_type": "markdown",
   "metadata": {},
   "source": [
    "Change ind below to each of the \"interesting\" indices above to see the text scored."
   ]
  },
  {
   "cell_type": "code",
   "execution_count": 77,
   "metadata": {
    "ExecuteTime": {
     "end_time": "2019-11-08T23:06:09.062576Z",
     "start_time": "2019-11-08T23:06:09.023538Z"
    }
   },
   "outputs": [
    {
     "name": "stdout",
     "output_type": "stream",
     "text": [
      "14.0\n"
     ]
    },
    {
     "data": {
      "text/plain": [
       "'So what you do with all that emotion is you\\'ve got to do something with it. As an artist, I write. So I wrote a song based on some of those narratives that I read, and it\\'s called, \"Come Love Come.\" We\\'re going to do it for you now. So I wrote a song based on some of those narratives that I read, and it\\'s called, \"Come Love Come.\" We\\'re going to do it for you now. (Claps)(Sings) Come love come, the road lies low, the way is long and hard, I know. Come love come, the road lies free, I\\'ll wait for you in Tennessee. We\\'re going to do it for you now. (Claps)(Sings) Come love come, the road lies low, the way is long and hard, I know. Come love come, the road lies free, I\\'ll wait for you in Tennessee. (Music)(Sings) When I was four, my loving mam was cornered by the boss\\'s man. Come love come, the road lies free, I\\'ll wait for you in Tennessee. (Music)(Sings) When I was four, my loving mam was cornered by the boss\\'s man. She turned her head and got struck down, they buried her in the cold, cold ground.Come love come, the road lies low, the way is long and hard, I know. Come love come, the road lies free, I\\'ll wait for you in Tennessee. (Music)(Sings) When I was four, my loving mam was cornered by the boss\\'s man. She turned her head and got struck down, they buried her in the cold, cold ground.Come love come, the road lies low, the way is long and hard, I know. Come love come, the road lies free, I\\'ll wait for you in Tennessee. (Music)When I was 12, my father dear was strong of arm and free of fear until the day he raised his hand, then he was sold to Alabama.Come love come, the road lies low, the way is long and hard, I know. She turned her head and got struck down, they buried her in the cold, cold ground.Come love come, the road lies low, the way is long and hard, I know. Come love come, the road lies free, I\\'ll wait for you in Tennessee. (Music)When I was 12, my father dear was strong of arm and free of fear until the day he raised his hand, then he was sold to Alabama.Come love come, the road lies low, the way is long and hard, I know. Come love come, the road lies free, I\\'ll wait for you in Tennessee. Come love come, the road lies free, I\\'ll wait for you in Tennessee. (Music)When I was 12, my father dear was strong of arm and free of fear until the day he raised his hand, then he was sold to Alabama.Come love come, the road lies low, the way is long and hard, I know. Come love come, the road lies free, I\\'ll wait for you in Tennessee. (Music)When I was 16, found my bloom and found my man, we jumped the broom. Come love come, the road lies free, I\\'ll wait for you in Tennessee. (Music)When I was 16, found my bloom and found my man, we jumped the broom. We pledged each other the rest of our lives and on Saturday nights we were man and wife.Come love come, the road lies low, the way is long and hard, I know. Come love come, the road lies free, I\\'ll wait for you in Tennessee. (Music)When I was 16, found my bloom and found my man, we jumped the broom. We pledged each other the rest of our lives and on Saturday nights we were man and wife.Come love come, the road lies low, the way is long and hard, I know. Come love come, the road lies free, I\\'ll wait for you in Tennessee. (Music)When I was 18, bugles called and boys in blue came o\\'er the wall. Come love come, the road lies free, I\\'ll wait for you in Tennessee. (Music)When I was 18, bugles called and boys in blue came o\\'er the wall. I took my chance and followed free, they led the way to Tennessee.Come love come, the road lies low, the way is long and hard, I know. Come love come, the road lies free, I\\'ll wait for you in Tennessee. (Music)When I was 18, bugles called and boys in blue came o\\'er the wall. I took my chance and followed free, they led the way to Tennessee.Come love come, the road lies low, the way is long and hard, I know. Come love come, the road lies free, I\\'ll wait for you in Tennessee. (Music)Now here I sit in a tiny shack with 13 others at my back. Come love come, the road lies free, I\\'ll wait for you in Tennessee. (Music)Now here I sit in a tiny shack with 13 others at my back. I\\'ve sent you word, so all I can do is wait and wait and wait and wait and wait and wait for you.Come love come, the road lies low, the way is long and hard, I know. Come love come, the road lies free, I\\'ll wait for you in Tennessee.Come love come, the road lies low, the way is long and hard, I know. (Music)Now here I sit in a tiny shack with 13 others at my back. I\\'ve sent you word, so all I can do is wait and wait and wait and wait and wait and wait for you.Come love come, the road lies low, the way is long and hard, I know. Come love come, the road lies free, I\\'ll wait for you in Tennessee.Come love come, the road lies low, the way is long and hard, I know. Come love come, the road lies free, I\\'ll wait for you in Tennessee.Oh, oh, oh. I\\'ve sent you word, so all I can do is wait and wait and wait and wait and wait and wait for you.Come love come, the road lies low, the way is long and hard, I know. Come love come, the road lies free, I\\'ll wait for you in Tennessee.Come love come, the road lies low, the way is long and hard, I know. Come love come, the road lies free, I\\'ll wait for you in Tennessee.Oh, oh, oh. Whoa ... oh I\\'ll wait for you.I\\'ll wait for you.'"
      ]
     },
     "execution_count": 77,
     "metadata": {},
     "output_type": "execute_result"
    }
   ],
   "source": [
    "ind=1134\n",
    "print(love_snippets.iloc[ind].n_love_sents)\n",
    "love_snippets.iloc[ind].love"
   ]
  },
  {
   "cell_type": "markdown",
   "metadata": {},
   "source": [
    "Let me center and normalize the 2 topic results:"
   ]
  },
  {
   "cell_type": "code",
   "execution_count": 101,
   "metadata": {
    "ExecuteTime": {
     "end_time": "2019-11-08T23:47:36.274135Z",
     "start_time": "2019-11-08T23:47:35.603704Z"
    }
   },
   "outputs": [
    {
     "data": {
      "image/png": "[encoded data removed]",
      "text/plain": [
       "<Figure size 360x360 with 1 Axes>"
      ]
     },
     "metadata": {
      "needs_background": "light"
     },
     "output_type": "display_data"
    }
   ],
   "source": [
    "x_mean, y_mean = df.mean()\n",
    "# x_mean, y_mean = 0,0\n",
    "\n",
    "df2=df.copy()\n",
    "for i,row in df.iterrows():\n",
    "    x, y = row[0].copy()-x_mean,row[1].copy()-y_mean\n",
    "    df2.iloc[i,0]=x/(x**2+y**2)**0.5\n",
    "    df2.iloc[i,1]=y/(x**2+y**2)**0.5\n",
    "df2.plot.scatter(x=0,y=1,figsize=(5,5));"
   ]
  },
  {
   "cell_type": "code",
   "execution_count": 158,
   "metadata": {
    "ExecuteTime": {
     "end_time": "2019-11-09T00:24:40.140020Z",
     "start_time": "2019-11-09T00:24:38.944511Z"
    },
    "scrolled": true
   },
   "outputs": [
    {
     "data": {
      "image/png": "[encoded data removed]",
      "text/plain": [
       "<Figure size 288x288 with 1 Axes>"
      ]
     },
     "metadata": {
      "needs_background": "light"
     },
     "output_type": "display_data"
    }
   ],
   "source": [
    "\n",
    "num_clusters = 4\n",
    "km = KMeans(n_clusters=num_clusters,random_state=10,n_init=300,verbose=0) # n_init, number of times the K-mean algorithm will run\n",
    "km.fit(df2)\n",
    "km.labels_\n",
    "cmap = {0:'r',1:'g',2:'b',3:'c',4:'m',5:'y',6:'orange',7:'k',8:'aqua',9:'yellow'}\n",
    "col = pd.DataFrame(np.array([km.labels_])).transpose()[0].map(cmap)\n",
    "df2.plot.scatter(x=0,y=1,figsize=(4,4), c=col, alpha = 0.5);\n",
    "plt.savefig(\"reports/figures/figure_1.png\")"
   ]
  },
  {
   "cell_type": "code",
   "execution_count": null,
   "metadata": {},
   "outputs": [],
   "source": []
  },
  {
   "cell_type": "code",
   "execution_count": null,
   "metadata": {},
   "outputs": [],
   "source": []
  },
  {
   "cell_type": "code",
   "execution_count": null,
   "metadata": {},
   "outputs": [],
   "source": []
  },
  {
   "cell_type": "code",
   "execution_count": 23,
   "metadata": {
    "ExecuteTime": {
     "end_time": "2019-11-08T21:52:18.288474Z",
     "start_time": "2019-11-08T21:52:18.246791Z"
    }
   },
   "outputs": [],
   "source": [
    "from sklearn.feature_extraction.text import TfidfVectorizer"
   ]
  },
  {
   "cell_type": "code",
   "execution_count": 24,
   "metadata": {
    "ExecuteTime": {
     "end_time": "2019-11-08T21:52:18.510106Z",
     "start_time": "2019-11-08T21:52:18.291331Z"
    }
   },
   "outputs": [
    {
     "data": {
      "text/plain": [
       "(1175, 14962)"
      ]
     },
     "execution_count": 24,
     "metadata": {},
     "output_type": "execute_result"
    }
   ],
   "source": [
    "tfidf1 = TfidfVectorizer(stop_words='english')\n",
    "doc_words_tfidf1 = tfidf1.fit_transform(love_snippets.love)\n",
    "doc_words_tfidf1.shape"
   ]
  },
  {
   "cell_type": "code",
   "execution_count": 25,
   "metadata": {
    "ExecuteTime": {
     "end_time": "2019-11-08T21:52:18.701116Z",
     "start_time": "2019-11-08T21:52:18.511815Z"
    }
   },
   "outputs": [
    {
     "name": "stdout",
     "output_type": "stream",
     "text": [
      "2 topics variance ratios: [0.00422015 0.00368508]\n",
      "3 topics variance ratios: [0.00422015 0.00368667 0.00318943]\n",
      "4 topics variance ratios: [0.00422015 0.00368298 0.00322808 0.00308318]\n",
      "5 topics variance ratios: [0.00422015 0.00368723 0.00320823 0.00312527 0.00287752]\n",
      "6 topics variance ratios: [0.00422015 0.0036931  0.00324217 0.00313139 0.00288962 0.00285928]\n"
     ]
    }
   ],
   "source": [
    "tfidf_lsa=[]\n",
    "tfidf_doc_topic=[]\n",
    "for i in range(2,7):\n",
    "    tfidf_lsa.append(TruncatedSVD(i))\n",
    "    tfidf_doc_topic.append(tfidf_lsa[i-2].fit_transform(doc_words_tfidf1))\n",
    "    print(int(i),'topics variance ratios:',tfidf_lsa[i-2].explained_variance_ratio_)"
   ]
  },
  {
   "cell_type": "code",
   "execution_count": 26,
   "metadata": {
    "ExecuteTime": {
     "end_time": "2019-11-08T21:52:18.900169Z",
     "start_time": "2019-11-08T21:52:18.703858Z"
    },
    "scrolled": true
   },
   "outputs": [
    {
     "data": {
      "image/png": "[encoded data removed]",
      "text/plain": [
       "<Figure size 432x288 with 1 Axes>"
      ]
     },
     "metadata": {
      "needs_background": "light"
     },
     "output_type": "display_data"
    }
   ],
   "source": [
    "plt.scatter(tfidf_doc_topic[0][:,0],tfidf_doc_topic[0][:,1], alpha = 0.5);"
   ]
  },
  {
   "cell_type": "code",
   "execution_count": 28,
   "metadata": {
    "ExecuteTime": {
     "end_time": "2019-11-08T21:52:19.025059Z",
     "start_time": "2019-11-08T21:52:18.976571Z"
    }
   },
   "outputs": [
    {
     "data": {
      "text/plain": [
       "KMeans(algorithm='auto', copy_x=True, init='k-means++', max_iter=300,\n",
       "       n_clusters=2, n_init=1, n_jobs=None, precompute_distances='auto',\n",
       "       random_state=10, tol=0.0001, verbose=0)"
      ]
     },
     "execution_count": 28,
     "metadata": {},
     "output_type": "execute_result"
    }
   ],
   "source": [
    "num_clusters = 2\n",
    "km = KMeans(n_clusters=num_clusters,random_state=10,n_init=1) # n_init, number of times the K-mean algorithm will run\n",
    "km.fit(tfidf_doc_topic[4])"
   ]
  },
  {
   "cell_type": "code",
   "execution_count": 29,
   "metadata": {
    "ExecuteTime": {
     "end_time": "2019-11-08T21:52:19.064010Z",
     "start_time": "2019-11-08T21:52:19.026835Z"
    }
   },
   "outputs": [
    {
     "data": {
      "text/plain": [
       "array([1, 0, 0, ..., 0, 0, 0], dtype=int32)"
      ]
     },
     "execution_count": 29,
     "metadata": {},
     "output_type": "execute_result"
    }
   ],
   "source": [
    "km.labels_"
   ]
  },
  {
   "cell_type": "code",
   "execution_count": 30,
   "metadata": {
    "ExecuteTime": {
     "end_time": "2019-11-08T21:52:19.110626Z",
     "start_time": "2019-11-08T21:52:19.066046Z"
    }
   },
   "outputs": [],
   "source": [
    "from sklearn.manifold import TSNE"
   ]
  },
  {
   "cell_type": "code",
   "execution_count": 31,
   "metadata": {
    "ExecuteTime": {
     "end_time": "2019-11-08T21:52:26.486274Z",
     "start_time": "2019-11-08T21:52:19.112442Z"
    }
   },
   "outputs": [
    {
     "name": "stdout",
     "output_type": "stream",
     "text": [
      "[t-SNE] Computing 91 nearest neighbors...\n",
      "[t-SNE] Indexed 1175 samples in 0.000s...\n",
      "[t-SNE] Computed neighbors for 1175 samples in 0.036s...\n",
      "[t-SNE] Computed conditional probabilities for sample 1000 / 1175\n",
      "[t-SNE] Computed conditional probabilities for sample 1175 / 1175\n",
      "[t-SNE] Mean sigma: 0.035314\n",
      "[t-SNE] KL divergence after 250 iterations with early exaggeration: 71.693253\n",
      "[t-SNE] KL divergence after 1000 iterations: 1.562115\n"
     ]
    }
   ],
   "source": [
    "model = TSNE(n_components=2, random_state=0,verbose=1)\n",
    "low_data = model.fit_transform(tfidf_doc_topic[4])"
   ]
  },
  {
   "cell_type": "code",
   "execution_count": 32,
   "metadata": {
    "ExecuteTime": {
     "end_time": "2019-11-08T21:52:26.526737Z",
     "start_time": "2019-11-08T21:52:26.488176Z"
    }
   },
   "outputs": [
    {
     "data": {
      "text/plain": [
       "1175"
      ]
     },
     "execution_count": 32,
     "metadata": {},
     "output_type": "execute_result"
    }
   ],
   "source": [
    "len(low_data)"
   ]
  },
  {
   "cell_type": "code",
   "execution_count": 33,
   "metadata": {
    "ExecuteTime": {
     "end_time": "2019-11-08T21:52:26.809544Z",
     "start_time": "2019-11-08T21:52:26.529100Z"
    }
   },
   "outputs": [
    {
     "ename": "NameError",
     "evalue": "name 'cycle' is not defined",
     "output_type": "error",
     "traceback": [
      "\u001b[0;31m---------------------------------------------------------------------------\u001b[0m",
      "\u001b[0;31mNameError\u001b[0m                                 Traceback (most recent call last)",
      "\u001b[0;32m<ipython-input-33-356ee02e0d91>\u001b[0m in \u001b[0;36m<module>\u001b[0;34m\u001b[0m\n\u001b[1;32m      2\u001b[0m \u001b[0;31m#target_names = digits.target_names\u001b[0m\u001b[0;34m\u001b[0m\u001b[0;34m\u001b[0m\u001b[0;34m\u001b[0m\u001b[0m\n\u001b[1;32m      3\u001b[0m \u001b[0;34m\u001b[0m\u001b[0m\n\u001b[0;32m----> 4\u001b[0;31m \u001b[0mcolors\u001b[0m \u001b[0;34m=\u001b[0m \u001b[0mcycle\u001b[0m\u001b[0;34m(\u001b[0m\u001b[0;34m[\u001b[0m\u001b[0;34m'r'\u001b[0m\u001b[0;34m,\u001b[0m\u001b[0;34m'g'\u001b[0m\u001b[0;34m,\u001b[0m\u001b[0;34m'b'\u001b[0m\u001b[0;34m,\u001b[0m\u001b[0;34m'c'\u001b[0m\u001b[0;34m,\u001b[0m\u001b[0;34m'm'\u001b[0m\u001b[0;34m,\u001b[0m\u001b[0;34m'y'\u001b[0m\u001b[0;34m,\u001b[0m\u001b[0;34m'orange'\u001b[0m\u001b[0;34m,\u001b[0m\u001b[0;34m'k'\u001b[0m\u001b[0;34m,\u001b[0m\u001b[0;34m'aqua'\u001b[0m\u001b[0;34m,\u001b[0m\u001b[0;34m'yellow'\u001b[0m\u001b[0;34m]\u001b[0m\u001b[0;34m)\u001b[0m\u001b[0;34m\u001b[0m\u001b[0;34m\u001b[0m\u001b[0m\n\u001b[0m\u001b[1;32m      5\u001b[0m \u001b[0mtarget_ids\u001b[0m \u001b[0;34m=\u001b[0m \u001b[0mrange\u001b[0m\u001b[0;34m(\u001b[0m\u001b[0mlen\u001b[0m\u001b[0;34m(\u001b[0m\u001b[0mtarget_names\u001b[0m\u001b[0;34m)\u001b[0m\u001b[0;34m)\u001b[0m\u001b[0;34m\u001b[0m\u001b[0;34m\u001b[0m\u001b[0m\n\u001b[1;32m      6\u001b[0m \u001b[0mplt\u001b[0m\u001b[0;34m.\u001b[0m\u001b[0mfigure\u001b[0m\u001b[0;34m(\u001b[0m\u001b[0mdpi\u001b[0m\u001b[0;34m=\u001b[0m\u001b[0;36m150\u001b[0m\u001b[0;34m)\u001b[0m\u001b[0;34m\u001b[0m\u001b[0;34m\u001b[0m\u001b[0m\n",
      "\u001b[0;31mNameError\u001b[0m: name 'cycle' is not defined"
     ]
    }
   ],
   "source": [
    "target = km.labels_\n",
    "#target_names = digits.target_names\n",
    "\n",
    "colors = cycle(['r','g','b','c','m','y','orange','k','aqua','yellow'])\n",
    "target_ids = range(len(target_names))\n",
    "plt.figure(dpi=150)\n",
    "for i, c, label in zip(target_ids, colors, target_names):\n",
    "    plt.scatter(low_data[target == i, 0], low_data[target == i, 1], c=c, label=label, s=15, alpha=1)\n",
    "plt.legend(fontsize=10, loc='upper left', frameon=True, facecolor='#FFFFFF', edgecolor='#333333')\n",
    "plt.xlim(-100,100);\n",
    "plt.title(\"Digit Clusters with TSNE\", fontsize=12)\n",
    "plt.ylabel(\"Junk TSNE Axis 2\", fontsize=12)\n",
    "plt.xlabel(\"Junk TSNE Axis 1\", fontsize=12);\n",
    "plt.xticks(fontsize=10)\n",
    "plt.yticks(fontsize=10);"
   ]
  },
  {
   "cell_type": "code",
   "execution_count": null,
   "metadata": {},
   "outputs": [],
   "source": []
  }
 ],
 "metadata": {
  "kernelspec": {
   "display_name": "Python [conda env:metis] *",
   "language": "python",
   "name": "conda-env-metis-py"
  },
  "language_info": {
   "codemirror_mode": {
    "name": "ipython",
    "version": 3
   },
   "file_extension": ".py",
   "mimetype": "text/x-python",
   "name": "python",
   "nbconvert_exporter": "python",
   "pygments_lexer": "ipython3",
   "version": "3.7.3"
  },
  "toc": {
   "base_numbering": 1,
   "nav_menu": {},
   "number_sections": true,
   "sideBar": true,
   "skip_h1_title": false,
   "title_cell": "Table of Contents",
   "title_sidebar": "Contents",
   "toc_cell": false,
   "toc_position": {},
   "toc_section_display": true,
   "toc_window_display": false
  }
 },
 "nbformat": 4,
 "nbformat_minor": 2
}
