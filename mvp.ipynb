{
 "cells": [
  {
   "cell_type": "markdown",
   "metadata": {},
   "source": []
  },
  {
   "cell_type": "code",
   "execution_count": 1,
   "metadata": {
    "ExecuteTime": {
     "end_time": "2019-11-08T00:22:58.212386Z",
     "start_time": "2019-11-08T00:22:56.192898Z"
    }
   },
   "outputs": [],
   "source": [
    "import pandas as pd\n",
    "import numpy as np\n",
    "import nltk\n",
    "from nltk.tokenize import sent_tokenize\n",
    "from nltk.tokenize import punkt\n",
    "from sklearn.feature_extraction.text import CountVectorizer\n",
    "from sklearn.metrics.pairwise import cosine_similarity\n",
    "from src.functions import get_sents\n",
    "from sklearn.decomposition import TruncatedSVD\n",
    "import matplotlib.pylab as plt\n",
    "%matplotlib inline"
   ]
  },
  {
   "cell_type": "markdown",
   "metadata": {},
   "source": [
    "See https://stackoverflow.com/questions/5364050/reloading-submodules-in-ipython\n",
    "for explanation of next cell:"
   ]
  },
  {
   "cell_type": "code",
   "execution_count": 2,
   "metadata": {
    "ExecuteTime": {
     "end_time": "2019-11-08T00:23:00.156220Z",
     "start_time": "2019-11-08T00:23:00.117054Z"
    }
   },
   "outputs": [],
   "source": [
    "%load_ext autoreload\n",
    "%autoreload 2\n",
    "#%autoreload?"
   ]
  },
  {
   "cell_type": "code",
   "execution_count": 3,
   "metadata": {
    "ExecuteTime": {
     "end_time": "2019-11-08T00:23:01.261070Z",
     "start_time": "2019-11-08T00:23:00.933961Z"
    }
   },
   "outputs": [
    {
     "name": "stdout",
     "output_type": "stream",
     "text": [
      "m_df: (2550, 17)\n",
      "t_df: (2467, 2)\n"
     ]
    }
   ],
   "source": [
    "raw_data_path = './data/raw/ted-talks/'\n",
    "meta_data_filename = 'ted_main.csv'\n",
    "transcripts_filename = 'transcripts.csv'\n",
    "m_df = pd.read_csv(raw_data_path+meta_data_filename)\n",
    "print('m_df:',m_df.shape)\n",
    "t_df = pd.read_csv(raw_data_path+transcripts_filename)\n",
    "print('t_df:',t_df.shape)"
   ]
  },
  {
   "cell_type": "markdown",
   "metadata": {},
   "source": [
    "The dataframe t_df has all the transcripts.  I'll first break out the talks that contain the word love."
   ]
  },
  {
   "cell_type": "code",
   "execution_count": 4,
   "metadata": {
    "ExecuteTime": {
     "end_time": "2019-11-08T00:23:05.678629Z",
     "start_time": "2019-11-08T00:23:05.448810Z"
    }
   },
   "outputs": [
    {
     "data": {
      "text/plain": [
       "(1175, 2)"
      ]
     },
     "execution_count": 4,
     "metadata": {},
     "output_type": "execute_result"
    }
   ],
   "source": [
    "love=t_df[t_df['transcript'].str.contains('love',case=False)]\n",
    "love.shape"
   ]
  },
  {
   "cell_type": "markdown",
   "metadata": {},
   "source": [
    "The first talk that contains the word love:"
   ]
  },
  {
   "cell_type": "code",
   "execution_count": 5,
   "metadata": {
    "ExecuteTime": {
     "end_time": "2019-11-08T00:23:08.612701Z",
     "start_time": "2019-11-08T00:23:08.576416Z"
    }
   },
   "outputs": [
    {
     "data": {
      "text/plain": [
       "'Good morning. How are you?(Laughter)It\\'s been great, hasn\\'t it? I\\'ve been blown away by the whole thing. In fact, I\\'m leaving.(Laughter)There have been three themes running through the conference which are relevant to what I want to talk about. One is the extraordinary evidence of human creativity in all of the presentations that we\\'ve had and in all of the people here. Just the variety of it and the range of it. The second is that it\\'s put us in a place where we have no idea what\\'s going to happen, in terms of the future. No idea how this may play out.I have an interest in education. Actually, what I find is everybody has an interest in education. Don\\'t you? I find this very interesting. If you\\'re at a dinner party, and you say you work in education — Actually, you\\'re not often at dinner parties, frankly.(Laughter)If you work in education, you\\'re not asked.(Laughter)And you\\'re never asked back, curiously. That\\'s strange to me. But if you are, and you say to somebody, you know, they say, \"What do you do?\" and you say you work in education, you can see the blood run from their face. They\\'re like, \"Oh my God,\" you know, \"Why me?\"(Laughter)\"My one night out all week.\"(Laughter)But if you ask about their education, they pin you to the wall. Because it\\'s one of those things that goes deep with people, am I right? Like religion, and money and other things. So I have a big interest in education, and I think we all do. We have a huge vested interest in it, partly because it\\'s education that\\'s meant to take us into this future that we can\\'t grasp. If you think of it, children starting school this year will be retiring in 2065. Nobody has a clue, despite all the expertise that\\'s been on parade for the past four days, what the world will look like in five years\\' time. And yet we\\'re meant to be educating them for it. So the unpredictability, I think, is extraordinary.And the third part of this is that we\\'ve all agreed, nonetheless, on the really extraordinary capacities that children have — their capacities for innovation. I mean, Sirena last night was a marvel, wasn\\'t she? Just seeing what she could do. And she\\'s exceptional, but I think she\\'s not, so to speak, exceptional in the whole of childhood. What you have there is a person of extraordinary dedication who found a talent. And my contention is, all kids have tremendous talents. And we squander them, pretty ruthlessly.So I want to talk about education and I want to talk about creativity. My contention is that creativity now is as important in education as literacy, and we should treat it with the same status.(Applause) Thank you.(Applause)That was it, by the way. Thank you very much.(Laughter)So, 15 minutes left.(Laughter)Well, I was born... no.(Laughter)I heard a great story recently — I love telling it — of a little girl who was in a drawing lesson. She was six, and she was at the back, drawing, and the teacher said this girl hardly ever paid attention, and in this drawing lesson, she did. The teacher was fascinated. She went over to her, and she said, \"What are you drawing?\" And the girl said, \"I\\'m drawing a picture of God.\" And the teacher said, \"But nobody knows what God looks like.\" And the girl said, \"They will, in a minute.\"(Laughter)When my son was four in England — Actually, he was four everywhere, to be honest.(Laughter)If we\\'re being strict about it, wherever he went, he was four that year. He was in the Nativity play. Do you remember the story?(Laughter)No, it was big, it was a big story. Mel Gibson did the sequel, you may have seen it.(Laughter)\"Nativity II.\" But James got the part of Joseph, which we were thrilled about. We considered this to be one of the lead parts. We had the place crammed full of agents in T-shirts: \"James Robinson IS Joseph!\" (Laughter) He didn\\'t have to speak, but you know the bit where the three kings come in? They come in bearing gifts, gold, frankincense and myrrh. This really happened. We were sitting there and I think they just went out of sequence, because we talked to the little boy afterward and we said, \"You OK with that?\" And he said, \"Yeah, why? Was that wrong?\" They just switched. The three boys came in, four-year-olds with tea towels on their heads, and they put these boxes down, and the first boy said, \"I bring you gold.\" And the second boy said, \"I bring you myrrh.\" And the third boy said, \"Frank sent this.\"(Laughter)What these things have in common is that kids will take a chance. If they don\\'t know, they\\'ll have a go. Am I right? They\\'re not frightened of being wrong. I don\\'t mean to say that being wrong is the same thing as being creative. What we do know is, if you\\'re not prepared to be wrong, you\\'ll never come up with anything original — if you\\'re not prepared to be wrong. And by the time they get to be adults, most kids have lost that capacity. They have become frightened of being wrong. And we run our companies like this. We stigmatize mistakes. And we\\'re now running national education systems where mistakes are the worst thing you can make. And the result is that we are educating people out of their creative capacities.Picasso once said this, he said that all children are born artists. The problem is to remain an artist as we grow up. I believe this passionately, that we don\\'t grow into creativity, we grow out of it. Or rather, we get educated out of it. So why is this?I lived in Stratford-on-Avon until about five years ago. In fact, we moved from Stratford to Los Angeles. So you can imagine what a seamless transition that was.(Laughter)Actually, we lived in a place called Snitterfield, just outside Stratford, which is where Shakespeare\\'s father was born. Are you struck by a new thought? I was. You don\\'t think of Shakespeare having a father, do you? Do you? Because you don\\'t think of Shakespeare being a child, do you? Shakespeare being seven? I never thought of it. I mean, he was seven at some point. He was in somebody\\'s English class, wasn\\'t he?(Laughter)How annoying would that be?(Laughter)\"Must try harder.\"(Laughter)Being sent to bed by his dad, you know, to Shakespeare, \"Go to bed, now! And put the pencil down.\"(Laughter)\"And stop speaking like that.\"(Laughter)\"It\\'s confusing everybody.\"(Laughter)Anyway, we moved from Stratford to Los Angeles, and I just want to say a word about the transition. My son didn\\'t want to come. I\\'ve got two kids; he\\'s 21 now, my daughter\\'s 16. He didn\\'t want to come to Los Angeles. He loved it, but he had a girlfriend in England. This was the love of his life, Sarah. He\\'d known her for a month.(Laughter)Mind you, they\\'d had their fourth anniversary, because it\\'s a long time when you\\'re 16. He was really upset on the plane, he said, \"I\\'ll never find another girl like Sarah.\" And we were rather pleased about that, frankly —(Laughter)Because she was the main reason we were leaving the country.(Laughter)But something strikes you when you move to America and travel around the world: Every education system on Earth has the same hierarchy of subjects. Every one. Doesn\\'t matter where you go. You\\'d think it would be otherwise, but it isn\\'t. At the top are mathematics and languages, then the humanities, and at the bottom are the arts. Everywhere on Earth. And in pretty much every system too, there\\'s a hierarchy within the arts. Art and music are normally given a higher status in schools than drama and dance. There isn\\'t an education system on the planet that teaches dance everyday to children the way we teach them mathematics. Why? Why not? I think this is rather important. I think math is very important, but so is dance. Children dance all the time if they\\'re allowed to, we all do. We all have bodies, don\\'t we? Did I miss a meeting?(Laughter)Truthfully, what happens is, as children grow up, we start to educate them progressively from the waist up. And then we focus on their heads. And slightly to one side.If you were to visit education, as an alien, and say \"What\\'s it for, public education?\" I think you\\'d have to conclude, if you look at the output, who really succeeds by this, who does everything that they should, who gets all the brownie points, who are the winners — I think you\\'d have to conclude the whole purpose of public education throughout the world is to produce university professors. Isn\\'t it? They\\'re the people who come out the top. And I used to be one, so there.(Laughter)And I like university professors, but you know, we shouldn\\'t hold them up as the high-water mark of all human achievement. They\\'re just a form of life, another form of life. But they\\'re rather curious, and I say this out of affection for them. There\\'s something curious about professors in my experience — not all of them, but typically, they live in their heads. They live up there, and slightly to one side. They\\'re disembodied, you know, in a kind of literal way. They look upon their body as a form of transport for their heads.(Laughter)Don\\'t they? It\\'s a way of getting their head to meetings.(Laughter)If you want real evidence of out-of-body experiences, get yourself along to a residential conference of senior academics, and pop into the discotheque on the final night.(Laughter)And there, you will see it. Grown men and women writhing uncontrollably, off the beat.(Laughter)Waiting until it ends so they can go home and write a paper about it.(Laughter)Our education system is predicated on the idea of academic ability. And there\\'s a reason. Around the world, there were no public systems of education, really, before the 19th century. They all came into being to meet the needs of industrialism. So the hierarchy is rooted on two ideas.Number one, that the most useful subjects for work are at the top. So you were probably steered benignly away from things at school when you were a kid, things you liked, on the grounds that you would never get a job doing that. Is that right? Don\\'t do music, you\\'re not going to be a musician; don\\'t do art, you won\\'t be an artist. Benign advice — now, profoundly mistaken. The whole world is engulfed in a revolution.And the second is academic ability, which has really come to dominate our view of intelligence, because the universities designed the system in their image. If you think of it, the whole system of public education around the world is a protracted process of university entrance. And the consequence is that many highly-talented, brilliant, creative people think they\\'re not, because the thing they were good at at school wasn\\'t valued, or was actually stigmatized. And I think we can\\'t afford to go on that way.In the next 30 years, according to UNESCO, more people worldwide will be graduating through education than since the beginning of history. More people, and it\\'s the combination of all the things we\\'ve talked about — technology and its transformation effect on work, and demography and the huge explosion in population.Suddenly, degrees aren\\'t worth anything. Isn\\'t that true? When I was a student, if you had a degree, you had a job. If you didn\\'t have a job, it\\'s because you didn\\'t want one. And I didn\\'t want one, frankly. (Laughter) But now kids with degrees are often heading home to carry on playing video games, because you need an MA where the previous job required a BA, and now you need a PhD for the other. It\\'s a process of academic inflation. And it indicates the whole structure of education is shifting beneath our feet. We need to radically rethink our view of intelligence.We know three things about intelligence. One, it\\'s diverse. We think about the world in all the ways that we experience it. We think visually, we think in sound, we think kinesthetically. We think in abstract terms, we think in movement. Secondly, intelligence is dynamic. If you look at the interactions of a human brain, as we heard yesterday from a number of presentations, intelligence is wonderfully interactive. The brain isn\\'t divided into compartments. In fact, creativity — which I define as the process of having original ideas that have value — more often than not comes about through the interaction of different disciplinary ways of seeing things.By the way, there\\'s a shaft of nerves that joins the two halves of the brain called the corpus callosum. It\\'s thicker in women. Following off from Helen yesterday, this is probably why women are better at multi-tasking. Because you are, aren\\'t you? There\\'s a raft of research, but I know it from my personal life. If my wife is cooking a meal at home — which is not often, thankfully.(Laughter)No, she\\'s good at some things, but if she\\'s cooking, she\\'s dealing with people on the phone, she\\'s talking to the kids, she\\'s painting the ceiling, she\\'s doing open-heart surgery over here. If I\\'m cooking, the door is shut, the kids are out, the phone\\'s on the hook, if she comes in I get annoyed. I say, \"Terry, please, I\\'m trying to fry an egg in here.\"(Laughter)\"Give me a break.\"(Laughter)Actually, do you know that old philosophical thing, if a tree falls in a forest and nobody hears it, did it happen? Remember that old chestnut? I saw a great t-shirt recently, which said, \"If a man speaks his mind in a forest, and no woman hears him, is he still wrong?\"(Laughter)And the third thing about intelligence is, it\\'s distinct. I\\'m doing a new book at the moment called \"Epiphany,\" which is based on a series of interviews with people about how they discovered their talent. I\\'m fascinated by how people got to be there. It\\'s really prompted by a conversation I had with a wonderful woman who maybe most people have never heard of, Gillian Lynne. Have you heard of her? Some have. She\\'s a choreographer, and everybody knows her work. She did \"Cats\" and \"Phantom of the Opera.\" She\\'s wonderful. I used to be on the board of The Royal Ballet, as you can see. Anyway, Gillian and I had lunch one day and I said, \"How did you get to be a dancer?\" It was interesting. When she was at school, she was really hopeless. And the school, in the \\'30s, wrote to her parents and said, \"We think Gillian has a learning disorder.\" She couldn\\'t concentrate; she was fidgeting. I think now they\\'d say she had ADHD. Wouldn\\'t you? But this was the 1930s, and ADHD hadn\\'t been invented at this point. It wasn\\'t an available condition.(Laughter)People weren\\'t aware they could have that.(Laughter)Anyway, she went to see this specialist. So, this oak-paneled room, and she was there with her mother, and she was led and sat on this chair at the end, and she sat on her hands for 20 minutes while this man talked to her mother about the problems Gillian was having at school. Because she was disturbing people; her homework was always late; and so on, little kid of eight. In the end, the doctor went and sat next to Gillian, and said, \"I\\'ve listened to all these things your mother\\'s told me, I need to speak to her privately. Wait here. We\\'ll be back; we won\\'t be very long,\" and they went and left her.But as they went out of the room, he turned on the radio that was sitting on his desk. And when they got out, he said to her mother, \"Just stand and watch her.\" And the minute they left the room, she was on her feet, moving to the music. And they watched for a few minutes and he turned to her mother and said, \"Mrs. Lynne, Gillian isn\\'t sick; she\\'s a dancer. Take her to a dance school.\"I said, \"What happened?\" She said, \"She did. I can\\'t tell you how wonderful it was. We walked in this room and it was full of people like me. People who couldn\\'t sit still. People who had to move to think.\" Who had to move to think. They did ballet, they did tap, jazz; they did modern; they did contemporary. She was eventually auditioned for the Royal Ballet School; she became a soloist; she had a wonderful career at the Royal Ballet. She eventually graduated from the Royal Ballet School, founded the Gillian Lynne Dance Company, met Andrew Lloyd Webber. She\\'s been responsible for some of the most successful musical theater productions in history, she\\'s given pleasure to millions, and she\\'s a multi-millionaire. Somebody else might have put her on medication and told her to calm down.(Applause)What I think it comes to is this: Al Gore spoke the other night about ecology and the revolution that was triggered by Rachel Carson. I believe our only hope for the future is to adopt a new conception of human ecology, one in which we start to reconstitute our conception of the richness of human capacity. Our education system has mined our minds in the way that we strip-mine the earth: for a particular commodity. And for the future, it won\\'t serve us. We have to rethink the fundamental principles on which we\\'re educating our children.There was a wonderful quote by Jonas Salk, who said, \"If all the insects were to disappear from the Earth, within 50 years all life on Earth would end. If all human beings disappeared from the Earth, within 50 years all forms of life would flourish.\" And he\\'s right.What TED celebrates is the gift of the human imagination. We have to be careful now that we use this gift wisely and that we avert some of the scenarios that we\\'ve talked about. And the only way we\\'ll do it is by seeing our creative capacities for the richness they are and seeing our children for the hope that they are. And our task is to educate their whole being, so they can face this future. By the way — we may not see this future, but they will. And our job is to help them make something of it.Thank you very much.(Applause)'"
      ]
     },
     "execution_count": 5,
     "metadata": {},
     "output_type": "execute_result"
    }
   ],
   "source": [
    "love.iloc[0,0]"
   ]
  },
  {
   "cell_type": "markdown",
   "metadata": {},
   "source": [
    "I was getting an error message that googling suggested the following line of code would cure:  It appears that it only had to be run once on my machine to provide the functionality it delivers."
   ]
  },
  {
   "cell_type": "code",
   "execution_count": 6,
   "metadata": {
    "ExecuteTime": {
     "end_time": "2019-11-08T00:23:11.032587Z",
     "start_time": "2019-11-08T00:23:10.823941Z"
    },
    "scrolled": true
   },
   "outputs": [
    {
     "name": "stderr",
     "output_type": "stream",
     "text": [
      "[nltk_data] Downloading package punkt to /Users/sean/nltk_data...\n",
      "[nltk_data]   Package punkt is already up-to-date!\n"
     ]
    },
    {
     "data": {
      "text/plain": [
       "True"
      ]
     },
     "execution_count": 6,
     "metadata": {},
     "output_type": "execute_result"
    }
   ],
   "source": [
    "nltk.download('punkt')"
   ]
  },
  {
   "cell_type": "markdown",
   "metadata": {},
   "source": [
    "Ok, I'm going to want the sentence that contains the word and some context so I'd be able to tell what the author is talking about."
   ]
  },
  {
   "cell_type": "code",
   "execution_count": 7,
   "metadata": {
    "ExecuteTime": {
     "end_time": "2019-11-08T00:23:20.201786Z",
     "start_time": "2019-11-08T00:23:20.145974Z"
    },
    "scrolled": false
   },
   "outputs": [
    {
     "data": {
      "text/plain": [
       "'(Laughter)Well, I was born... no. (Laughter)I heard a great story recently — I love telling it — of a little girl who was in a drawing lesson. She was six, and she was at the back, drawing, and the teacher said this girl hardly ever paid attention, and in this drawing lesson, she did.'"
      ]
     },
     "execution_count": 7,
     "metadata": {},
     "output_type": "execute_result"
    }
   ],
   "source": [
    "# Tokenize into sentences\n",
    "df=pd.DataFrame(sent_tokenize(love.iloc[0,0]))\n",
    "# Find only those sentences that contain the word love\n",
    "df2=df[df[0].str.contains('love',case=False)]\n",
    "# Get from 2 sentences before to 2 sentences after\n",
    "df.iloc[df2.iloc[0].name-2:df2.iloc[0].name+2][0].str.cat(sep=' ')\n"
   ]
  },
  {
   "cell_type": "markdown",
   "metadata": {},
   "source": [
    "Now I'll generalize that to find all the context snippets containing the word love.  I've placed this function into the file src/functions.py."
   ]
  },
  {
   "cell_type": "code",
   "execution_count": 8,
   "metadata": {
    "ExecuteTime": {
     "end_time": "2019-11-08T00:23:39.711159Z",
     "start_time": "2019-11-08T00:23:31.914624Z"
    },
    "scrolled": false
   },
   "outputs": [
    {
     "name": "stdout",
     "output_type": "stream",
     "text": [
      "(1175, 4)\n"
     ]
    },
    {
     "data": {
      "text/plain": [
       "Index(['transcript', 'url', 'n_love_sents', 'love'], dtype='object')"
      ]
     },
     "execution_count": 8,
     "metadata": {},
     "output_type": "execute_result"
    }
   ],
   "source": [
    "love_snippets = get_sents(love,'love')\n",
    "print(love_snippets.shape)\n",
    "love_snippets.columns"
   ]
  },
  {
   "cell_type": "code",
   "execution_count": 76,
   "metadata": {
    "ExecuteTime": {
     "end_time": "2019-11-08T00:57:50.616434Z",
     "start_time": "2019-11-08T00:57:50.581488Z"
    }
   },
   "outputs": [
    {
     "data": {
      "text/plain": [
       "1.0     512\n",
       "2.0     260\n",
       "3.0     145\n",
       "4.0     101\n",
       "5.0      55\n",
       "6.0      32\n",
       "7.0      16\n",
       "8.0      10\n",
       "13.0      9\n",
       "10.0      6\n",
       "12.0      5\n",
       "14.0      4\n",
       "9.0       4\n",
       "11.0      3\n",
       "17.0      2\n",
       "19.0      2\n",
       "15.0      2\n",
       "26.0      1\n",
       "45.0      1\n",
       "47.0      1\n",
       "18.0      1\n",
       "16.0      1\n",
       "29.0      1\n",
       "46.0      1\n",
       "Name: n_love_sents, dtype: int64"
      ]
     },
     "execution_count": 76,
     "metadata": {},
     "output_type": "execute_result"
    }
   ],
   "source": [
    "love_snippets.n_love_sents.value_counts()\n",
    "#Note value are not in order within value_counts"
   ]
  },
  {
   "cell_type": "code",
   "execution_count": 12,
   "metadata": {
    "ExecuteTime": {
     "end_time": "2019-11-08T00:24:07.663770Z",
     "start_time": "2019-11-08T00:24:07.622942Z"
    }
   },
   "outputs": [
    {
     "data": {
      "text/html": [
       "<div>\n",
       "<style scoped>\n",
       "    .dataframe tbody tr th:only-of-type {\n",
       "        vertical-align: middle;\n",
       "    }\n",
       "\n",
       "    .dataframe tbody tr th {\n",
       "        vertical-align: top;\n",
       "    }\n",
       "\n",
       "    .dataframe thead th {\n",
       "        text-align: right;\n",
       "    }\n",
       "</style>\n",
       "<table border=\"1\" class=\"dataframe\">\n",
       "  <thead>\n",
       "    <tr style=\"text-align: right;\">\n",
       "      <th></th>\n",
       "      <th>transcript</th>\n",
       "      <th>url</th>\n",
       "      <th>n_love_sents</th>\n",
       "      <th>love</th>\n",
       "    </tr>\n",
       "  </thead>\n",
       "  <tbody>\n",
       "    <tr>\n",
       "      <td>2276</td>\n",
       "      <td>OK, so today I want to talk about how we talk ...</td>\n",
       "      <td>https://www.ted.com/talks/mandy_len_catron_a_b...</td>\n",
       "      <td>46.0</td>\n",
       "      <td>OK, so today I want to talk about how we talk ...</td>\n",
       "    </tr>\n",
       "  </tbody>\n",
       "</table>\n",
       "</div>"
      ],
      "text/plain": [
       "                                             transcript  \\\n",
       "2276  OK, so today I want to talk about how we talk ...   \n",
       "\n",
       "                                                    url  n_love_sents  \\\n",
       "2276  https://www.ted.com/talks/mandy_len_catron_a_b...          46.0   \n",
       "\n",
       "                                                   love  \n",
       "2276  OK, so today I want to talk about how we talk ...  "
      ]
     },
     "execution_count": 12,
     "metadata": {},
     "output_type": "execute_result"
    }
   ],
   "source": [
    "love_snippets[love_snippets.n_love_sents==46]"
   ]
  },
  {
   "cell_type": "code",
   "execution_count": 13,
   "metadata": {
    "ExecuteTime": {
     "end_time": "2019-11-08T00:24:26.673450Z",
     "start_time": "2019-11-08T00:24:26.640139Z"
    }
   },
   "outputs": [],
   "source": [
    "# love_snippets.loc[2276].love"
   ]
  },
  {
   "cell_type": "markdown",
   "metadata": {},
   "source": [
    "Let's do topic modeling for "
   ]
  },
  {
   "cell_type": "code",
   "execution_count": 14,
   "metadata": {
    "ExecuteTime": {
     "end_time": "2019-11-08T00:24:29.124705Z",
     "start_time": "2019-11-08T00:24:28.919913Z"
    }
   },
   "outputs": [
    {
     "data": {
      "text/plain": [
       "(1175, 14962)"
      ]
     },
     "execution_count": 14,
     "metadata": {},
     "output_type": "execute_result"
    }
   ],
   "source": [
    "cv1 = CountVectorizer(stop_words='english')\n",
    "doc_word = cv1.fit_transform(love_snippets.love)\n",
    "doc_word.shape"
   ]
  },
  {
   "cell_type": "code",
   "execution_count": 95,
   "metadata": {
    "ExecuteTime": {
     "end_time": "2019-11-08T05:20:58.590702Z",
     "start_time": "2019-11-08T05:20:58.452194Z"
    }
   },
   "outputs": [
    {
     "name": "stdout",
     "output_type": "stream",
     "text": [
      "2 topics variance ratios: [0.29669144 0.04290357]\n",
      "3 topics variance ratios: [0.29669144 0.04290356 0.03730232]\n",
      "4 topics variance ratios: [0.29669144 0.04290356 0.0373023  0.02290845]\n",
      "5 topics variance ratios: [0.29669144 0.04290356 0.03730229 0.02290837 0.02405696]\n"
     ]
    }
   ],
   "source": [
    "for i in range(2,6):\n",
    "    lsa = TruncatedSVD(i)\n",
    "    doc_topic = lsa.fit_transform(doc_word)\n",
    "    print(int(i),'topics variance ratios:',lsa.explained_variance_ratio_)"
   ]
  },
  {
   "cell_type": "code",
   "execution_count": 16,
   "metadata": {
    "ExecuteTime": {
     "end_time": "2019-11-08T00:25:25.497216Z",
     "start_time": "2019-11-08T00:25:25.462942Z"
    }
   },
   "outputs": [
    {
     "data": {
      "text/plain": [
       "(1175, 2)"
      ]
     },
     "execution_count": 16,
     "metadata": {},
     "output_type": "execute_result"
    }
   ],
   "source": [
    "doc_topic.shape"
   ]
  },
  {
   "cell_type": "code",
   "execution_count": 17,
   "metadata": {
    "ExecuteTime": {
     "end_time": "2019-11-08T00:25:30.140295Z",
     "start_time": "2019-11-08T00:25:30.094388Z"
    }
   },
   "outputs": [],
   "source": [
    "def display_topics(model, feature_names, no_top_words, topic_names=None):\n",
    "    for ix, topic in enumerate(model.components_):\n",
    "        if not topic_names or not topic_names[ix]:\n",
    "            print(\"\\nTopic \", ix)\n",
    "        else:\n",
    "            print(\"\\nTopic: '\",topic_names[ix],\"'\")\n",
    "        print(\", \".join([feature_names[i]\n",
    "                        for i in topic.argsort()[:-no_top_words - 1:-1]]))"
   ]
  },
  {
   "cell_type": "code",
   "execution_count": 18,
   "metadata": {
    "ExecuteTime": {
     "end_time": "2019-11-08T00:25:33.890193Z",
     "start_time": "2019-11-08T00:25:33.844935Z"
    },
    "scrolled": false
   },
   "outputs": [
    {
     "name": "stdout",
     "output_type": "stream",
     "text": [
      "\n",
      "Topic  0\n",
      "love, people, like, just, think, know, romantic, really, laughter, ve\n",
      "\n",
      "Topic  1\n",
      "come, wait, road, lies, free, ll, tennessee, way, hard, low\n"
     ]
    }
   ],
   "source": [
    "display_topics(lsa, cv1.get_feature_names(), 10)"
   ]
  },
  {
   "cell_type": "code",
   "execution_count": 19,
   "metadata": {
    "ExecuteTime": {
     "end_time": "2019-11-08T00:25:48.486621Z",
     "start_time": "2019-11-08T00:25:48.452905Z"
    }
   },
   "outputs": [
    {
     "data": {
      "text/plain": [
       "array([[ 3.73194552,  1.0369024 ],\n",
       "       [ 1.45559308, -0.04730465],\n",
       "       [ 1.26322018,  0.07874928],\n",
       "       [ 3.23350219,  0.49365931],\n",
       "       [20.66597454, -0.61019544]])"
      ]
     },
     "execution_count": 19,
     "metadata": {},
     "output_type": "execute_result"
    }
   ],
   "source": [
    "doc_topic[:5,:]"
   ]
  },
  {
   "cell_type": "code",
   "execution_count": 81,
   "metadata": {
    "ExecuteTime": {
     "end_time": "2019-11-08T01:13:42.776371Z",
     "start_time": "2019-11-08T01:13:42.526797Z"
    }
   },
   "outputs": [
    {
     "data": {
      "image/png": "[encoded data removed]",
      "text/plain": [
       "<Figure size 432x288 with 1 Axes>"
      ]
     },
     "metadata": {
      "needs_background": "light"
     },
     "output_type": "display_data"
    }
   ],
   "source": [
    "plt.scatter(doc_topic[:,0],doc_topic[:,1], alpha = 0.5);\n",
    "# plt.axis([0, 140, 0, 10])"
   ]
  },
  {
   "cell_type": "markdown",
   "metadata": {},
   "source": [
    "There doesn't really seem to be a great collection of clusters in that 2D space!  However, some of the points are showing to be \"outliers\".  Let's look into them."
   ]
  },
  {
   "cell_type": "code",
   "execution_count": 82,
   "metadata": {
    "ExecuteTime": {
     "end_time": "2019-11-08T01:17:49.022311Z",
     "start_time": "2019-11-08T01:17:48.983381Z"
    }
   },
   "outputs": [
    {
     "data": {
      "text/html": [
       "<div>\n",
       "<style scoped>\n",
       "    .dataframe tbody tr th:only-of-type {\n",
       "        vertical-align: middle;\n",
       "    }\n",
       "\n",
       "    .dataframe tbody tr th {\n",
       "        vertical-align: top;\n",
       "    }\n",
       "\n",
       "    .dataframe thead th {\n",
       "        text-align: right;\n",
       "    }\n",
       "</style>\n",
       "<table border=\"1\" class=\"dataframe\">\n",
       "  <thead>\n",
       "    <tr style=\"text-align: right;\">\n",
       "      <th></th>\n",
       "      <th>0</th>\n",
       "      <th>1</th>\n",
       "    </tr>\n",
       "  </thead>\n",
       "  <tbody>\n",
       "    <tr>\n",
       "      <td>0</td>\n",
       "      <td>3.731946</td>\n",
       "      <td>1.036902</td>\n",
       "    </tr>\n",
       "    <tr>\n",
       "      <td>1</td>\n",
       "      <td>1.455593</td>\n",
       "      <td>-0.047305</td>\n",
       "    </tr>\n",
       "    <tr>\n",
       "      <td>2</td>\n",
       "      <td>1.263220</td>\n",
       "      <td>0.078749</td>\n",
       "    </tr>\n",
       "    <tr>\n",
       "      <td>3</td>\n",
       "      <td>3.233502</td>\n",
       "      <td>0.493659</td>\n",
       "    </tr>\n",
       "    <tr>\n",
       "      <td>4</td>\n",
       "      <td>20.665975</td>\n",
       "      <td>-0.610195</td>\n",
       "    </tr>\n",
       "  </tbody>\n",
       "</table>\n",
       "</div>"
      ],
      "text/plain": [
       "           0         1\n",
       "0   3.731946  1.036902\n",
       "1   1.455593 -0.047305\n",
       "2   1.263220  0.078749\n",
       "3   3.233502  0.493659\n",
       "4  20.665975 -0.610195"
      ]
     },
     "execution_count": 82,
     "metadata": {},
     "output_type": "execute_result"
    }
   ],
   "source": [
    "df = pd.DataFrame(doc_topic)\n",
    "df.head()"
   ]
  },
  {
   "cell_type": "markdown",
   "metadata": {},
   "source": [
    "These are the rows of the doc_topic array that are \"interesting\"..."
   ]
  },
  {
   "cell_type": "code",
   "execution_count": 84,
   "metadata": {
    "ExecuteTime": {
     "end_time": "2019-11-08T01:19:46.211295Z",
     "start_time": "2019-11-08T01:19:46.177644Z"
    }
   },
   "outputs": [
    {
     "data": {
      "text/plain": [
       "1134"
      ]
     },
     "execution_count": 84,
     "metadata": {},
     "output_type": "execute_result"
    }
   ],
   "source": [
    "df.iloc[:,1].idxmax()   # index of the single high y \"outlier\":"
   ]
  },
  {
   "cell_type": "code",
   "execution_count": 85,
   "metadata": {
    "ExecuteTime": {
     "end_time": "2019-11-08T01:19:50.413778Z",
     "start_time": "2019-11-08T01:19:50.378013Z"
    },
    "scrolled": true
   },
   "outputs": [
    {
     "data": {
      "text/html": [
       "<div>\n",
       "<style scoped>\n",
       "    .dataframe tbody tr th:only-of-type {\n",
       "        vertical-align: middle;\n",
       "    }\n",
       "\n",
       "    .dataframe tbody tr th {\n",
       "        vertical-align: top;\n",
       "    }\n",
       "\n",
       "    .dataframe thead th {\n",
       "        text-align: right;\n",
       "    }\n",
       "</style>\n",
       "<table border=\"1\" class=\"dataframe\">\n",
       "  <thead>\n",
       "    <tr style=\"text-align: right;\">\n",
       "      <th></th>\n",
       "      <th>0</th>\n",
       "      <th>1</th>\n",
       "    </tr>\n",
       "  </thead>\n",
       "  <tbody>\n",
       "    <tr>\n",
       "      <td>16</td>\n",
       "      <td>129.666019</td>\n",
       "      <td>-16.704544</td>\n",
       "    </tr>\n",
       "    <tr>\n",
       "      <td>116</td>\n",
       "      <td>146.072159</td>\n",
       "      <td>-9.394992</td>\n",
       "    </tr>\n",
       "    <tr>\n",
       "      <td>918</td>\n",
       "      <td>107.438569</td>\n",
       "      <td>-9.788808</td>\n",
       "    </tr>\n",
       "    <tr>\n",
       "      <td>1073</td>\n",
       "      <td>150.289949</td>\n",
       "      <td>-8.556906</td>\n",
       "    </tr>\n",
       "  </tbody>\n",
       "</table>\n",
       "</div>"
      ],
      "text/plain": [
       "               0          1\n",
       "16    129.666019 -16.704544\n",
       "116   146.072159  -9.394992\n",
       "918   107.438569  -9.788808\n",
       "1073  150.289949  -8.556906"
      ]
     },
     "execution_count": 85,
     "metadata": {},
     "output_type": "execute_result"
    }
   ],
   "source": [
    "df[df.iloc[:,0]>100]   # indices of 4 high x \"outliers\":"
   ]
  },
  {
   "cell_type": "markdown",
   "metadata": {},
   "source": [
    "Change ind below to each of the \"interesting\" indices above to see the text scored."
   ]
  },
  {
   "cell_type": "code",
   "execution_count": 87,
   "metadata": {
    "ExecuteTime": {
     "end_time": "2019-11-08T01:20:42.316392Z",
     "start_time": "2019-11-08T01:20:42.279713Z"
    }
   },
   "outputs": [
    {
     "name": "stdout",
     "output_type": "stream",
     "text": [
      "29.0\n"
     ]
    },
    {
     "data": {
      "text/plain": [
       "'I published this article in the New York Times Modern Love column in January of this year. \"To Fall in Love With Anyone, Do This.\" I published this article in the New York Times Modern Love column in January of this year. \"To Fall in Love With Anyone, Do This.\" And the article is about a psychological study designed to create romantic love in the laboratory, and my own experience trying the study myself one night last summer.So the procedure is fairly simple: two strangers take turns asking each other 36 increasingly personal questions and then they stare into each other\\'s eyes without speaking for four minutes.So here are a couple of sample questions.Number 12: If you could wake up tomorrow having gained any one quality or ability, what would it be?Number 28: When did you last cry in front of another person? I published this article in the New York Times Modern Love column in January of this year. \"To Fall in Love With Anyone, Do This.\" And the article is about a psychological study designed to create romantic love in the laboratory, and my own experience trying the study myself one night last summer.So the procedure is fairly simple: two strangers take turns asking each other 36 increasingly personal questions and then they stare into each other\\'s eyes without speaking for four minutes.So here are a couple of sample questions.Number 12: If you could wake up tomorrow having gained any one quality or ability, what would it be?Number 28: When did you last cry in front of another person? By yourself?As you can see, they really do get more personal as they go along.Number 30, I really like this one: Tell your partner what you like about them; be very honest this time, saying things you might not say to someone you just met.So when I first came across this study a few years earlier, one detail really stuck out to me, and that was the rumor that two of the participants had gotten married six months later, and they\\'d invited the entire lab to the ceremony. And the article is about a psychological study designed to create romantic love in the laboratory, and my own experience trying the study myself one night last summer.So the procedure is fairly simple: two strangers take turns asking each other 36 increasingly personal questions and then they stare into each other\\'s eyes without speaking for four minutes.So here are a couple of sample questions.Number 12: If you could wake up tomorrow having gained any one quality or ability, what would it be?Number 28: When did you last cry in front of another person? By yourself?As you can see, they really do get more personal as they go along.Number 30, I really like this one: Tell your partner what you like about them; be very honest this time, saying things you might not say to someone you just met.So when I first came across this study a few years earlier, one detail really stuck out to me, and that was the rumor that two of the participants had gotten married six months later, and they\\'d invited the entire lab to the ceremony. So I was of course very skeptical about this process of just manufacturing romantic love, but of course I was intrigued. And when I got the chance to try this study myself, with someone I knew but not particularly well, I wasn\\'t expecting to fall in love. By yourself?As you can see, they really do get more personal as they go along.Number 30, I really like this one: Tell your partner what you like about them; be very honest this time, saying things you might not say to someone you just met.So when I first came across this study a few years earlier, one detail really stuck out to me, and that was the rumor that two of the participants had gotten married six months later, and they\\'d invited the entire lab to the ceremony. So I was of course very skeptical about this process of just manufacturing romantic love, but of course I was intrigued. And when I got the chance to try this study myself, with someone I knew but not particularly well, I wasn\\'t expecting to fall in love. But then we did, and —(Laughter)And I thought it made a good story, so I sent it to the Modern Love column a few months later.Now, this was published in January, and now it is August, so I\\'m guessing that some of you are probably wondering, are we still together? So I was of course very skeptical about this process of just manufacturing romantic love, but of course I was intrigued. And when I got the chance to try this study myself, with someone I knew but not particularly well, I wasn\\'t expecting to fall in love. But then we did, and —(Laughter)And I thought it made a good story, so I sent it to the Modern Love column a few months later.Now, this was published in January, and now it is August, so I\\'m guessing that some of you are probably wondering, are we still together? And the reason I think you might be wondering this is because I have been asked this question again and again and again for the past seven months. But let\\'s come back to it. (Laughter)So the week before the article came out, I was very nervous. I had been working on a book about love stories for the past few years, so I had gotten used to writing about my own experiences with romantic love on my blog. But a blog post might get a couple hundred views at the most, and those were usually just my Facebook friends, and I figured my article in the New York Times would probably get a few thousand views. And by Sunday, both the Today Show and Good Morning America had called. Within a month, the article would receive over 8 million views, and I was, to say the least, underprepared for this sort of attention. It\\'s one thing to work up the confidence to write honestly about your experiences with love, but it is another thing to discover that your love life has made international news —(Laughter)and to realize that people across the world are genuinely invested in the status of your new relationship. (Laughter)And when people called or emailed, which they did every day for weeks, they always asked the same question first: are you guys still together? I said no to every request for the two of us to do a media appearance together. I turned down TV interviews, and I said no to every request for photos of the two us. I think I was afraid that we would become inadvertent icons for the process of falling in love, a position I did not at all feel qualified for.And I get it: people didn\\'t just want to know if the study worked, they wanted to know if it really worked: that is, if it was capable of producing love that would last, not just a fling, but real love, sustainable love.But this was a question I didn\\'t feel capable of answering. My own relationship was only a few months old, and I felt like people were asking the wrong question in the first place. What would knowing whether or not we were still together really tell them? If the answer was no, would it make the experience of doing these 36 questions any less worthwhile? Dr. Arthur Aron first wrote about these questions in this study here in 1997, and here, the researcher\\'s goal was not to produce romantic love. Instead, they wanted to foster interpersonal closeness among college students, by using what Aron called \"sustained, escalating, reciprocal, personalistic self-disclosure.\" The original version of the story, the one that I tried last summer, that pairs the personal questions with four minutes of eye contact, was referenced in this article, but unfortunately it was never published.So a few months ago, I was giving a talk at a small liberal arts college, and a student came up to me afterwards and he said, kind of shyly, \"So, I tried your study, and it didn\\'t work.\" He seemed a little mystified by this. \"You mean, you didn\\'t fall in love with the person you did it with?\" I asked.\"Well...\" He nodded. \"So, then it worked,\" I said.I don\\'t think this is the answer he was looking for. In fact, I don\\'t think this is the answer that any of us are looking for when it comes to love.I first came across this study when I was 29 and I was going through a really difficult breakup. I had been in the relationship since I was 20, which was basically my entire adult life, and he was my first real love, and I had no idea how or if I could make a life without him. \"So, then it worked,\" I said.I don\\'t think this is the answer he was looking for. In fact, I don\\'t think this is the answer that any of us are looking for when it comes to love.I first came across this study when I was 29 and I was going through a really difficult breakup. I had been in the relationship since I was 20, which was basically my entire adult life, and he was my first real love, and I had no idea how or if I could make a life without him. So I turned to science. I had been in the relationship since I was 20, which was basically my entire adult life, and he was my first real love, and I had no idea how or if I could make a life without him. So I turned to science. I researched everything I could find about the science of romantic love, and I think I was hoping that it might somehow inoculate me from heartache. I don\\'t know if I realized this at the time — I thought I was just doing research for this book I was writing — but it seems really obvious in retrospect. I researched everything I could find about the science of romantic love, and I think I was hoping that it might somehow inoculate me from heartache. I don\\'t know if I realized this at the time — I thought I was just doing research for this book I was writing — but it seems really obvious in retrospect. I hoped that if I armed myself with the knowledge of romantic love, I might never have to feel as terrible and lonely as I did then. And all this knowledge has been useful in some ways. I hoped that if I armed myself with the knowledge of romantic love, I might never have to feel as terrible and lonely as I did then. And all this knowledge has been useful in some ways. I am more patient with love. I am more relaxed. I am more confident about asking for what I want. But I can also see myself more clearly, and I can see that what I want is sometimes more than can reasonably be asked for. What I want from love is a guarantee, not just that I am loved today and that I will be loved tomorrow, but that I will continue to be loved by the person I love indefinitely. Maybe it\\'s this possibility of a guarantee that people were really asking about when they wanted to know if we were still together.So the story that the media told about the 36 questions was that there might be a shortcut to falling in love. But I can also see myself more clearly, and I can see that what I want is sometimes more than can reasonably be asked for. What I want from love is a guarantee, not just that I am loved today and that I will be loved tomorrow, but that I will continue to be loved by the person I love indefinitely. Maybe it\\'s this possibility of a guarantee that people were really asking about when they wanted to know if we were still together.So the story that the media told about the 36 questions was that there might be a shortcut to falling in love. There might be a way to somehow mitigate some of the risk involved, and this is a very appealing story, because falling in love feels amazing, but it\\'s also terrifying. What I want from love is a guarantee, not just that I am loved today and that I will be loved tomorrow, but that I will continue to be loved by the person I love indefinitely. Maybe it\\'s this possibility of a guarantee that people were really asking about when they wanted to know if we were still together.So the story that the media told about the 36 questions was that there might be a shortcut to falling in love. There might be a way to somehow mitigate some of the risk involved, and this is a very appealing story, because falling in love feels amazing, but it\\'s also terrifying. The moment you admit to loving someone, you admit to having a lot to lose, and it\\'s true that these questions do provide a mechanism for getting to know someone quickly, which is also a mechanism for being known, and I think this is the thing that most of us really want from love: to be known, to be seen, to be understood. Maybe it\\'s this possibility of a guarantee that people were really asking about when they wanted to know if we were still together.So the story that the media told about the 36 questions was that there might be a shortcut to falling in love. There might be a way to somehow mitigate some of the risk involved, and this is a very appealing story, because falling in love feels amazing, but it\\'s also terrifying. The moment you admit to loving someone, you admit to having a lot to lose, and it\\'s true that these questions do provide a mechanism for getting to know someone quickly, which is also a mechanism for being known, and I think this is the thing that most of us really want from love: to be known, to be seen, to be understood. But I think when it comes to love, we are too willing to accept the short version of the story. There might be a way to somehow mitigate some of the risk involved, and this is a very appealing story, because falling in love feels amazing, but it\\'s also terrifying. The moment you admit to loving someone, you admit to having a lot to lose, and it\\'s true that these questions do provide a mechanism for getting to know someone quickly, which is also a mechanism for being known, and I think this is the thing that most of us really want from love: to be known, to be seen, to be understood. But I think when it comes to love, we are too willing to accept the short version of the story. The version of the story that asks, \"Are you still together?\" But I think when it comes to love, we are too willing to accept the short version of the story. The version of the story that asks, \"Are you still together?\" and is content with a yes or no answer.So rather than that question, I would propose we ask some more difficult questions, questions like: How do you decide who deserves your love and who does not? How do you stay in love when things get difficult, and how do you know when to just cut and run? The version of the story that asks, \"Are you still together?\" and is content with a yes or no answer.So rather than that question, I would propose we ask some more difficult questions, questions like: How do you decide who deserves your love and who does not? How do you stay in love when things get difficult, and how do you know when to just cut and run? How do you live with the doubt that inevitably creeps into every relationship, or even harder, how do you live with your partner\\'s doubt? How do you stay in love when things get difficult, and how do you know when to just cut and run? How do you live with the doubt that inevitably creeps into every relationship, or even harder, how do you live with your partner\\'s doubt? I don\\'t necessarily know the answers to these questions, but I think they\\'re an important start at having a more thoughtful conversation about what it means to love someone.So, if you want it, the short version of the story of my relationship is this: a year ago, an acquaintance and I did a study designed to create romantic love, and we fell in love, and we are still together, and I am so glad.But falling in love is not the same thing as staying in love. Falling in love is the easy part. How do you live with the doubt that inevitably creeps into every relationship, or even harder, how do you live with your partner\\'s doubt? I don\\'t necessarily know the answers to these questions, but I think they\\'re an important start at having a more thoughtful conversation about what it means to love someone.So, if you want it, the short version of the story of my relationship is this: a year ago, an acquaintance and I did a study designed to create romantic love, and we fell in love, and we are still together, and I am so glad.But falling in love is not the same thing as staying in love. Falling in love is the easy part. So at the end of my article, I wrote, \"Love didn\\'t happen to us. I don\\'t necessarily know the answers to these questions, but I think they\\'re an important start at having a more thoughtful conversation about what it means to love someone.So, if you want it, the short version of the story of my relationship is this: a year ago, an acquaintance and I did a study designed to create romantic love, and we fell in love, and we are still together, and I am so glad.But falling in love is not the same thing as staying in love. Falling in love is the easy part. So at the end of my article, I wrote, \"Love didn\\'t happen to us. We\\'re in love because we each made the choice to be.\" Falling in love is the easy part. So at the end of my article, I wrote, \"Love didn\\'t happen to us. We\\'re in love because we each made the choice to be.\" And I cringe a little when I read that now, not because it isn\\'t true, but because at the time, I really hadn\\'t considered everything that was contained in that choice. And I cringe a little when I read that now, not because it isn\\'t true, but because at the time, I really hadn\\'t considered everything that was contained in that choice. I didn\\'t consider how many times we would each have to make that choice, and how many times I will continue to have to make that choice without knowing whether or not he will always choose me. I want it to be enough to have asked and answered 36 questions, and to have chosen to love someone so generous and kind and fun and to have broadcast that choice in the biggest newspaper in America. But what I have done instead is turn my relationship into the kind of myth I don\\'t quite believe in. But what I have done instead is turn my relationship into the kind of myth I don\\'t quite believe in. And what I want, what perhaps I will spend my life wanting, is for that myth to be true.I want the happy ending implied by the title to my article, which is, incidentally, the only part of the article that I didn\\'t actually write. (Laughter)But what I have instead is the chance to make the choice to love someone, and the hope that he will choose to love me back, and it is terrifying, but that\\'s the deal with love.Thank you.'"
      ]
     },
     "execution_count": 87,
     "metadata": {},
     "output_type": "execute_result"
    }
   ],
   "source": [
    "ind=918\n",
    "print(love_snippets.iloc[ind].n_love_sents)\n",
    "love_snippets.iloc[ind].love"
   ]
  },
  {
   "cell_type": "code",
   "execution_count": 96,
   "metadata": {
    "ExecuteTime": {
     "end_time": "2019-11-08T05:30:49.064597Z",
     "start_time": "2019-11-08T05:30:48.994964Z"
    }
   },
   "outputs": [],
   "source": [
    "from sklearn.feature_extraction.text import TfidfVectorizer"
   ]
  },
  {
   "cell_type": "code",
   "execution_count": 97,
   "metadata": {
    "ExecuteTime": {
     "end_time": "2019-11-08T05:36:43.673304Z",
     "start_time": "2019-11-08T05:36:43.115903Z"
    }
   },
   "outputs": [
    {
     "data": {
      "text/plain": [
       "(1175, 14962)"
      ]
     },
     "execution_count": 97,
     "metadata": {},
     "output_type": "execute_result"
    }
   ],
   "source": [
    "tfidf1 = TfidfVectorizer(stop_words='english')\n",
    "doc_words_tfidf1 = tfidf1.fit_transform(love_snippets.love)\n",
    "doc_words_tfidf1.shape"
   ]
  },
  {
   "cell_type": "code",
   "execution_count": 105,
   "metadata": {
    "ExecuteTime": {
     "end_time": "2019-11-08T05:48:19.056395Z",
     "start_time": "2019-11-08T05:48:18.881016Z"
    }
   },
   "outputs": [
    {
     "name": "stdout",
     "output_type": "stream",
     "text": [
      "2 topics variance ratios: [0.00422015 0.00367817]\n",
      "3 topics variance ratios: [0.00422016 0.00368508 0.00319206]\n",
      "4 topics variance ratios: [0.00422015 0.00365609 0.00320658 0.00311998]\n",
      "5 topics variance ratios: [0.00422015 0.00367702 0.00321791 0.00313935 0.00287249]\n",
      "6 topics variance ratios: [0.00422015 0.00369491 0.00322919 0.00317268 0.00287903 0.00278493]\n"
     ]
    }
   ],
   "source": [
    "tfidf_lsa=[]\n",
    "tfidf_doc_topic=[]\n",
    "for i in range(2,7):\n",
    "    tfidf_lsa.append(TruncatedSVD(i))\n",
    "    tfidf_doc_topic.append(tfidf_lsa[i-2].fit_transform(doc_words_tfidf1))\n",
    "    print(int(i),'topics variance ratios:',tfidf_lsa[i-2].explained_variance_ratio_)"
   ]
  },
  {
   "cell_type": "code",
   "execution_count": 106,
   "metadata": {
    "ExecuteTime": {
     "end_time": "2019-11-08T05:48:22.071541Z",
     "start_time": "2019-11-08T05:48:21.896273Z"
    },
    "scrolled": true
   },
   "outputs": [
    {
     "data": {
      "image/png": "[encoded data removed]",
      "text/plain": [
       "<Figure size 432x288 with 1 Axes>"
      ]
     },
     "metadata": {
      "needs_background": "light"
     },
     "output_type": "display_data"
    }
   ],
   "source": [
    "plt.scatter(tfidf_doc_topic[0][:,0],tfidf_doc_topic[0][:,1], alpha = 0.5);"
   ]
  },
  {
   "cell_type": "code",
   "execution_count": 127,
   "metadata": {
    "ExecuteTime": {
     "end_time": "2019-11-08T06:30:20.070249Z",
     "start_time": "2019-11-08T06:30:19.976384Z"
    }
   },
   "outputs": [],
   "source": [
    "from sklearn.cluster import KMeans"
   ]
  },
  {
   "cell_type": "code",
   "execution_count": 135,
   "metadata": {
    "ExecuteTime": {
     "end_time": "2019-11-08T06:51:09.000913Z",
     "start_time": "2019-11-08T06:51:08.959562Z"
    }
   },
   "outputs": [
    {
     "data": {
      "text/plain": [
       "KMeans(algorithm='auto', copy_x=True, init='k-means++', max_iter=300,\n",
       "       n_clusters=2, n_init=1, n_jobs=None, precompute_distances='auto',\n",
       "       random_state=10, tol=0.0001, verbose=0)"
      ]
     },
     "execution_count": 135,
     "metadata": {},
     "output_type": "execute_result"
    }
   ],
   "source": [
    "num_clusters = 2\n",
    "km = KMeans(n_clusters=num_clusters,random_state=10,n_init=1) # n_init, number of times the K-mean algorithm will run\n",
    "km.fit(tfidf_doc_topic[4])"
   ]
  },
  {
   "cell_type": "code",
   "execution_count": 136,
   "metadata": {
    "ExecuteTime": {
     "end_time": "2019-11-08T06:51:09.420007Z",
     "start_time": "2019-11-08T06:51:09.384377Z"
    }
   },
   "outputs": [
    {
     "data": {
      "text/plain": [
       "array([1, 1, 1, ..., 1, 0, 1], dtype=int32)"
      ]
     },
     "execution_count": 136,
     "metadata": {},
     "output_type": "execute_result"
    }
   ],
   "source": [
    "km.labels_"
   ]
  },
  {
   "cell_type": "code",
   "execution_count": null,
   "metadata": {},
   "outputs": [],
   "source": []
  },
  {
   "cell_type": "code",
   "execution_count": 124,
   "metadata": {
    "ExecuteTime": {
     "end_time": "2019-11-08T06:24:35.165931Z",
     "start_time": "2019-11-08T06:24:35.062965Z"
    }
   },
   "outputs": [],
   "source": [
    "from sklearn.manifold import TSNE"
   ]
  },
  {
   "cell_type": "code",
   "execution_count": 126,
   "metadata": {
    "ExecuteTime": {
     "end_time": "2019-11-08T06:24:56.788413Z",
     "start_time": "2019-11-08T06:24:49.371340Z"
    }
   },
   "outputs": [
    {
     "name": "stdout",
     "output_type": "stream",
     "text": [
      "[t-SNE] Computing 91 nearest neighbors...\n",
      "[t-SNE] Indexed 1175 samples in 0.001s...\n",
      "[t-SNE] Computed neighbors for 1175 samples in 0.035s...\n",
      "[t-SNE] Computed conditional probabilities for sample 1000 / 1175\n",
      "[t-SNE] Computed conditional probabilities for sample 1175 / 1175\n",
      "[t-SNE] Mean sigma: 0.035224\n",
      "[t-SNE] KL divergence after 250 iterations with early exaggeration: 71.788933\n",
      "[t-SNE] KL divergence after 1000 iterations: 1.500977\n"
     ]
    }
   ],
   "source": [
    "model = TSNE(n_components=2, random_state=0,verbose=1)\n",
    "low_data = model.fit_transform(tfidf_doc_topic[4])"
   ]
  },
  {
   "cell_type": "code",
   "execution_count": 123,
   "metadata": {
    "ExecuteTime": {
     "end_time": "2019-11-08T06:19:08.461854Z",
     "start_time": "2019-11-08T06:19:08.426859Z"
    }
   },
   "outputs": [
    {
     "data": {
      "text/plain": [
       "1175"
      ]
     },
     "execution_count": 123,
     "metadata": {},
     "output_type": "execute_result"
    }
   ],
   "source": [
    "len(low_data)"
   ]
  },
  {
   "cell_type": "code",
   "execution_count": 121,
   "metadata": {
    "ExecuteTime": {
     "end_time": "2019-11-08T06:17:10.157980Z",
     "start_time": "2019-11-08T06:17:09.872505Z"
    }
   },
   "outputs": [
    {
     "ename": "ValueError",
     "evalue": "'c' argument has 7044 elements, which is not acceptable for use with 'x' with size 1175, 'y' with size 1175.",
     "output_type": "error",
     "traceback": [
      "\u001b[0;31m---------------------------------------------------------------------------\u001b[0m",
      "\u001b[0;31mValueError\u001b[0m                                Traceback (most recent call last)",
      "\u001b[0;32m~/anaconda3/envs/metis/lib/python3.7/site-packages/matplotlib/axes/_axes.py\u001b[0m in \u001b[0;36m_parse_scatter_color_args\u001b[0;34m(c, edgecolors, kwargs, xshape, yshape, get_next_color_func)\u001b[0m\n\u001b[1;32m   4290\u001b[0m                     \u001b[0mvalid_shape\u001b[0m \u001b[0;34m=\u001b[0m \u001b[0;32mFalse\u001b[0m\u001b[0;34m\u001b[0m\u001b[0;34m\u001b[0m\u001b[0m\n\u001b[0;32m-> 4291\u001b[0;31m                     \u001b[0;32mraise\u001b[0m \u001b[0mValueError\u001b[0m\u001b[0;34m\u001b[0m\u001b[0;34m\u001b[0m\u001b[0m\n\u001b[0m\u001b[1;32m   4292\u001b[0m             \u001b[0;32mexcept\u001b[0m \u001b[0mValueError\u001b[0m\u001b[0;34m:\u001b[0m\u001b[0;34m\u001b[0m\u001b[0;34m\u001b[0m\u001b[0m\n",
      "\u001b[0;31mValueError\u001b[0m: ",
      "\nDuring handling of the above exception, another exception occurred:\n",
      "\u001b[0;31mValueError\u001b[0m                                Traceback (most recent call last)",
      "\u001b[0;32m<ipython-input-121-2a190f02b0d2>\u001b[0m in \u001b[0;36m<module>\u001b[0;34m\u001b[0m\n\u001b[1;32m      6\u001b[0m         \u001b[0mcolorize\u001b[0m\u001b[0;34m.\u001b[0m\u001b[0mappend\u001b[0m\u001b[0;34m(\u001b[0m\u001b[0mplt\u001b[0m\u001b[0;34m.\u001b[0m\u001b[0mcm\u001b[0m\u001b[0;34m.\u001b[0m\u001b[0mrainbow\u001b[0m\u001b[0;34m(\u001b[0m\u001b[0mi\u001b[0m\u001b[0;34m*\u001b[0m\u001b[0;36m20\u001b[0m\u001b[0;34m)\u001b[0m\u001b[0;34m)\u001b[0m\u001b[0;34m\u001b[0m\u001b[0;34m\u001b[0m\u001b[0m\n\u001b[1;32m      7\u001b[0m \u001b[0mx\u001b[0m\u001b[0;34m,\u001b[0m\u001b[0my\u001b[0m \u001b[0;34m=\u001b[0m \u001b[0mzip\u001b[0m\u001b[0;34m(\u001b[0m\u001b[0;34m*\u001b[0m\u001b[0mlow_data\u001b[0m\u001b[0;34m)\u001b[0m\u001b[0;34m\u001b[0m\u001b[0;34m\u001b[0m\u001b[0m\n\u001b[0;32m----> 8\u001b[0;31m \u001b[0mplt\u001b[0m\u001b[0;34m.\u001b[0m\u001b[0mscatter\u001b[0m\u001b[0;34m(\u001b[0m\u001b[0mx\u001b[0m\u001b[0;34m,\u001b[0m\u001b[0my\u001b[0m\u001b[0;34m,\u001b[0m\u001b[0mc\u001b[0m\u001b[0;34m=\u001b[0m\u001b[0mcolorize\u001b[0m\u001b[0;34m,\u001b[0m\u001b[0ms\u001b[0m\u001b[0;34m=\u001b[0m\u001b[0;36m40\u001b[0m\u001b[0;34m)\u001b[0m\u001b[0;34m\u001b[0m\u001b[0;34m\u001b[0m\u001b[0m\n\u001b[0m",
      "\u001b[0;32m~/anaconda3/envs/metis/lib/python3.7/site-packages/matplotlib/pyplot.py\u001b[0m in \u001b[0;36mscatter\u001b[0;34m(x, y, s, c, marker, cmap, norm, vmin, vmax, alpha, linewidths, verts, edgecolors, plotnonfinite, data, **kwargs)\u001b[0m\n\u001b[1;32m   2845\u001b[0m         \u001b[0mverts\u001b[0m\u001b[0;34m=\u001b[0m\u001b[0mverts\u001b[0m\u001b[0;34m,\u001b[0m \u001b[0medgecolors\u001b[0m\u001b[0;34m=\u001b[0m\u001b[0medgecolors\u001b[0m\u001b[0;34m,\u001b[0m\u001b[0;34m\u001b[0m\u001b[0;34m\u001b[0m\u001b[0m\n\u001b[1;32m   2846\u001b[0m         plotnonfinite=plotnonfinite, **({\"data\": data} if data is not\n\u001b[0;32m-> 2847\u001b[0;31m         None else {}), **kwargs)\n\u001b[0m\u001b[1;32m   2848\u001b[0m     \u001b[0msci\u001b[0m\u001b[0;34m(\u001b[0m\u001b[0m__ret\u001b[0m\u001b[0;34m)\u001b[0m\u001b[0;34m\u001b[0m\u001b[0;34m\u001b[0m\u001b[0m\n\u001b[1;32m   2849\u001b[0m     \u001b[0;32mreturn\u001b[0m \u001b[0m__ret\u001b[0m\u001b[0;34m\u001b[0m\u001b[0;34m\u001b[0m\u001b[0m\n",
      "\u001b[0;32m~/anaconda3/envs/metis/lib/python3.7/site-packages/matplotlib/__init__.py\u001b[0m in \u001b[0;36minner\u001b[0;34m(ax, data, *args, **kwargs)\u001b[0m\n\u001b[1;32m   1599\u001b[0m     \u001b[0;32mdef\u001b[0m \u001b[0minner\u001b[0m\u001b[0;34m(\u001b[0m\u001b[0max\u001b[0m\u001b[0;34m,\u001b[0m \u001b[0;34m*\u001b[0m\u001b[0margs\u001b[0m\u001b[0;34m,\u001b[0m \u001b[0mdata\u001b[0m\u001b[0;34m=\u001b[0m\u001b[0;32mNone\u001b[0m\u001b[0;34m,\u001b[0m \u001b[0;34m**\u001b[0m\u001b[0mkwargs\u001b[0m\u001b[0;34m)\u001b[0m\u001b[0;34m:\u001b[0m\u001b[0;34m\u001b[0m\u001b[0;34m\u001b[0m\u001b[0m\n\u001b[1;32m   1600\u001b[0m         \u001b[0;32mif\u001b[0m \u001b[0mdata\u001b[0m \u001b[0;32mis\u001b[0m \u001b[0;32mNone\u001b[0m\u001b[0;34m:\u001b[0m\u001b[0;34m\u001b[0m\u001b[0;34m\u001b[0m\u001b[0m\n\u001b[0;32m-> 1601\u001b[0;31m             \u001b[0;32mreturn\u001b[0m \u001b[0mfunc\u001b[0m\u001b[0;34m(\u001b[0m\u001b[0max\u001b[0m\u001b[0;34m,\u001b[0m \u001b[0;34m*\u001b[0m\u001b[0mmap\u001b[0m\u001b[0;34m(\u001b[0m\u001b[0msanitize_sequence\u001b[0m\u001b[0;34m,\u001b[0m \u001b[0margs\u001b[0m\u001b[0;34m)\u001b[0m\u001b[0;34m,\u001b[0m \u001b[0;34m**\u001b[0m\u001b[0mkwargs\u001b[0m\u001b[0;34m)\u001b[0m\u001b[0;34m\u001b[0m\u001b[0;34m\u001b[0m\u001b[0m\n\u001b[0m\u001b[1;32m   1602\u001b[0m \u001b[0;34m\u001b[0m\u001b[0m\n\u001b[1;32m   1603\u001b[0m         \u001b[0mbound\u001b[0m \u001b[0;34m=\u001b[0m \u001b[0mnew_sig\u001b[0m\u001b[0;34m.\u001b[0m\u001b[0mbind\u001b[0m\u001b[0;34m(\u001b[0m\u001b[0max\u001b[0m\u001b[0;34m,\u001b[0m \u001b[0;34m*\u001b[0m\u001b[0margs\u001b[0m\u001b[0;34m,\u001b[0m \u001b[0;34m**\u001b[0m\u001b[0mkwargs\u001b[0m\u001b[0;34m)\u001b[0m\u001b[0;34m\u001b[0m\u001b[0;34m\u001b[0m\u001b[0m\n",
      "\u001b[0;32m~/anaconda3/envs/metis/lib/python3.7/site-packages/matplotlib/axes/_axes.py\u001b[0m in \u001b[0;36mscatter\u001b[0;34m(self, x, y, s, c, marker, cmap, norm, vmin, vmax, alpha, linewidths, verts, edgecolors, plotnonfinite, **kwargs)\u001b[0m\n\u001b[1;32m   4452\u001b[0m             self._parse_scatter_color_args(\n\u001b[1;32m   4453\u001b[0m                 \u001b[0mc\u001b[0m\u001b[0;34m,\u001b[0m \u001b[0medgecolors\u001b[0m\u001b[0;34m,\u001b[0m \u001b[0mkwargs\u001b[0m\u001b[0;34m,\u001b[0m \u001b[0mxshape\u001b[0m\u001b[0;34m,\u001b[0m \u001b[0myshape\u001b[0m\u001b[0;34m,\u001b[0m\u001b[0;34m\u001b[0m\u001b[0;34m\u001b[0m\u001b[0m\n\u001b[0;32m-> 4454\u001b[0;31m                 get_next_color_func=self._get_patches_for_fill.get_next_color)\n\u001b[0m\u001b[1;32m   4455\u001b[0m \u001b[0;34m\u001b[0m\u001b[0m\n\u001b[1;32m   4456\u001b[0m         \u001b[0;32mif\u001b[0m \u001b[0mplotnonfinite\u001b[0m \u001b[0;32mand\u001b[0m \u001b[0mcolors\u001b[0m \u001b[0;32mis\u001b[0m \u001b[0;32mNone\u001b[0m\u001b[0;34m:\u001b[0m\u001b[0;34m\u001b[0m\u001b[0;34m\u001b[0m\u001b[0m\n",
      "\u001b[0;32m~/anaconda3/envs/metis/lib/python3.7/site-packages/matplotlib/axes/_axes.py\u001b[0m in \u001b[0;36m_parse_scatter_color_args\u001b[0;34m(c, edgecolors, kwargs, xshape, yshape, get_next_color_func)\u001b[0m\n\u001b[1;32m   4296\u001b[0m                         \u001b[0;34m\"acceptable for use with 'x' with size {xs}, \"\u001b[0m\u001b[0;34m\u001b[0m\u001b[0;34m\u001b[0m\u001b[0m\n\u001b[1;32m   4297\u001b[0m                         \u001b[0;34m\"'y' with size {ys}.\"\u001b[0m\u001b[0;34m\u001b[0m\u001b[0;34m\u001b[0m\u001b[0m\n\u001b[0;32m-> 4298\u001b[0;31m                             \u001b[0;34m.\u001b[0m\u001b[0mformat\u001b[0m\u001b[0;34m(\u001b[0m\u001b[0mnc\u001b[0m\u001b[0;34m=\u001b[0m\u001b[0mn_elem\u001b[0m\u001b[0;34m,\u001b[0m \u001b[0mxs\u001b[0m\u001b[0;34m=\u001b[0m\u001b[0mxsize\u001b[0m\u001b[0;34m,\u001b[0m \u001b[0mys\u001b[0m\u001b[0;34m=\u001b[0m\u001b[0mysize\u001b[0m\u001b[0;34m)\u001b[0m\u001b[0;34m\u001b[0m\u001b[0;34m\u001b[0m\u001b[0m\n\u001b[0m\u001b[1;32m   4299\u001b[0m                     )\n\u001b[1;32m   4300\u001b[0m                 \u001b[0;32melse\u001b[0m\u001b[0;34m:\u001b[0m\u001b[0;34m\u001b[0m\u001b[0;34m\u001b[0m\u001b[0m\n",
      "\u001b[0;31mValueError\u001b[0m: 'c' argument has 7044 elements, which is not acceptable for use with 'x' with size 1175, 'y' with size 1175."
     ]
    },
    {
     "data": {
      "image/png": "[encoded data removed]",
      "text/plain": [
       "<Figure size 432x288 with 1 Axes>"
      ]
     },
     "metadata": {
      "needs_background": "light"
     },
     "output_type": "display_data"
    }
   ],
   "source": [
    "target = km.labels_\n",
    "#target_names = digits.target_names\n",
    "\n",
    "colors = cycle(['r','g','b','c','m','y','orange','k','aqua','yellow'])\n",
    "target_ids = range(len(target_names))\n",
    "plt.figure(dpi=150)\n",
    "for i, c, label in zip(target_ids, colors, target_names):\n",
    "    plt.scatter(low_data[target == i, 0], low_data[target == i, 1], c=c, label=label, s=15, alpha=1)\n",
    "plt.legend(fontsize=10, loc='upper left', frameon=True, facecolor='#FFFFFF', edgecolor='#333333')\n",
    "plt.xlim(-100,100);\n",
    "plt.title(\"Digit Clusters with TSNE\", fontsize=12)\n",
    "plt.ylabel(\"Junk TSNE Axis 2\", fontsize=12)\n",
    "plt.xlabel(\"Junk TSNE Axis 1\", fontsize=12);\n",
    "plt.xticks(fontsize=10)\n",
    "plt.yticks(fontsize=10);"
   ]
  },
  {
   "cell_type": "code",
   "execution_count": null,
   "metadata": {},
   "outputs": [],
   "source": []
  }
 ],
 "metadata": {
  "kernelspec": {
   "display_name": "Python [conda env:metis] *",
   "language": "python",
   "name": "conda-env-metis-py"
  },
  "language_info": {
   "codemirror_mode": {
    "name": "ipython",
    "version": 3
   },
   "file_extension": ".py",
   "mimetype": "text/x-python",
   "name": "python",
   "nbconvert_exporter": "python",
   "pygments_lexer": "ipython3",
   "version": "3.7.3"
  },
  "toc": {
   "base_numbering": 1,
   "nav_menu": {},
   "number_sections": true,
   "sideBar": true,
   "skip_h1_title": false,
   "title_cell": "Table of Contents",
   "title_sidebar": "Contents",
   "toc_cell": false,
   "toc_position": {},
   "toc_section_display": true,
   "toc_window_display": false
  }
 },
 "nbformat": 4,
 "nbformat_minor": 2
}
