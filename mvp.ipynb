{
 "cells": [
  {
   "cell_type": "markdown",
   "metadata": {},
   "source": []
  },
  {
   "cell_type": "code",
   "execution_count": 1,
   "metadata": {
    "ExecuteTime": {
     "end_time": "2019-11-10T08:17:04.769789Z",
     "start_time": "2019-11-10T08:17:03.477485Z"
    }
   },
   "outputs": [],
   "source": [
    "import pandas as pd\n",
    "import numpy as np\n",
    "import nltk\n",
    "from nltk.tokenize import sent_tokenize\n",
    "from nltk.tokenize import punkt\n",
    "from sklearn.feature_extraction.text import CountVectorizer\n",
    "from sklearn.metrics.pairwise import cosine_similarity\n",
    "from src.functions import get_sents\n",
    "from sklearn.decomposition import TruncatedSVD\n",
    "from sklearn.cluster import KMeans\n",
    "import matplotlib.pylab as plt\n",
    "%matplotlib inline"
   ]
  },
  {
   "cell_type": "markdown",
   "metadata": {},
   "source": [
    "See https://stackoverflow.com/questions/5364050/reloading-submodules-in-ipython\n",
    "for explanation of next cell:"
   ]
  },
  {
   "cell_type": "code",
   "execution_count": 2,
   "metadata": {
    "ExecuteTime": {
     "end_time": "2019-11-10T08:17:04.813434Z",
     "start_time": "2019-11-10T08:17:04.772044Z"
    }
   },
   "outputs": [],
   "source": [
    "%load_ext autoreload\n",
    "%autoreload 2\n",
    "#%autoreload?"
   ]
  },
  {
   "cell_type": "code",
   "execution_count": 3,
   "metadata": {
    "ExecuteTime": {
     "end_time": "2019-11-10T08:17:05.150091Z",
     "start_time": "2019-11-10T08:17:04.815889Z"
    },
    "scrolled": true
   },
   "outputs": [
    {
     "name": "stdout",
     "output_type": "stream",
     "text": [
      "m_df: (2550, 17)\n",
      "t_df: (2467, 2)\n"
     ]
    }
   ],
   "source": [
    "raw_data_path = './data/raw/ted-talks/'\n",
    "meta_data_filename = 'ted_main.csv'\n",
    "transcripts_filename = 'transcripts.csv'\n",
    "m_df = pd.read_csv(raw_data_path+meta_data_filename)\n",
    "print('m_df:',m_df.shape)\n",
    "t_df = pd.read_csv(raw_data_path+transcripts_filename)\n",
    "print('t_df:',t_df.shape)"
   ]
  },
  {
   "cell_type": "markdown",
   "metadata": {},
   "source": [
    "The dataframe t_df has all the transcripts.  I'll first break out the talks that contain the word love."
   ]
  },
  {
   "cell_type": "code",
   "execution_count": 4,
   "metadata": {
    "ExecuteTime": {
     "end_time": "2019-11-10T08:17:05.380077Z",
     "start_time": "2019-11-10T08:17:05.152249Z"
    }
   },
   "outputs": [
    {
     "data": {
      "text/plain": [
       "(1175, 2)"
      ]
     },
     "execution_count": 4,
     "metadata": {},
     "output_type": "execute_result"
    }
   ],
   "source": [
    "love=t_df[t_df['transcript'].str.contains('love',case=False)]\n",
    "love.shape"
   ]
  },
  {
   "cell_type": "markdown",
   "metadata": {},
   "source": [
    "The first talk that contains the word love: (uncomment and execute to view)"
   ]
  },
  {
   "cell_type": "code",
   "execution_count": 5,
   "metadata": {
    "ExecuteTime": {
     "end_time": "2019-11-10T08:17:05.416488Z",
     "start_time": "2019-11-10T08:17:05.381911Z"
    }
   },
   "outputs": [],
   "source": [
    "#love.iloc[0,0]"
   ]
  },
  {
   "cell_type": "markdown",
   "metadata": {},
   "source": [
    "I was getting an error message that googling suggested the following line of code would cure:  It appears that it only had to be run once on my machine to provide the functionality it delivers."
   ]
  },
  {
   "cell_type": "code",
   "execution_count": 6,
   "metadata": {
    "ExecuteTime": {
     "end_time": "2019-11-10T08:17:05.631263Z",
     "start_time": "2019-11-10T08:17:05.418312Z"
    },
    "scrolled": true
   },
   "outputs": [
    {
     "name": "stderr",
     "output_type": "stream",
     "text": [
      "[nltk_data] Downloading package punkt to /Users/sean/nltk_data...\n",
      "[nltk_data]   Package punkt is already up-to-date!\n"
     ]
    },
    {
     "data": {
      "text/plain": [
       "True"
      ]
     },
     "execution_count": 6,
     "metadata": {},
     "output_type": "execute_result"
    }
   ],
   "source": [
    "nltk.download('punkt')"
   ]
  },
  {
   "cell_type": "markdown",
   "metadata": {},
   "source": [
    "Ok, I'm going to want the sentences that contains the word and some context so I'd be able to tell what the author is talking about.  I'm figuring that out in the cell below."
   ]
  },
  {
   "cell_type": "code",
   "execution_count": 7,
   "metadata": {
    "ExecuteTime": {
     "end_time": "2019-11-10T08:17:05.686652Z",
     "start_time": "2019-11-10T08:17:05.633323Z"
    },
    "scrolled": false
   },
   "outputs": [
    {
     "data": {
      "text/plain": [
       "'(Laughter)Well, I was born... no. (Laughter)I heard a great story recently — I love telling it — of a little girl who was in a drawing lesson. She was six, and she was at the back, drawing, and the teacher said this girl hardly ever paid attention, and in this drawing lesson, she did.'"
      ]
     },
     "execution_count": 7,
     "metadata": {},
     "output_type": "execute_result"
    }
   ],
   "source": [
    "# Tokenize into sentences\n",
    "df=pd.DataFrame(sent_tokenize(love.iloc[0,0]))\n",
    "# Find only those sentences that contain the word love\n",
    "df2=df[df[0].str.contains('love',case=False)]\n",
    "# Get from 2 sentences before to 2 sentences after\n",
    "df.iloc[df2.iloc[0].name-2:df2.iloc[0].name+2][0].str.cat(sep=' ')\n"
   ]
  },
  {
   "cell_type": "markdown",
   "metadata": {},
   "source": [
    "Now I'll generalize that to find all the context snippets containing the word love.  I've placed this function into the file src/functions.py."
   ]
  },
  {
   "cell_type": "code",
   "execution_count": 8,
   "metadata": {
    "ExecuteTime": {
     "end_time": "2019-11-10T08:17:14.186496Z",
     "start_time": "2019-11-10T08:17:05.690111Z"
    },
    "scrolled": false
   },
   "outputs": [
    {
     "name": "stdout",
     "output_type": "stream",
     "text": [
      "(1175, 4)\n"
     ]
    },
    {
     "data": {
      "text/plain": [
       "Index(['transcript', 'url', 'n_love_sents', 'love'], dtype='object')"
      ]
     },
     "execution_count": 8,
     "metadata": {},
     "output_type": "execute_result"
    }
   ],
   "source": [
    "love_snippets = get_sents(love,'love')\n",
    "print(love_snippets.shape)\n",
    "love_snippets.columns"
   ]
  },
  {
   "cell_type": "markdown",
   "metadata": {},
   "source": [
    "I also kept track of (and returned) how many tokenized sentences containing the word each document had.  This is how it breaks out: (This gives some idea how sparse the word is across all the documents.)"
   ]
  },
  {
   "cell_type": "code",
   "execution_count": 9,
   "metadata": {
    "ExecuteTime": {
     "end_time": "2019-11-10T08:17:14.230753Z",
     "start_time": "2019-11-10T08:17:14.189491Z"
    }
   },
   "outputs": [
    {
     "name": "stdout",
     "output_type": "stream",
     "text": [
      "# of     | # of\n",
      "sentences| documents\n"
     ]
    },
    {
     "data": {
      "text/plain": [
       "1.0     512\n",
       "2.0     260\n",
       "3.0     145\n",
       "4.0     101\n",
       "5.0      55\n",
       "6.0      32\n",
       "7.0      16\n",
       "8.0      10\n",
       "13.0      9\n",
       "10.0      6\n",
       "12.0      5\n",
       "14.0      4\n",
       "9.0       4\n",
       "11.0      3\n",
       "17.0      2\n",
       "19.0      2\n",
       "15.0      2\n",
       "26.0      1\n",
       "45.0      1\n",
       "47.0      1\n",
       "18.0      1\n",
       "16.0      1\n",
       "29.0      1\n",
       "46.0      1\n",
       "Name: n_love_sents, dtype: int64"
      ]
     },
     "execution_count": 9,
     "metadata": {},
     "output_type": "execute_result"
    }
   ],
   "source": [
    "print('# of     | # of')\n",
    "print('sentences| documents')\n",
    "love_snippets.n_love_sents.value_counts()\n",
    "#Note value are not in order within value_counts"
   ]
  },
  {
   "cell_type": "markdown",
   "metadata": {},
   "source": [
    "Out of curiousity, what is the talk that has 46 sentences using 'love'?:"
   ]
  },
  {
   "cell_type": "code",
   "execution_count": 10,
   "metadata": {
    "ExecuteTime": {
     "end_time": "2019-11-10T08:17:14.275796Z",
     "start_time": "2019-11-10T08:17:14.232750Z"
    },
    "scrolled": true
   },
   "outputs": [
    {
     "data": {
      "text/html": [
       "<div>\n",
       "<style scoped>\n",
       "    .dataframe tbody tr th:only-of-type {\n",
       "        vertical-align: middle;\n",
       "    }\n",
       "\n",
       "    .dataframe tbody tr th {\n",
       "        vertical-align: top;\n",
       "    }\n",
       "\n",
       "    .dataframe thead th {\n",
       "        text-align: right;\n",
       "    }\n",
       "</style>\n",
       "<table border=\"1\" class=\"dataframe\">\n",
       "  <thead>\n",
       "    <tr style=\"text-align: right;\">\n",
       "      <th></th>\n",
       "      <th>transcript</th>\n",
       "      <th>url</th>\n",
       "      <th>n_love_sents</th>\n",
       "      <th>love</th>\n",
       "    </tr>\n",
       "  </thead>\n",
       "  <tbody>\n",
       "    <tr>\n",
       "      <td>2276</td>\n",
       "      <td>OK, so today I want to talk about how we talk ...</td>\n",
       "      <td>https://www.ted.com/talks/mandy_len_catron_a_b...</td>\n",
       "      <td>46.0</td>\n",
       "      <td>OK, so today I want to talk about how we talk ...</td>\n",
       "    </tr>\n",
       "  </tbody>\n",
       "</table>\n",
       "</div>"
      ],
      "text/plain": [
       "                                             transcript  \\\n",
       "2276  OK, so today I want to talk about how we talk ...   \n",
       "\n",
       "                                                    url  n_love_sents  \\\n",
       "2276  https://www.ted.com/talks/mandy_len_catron_a_b...          46.0   \n",
       "\n",
       "                                                   love  \n",
       "2276  OK, so today I want to talk about how we talk ...  "
      ]
     },
     "execution_count": 10,
     "metadata": {},
     "output_type": "execute_result"
    }
   ],
   "source": [
    "love_snippets[love_snippets.n_love_sents==46]"
   ]
  },
  {
   "cell_type": "code",
   "execution_count": 11,
   "metadata": {
    "ExecuteTime": {
     "end_time": "2019-11-10T08:17:14.311514Z",
     "start_time": "2019-11-10T08:17:14.277353Z"
    }
   },
   "outputs": [],
   "source": [
    "# love_snippets.loc[2276].love"
   ]
  },
  {
   "cell_type": "markdown",
   "metadata": {},
   "source": [
    "Let's do topic modeling for "
   ]
  },
  {
   "cell_type": "code",
   "execution_count": 12,
   "metadata": {
    "ExecuteTime": {
     "end_time": "2019-11-10T08:17:14.551044Z",
     "start_time": "2019-11-10T08:17:14.313109Z"
    }
   },
   "outputs": [
    {
     "data": {
      "text/plain": [
       "(1175, 16336)"
      ]
     },
     "execution_count": 12,
     "metadata": {},
     "output_type": "execute_result"
    }
   ],
   "source": [
    "cv1 = CountVectorizer(stop_words='english')\n",
    "cv_doc_word = cv1.fit_transform(love_snippets.love)\n",
    "cv_doc_word.shape"
   ]
  },
  {
   "cell_type": "markdown",
   "metadata": {},
   "source": [
    "For information: The following code shows the list of stop words currently used by scikit-learn's feature extraction tools:"
   ]
  },
  {
   "cell_type": "code",
   "execution_count": 13,
   "metadata": {
    "ExecuteTime": {
     "end_time": "2019-11-10T08:17:14.584845Z",
     "start_time": "2019-11-10T08:17:14.552868Z"
    }
   },
   "outputs": [],
   "source": [
    "# from sklearn.feature_extraction import stop_words\n",
    "# print(sorted(stop_words.ENGLISH_STOP_WORDS))"
   ]
  },
  {
   "cell_type": "code",
   "execution_count": 14,
   "metadata": {
    "ExecuteTime": {
     "end_time": "2019-11-10T08:17:14.754857Z",
     "start_time": "2019-11-10T08:17:14.587395Z"
    }
   },
   "outputs": [
    {
     "name": "stdout",
     "output_type": "stream",
     "text": [
      "2 topics variance ratios: [0.29492939 0.04788742]\n",
      "3 topics variance ratios: [0.29492939 0.04788743 0.04085096]\n",
      "4 topics variance ratios: [0.29492939 0.04788743 0.04085096 0.02304909]\n",
      "5 topics variance ratios: [0.29492939 0.04788743 0.04085094 0.02304923 0.02527252]\n"
     ]
    }
   ],
   "source": [
    "cv_lsa=[]\n",
    "cv_doc_topic=[]\n",
    "for i in range(2,6):\n",
    "    cv_lsa.append(TruncatedSVD(i))\n",
    "    cv_doc_topic.append(cv_lsa[i-2].fit_transform(cv_doc_word))\n",
    "    print(int(i),'topics variance ratios:',cv_lsa[i-2].explained_variance_ratio_)"
   ]
  },
  {
   "cell_type": "markdown",
   "metadata": {},
   "source": [
    "This is the topic_term matrix:"
   ]
  },
  {
   "cell_type": "code",
   "execution_count": 15,
   "metadata": {
    "ExecuteTime": {
     "end_time": "2019-11-10T08:17:14.795840Z",
     "start_time": "2019-11-10T08:17:14.756625Z"
    },
    "scrolled": true
   },
   "outputs": [
    {
     "data": {
      "text/plain": [
       "array([[ 1.09794731e-02,  1.93832151e-05,  1.70242054e-05, ...,\n",
       "         3.14538877e-05,  3.91648794e-05,  3.47519518e-05],\n",
       "       [-5.35296332e-03, -4.73520212e-06, -1.17577056e-05, ...,\n",
       "         8.51476459e-05,  5.63211139e-05, -4.66339623e-06]])"
      ]
     },
     "execution_count": 15,
     "metadata": {},
     "output_type": "execute_result"
    }
   ],
   "source": [
    "cv_lsa[0].components_"
   ]
  },
  {
   "cell_type": "code",
   "execution_count": 16,
   "metadata": {
    "ExecuteTime": {
     "end_time": "2019-11-10T08:17:14.839567Z",
     "start_time": "2019-11-10T08:17:14.797634Z"
    }
   },
   "outputs": [],
   "source": [
    "def display_topics(model, feature_names, no_top_words, topic_names=None):\n",
    "    for ix, topic in enumerate(model.components_):\n",
    "        if not topic_names or not topic_names[ix]:\n",
    "            print(\"\\nTopic \", ix)\n",
    "        else:\n",
    "            print(\"\\nTopic: '\",topic_names[ix],\"'\")\n",
    "        print(\", \".join([feature_names[i]\n",
    "                        for i in topic.argsort()[:-no_top_words - 1:-1]]))"
   ]
  },
  {
   "cell_type": "code",
   "execution_count": 17,
   "metadata": {
    "ExecuteTime": {
     "end_time": "2019-11-10T08:17:14.878848Z",
     "start_time": "2019-11-10T08:17:14.841522Z"
    }
   },
   "outputs": [
    {
     "data": {
      "text/plain": [
       "TruncatedSVD(algorithm='randomized', n_components=2, n_iter=5,\n",
       "             random_state=None, tol=0.0)"
      ]
     },
     "execution_count": 17,
     "metadata": {},
     "output_type": "execute_result"
    }
   ],
   "source": [
    "cv_lsa[0]"
   ]
  },
  {
   "cell_type": "code",
   "execution_count": 18,
   "metadata": {
    "ExecuteTime": {
     "end_time": "2019-11-10T08:17:14.927589Z",
     "start_time": "2019-11-10T08:17:14.880501Z"
    },
    "scrolled": true
   },
   "outputs": [
    {
     "name": "stdout",
     "output_type": "stream",
     "text": [
      "\n",
      "Topic  0\n",
      "love, people, just, like, think, know, really, romantic, laughter, want\n",
      "\n",
      "Topic  1\n",
      "come, wait, road, lies, free, ll, way, tennessee, hard, low\n"
     ]
    }
   ],
   "source": [
    "display_topics(cv_lsa[0], cv1.get_feature_names(), 10)"
   ]
  },
  {
   "cell_type": "code",
   "execution_count": 19,
   "metadata": {
    "ExecuteTime": {
     "end_time": "2019-11-10T08:17:14.963428Z",
     "start_time": "2019-11-10T08:17:14.929370Z"
    }
   },
   "outputs": [
    {
     "data": {
      "text/plain": [
       "array([[ 3.99177193,  1.04836966],\n",
       "       [ 1.55613055, -0.08192161],\n",
       "       [ 1.44609881,  0.0454564 ],\n",
       "       [ 3.66288633,  1.0352136 ],\n",
       "       [22.10610335, -0.81132147]])"
      ]
     },
     "execution_count": 19,
     "metadata": {},
     "output_type": "execute_result"
    }
   ],
   "source": [
    "cv_doc_topic[0][:5,:]"
   ]
  },
  {
   "cell_type": "code",
   "execution_count": 20,
   "metadata": {
    "ExecuteTime": {
     "end_time": "2019-11-10T08:17:15.160404Z",
     "start_time": "2019-11-10T08:17:14.965130Z"
    },
    "scrolled": true
   },
   "outputs": [
    {
     "data": {
      "image/png": "[encoded data removed]",
      "text/plain": [
       "<Figure size 432x288 with 1 Axes>"
      ]
     },
     "metadata": {
      "needs_background": "light"
     },
     "output_type": "display_data"
    }
   ],
   "source": [
    "plt.scatter(cv_doc_topic[0][:,0],cv_doc_topic[0][:,1], alpha = 0.5);\n",
    "# plt.axis([0, 60, -6, 10])"
   ]
  },
  {
   "cell_type": "code",
   "execution_count": 21,
   "metadata": {
    "ExecuteTime": {
     "end_time": "2019-11-10T08:17:16.189458Z",
     "start_time": "2019-11-10T08:17:15.162204Z"
    }
   },
   "outputs": [
    {
     "data": {
      "text/plain": [
       "[0, 70, -6, 10]"
      ]
     },
     "execution_count": 21,
     "metadata": {},
     "output_type": "execute_result"
    },
    {
     "data": {
      "image/png": "[encoded data removed]",
      "text/plain": [
       "<Figure size 360x216 with 1 Axes>"
      ]
     },
     "metadata": {
      "needs_background": "light"
     },
     "output_type": "display_data"
    }
   ],
   "source": [
    "num_clusters = 4\n",
    "km = KMeans(n_clusters=num_clusters,random_state=10,n_init=300,verbose=0) # n_init, number of times the K-mean algorithm will run\n",
    "km.fit(cv_doc_topic[0])\n",
    "km.labels_\n",
    "cmap = {0:'r',1:'g',2:'b',3:'k',4:'m',5:'y',6:'orange',7:'c',8:'aqua',9:'yellow'}\n",
    "col = pd.DataFrame(np.array([km.labels_])).transpose()[0].map(cmap)\n",
    "plt.figure(figsize=(5,3))\n",
    "plt.scatter(cv_doc_topic[0][:,0],cv_doc_topic[0][:,1],c=col, alpha = 0.5);\n",
    "plt.axis([0, 70, -6, 10])"
   ]
  },
  {
   "cell_type": "markdown",
   "metadata": {},
   "source": [
    "There doesn't really seem to be a great collection of clusters in that 2D space!  However, some of the points are showing to be \"outliers\".  Let's look into them."
   ]
  },
  {
   "cell_type": "code",
   "execution_count": 22,
   "metadata": {
    "ExecuteTime": {
     "end_time": "2019-11-10T08:17:16.231832Z",
     "start_time": "2019-11-10T08:17:16.191174Z"
    }
   },
   "outputs": [
    {
     "data": {
      "text/html": [
       "<div>\n",
       "<style scoped>\n",
       "    .dataframe tbody tr th:only-of-type {\n",
       "        vertical-align: middle;\n",
       "    }\n",
       "\n",
       "    .dataframe tbody tr th {\n",
       "        vertical-align: top;\n",
       "    }\n",
       "\n",
       "    .dataframe thead th {\n",
       "        text-align: right;\n",
       "    }\n",
       "</style>\n",
       "<table border=\"1\" class=\"dataframe\">\n",
       "  <thead>\n",
       "    <tr style=\"text-align: right;\">\n",
       "      <th></th>\n",
       "      <th>0</th>\n",
       "      <th>1</th>\n",
       "    </tr>\n",
       "  </thead>\n",
       "  <tbody>\n",
       "    <tr>\n",
       "      <td>0</td>\n",
       "      <td>3.991772</td>\n",
       "      <td>1.048370</td>\n",
       "    </tr>\n",
       "    <tr>\n",
       "      <td>1</td>\n",
       "      <td>1.556131</td>\n",
       "      <td>-0.081922</td>\n",
       "    </tr>\n",
       "    <tr>\n",
       "      <td>2</td>\n",
       "      <td>1.446099</td>\n",
       "      <td>0.045456</td>\n",
       "    </tr>\n",
       "    <tr>\n",
       "      <td>3</td>\n",
       "      <td>3.662886</td>\n",
       "      <td>1.035214</td>\n",
       "    </tr>\n",
       "    <tr>\n",
       "      <td>4</td>\n",
       "      <td>22.106103</td>\n",
       "      <td>-0.811321</td>\n",
       "    </tr>\n",
       "  </tbody>\n",
       "</table>\n",
       "</div>"
      ],
      "text/plain": [
       "           0         1\n",
       "0   3.991772  1.048370\n",
       "1   1.556131 -0.081922\n",
       "2   1.446099  0.045456\n",
       "3   3.662886  1.035214\n",
       "4  22.106103 -0.811321"
      ]
     },
     "execution_count": 22,
     "metadata": {},
     "output_type": "execute_result"
    }
   ],
   "source": [
    "df = pd.DataFrame(cv_doc_topic[0])\n",
    "df.head()"
   ]
  },
  {
   "cell_type": "markdown",
   "metadata": {},
   "source": [
    "These are the rows of the doc_topic array that are \"interesting\"..."
   ]
  },
  {
   "cell_type": "code",
   "execution_count": 23,
   "metadata": {
    "ExecuteTime": {
     "end_time": "2019-11-10T08:17:16.275568Z",
     "start_time": "2019-11-10T08:17:16.237474Z"
    }
   },
   "outputs": [
    {
     "data": {
      "text/plain": [
       "0     60.684357\n",
       "1    149.483337\n",
       "Name: 1134, dtype: float64"
      ]
     },
     "execution_count": 23,
     "metadata": {},
     "output_type": "execute_result"
    }
   ],
   "source": [
    "df.loc[df.iloc[:,1].idxmax()]   # index of the single high y \"outlier\":"
   ]
  },
  {
   "cell_type": "code",
   "execution_count": 24,
   "metadata": {
    "ExecuteTime": {
     "end_time": "2019-11-10T08:17:16.315401Z",
     "start_time": "2019-11-10T08:17:16.277936Z"
    },
    "scrolled": true
   },
   "outputs": [
    {
     "data": {
      "text/html": [
       "<div>\n",
       "<style scoped>\n",
       "    .dataframe tbody tr th:only-of-type {\n",
       "        vertical-align: middle;\n",
       "    }\n",
       "\n",
       "    .dataframe tbody tr th {\n",
       "        vertical-align: top;\n",
       "    }\n",
       "\n",
       "    .dataframe thead th {\n",
       "        text-align: right;\n",
       "    }\n",
       "</style>\n",
       "<table border=\"1\" class=\"dataframe\">\n",
       "  <thead>\n",
       "    <tr style=\"text-align: right;\">\n",
       "      <th></th>\n",
       "      <th>0</th>\n",
       "      <th>1</th>\n",
       "    </tr>\n",
       "  </thead>\n",
       "  <tbody>\n",
       "    <tr>\n",
       "      <td>16</td>\n",
       "      <td>152.139972</td>\n",
       "      <td>-21.408306</td>\n",
       "    </tr>\n",
       "    <tr>\n",
       "      <td>116</td>\n",
       "      <td>166.887618</td>\n",
       "      <td>-11.754619</td>\n",
       "    </tr>\n",
       "    <tr>\n",
       "      <td>918</td>\n",
       "      <td>129.670173</td>\n",
       "      <td>-13.947896</td>\n",
       "    </tr>\n",
       "    <tr>\n",
       "      <td>1073</td>\n",
       "      <td>174.084158</td>\n",
       "      <td>-9.611589</td>\n",
       "    </tr>\n",
       "  </tbody>\n",
       "</table>\n",
       "</div>"
      ],
      "text/plain": [
       "               0          1\n",
       "16    152.139972 -21.408306\n",
       "116   166.887618 -11.754619\n",
       "918   129.670173 -13.947896\n",
       "1073  174.084158  -9.611589"
      ]
     },
     "execution_count": 24,
     "metadata": {},
     "output_type": "execute_result"
    }
   ],
   "source": [
    "df[df.iloc[:,0]>100]   # indices of 4 high x \"outliers\":"
   ]
  },
  {
   "cell_type": "markdown",
   "metadata": {},
   "source": [
    "Change ind below to each of the \"interesting\" indices above to see the text scored.  \n",
    "Note: Uncomment last line to see entry."
   ]
  },
  {
   "cell_type": "code",
   "execution_count": 25,
   "metadata": {
    "ExecuteTime": {
     "end_time": "2019-11-10T08:17:16.353754Z",
     "start_time": "2019-11-10T08:17:16.317294Z"
    }
   },
   "outputs": [
    {
     "name": "stdout",
     "output_type": "stream",
     "text": [
      "14.0\n"
     ]
    }
   ],
   "source": [
    "ind=1134\n",
    "print(love_snippets.iloc[ind].n_love_sents)\n",
    "# love_snippets.iloc[ind].love"
   ]
  },
  {
   "cell_type": "markdown",
   "metadata": {},
   "source": [
    "Let me center and normalize the 2 topic results:"
   ]
  },
  {
   "cell_type": "code",
   "execution_count": 26,
   "metadata": {
    "ExecuteTime": {
     "end_time": "2019-11-10T08:17:17.038710Z",
     "start_time": "2019-11-10T08:17:16.355741Z"
    }
   },
   "outputs": [
    {
     "data": {
      "text/plain": [
       "[-1, 1, -1, 1]"
      ]
     },
     "execution_count": 26,
     "metadata": {},
     "output_type": "execute_result"
    },
    {
     "data": {
      "image/png": "[encoded data removed]",
      "text/plain": [
       "<Figure size 360x360 with 1 Axes>"
      ]
     },
     "metadata": {
      "needs_background": "light"
     },
     "output_type": "display_data"
    }
   ],
   "source": [
    "# x_mean, y_mean = df.mean()\n",
    "x_mean, y_mean = 0,0\n",
    "\n",
    "df2=df.copy()\n",
    "for i,row in df.iterrows():\n",
    "    x, y = row[0].copy()-x_mean,row[1].copy()-y_mean\n",
    "    df2.iloc[i,0]=x/(x**2+y**2)**0.5\n",
    "    df2.iloc[i,1]=y/(x**2+y**2)**0.5\n",
    "df2.plot.scatter(x=0,y=1,figsize=(5,5));\n",
    "plt.axis([-1,1,-1,1])"
   ]
  },
  {
   "cell_type": "code",
   "execution_count": 27,
   "metadata": {
    "ExecuteTime": {
     "end_time": "2019-11-10T08:17:17.266396Z",
     "start_time": "2019-11-10T08:17:17.040601Z"
    },
    "scrolled": true
   },
   "outputs": [
    {
     "data": {
      "text/plain": [
       "[-1, 1, -1, 1]"
      ]
     },
     "execution_count": 27,
     "metadata": {},
     "output_type": "execute_result"
    },
    {
     "data": {
      "image/png": "[encoded data removed]",
      "text/plain": [
       "<Figure size 288x288 with 1 Axes>"
      ]
     },
     "metadata": {
      "needs_background": "light"
     },
     "output_type": "display_data"
    }
   ],
   "source": [
    "\n",
    "# num_clusters = 3\n",
    "# km = KMeans(n_clusters=num_clusters,random_state=10,n_init=300,verbose=0) # n_init, number of times the K-mean algorithm will run\n",
    "# km.fit(df2)\n",
    "# km.labels_\n",
    "cmap = {0:'r',1:'g',2:'b',3:'c',4:'m',5:'y',6:'orange',7:'k',8:'aqua',9:'yellow'}\n",
    "col = pd.DataFrame(np.array([km.labels_])).transpose()[0].map(cmap)\n",
    "df2.plot.scatter(x=0,y=1,figsize=(4,4), c=col, alpha = 0.5);\n",
    "plt.axis([-1,1,-1,1])\n",
    "# plt.savefig(\"reports/figures/figure_1.png\")"
   ]
  },
  {
   "cell_type": "code",
   "execution_count": null,
   "metadata": {},
   "outputs": [],
   "source": []
  },
  {
   "cell_type": "code",
   "execution_count": null,
   "metadata": {},
   "outputs": [],
   "source": []
  },
  {
   "cell_type": "code",
   "execution_count": null,
   "metadata": {},
   "outputs": [],
   "source": []
  },
  {
   "cell_type": "code",
   "execution_count": 28,
   "metadata": {
    "ExecuteTime": {
     "end_time": "2019-11-10T08:17:17.301083Z",
     "start_time": "2019-11-10T08:17:17.268147Z"
    }
   },
   "outputs": [],
   "source": [
    "from sklearn.feature_extraction.text import TfidfVectorizer"
   ]
  },
  {
   "cell_type": "code",
   "execution_count": 29,
   "metadata": {
    "ExecuteTime": {
     "end_time": "2019-11-10T08:17:17.534605Z",
     "start_time": "2019-11-10T08:17:17.303339Z"
    }
   },
   "outputs": [
    {
     "data": {
      "text/plain": [
       "(1175, 16336)"
      ]
     },
     "execution_count": 29,
     "metadata": {},
     "output_type": "execute_result"
    }
   ],
   "source": [
    "tfidf1 = TfidfVectorizer(stop_words='english')\n",
    "doc_words_tfidf1 = tfidf1.fit_transform(love_snippets.love)\n",
    "doc_words_tfidf1.shape"
   ]
  },
  {
   "cell_type": "code",
   "execution_count": 30,
   "metadata": {
    "ExecuteTime": {
     "end_time": "2019-11-10T08:17:17.720978Z",
     "start_time": "2019-11-10T08:17:17.536354Z"
    }
   },
   "outputs": [
    {
     "name": "stdout",
     "output_type": "stream",
     "text": [
      "2 topics variance ratios: [0.00407827 0.00368301]\n",
      "3 topics variance ratios: [0.00407827 0.00370121 0.00320456]\n",
      "4 topics variance ratios: [0.00407827 0.00368232 0.0031541  0.00311487]\n",
      "5 topics variance ratios: [0.00407827 0.00370199 0.00320611 0.00313409 0.00294168]\n",
      "6 topics variance ratios: [0.00407827 0.00370244 0.00316197 0.00310971 0.00298309 0.00282535]\n"
     ]
    }
   ],
   "source": [
    "tfidf_lsa=[]\n",
    "tfidf_doc_topic=[]\n",
    "for i in range(2,7):\n",
    "    tfidf_lsa.append(TruncatedSVD(i))\n",
    "    tfidf_doc_topic.append(tfidf_lsa[i-2].fit_transform(doc_words_tfidf1))\n",
    "    print(int(i),'topics variance ratios:',tfidf_lsa[i-2].explained_variance_ratio_)"
   ]
  },
  {
   "cell_type": "code",
   "execution_count": 31,
   "metadata": {
    "ExecuteTime": {
     "end_time": "2019-11-10T08:17:17.898679Z",
     "start_time": "2019-11-10T08:17:17.723217Z"
    },
    "scrolled": true
   },
   "outputs": [
    {
     "data": {
      "image/png": "[encoded data removed]",
      "text/plain": [
       "<Figure size 432x288 with 1 Axes>"
      ]
     },
     "metadata": {
      "needs_background": "light"
     },
     "output_type": "display_data"
    }
   ],
   "source": [
    "plt.scatter(tfidf_doc_topic[0][:,0],tfidf_doc_topic[0][:,1], alpha = 0.5);"
   ]
  },
  {
   "cell_type": "code",
   "execution_count": 32,
   "metadata": {
    "ExecuteTime": {
     "end_time": "2019-11-10T08:17:17.943159Z",
     "start_time": "2019-11-10T08:17:17.900393Z"
    }
   },
   "outputs": [
    {
     "data": {
      "text/plain": [
       "KMeans(algorithm='auto', copy_x=True, init='k-means++', max_iter=300,\n",
       "       n_clusters=2, n_init=1, n_jobs=None, precompute_distances='auto',\n",
       "       random_state=10, tol=0.0001, verbose=0)"
      ]
     },
     "execution_count": 32,
     "metadata": {},
     "output_type": "execute_result"
    }
   ],
   "source": [
    "num_clusters = 2\n",
    "km = KMeans(n_clusters=num_clusters,random_state=10,n_init=1) # n_init, number of times the K-mean algorithm will run\n",
    "km.fit(tfidf_doc_topic[4])"
   ]
  },
  {
   "cell_type": "code",
   "execution_count": 33,
   "metadata": {
    "ExecuteTime": {
     "end_time": "2019-11-10T08:17:17.978717Z",
     "start_time": "2019-11-10T08:17:17.944836Z"
    }
   },
   "outputs": [
    {
     "data": {
      "text/plain": [
       "array([0, 1, 1, ..., 1, 0, 1], dtype=int32)"
      ]
     },
     "execution_count": 33,
     "metadata": {},
     "output_type": "execute_result"
    }
   ],
   "source": [
    "km.labels_"
   ]
  },
  {
   "cell_type": "code",
   "execution_count": 34,
   "metadata": {
    "ExecuteTime": {
     "end_time": "2019-11-10T08:17:18.014074Z",
     "start_time": "2019-11-10T08:17:17.980464Z"
    }
   },
   "outputs": [],
   "source": [
    "from sklearn.manifold import TSNE"
   ]
  },
  {
   "cell_type": "code",
   "execution_count": 35,
   "metadata": {
    "ExecuteTime": {
     "end_time": "2019-11-10T08:17:24.792690Z",
     "start_time": "2019-11-10T08:17:18.015811Z"
    }
   },
   "outputs": [
    {
     "name": "stdout",
     "output_type": "stream",
     "text": [
      "[t-SNE] Computing 91 nearest neighbors...\n",
      "[t-SNE] Indexed 1175 samples in 0.000s...\n",
      "[t-SNE] Computed neighbors for 1175 samples in 0.034s...\n",
      "[t-SNE] Computed conditional probabilities for sample 1000 / 1175\n",
      "[t-SNE] Computed conditional probabilities for sample 1175 / 1175\n",
      "[t-SNE] Mean sigma: 0.034412\n",
      "[t-SNE] KL divergence after 250 iterations with early exaggeration: 71.811325\n",
      "[t-SNE] KL divergence after 1000 iterations: 1.406160\n"
     ]
    }
   ],
   "source": [
    "model = TSNE(n_components=2, random_state=0,verbose=1)\n",
    "low_data = model.fit_transform(tfidf_doc_topic[4])"
   ]
  },
  {
   "cell_type": "code",
   "execution_count": 36,
   "metadata": {
    "ExecuteTime": {
     "end_time": "2019-11-10T08:17:24.833684Z",
     "start_time": "2019-11-10T08:17:24.794442Z"
    }
   },
   "outputs": [
    {
     "data": {
      "text/plain": [
       "1175"
      ]
     },
     "execution_count": 36,
     "metadata": {},
     "output_type": "execute_result"
    }
   ],
   "source": [
    "len(low_data)"
   ]
  },
  {
   "cell_type": "code",
   "execution_count": 37,
   "metadata": {
    "ExecuteTime": {
     "end_time": "2019-11-10T08:17:25.103956Z",
     "start_time": "2019-11-10T08:17:24.835216Z"
    }
   },
   "outputs": [
    {
     "ename": "NameError",
     "evalue": "name 'cycle' is not defined",
     "output_type": "error",
     "traceback": [
      "\u001b[0;31m---------------------------------------------------------------------------\u001b[0m",
      "\u001b[0;31mNameError\u001b[0m                                 Traceback (most recent call last)",
      "\u001b[0;32m<ipython-input-37-356ee02e0d91>\u001b[0m in \u001b[0;36m<module>\u001b[0;34m\u001b[0m\n\u001b[1;32m      2\u001b[0m \u001b[0;31m#target_names = digits.target_names\u001b[0m\u001b[0;34m\u001b[0m\u001b[0;34m\u001b[0m\u001b[0;34m\u001b[0m\u001b[0m\n\u001b[1;32m      3\u001b[0m \u001b[0;34m\u001b[0m\u001b[0m\n\u001b[0;32m----> 4\u001b[0;31m \u001b[0mcolors\u001b[0m \u001b[0;34m=\u001b[0m \u001b[0mcycle\u001b[0m\u001b[0;34m(\u001b[0m\u001b[0;34m[\u001b[0m\u001b[0;34m'r'\u001b[0m\u001b[0;34m,\u001b[0m\u001b[0;34m'g'\u001b[0m\u001b[0;34m,\u001b[0m\u001b[0;34m'b'\u001b[0m\u001b[0;34m,\u001b[0m\u001b[0;34m'c'\u001b[0m\u001b[0;34m,\u001b[0m\u001b[0;34m'm'\u001b[0m\u001b[0;34m,\u001b[0m\u001b[0;34m'y'\u001b[0m\u001b[0;34m,\u001b[0m\u001b[0;34m'orange'\u001b[0m\u001b[0;34m,\u001b[0m\u001b[0;34m'k'\u001b[0m\u001b[0;34m,\u001b[0m\u001b[0;34m'aqua'\u001b[0m\u001b[0;34m,\u001b[0m\u001b[0;34m'yellow'\u001b[0m\u001b[0;34m]\u001b[0m\u001b[0;34m)\u001b[0m\u001b[0;34m\u001b[0m\u001b[0;34m\u001b[0m\u001b[0m\n\u001b[0m\u001b[1;32m      5\u001b[0m \u001b[0mtarget_ids\u001b[0m \u001b[0;34m=\u001b[0m \u001b[0mrange\u001b[0m\u001b[0;34m(\u001b[0m\u001b[0mlen\u001b[0m\u001b[0;34m(\u001b[0m\u001b[0mtarget_names\u001b[0m\u001b[0;34m)\u001b[0m\u001b[0;34m)\u001b[0m\u001b[0;34m\u001b[0m\u001b[0;34m\u001b[0m\u001b[0m\n\u001b[1;32m      6\u001b[0m \u001b[0mplt\u001b[0m\u001b[0;34m.\u001b[0m\u001b[0mfigure\u001b[0m\u001b[0;34m(\u001b[0m\u001b[0mdpi\u001b[0m\u001b[0;34m=\u001b[0m\u001b[0;36m150\u001b[0m\u001b[0;34m)\u001b[0m\u001b[0;34m\u001b[0m\u001b[0;34m\u001b[0m\u001b[0m\n",
      "\u001b[0;31mNameError\u001b[0m: name 'cycle' is not defined"
     ]
    }
   ],
   "source": [
    "target = km.labels_\n",
    "#target_names = digits.target_names\n",
    "\n",
    "colors = cycle(['r','g','b','c','m','y','orange','k','aqua','yellow'])\n",
    "target_ids = range(len(target_names))\n",
    "plt.figure(dpi=150)\n",
    "for i, c, label in zip(target_ids, colors, target_names):\n",
    "    plt.scatter(low_data[target == i, 0], low_data[target == i, 1], c=c, label=label, s=15, alpha=1)\n",
    "plt.legend(fontsize=10, loc='upper left', frameon=True, facecolor='#FFFFFF', edgecolor='#333333')\n",
    "plt.xlim(-100,100);\n",
    "plt.title(\"Digit Clusters with TSNE\", fontsize=12)\n",
    "plt.ylabel(\"Junk TSNE Axis 2\", fontsize=12)\n",
    "plt.xlabel(\"Junk TSNE Axis 1\", fontsize=12);\n",
    "plt.xticks(fontsize=10)\n",
    "plt.yticks(fontsize=10);"
   ]
  },
  {
   "cell_type": "code",
   "execution_count": null,
   "metadata": {},
   "outputs": [],
   "source": []
  }
 ],
 "metadata": {
  "kernelspec": {
   "display_name": "Python [conda env:metis] *",
   "language": "python",
   "name": "conda-env-metis-py"
  },
  "language_info": {
   "codemirror_mode": {
    "name": "ipython",
    "version": 3
   },
   "file_extension": ".py",
   "mimetype": "text/x-python",
   "name": "python",
   "nbconvert_exporter": "python",
   "pygments_lexer": "ipython3",
   "version": "3.7.3"
  },
  "toc": {
   "base_numbering": 1,
   "nav_menu": {},
   "number_sections": true,
   "sideBar": true,
   "skip_h1_title": false,
   "title_cell": "Table of Contents",
   "title_sidebar": "Contents",
   "toc_cell": false,
   "toc_position": {},
   "toc_section_display": true,
   "toc_window_display": false
  }
 },
 "nbformat": 4,
 "nbformat_minor": 2
}
