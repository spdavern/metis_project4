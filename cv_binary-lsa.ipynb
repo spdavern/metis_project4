{
 "cells": [
  {
   "cell_type": "code",
   "execution_count": 1,
   "metadata": {
    "ExecuteTime": {
     "end_time": "2019-11-13T23:24:54.591236Z",
     "start_time": "2019-11-13T23:24:53.244343Z"
    }
   },
   "outputs": [],
   "source": [
    "import pandas as pd\n",
    "import numpy as np\n",
    "import nltk\n",
    "from nltk.tokenize import sent_tokenize\n",
    "from nltk.tokenize import punkt\n",
    "from sklearn.feature_extraction.text import CountVectorizer\n",
    "from sklearn.metrics.pairwise import cosine_similarity\n",
    "from sklearn.metrics import pairwise_distances\n",
    "from sklearn.preprocessing import normalize\n",
    "from src.functions import get_sents, display_topics\n",
    "from sklearn.decomposition import TruncatedSVD\n",
    "from sklearn.cluster import KMeans\n",
    "from yellowbrick.cluster import KElbowVisualizer\n",
    "import matplotlib.pylab as plt\n",
    "%matplotlib inline"
   ]
  },
  {
   "cell_type": "code",
   "execution_count": 2,
   "metadata": {
    "ExecuteTime": {
     "end_time": "2019-11-13T23:24:54.768606Z",
     "start_time": "2019-11-13T23:24:54.593399Z"
    }
   },
   "outputs": [],
   "source": [
    "# Get the collection of n(=1)-sentence snippets with the word 'love'\n",
    "love_snippets = pd.read_pickle('./data/processed/love_snippets')"
   ]
  },
  {
   "cell_type": "markdown",
   "metadata": {},
   "source": [
    "From results EDA I found that talk ID=132 and 2382 were 'outliers' after dimension reduction was performed when using CountVectorizer(binary=False).  These two talks were songs that mentioned love a lot.  By deleting them I'm trying to capture orthogonal variance in topics modeling to not be dominated by these 2 talks."
   ]
  },
  {
   "cell_type": "code",
   "execution_count": 3,
   "metadata": {
    "ExecuteTime": {
     "end_time": "2019-11-13T23:24:54.783163Z",
     "start_time": "2019-11-13T23:24:54.770925Z"
    },
    "scrolled": false
   },
   "outputs": [
    {
     "data": {
      "text/html": [
       "<div>\n",
       "<style scoped>\n",
       "    .dataframe tbody tr th:only-of-type {\n",
       "        vertical-align: middle;\n",
       "    }\n",
       "\n",
       "    .dataframe tbody tr th {\n",
       "        vertical-align: top;\n",
       "    }\n",
       "\n",
       "    .dataframe thead th {\n",
       "        text-align: right;\n",
       "    }\n",
       "</style>\n",
       "<table border=\"1\" class=\"dataframe\">\n",
       "  <thead>\n",
       "    <tr style=\"text-align: right;\">\n",
       "      <th></th>\n",
       "      <th>transcript</th>\n",
       "      <th>url</th>\n",
       "      <th>n_love_sents</th>\n",
       "      <th>love</th>\n",
       "    </tr>\n",
       "  </thead>\n",
       "  <tbody>\n",
       "    <tr>\n",
       "      <td>132</td>\n",
       "      <td>I’d like to dedicate this one to all the women...</td>\n",
       "      <td>https://www.ted.com/talks/vusi_mahlasela_sings...</td>\n",
       "      <td>12.0</td>\n",
       "      <td>♫ ♫ Should I now stop singing of love, ♫ ♫ now...</td>\n",
       "    </tr>\n",
       "    <tr>\n",
       "      <td>2382</td>\n",
       "      <td>(Sings) Water Boy(Guitar strum)where are you h...</td>\n",
       "      <td>https://www.ted.com/talks/rhiannon_giddens_3_s...</td>\n",
       "      <td>15.0</td>\n",
       "      <td>So I wrote a song based on some of those narra...</td>\n",
       "    </tr>\n",
       "  </tbody>\n",
       "</table>\n",
       "</div>"
      ],
      "text/plain": [
       "                                             transcript  \\\n",
       "132   I’d like to dedicate this one to all the women...   \n",
       "2382  (Sings) Water Boy(Guitar strum)where are you h...   \n",
       "\n",
       "                                                    url  n_love_sents  \\\n",
       "132   https://www.ted.com/talks/vusi_mahlasela_sings...          12.0   \n",
       "2382  https://www.ted.com/talks/rhiannon_giddens_3_s...          15.0   \n",
       "\n",
       "                                                   love  \n",
       "132   ♫ ♫ Should I now stop singing of love, ♫ ♫ now...  \n",
       "2382  So I wrote a song based on some of those narra...  "
      ]
     },
     "execution_count": 3,
     "metadata": {},
     "output_type": "execute_result"
    }
   ],
   "source": [
    "love_snippets.loc[[132, 2382]]"
   ]
  },
  {
   "cell_type": "markdown",
   "metadata": {},
   "source": [
    "I'll uncomment this when I want those song talks eliminated."
   ]
  },
  {
   "cell_type": "code",
   "execution_count": 4,
   "metadata": {
    "ExecuteTime": {
     "end_time": "2019-11-13T23:24:54.786954Z",
     "start_time": "2019-11-13T23:24:54.785124Z"
    }
   },
   "outputs": [],
   "source": [
    "# love_snippets.drop(labels=[132, 2382],inplace=True)"
   ]
  },
  {
   "cell_type": "code",
   "execution_count": 5,
   "metadata": {
    "ExecuteTime": {
     "end_time": "2019-11-13T23:24:54.901882Z",
     "start_time": "2019-11-13T23:24:54.788679Z"
    }
   },
   "outputs": [
    {
     "name": "stdout",
     "output_type": "stream",
     "text": [
      "2 topics variance ratios: [0.02128323 0.01730444]\n",
      "3 topics variance ratios: [0.02128323 0.0173064  0.01293196]\n",
      "4 topics variance ratios: [0.02128323 0.01730641 0.01293146 0.01074545]\n",
      "5 topics variance ratios: [0.02128322 0.01730712 0.01293666 0.01073901 0.00944503]\n"
     ]
    }
   ],
   "source": [
    "# Topic modeling\n",
    "# Vectorize\n",
    "cv1 = CountVectorizer(stop_words='english',binary=True)\n",
    "cv_doc_word = cv1.fit_transform(love_snippets.love)\n",
    "# Dimension Reduction\n",
    "cv_lsa=[]\n",
    "cv_doc_topic=[]\n",
    "for i in range(2,6):\n",
    "    cv_lsa.append(TruncatedSVD(i))\n",
    "    cv_doc_topic.append(cv_lsa[i-2].fit_transform(cv_doc_word))\n",
    "    print(int(i),'topics variance ratios:',cv_lsa[i-2].explained_variance_ratio_)"
   ]
  },
  {
   "cell_type": "code",
   "execution_count": 6,
   "metadata": {
    "ExecuteTime": {
     "end_time": "2019-11-13T23:24:54.912788Z",
     "start_time": "2019-11-13T23:24:54.904207Z"
    }
   },
   "outputs": [
    {
     "name": "stdout",
     "output_type": "stream",
     "text": [
      "\n",
      "Topic  0\n",
      "love, loved, people, like, just, know, think, laughter, really, time, ve, things, life, said\n",
      "\n",
      "Topic  1\n",
      "loved, person, just, think, feel, people, say, got, want, like, time, don, years, life\n"
     ]
    }
   ],
   "source": [
    "display_topics(cv_lsa[0], cv1.get_feature_names(), 14)"
   ]
  },
  {
   "cell_type": "code",
   "execution_count": 7,
   "metadata": {
    "ExecuteTime": {
     "end_time": "2019-11-13T23:24:55.082559Z",
     "start_time": "2019-11-13T23:24:54.914949Z"
    },
    "scrolled": true
   },
   "outputs": [
    {
     "data": {
      "image/png": "[encoded data removed]",
      "text/plain": [
       "<Figure size 432x288 with 1 Axes>"
      ]
     },
     "metadata": {
      "needs_background": "light"
     },
     "output_type": "display_data"
    }
   ],
   "source": [
    "plt.scatter(cv_doc_topic[0][:,0],cv_doc_topic[0][:,1], alpha = 0.5);\n",
    "# plt.axis([0, 60, -30, 10])"
   ]
  },
  {
   "cell_type": "markdown",
   "metadata": {},
   "source": [
    "Investigating the interesting result above seemed  to show that the points in the upper right had longer snippets.  So, I decided to see if there was a relationship with the number of sentences with love in it:\n",
    "\n",
    "Matplotlib colormaps: https://matplotlib.org/3.1.0/tutorials/colors/colormaps.html"
   ]
  },
  {
   "cell_type": "code",
   "execution_count": 8,
   "metadata": {
    "ExecuteTime": {
     "end_time": "2019-11-13T23:24:55.462635Z",
     "start_time": "2019-11-13T23:24:55.086076Z"
    },
    "scrolled": true
   },
   "outputs": [
    {
     "data": {
      "image/png": "[encoded data removed]",
      "text/plain": [
       "<Figure size 288x288 with 2 Axes>"
      ]
     },
     "metadata": {
      "needs_background": "light"
     },
     "output_type": "display_data"
    }
   ],
   "source": [
    "df=pd.DataFrame(cv_doc_topic[0])\n",
    "df.plot.scatter(x=0,y=1,figsize=(4,4), alpha=0.5,\\\n",
    "               c=love_snippets.n_love_sents+3, cmap=plt.get_cmap('gist_heat_r'),vmin=0);"
   ]
  },
  {
   "cell_type": "code",
   "execution_count": 9,
   "metadata": {
    "ExecuteTime": {
     "end_time": "2019-11-13T23:24:55.837880Z",
     "start_time": "2019-11-13T23:24:55.465727Z"
    }
   },
   "outputs": [
    {
     "data": {
      "image/png": "[encoded data removed]",
      "text/plain": [
       "<Figure size 144x288 with 2 Axes>"
      ]
     },
     "metadata": {
      "needs_background": "light"
     },
     "output_type": "display_data"
    }
   ],
   "source": [
    "df = pd.DataFrame(normalize(cv_doc_topic[0]))\n",
    "df.plot.scatter(x=0,y=1,figsize=(2,4), alpha=0.5,\\\n",
    "               c=love_snippets.n_love_sents+2, cmap=plt.get_cmap('gist_heat_r'),vmin=0)\n",
    "plt.axis([0,1.05,-1,1]);\n",
    "# plt.savefig(\"reports/figures/figure_1.png\")"
   ]
  },
  {
   "cell_type": "code",
   "execution_count": 10,
   "metadata": {
    "ExecuteTime": {
     "end_time": "2019-11-13T23:24:56.811745Z",
     "start_time": "2019-11-13T23:24:55.839644Z"
    }
   },
   "outputs": [
    {
     "data": {
      "image/png": "[encoded data removed]",
      "text/plain": [
       "<Figure size 432x288 with 2 Axes>"
      ]
     },
     "metadata": {},
     "output_type": "display_data"
    }
   ],
   "source": [
    "km=KMeans()\n",
    "visualizer = KElbowVisualizer(km, k=(2,12))\n",
    "visualizer.fit(cv_doc_topic[0])        # Fit the data to the visualizer\n",
    "visualizer.show();        # Finalize and render the figure"
   ]
  },
  {
   "cell_type": "code",
   "execution_count": 11,
   "metadata": {
    "ExecuteTime": {
     "end_time": "2019-11-13T23:24:56.817104Z",
     "start_time": "2019-11-13T23:24:56.813430Z"
    }
   },
   "outputs": [
    {
     "data": {
      "text/plain": [
       "5"
      ]
     },
     "execution_count": 11,
     "metadata": {},
     "output_type": "execute_result"
    }
   ],
   "source": [
    "visualizer.elbow_value_"
   ]
  },
  {
   "cell_type": "code",
   "execution_count": 12,
   "metadata": {
    "ExecuteTime": {
     "end_time": "2019-11-13T23:24:58.261095Z",
     "start_time": "2019-11-13T23:24:56.818956Z"
    },
    "scrolled": true
   },
   "outputs": [
    {
     "data": {
      "image/png": "[encoded data removed]",
      "text/plain": [
       "<Figure size 360x288 with 1 Axes>"
      ]
     },
     "metadata": {
      "needs_background": "light"
     },
     "output_type": "display_data"
    }
   ],
   "source": [
    "df=pd.DataFrame(cv_doc_topic[0],columns=['LSA Dimension 0','LSA Dimension 1'])\n",
    "num_clusters = visualizer.elbow_value_\n",
    "km = KMeans(n_clusters=num_clusters,random_state=None,n_init=300,verbose=0) # n_init, number of times the K-mean algorithm will run\n",
    "km.fit(df)\n",
    "km.labels_\n",
    "cmap = {0:'r',1:'g',2:'b',3:'c',4:'m',5:'y',6:'orange',7:'k',8:'aqua',9:'yellow'}\n",
    "col = pd.DataFrame(np.array([km.labels_])).transpose()[0].map(cmap)\n",
    "df.plot.scatter(x='LSA Dimension 0',y='LSA Dimension 1',\\\n",
    "                figsize=(5,4), c=col, alpha = 0.5,title='Topic Modeling of Love');\n",
    "# plt.axis([-1,1.05,-1,1]);"
   ]
  },
  {
   "cell_type": "code",
   "execution_count": 13,
   "metadata": {
    "ExecuteTime": {
     "end_time": "2019-11-13T23:24:58.267360Z",
     "start_time": "2019-11-13T23:24:58.262939Z"
    },
    "scrolled": true
   },
   "outputs": [
    {
     "name": "stdout",
     "output_type": "stream",
     "text": [
      "r [ 0.87313431 -0.54593584]\n",
      "g [2.58769977 0.80779717]\n",
      "b [0.38457909 0.25752768]\n",
      "c [ 1.48143653 -0.13269659]\n",
      "m [5.09312586 4.84760278]\n"
     ]
    }
   ],
   "source": [
    "for i,center in enumerate(km.cluster_centers_):\n",
    "    print(cmap[i],center)"
   ]
  },
  {
   "cell_type": "markdown",
   "metadata": {},
   "source": [
    "Getting the matrix of euclidean distances from the cluster centers: (used to work that out)"
   ]
  },
  {
   "cell_type": "code",
   "execution_count": 14,
   "metadata": {
    "ExecuteTime": {
     "end_time": "2019-11-13T23:24:58.284731Z",
     "start_time": "2019-11-13T23:24:58.269929Z"
    },
    "scrolled": false
   },
   "outputs": [
    {
     "data": {
      "text/html": [
       "<div>\n",
       "<style scoped>\n",
       "    .dataframe tbody tr th:only-of-type {\n",
       "        vertical-align: middle;\n",
       "    }\n",
       "\n",
       "    .dataframe tbody tr th {\n",
       "        vertical-align: top;\n",
       "    }\n",
       "\n",
       "    .dataframe thead th {\n",
       "        text-align: right;\n",
       "    }\n",
       "</style>\n",
       "<table border=\"1\" class=\"dataframe\">\n",
       "  <thead>\n",
       "    <tr style=\"text-align: right;\">\n",
       "      <th></th>\n",
       "      <th>0</th>\n",
       "      <th>1</th>\n",
       "      <th>2</th>\n",
       "      <th>3</th>\n",
       "      <th>4</th>\n",
       "    </tr>\n",
       "  </thead>\n",
       "  <tbody>\n",
       "    <tr>\n",
       "      <td>0</td>\n",
       "      <td>0.562579</td>\n",
       "      <td>1.624177</td>\n",
       "      <td>1.073388</td>\n",
       "      <td>0.172835</td>\n",
       "      <td>6.315689</td>\n",
       "    </tr>\n",
       "    <tr>\n",
       "      <td>1</td>\n",
       "      <td>0.295307</td>\n",
       "      <td>1.889424</td>\n",
       "      <td>0.959710</td>\n",
       "      <td>0.440487</td>\n",
       "      <td>6.564091</td>\n",
       "    </tr>\n",
       "    <tr>\n",
       "      <td>2</td>\n",
       "      <td>0.117123</td>\n",
       "      <td>2.301689</td>\n",
       "      <td>0.961548</td>\n",
       "      <td>0.852261</td>\n",
       "      <td>6.962093</td>\n",
       "    </tr>\n",
       "    <tr>\n",
       "      <td>3</td>\n",
       "      <td>0.635340</td>\n",
       "      <td>1.557512</td>\n",
       "      <td>1.142349</td>\n",
       "      <td>0.109379</td>\n",
       "      <td>6.261347</td>\n",
       "    </tr>\n",
       "    <tr>\n",
       "      <td>4</td>\n",
       "      <td>2.793145</td>\n",
       "      <td>0.614490</td>\n",
       "      <td>2.804909</td>\n",
       "      <td>2.063354</td>\n",
       "      <td>4.151875</td>\n",
       "    </tr>\n",
       "  </tbody>\n",
       "</table>\n",
       "</div>"
      ],
      "text/plain": [
       "          0         1         2         3         4\n",
       "0  0.562579  1.624177  1.073388  0.172835  6.315689\n",
       "1  0.295307  1.889424  0.959710  0.440487  6.564091\n",
       "2  0.117123  2.301689  0.961548  0.852261  6.962093\n",
       "3  0.635340  1.557512  1.142349  0.109379  6.261347\n",
       "4  2.793145  0.614490  2.804909  2.063354  4.151875"
      ]
     },
     "execution_count": 14,
     "metadata": {},
     "output_type": "execute_result"
    }
   ],
   "source": [
    "pd.DataFrame(pairwise_distances(km.cluster_centers_,cv_doc_topic[0]).T).head()"
   ]
  },
  {
   "cell_type": "markdown",
   "metadata": {},
   "source": [
    "Show the snippets from the 4 (euclidean distance) closest documents:"
   ]
  },
  {
   "cell_type": "code",
   "execution_count": 15,
   "metadata": {
    "ExecuteTime": {
     "end_time": "2019-11-13T23:24:58.308443Z",
     "start_time": "2019-11-13T23:24:58.287448Z"
    }
   },
   "outputs": [
    {
     "name": "stdout",
     "output_type": "stream",
     "text": [
      "Cluster centered at: [ 0.87313431 -0.54593584] color= r\n",
      "815 : [ 0.87827282 -0.54912251] His story is the following: He was recruited when he was 17, and sometime later, in his squadron, if you will, this beautiful girl was recruited, and they fell in love. But it turns out that love is very strictly forbidden in the lower ranks of the guerrilla, so their romance was discovered and they were separated. We'd love to help.\n",
      "990 : [ 0.86766756 -0.54013249] (Laughter)Now, I love this species despite the fact that it tried to kill us, and that's because this species in Madagascar, its closest relatives are 6,000 kilometers away, cavefishes in Australia.\n",
      "573 : [ 0.86793633 -0.53822606] Because probably some of the things that we love most are going to be also the things that can hurt us most.\n",
      "626 : [ 0.88276842 -0.53948078] Mike deGruy was also invited, and he spoke with great passion about his love of the ocean, and he also talked to me about applying my approach to something he's been involved with for a very long time, which is the hunt for the giant squid.\n",
      "\n",
      "\n",
      "Cluster centered at: [2.58769977 0.80779717] color= g\n",
      "366 : [2.67647681 0.78922381] \"(Laughter)So I'm a researcher-storyteller, and I'm going to talk to you today — we're talking about expanding perception — and so I want to talk to you and tell some stories about a piece of my research that fundamentally expanded my perception and really actually changed the way that I live and love and work and parent. D. in social work, so my entire academic career was surrounded by people who kind of believed in the \"life's messy, love it. \" Well, apparently this is the way my work went as well, because, when you ask people about love, they tell you about heartbreak. I wrote a book, I published a theory, but something was not okay — and what it was is that, if I roughly took the people I interviewed and divided them into people who really have a sense of worthiness — that's what this comes down to, a sense of worthiness — they have a strong sense of love and belonging — and folks who struggle for it, and folks who are always wondering if they're good enough. There was only one variable that separated the people who have a strong sense of love and belonging and the people who really struggle for it. And that was, the people who have a strong sense of love and belonging believe they're worthy of love and belonging. They talked about the willingness to say, \"I love you\" first .. . And I know that vulnerability is the core of shame and fear and our struggle for worthiness, but it appears that it's also the birthplace of joy, of creativity, of belonging, of love. You're imperfect, and you're wired for struggle, but you are worthy of love and belonging. \" to love with our whole hearts, even though there's no guarantee — and that's really hard, and I can tell you as a parent, that's excruciatingly difficult — to practice gratitude and joy in those moments of terror, when we're wondering, \"Can I love you this much?\n",
      "35 : [2.68366102 0.82813317] Art, in the Platonic sense, is truth; it's beauty, and love. We don't really have a problem talking about love. Well, this experience of love, and the experience of design, to me, are interchangeable. I discovered something about love and design through a project called Deep Blue. And first of all, you have to go with me for a second, and say, you know, you could take the word \"love\" out of a lot of things in our society, put the word \"design\" in, and it still works, like this quote here, you know. I think this one here, there's a pop song that really describes Philippe Starck for me, you know, this is like you know, this is like puppy love, you know, this is cool right? And this idea that there is more to love, more to design, when it gets down to your neighbor, your other, it can be physical like this, and maybe in the future it will be. And one thing about cars is we're all a little bit like Pygmalion, we are completely in love with our own creations. Someone's love, someone's baby. He said, \"Love is not selfish,\" he said, \"Love does not mean counting how many times I say, 'I love you. ' It doesn't mean you had sex this many times this month, and it's two times less than last month, so that means you don't love me as much. Love is not selfish. \" And I thought about this, and I thought, \"You know, I'm not showing love here. I'm seriously not showing love. We put the car back at the center of our thoughts, and we put love, I think, truly back into the center of the process. There's a lot to be said about trust and love, if you know that those two words are synonymous for design. It's true that the trust and the love, that makes it worthwhile.\n",
      "484 : [2.66673417 0.7437336 ] (Music)♫ They stood together ♫ ♫ under a tree in tall grass ♫ ♫ on TV ♫ ♫ telling the world ♫ ♫ their story ♫ ♫ We will be left to wander ♫ ♫ and fade away ♫ ♫ Soldiers came and took our husbands ♫ ♫ at the break of day ♫ ♫ We will live on ♫ ♫ then fade away ♫ ♫ Soldiers came and killed our children ♫ ♫ at the break of day ♫ ♫ Women of hope ♫ ♫ Women of change ♫ ♫ Women of war and pain ♫ ♫ I believe ♫ ♫ I believe the almighty knows each and every one of you ♫ ♫ by your name ♫ ♫ Women of hope ♫ ♫ Women of change ♫ ♫ Women of love, joy, no shame ♫ ♫ You've got something this little life ♫ ♫ can never take away ♫ ♫ Running through the darkness of night ♫ ♫ with a child by her side ♫ ♫ Oh Lord, won't you give them ♫ ♫ a shining armor of light ♫ ♫ Oh Lord, won't you give them ♫ ♫ a shining armor of light ♫ ♫ Daybreak brings a sign of new life ♫ ♫ with the power to stand ♫ ♫ Crossing the border ♫ ♫ she said, \"You will grow free on this land\" ♫ ♫ Women of hope ♫ ♫ Women of change ♫ ♫ Women of war and pain ♫ ♫ I can feel your power ♫ ♫ in these words she said ♫ ♫ If you're feeling helpless ♫ ♫ help someone ♫ ♫ If you're feeling helpless ♫ ♫ help someone ♫ ♫ Nobody really knows ♫ ♫ how far they will go ♫ ♫ to keep on living ♫ ♫ Nobody really knows ♫ ♫ how far they will go ♫ ♫ to keep on giving ♫ ♫ and forgiving ♫ ♫ Aung San Suu Kyi ♫ ♫ living under house arrest ♫ ♫ for her peaceful protest ♫ ♫ under house arrest ♫ ♫ for her peaceful protest ♫ ♫ When her people asked her for a message ♫ ♫ she said ♫ ♫ If you're feeling helpless ♫ ♫ help someone ♫ ♫ If you're feeling helpless ♫ ♫ help someone ♫ ♫ If you're feeling helpless ♫ ♫ help someone ♫ ♫ If you're feeling helpless ♫ ♫ help someone ♫ Now we know the words, let's sing. ♫ If you're feeling helpless ♫ ♫ help someone ♫ ♫ If you're feeling helpless ♫ ♫ help someone ♫ ♫ If you're feeling helpless ♫ ♫ help someone ♫ ♫ If you're feeling helpless ♫ ♫ help someone ♫ ♫ People of hope ♫ ♫ People of change ♫ ♫ People of love, joy, no shame ♫ ♫ I believe the almighty ♫ ♫ knows each and every one of you ♫ ♫ by your name ♫Thank you.\n",
      "939 : [2.48105197 0.87437682] I work a lot, very hard, and I love it. I love working. I just know that I'm not built for failure, and I just know that I love the hum. I love working, right? I love that hum. So what do you do when the thing you do, the work you love, starts to taste like dust?Now, I know somebody's out there thinking, \"Cry me a river, stupid writer titan lady. \"(Laughter)But you know, you do, if you make, if you work, if you love what you do, being a teacher, being a banker, being a mother, being a painter, being Bill Gates, if you simply love another person and that gives you the hum, if you know the hum, if you know what the hum feels like, if you have been to the hum, when the hum stops, who are you? It's just love. It's just love. The real hum is love-specific. The real hum is God's whisper in my ear, but maybe God was whispering the wrong words, because which one of the gods was telling me I was the titan?It's just love. We could all use a little more love, a lot more love. It takes a little time, but after a few months, one day the floodgates open and there's a rush, and I find myself standing in my office filled with an unfamiliar melody, full on groove inside me, and around me, and it sends me spinning with ideas, and the humming road is open, and I can drive it and drive it, and I love working again. But now, I like that hum, but I don't love that hum. Love's hum.\n",
      "\n",
      "\n",
      "Cluster centered at: [0.38457909 0.25752768] color= b\n",
      "958 : [0.39305623 0.25928981] They were simply so good at making what they loved doing, that they wouldn't change.\n",
      "416 : [0.38589057 0.26826183] He loved intellectual battle. He loved to win, win these little macho games we would sometimes play. Feynman loved this story.\n",
      "220 : [0.37559838 0.26430609] What happened was that the family had to get their loved ones some safe place somehow.\n",
      "39 : [0.39346026 0.24124161] ♫ Strolling along in Central Park ♫♫ Everyone's out today ♫♫ The daisies and dogwoods are all in bloom ♫♫ Oh, what a glorious day ♫♫ For picnics and Frisbees and roller skaters, ♫♫ Friends and lovers and lonely sunbathers ♫♫ Everyone's out in merry Manhattan in January ♫(Laughter) (Applause)♫ I brought the iced tea; ♫♫ Did you bring the bug spray?\n",
      "\n",
      "\n",
      "Cluster centered at: [ 1.48143653 -0.13269659] color= c\n",
      "1137 : [ 1.47691862 -0.14062247] From our love of Colorado to our love of sushi, there wasn't much we didn't agree on. We also discovered that we share a deep love of this country and feel a responsibility to be politically active. CQ: I may hate camping, but I love politics. (Laughter)Seeing Lauran's sons at the march and holding signs took it to a new level for me, and not in a good way, because I know these boys, I love these boys, and I didn't feel they were old enough to understand what the march stood for. \"But we love them. Love you.\n",
      "238 : [ 1.48842634 -0.12541448] And it's not just going to happen because a spirit of love wafts us down. It's in his book \"The Four Loves. \" He said that he distinguished between erotic love, when two people gaze, spellbound, into each other's eyes. We don't have to fall in love with each other, but we can become friends.\n",
      "192 : [ 1.49324761 -0.11970423] Now that title, that phrase, comes from a critic, an early critic, and this is a passage that I just love, and would like to read for you. It stands to reason that we love chocolate cake because it is sweet. Just wire the chimps up to love that look, and apparently they do. It was a hyperstimulus for them, and they loved it. It’s important that we love babies, and that we not be put off by, say, messy diapers.\n",
      "592 : [ 1.49907236 -0.12840046] Let's focus on the conversations between our friends and our family and our coworkers and our loved ones. We got their height up against the wall, we put them on a scale, got their weight — ladies loved that — and then we actually got their driver's license to get their age. Those cold, hard winters, I love it. We're going to be able to learn so much more about human thought and expression, about everything from love to attitudes, because everything is being recorded now, but what does it mean for the average citizen?\n",
      "\n",
      "\n",
      "Cluster centered at: [5.09312586 4.84760278] color= m\n",
      "16 : [4.8409662 4.9695962] But I want to start with my work on romantic love, because that's my most recent work. What I and my colleagues did was put 32 people, who were madly in love, into a functional MRI brain scanner. 17 who were madly in love and their love was accepted; and 15 who were madly in love and they had just been dumped. And so I want to tell you about that first, and then go on into where I think love is going. (Laughter)\"What 'tis to love?\" I started out by trying to figure out what romantic love was by looking at the last 45 years of the psychological research and as it turns out, there's a very specific group of things that happen when you fall in love. \"Love consists of overestimating the differences between one woman and another. \" As Chaucer said, \"Love is blind. \"In trying to understand romantic love, I decided I would read poetry from all over the world, and I just want to give you one very short poem from eighth-century China, because it's an almost perfect example of a man who is focused totally on a particular woman. It's a little bit like when you are madly in love with somebody and you walk into a parking lot — their car is different from every other car in the parking lot. Romantic love is very simple. But the moment you fall in love, you become extremely sexually possessive of them. But the main characteristics of romantic love are craving: an intense craving to be with a particular person, not just sexually, but emotionally. , to tell you that they love you. I began to realize that romantic love is not an emotion. But certainly, around the world, people who are rejected in love will kill for it. People live for love. They kill for love. They die for love. The second of these three brain systems is romantic love: that elation, obsession of early love. I think romantic love evolved to enable you to focus your mating energy on just one individual at a time, thereby conserving mating time and energy. One of the last 10,000 years and the other, certainly of the last 25 years, that are going to have an impact on these three different brain systems: lust, romantic love and deep attachment to a partner. I'll say just a couple of things, and then go on to sex and love. I'll only just use a couple and then move on to sex and love. We're also seeing a rise of romantic love. 91 percent of American women and 86 percent of American men would not marry somebody who had every single quality they were looking for in a partner, if they were not in love with that person. People around the world, in a study of 37 societies, want to be in love with the person that they marry. These three brain systems — lust, romantic love and attachment — don't always go together. Dopamine's associated with romantic love, and you can just fall in love with somebody who you're just having casual sex with. This is why you can feel such a sense of cosmic union with somebody after you've made love to them. But these three brain systems: lust, romantic love and attachment, aren't always connected to each other. You can feel deep attachment to a long-term partner while you feel intense romantic love for somebody else, while you feel the sex drive for people unrelated to these other partners. In fact, you can lie in bed at night and swing from deep feelings of attachment for one person to deep feelings of romantic love for somebody else. Dopamine is associated with romantic love. I'm just simply saying that a world without love is a deadly place. I've been studying romantic love and sex and attachment for 30 years. It got me thinking about why it is that you fall in love with one person rather than another. There's all kinds of reasons that you fall in love with one person rather than another. You fall in love with somebody who's somewhat mysterious, in part because mystery elevates dopamine in the brain, probably pushes you over that threshold to fall in love. You fall in love with somebody who fits within what I call your \"love map,\" an unconscious list of traits that you build in childhood as you grow up. I've been carrying on here about the biology of love. And this graduate student was madly in love with another graduate student, and she was not in love with him. And he knew from our work that if you go and do something very novel with somebody, you can drive up the dopamine in the brain, and perhaps trigger this brain system for romantic love. He figured that this would drive up the dopamine, and she'd fall in love with him. \"(Laughter)(Applause)There's magic to love! (Applause)But I will end by saying that millions of years ago, we evolved three basic drives: the sex drive, romantic love and attachment to a long-term partner.\n",
      "893 : [5.47477488 4.83730846] I published this article in the New York Times Modern Love column in January of this year. \"To Fall in Love With Anyone, Do This. \" And the article is about a psychological study designed to create romantic love in the laboratory, and my own experience trying the study myself one night last summer. So I was of course very skeptical about this process of just manufacturing romantic love, but of course I was intrigued. And when I got the chance to try this study myself, with someone I knew but not particularly well, I wasn't expecting to fall in love. But then we did, and —(Laughter)And I thought it made a good story, so I sent it to the Modern Love column a few months later. I had been working on a book about love stories for the past few years, so I had gotten used to writing about my own experiences with romantic love on my blog. It's one thing to work up the confidence to write honestly about your experiences with love, but it is another thing to discover that your love life has made international news —(Laughter)and to realize that people across the world are genuinely invested in the status of your new relationship. I think I was afraid that we would become inadvertent icons for the process of falling in love, a position I did not at all feel qualified for. And I get it: people didn't just want to know if the study worked, they wanted to know if it really worked: that is, if it was capable of producing love that would last, not just a fling, but real love, sustainable love. Dr. Arthur Aron first wrote about these questions in this study here in 1997, and here, the researcher's goal was not to produce romantic love. \"You mean, you didn't fall in love with the person you did it with?\" In fact, I don't think this is the answer that any of us are looking for when it comes to love. I had been in the relationship since I was 20, which was basically my entire adult life, and he was my first real love, and I had no idea how or if I could make a life without him. I researched everything I could find about the science of romantic love, and I think I was hoping that it might somehow inoculate me from heartache. I hoped that if I armed myself with the knowledge of romantic love, I might never have to feel as terrible and lonely as I did then. I am more patient with love. What I want from love is a guarantee, not just that I am loved today and that I will be loved tomorrow, but that I will continue to be loved by the person I love indefinitely. So the story that the media told about the 36 questions was that there might be a shortcut to falling in love. There might be a way to somehow mitigate some of the risk involved, and this is a very appealing story, because falling in love feels amazing, but it's also terrifying. The moment you admit to loving someone, you admit to having a lot to lose, and it's true that these questions do provide a mechanism for getting to know someone quickly, which is also a mechanism for being known, and I think this is the thing that most of us really want from love: to be known, to be seen, to be understood. But I think when it comes to love, we are too willing to accept the short version of the story. So rather than that question, I would propose we ask some more difficult questions, questions like: How do you decide who deserves your love and who does not? How do you stay in love when things get difficult, and how do you know when to just cut and run? I don't necessarily know the answers to these questions, but I think they're an important start at having a more thoughtful conversation about what it means to love someone. So, if you want it, the short version of the story of my relationship is this: a year ago, an acquaintance and I did a study designed to create romantic love, and we fell in love, and we are still together, and I am so glad. But falling in love is not the same thing as staying in love. Falling in love is the easy part. So at the end of my article, I wrote, \"Love didn't happen to us. We're in love because we each made the choice to be. \" I want it to be enough to have asked and answered 36 questions, and to have chosen to love someone so generous and kind and fun and to have broadcast that choice in the biggest newspaper in America. (Laughter)But what I have instead is the chance to make the choice to love someone, and the hope that he will choose to love me back, and it is terrifying, but that's the deal with love.\n",
      "114 : [5.56997603 6.13392042] I and my colleagues Art Aron and Lucy Brown and others, have put 37 people who are madly in love into a functional MRI brain scanner. 17 who were happily in love, 15 who had just been dumped, and we're just starting our third experiment: studying people who report that they're still in love after 10 to 25 years of marriage. And Mayan inscriptions proclaim that he was deeply in love with his wife. After 1,300 years, these two lovers still touch and kiss from their tomb. Around the world, people love. They sing for love, they dance for love, they compose poems and stories about love. They tell myths and legends about love. They pine for love, they live for love, they kill for love, and they die for love. Anthropologists have found evidence of romantic love in 170 societies. But love isn't always a happy experience. In one study of college students, they asked a lot of questions about love, but the two that stood out to me the most were: \"Have you ever been rejected by somebody who you really loved?\" And the second question was: \"Have you ever dumped somebody who really loved you?\" Almost nobody gets out of love alive. So, before I start telling you about the brain, I want to read for you what I think is the most powerful love poem on Earth. There's other love poems that are, of course, just as good, but I don't think this one can be surpassed. Pain runs through my body with the fires of my love for you. Pain like a boil about to burst with my love for you, consumed by fire with my love for you. I am thinking of your love for me. I am torn by your love for me. Pain and more pain — where are you going with my love? Remember what I said, my love. Goodbye, my love, goodbye. \" Romantic love is one of the most powerful sensations on Earth. Our first study of people who were happily in love has been widely publicized, so I'm only going to say very little about it. But romantic love is much more than a cocaine high — at least you come down from cocaine. Romantic love is an obsession, it possesses you. Wild is love. We found activity in the brain region, in exactly the same brain region associated with intense romantic love. You know, when you've been dumped, the one thing you love to do is just forget about this human being, and then go on with your life — but no, you just love them harder. As the poet Terence, the Roman poet once said, he said, \"The less my hope, the hotter my love. \" When you've been rejected in love, not only are you engulfed with feelings of romantic love, but you're feeling deep attachment to this individual. Foremost, I have come to think that romantic love is a drive, a basic mating drive. Romantic love enables you to focus your mating energy on just one at a time, conserve your mating energy, and start the mating process with this single individual. I think of all the poetry that I've read about romantic love, what sums it up best is something that is said by Plato over 2,000 years ago. He said, \"The god of love lives in a state of need. I've also come to believe that romantic love is an addiction: a perfectly wonderful addiction when it's going well, and a perfectly horrible addiction when it's going poorly. I've got a girlfriend who's just getting over a terrible love affair. So, one thing I would like the medical community, and the legal community, and even the college community, to see if they can understand, that indeed, romantic love is one of the most addictive substances on Earth. I would also like to tell the world that animals love. And I think that this is really the origin of what you and I call \"love at first sight. \"People have often asked me whether what I know about love has spoiled it for me. Our newest experiment has been hatched by my colleague, Art Aron — putting people who are reporting that they are still in love, in a long-term relationship, into the functional MRI. The brain areas associated with intense romantic love still become active, 25 years later. There are still many questions to be answered and asked about romantic love. The question that I'm working on right this minute — and I'm only going to say it for a second, and then end — is, why do you fall in love with one person, rather than another? I know what happens in the brain, when you do become in love, but I don't know why you fall in love with one person rather than another. And there are many reasons that you fall in love with one person rather than another, that psychologists can tell you. And we tend to fall in love with somebody from the same socioeconomic background, the same general level of intelligence, of good looks, the same religious values. com, I ask you first a series of questions to see to what degree you express these chemicals, and I'm watching who chooses who to love. I'm putting the data together now, and at some point — there will always be magic to love, but I think I will come closer to understanding why it is you can walk into a room and everybody is from your background, your same general level of intelligence, good looks, and you don't feel pulled towards all of them. So my final statement is: love is in us.\n",
      "1007 : [4.61989756 3.55447554] It's very common around the world, but we are built to love. How is technology changing love? I and my colleagues have put over 100 people into a brain scanner — people who had just fallen happily in love, people who had just been rejected in love and people who are in love long-term. And it is possible to remain \"in love\" long-term. And I've long ago maintained that we've evolved three distinctly different brain systems for mating and reproduction: sex drive, feelings of intense romantic love and feelings of deep cosmic attachment to a long-term partner. But, you know — is this actually dramatically changing love? Even dating sites are not changing love. Technology is also not going to change who you choose to love. Modern technology is not going to change who we choose to love. So I've come to think that due to this cognitive overload, we're ushering in a new form of courtship that I call \"slow love. \" Today's singles want to know every single thing about a partner before they wed. You learn a lot between the sheets, not only about how somebody makes love, but whether they're kind, whether they can listen and at my age, whether they've got a sense of humor. (Laughter)And in an age where we have too many choices, we have very little fear of pregnancy and disease and we've got no feeling of shame for sex before marriage, I think people are taking their time to love. It's not even slow love. As William Butler Yeats, the poet, once said, \"Love is the crooked thing. \" \"But I will leave you with this: love and attachment will prevail, technology cannot change it. And I will conclude by saying any understanding of human relationships must take into account one the most powerful determinants of human behavior: the unquenchable, adaptable and primordial human drive to love. (Applause)So Esther, when you were watching Helen's talk, was there any part of it that resonated with you through the lens of your own work that you'd like to comment on?Esther Perel: It's interesting, because on the one hand, the need for love is ubiquitous and universal. But the way we love — the meaning we make out of it — the rules that govern our relationships, I think, are changing fundamentally. (Laughter)Yeah?So I was thinking — these words came up for me as I was listening to you, like how a vocabulary also creates a reality, and at the same time, that's my question to you: Do you think when the context changes, it still means that the nature of love remains the same?You study the brain and I study people's relationships and stories, so I think it's everything you say, plus. First of all, to your first one: there's no question that we've changed, that we now want a person to love, and for thousands of years, we had to marry the right person from the right background and right kin connection.\n",
      "\n",
      "\n"
     ]
    }
   ],
   "source": [
    "doc_topic = cv_doc_topic[0]\n",
    "euclidean_distances_to_centers=pd.DataFrame(pairwise_distances(km.cluster_centers_,doc_topic).T)\n",
    "for i,center in enumerate(km.cluster_centers_):\n",
    "    n_closest=euclidean_distances_to_centers[i].nsmallest(4)\n",
    "    print('Cluster centered at:',center,'color=',cmap[i])\n",
    "    for j,cs in n_closest.iteritems():\n",
    "#         print(j,cs)\n",
    "        print(j,':',doc_topic[j],love_snippets.iloc[j].love)\n",
    "    print('\\n')"
   ]
  },
  {
   "cell_type": "markdown",
   "metadata": {},
   "source": [
    "I'll now project the doc_topic values onto the unit circle, sphere, hypersphere I.  If I don't re-cluster yet, I'm looking at the clustering results from above:"
   ]
  },
  {
   "cell_type": "code",
   "execution_count": 16,
   "metadata": {
    "ExecuteTime": {
     "end_time": "2019-11-13T23:24:58.545847Z",
     "start_time": "2019-11-13T23:24:58.311302Z"
    },
    "scrolled": true
   },
   "outputs": [
    {
     "data": {
      "image/png": "[encoded data removed]",
      "text/plain": [
       "<Figure size 144x288 with 1 Axes>"
      ]
     },
     "metadata": {
      "needs_background": "light"
     },
     "output_type": "display_data"
    }
   ],
   "source": [
    "df = pd.DataFrame(normalize(doc_topic))\n",
    "df.plot.scatter(x=0,y=1,figsize=(2,4), c=col, alpha = 0.5);\n",
    "plt.axis([0,1.05,-1,1]);\n",
    "# plt.savefig(\"reports/figures/figure_1.png\")"
   ]
  },
  {
   "cell_type": "markdown",
   "metadata": {},
   "source": [
    "This next cell identifies the documents closest to the cluster centers using cosine similarity."
   ]
  },
  {
   "cell_type": "code",
   "execution_count": 17,
   "metadata": {
    "ExecuteTime": {
     "end_time": "2019-11-13T23:24:58.570084Z",
     "start_time": "2019-11-13T23:24:58.547598Z"
    }
   },
   "outputs": [
    {
     "name": "stdout",
     "output_type": "stream",
     "text": [
      "Cluster centered at: [ 0.87313431 -0.54593584] color= r\n",
      "815 : [ 0.87827282 -0.54912251] His story is the following: He was recruited when he was 17, and sometime later, in his squadron, if you will, this beautiful girl was recruited, and they fell in love. But it turns out that love is very strictly forbidden in the lower ranks of the guerrilla, so their romance was discovered and they were separated. We'd love to help.\n",
      "641 : [ 0.94666698 -0.59260562] It's made into a grade where it's not usable for a nuclear weapon, but they love this stuff. Well, we're securing them, and it would be great if we could burn them, eat them up, and this reactor loves this stuff. So you have what's called the xenon pit, and so some of these fission products love neutrons. They love the neutrons that are going on and helping this reaction take place.\n",
      "71 : [ 0.89771106 -0.56367388] In the Summer of Love, in 1967, two million people, children, died of smallpox.\n",
      "990 : [ 0.86766756 -0.54013249] (Laughter)Now, I love this species despite the fact that it tried to kill us, and that's because this species in Madagascar, its closest relatives are 6,000 kilometers away, cavefishes in Australia.\n",
      "\n",
      "\n",
      "Cluster centered at: [2.58769977 0.80779717] color= g\n",
      "35 : [2.68366102 0.82813317] Art, in the Platonic sense, is truth; it's beauty, and love. We don't really have a problem talking about love. Well, this experience of love, and the experience of design, to me, are interchangeable. I discovered something about love and design through a project called Deep Blue. And first of all, you have to go with me for a second, and say, you know, you could take the word \"love\" out of a lot of things in our society, put the word \"design\" in, and it still works, like this quote here, you know. I think this one here, there's a pop song that really describes Philippe Starck for me, you know, this is like you know, this is like puppy love, you know, this is cool right? And this idea that there is more to love, more to design, when it gets down to your neighbor, your other, it can be physical like this, and maybe in the future it will be. And one thing about cars is we're all a little bit like Pygmalion, we are completely in love with our own creations. Someone's love, someone's baby. He said, \"Love is not selfish,\" he said, \"Love does not mean counting how many times I say, 'I love you. ' It doesn't mean you had sex this many times this month, and it's two times less than last month, so that means you don't love me as much. Love is not selfish. \" And I thought about this, and I thought, \"You know, I'm not showing love here. I'm seriously not showing love. We put the car back at the center of our thoughts, and we put love, I think, truly back into the center of the process. There's a lot to be said about trust and love, if you know that those two words are synonymous for design. It's true that the trust and the love, that makes it worthwhile.\n",
      "637 : [2.8303529  0.89632236] If you think about it, there are some people who love Legos, and some people who don't. And you would speculate that the people who love Legos would build more Legos, even for less money, because after all, they get more internal joy from it. And the people who love Legos less would build less Legos because the enjoyment that they derive from it is lower. There was a very nice correlation between the love of Legos and the amount of Legos people built. In that condition, the correlation was zero — there was no relationship between the love of Legos, and how much people built, which suggests to me that with this manipulation of breaking things in front of people's eyes, we basically crushed any joy that they could get out of this activity. (Laughter)(Applause)Now, I think a little bit like the IKEA effect, by getting people to work harder, they actually got them to love what they're doing to a higher degree. Now you could say — if you were a builder, do you think [you'd say], \"Oh, I love this origami, but I know that nobody else would love it?\" Or \"I love this origami, and everybody else will love it as well?\" Turns out the builders not only loved the origami more, they thought that everybody would see the world in their view. They thought everybody else would love it more as well. Now when we looked at the easy origami, we saw the same thing — builders loved it more, evaluators loved it less. Because now the builders loved it even more. They loved it even less.\n",
      "223 : [0.06855991 0.02195201] Our body loves these.\n",
      "624 : [2.94553592 0.94350955] (Laughter)I was a self-employed living statue called the Eight-Foot Bride, and I love telling people I did this for a job, because everybody always wants to know, who are these freaks in real life. (Laughter)So I had the most profound encounters with people, especially lonely people who looked like they hadn't talked to anyone in weeks, and we would get this beautiful moment of prolonged eye contact being allowed in a city street, and we would sort of fall in love a little bit. I wrote the songs, and eventually we started making enough money that I could quit being a statue, and as we started touring, I really didn't want to lose this sense of direct connection with people, because I loved it. And I love this kind of random closeness, which is lucky, because I do a lot of couchsurfing. And I got a lot of criticism online, after my Kickstarter went big, for continuing my crazy crowdsourcing practices, specifically for asking musicians who are fans if they wanted to join us on stage for a few songs in exchange for love and tickets and beer, and this was a doctored image that went up of me on a website.\n",
      "\n",
      "\n",
      "Cluster centered at: [0.38457909 0.25752768] color= b\n",
      "908 : [0.87386923 0.58646914] And at some point, all of us are going to be in that position, where we have to make a very important decision about the future of our medical care or that of a loved one, to help them with a decision. These are things to talk about and think about now, with your family and your loved ones.\n",
      "737 : [0.99411595 0.66724751] People should be able to pick up the phone and to call their family, people should be able to send a text message to their loved ones, people should be able to buy a book online, they should be able to travel by train, they should be able to buy an airline ticket without wondering about how these events are going to look to an agent of the government, possibly not even your government years in the future, how they're going to be misinterpreted and what they're going to think your intentions were.\n",
      "933 : [0.26038763 0.17488439] The village mayor was our first friend and he loved our T-shirts, so that helped.\n",
      "1104 : [0.46656906 0.31133885] So I decided to ask Jose if Thursdays around 2pm, Ivan could come and help him arrange the water bottles on the shelves, because he loved to organize things.\n",
      "\n",
      "\n",
      "Cluster centered at: [ 1.48143653 -0.13269659] color= c\n",
      "1048 : [ 1.33312085 -0.1213169 ] I was a PhD student at Harvard, and I loved to travel. I had just gotten engaged to marry the love of my life. On the other end of the spectrum, some were so sick they had to live in complete darkness, unable to tolerate the sound of a human voice or the touch of a loved one.\n",
      "510 : [ 1.50154799 -0.13183381] And so many of the calls went like this, \"Dr. Brown, we loved your TED talk. It wasn't until a man looked at me after a book signing, and said, \"I love what say about shame, I'm curious why you didn't mention men. \"\n",
      "513 : [ 1.50154799 -0.13183381] And so many of the calls went like this, \"Dr. Brown, we loved your TED talk. It wasn't until a man looked at me after a book signing, and said, \"I love what say about shame, I'm curious why you didn't mention men. \"\n",
      "817 : [ 1.62727044 -0.14902122] Can you imagine our country embracing young black men, seeing them as part of our future, giving them that kind of openness, that kind of grace we give to people we love? When we see something, we have to have the courage to say something, even to the people we love. And you know, we love Grandma and we love Uncle Joe. We've got to take  our lovely darlings, our future, and we've got to tell them we have  an amazing country with incredible ideals, we have worked incredibly hard, and we have made some progress, but we are not done.\n",
      "\n",
      "\n",
      "Cluster centered at: [5.09312586 4.84760278] color= m\n",
      "727 : [0.14247171 0.1344671 ] They would come into the emergency room with what the police would call \"a lovers' quarrel,\" and I would see a woman who was beaten, I would see a broken nose and a fractured wrist and swollen eyes.\n",
      "741 : [0.56077445 0.54090857] Every person should have the right to live life without disability if they so choose — the right to live life without severe depression; the right to see a loved one, in the case of seeing-impaired; or the right to walk or to dance, in the case of limb paralysis or limb amputation.\n",
      "942 : [0.28915078 0.26795263] And I worry that the trend towards personalized and precision medicine, looking for biological or genetic targets to better tailor treatment, may inadvertently cause us to lose sight of the big picture, that it is the daily context, where a person lives, grows, works, loves, that most importantly determines population health, and for too many of us, poor health.\n",
      "751 : [0.36129342 0.33397271] After the curator Robert Storr selected all the paintings from her lifetime body of work, I loved looking at the paintings from the 1970s.\n",
      "\n",
      "\n"
     ]
    }
   ],
   "source": [
    "for i,center in enumerate(km.cluster_centers_):\n",
    "    n_closest=pd.DataFrame(cosine_similarity(X=[center],Y=doc_topic).T)[0].nlargest(4)\n",
    "    print('Cluster centered at:',center,'color=',cmap[i])\n",
    "    for j,item in n_closest.iteritems():\n",
    "        print(j,':',doc_topic[j],love_snippets.iloc[j].love)\n",
    "    print('\\n')"
   ]
  },
  {
   "cell_type": "markdown",
   "metadata": {},
   "source": [
    "Now clustering on the "
   ]
  },
  {
   "cell_type": "code",
   "execution_count": 18,
   "metadata": {
    "ExecuteTime": {
     "end_time": "2019-11-13T23:24:59.514206Z",
     "start_time": "2019-11-13T23:24:58.572445Z"
    }
   },
   "outputs": [
    {
     "data": {
      "image/png": "[encoded data removed]",
      "text/plain": [
       "<Figure size 432x288 with 2 Axes>"
      ]
     },
     "metadata": {},
     "output_type": "display_data"
    }
   ],
   "source": [
    "km=KMeans()\n",
    "visualizer = KElbowVisualizer(km, k=(2,12))\n",
    "visualizer.fit(df)        # Fit the data to the visualizer\n",
    "visualizer.show();                     # Finalize and render the figure"
   ]
  },
  {
   "cell_type": "code",
   "execution_count": 19,
   "metadata": {
    "ExecuteTime": {
     "end_time": "2019-11-13T23:25:01.253948Z",
     "start_time": "2019-11-13T23:24:59.516105Z"
    },
    "scrolled": true
   },
   "outputs": [
    {
     "data": {
      "image/png": "[encoded data removed]",
      "text/plain": [
       "<Figure size 144x288 with 1 Axes>"
      ]
     },
     "metadata": {
      "needs_background": "light"
     },
     "output_type": "display_data"
    }
   ],
   "source": [
    "df = pd.DataFrame(normalize(doc_topic))\n",
    "num_clusters = visualizer.elbow_value_\n",
    "km = KMeans(n_clusters=num_clusters,random_state=10,n_init=300,verbose=0) # n_init, number of times the K-mean algorithm will run\n",
    "km.fit(df)\n",
    "km.labels_\n",
    "cmap = {0:'r',1:'g',2:'b',3:'c',4:'m',5:'y',6:'orange',7:'k',8:'aqua',9:'yellow'}\n",
    "col = pd.DataFrame(np.array([km.labels_])).transpose()[0].map(cmap)\n",
    "df.plot.scatter(x=0,y=1,figsize=(2,4), c=col, alpha = 0.5);\n",
    "plt.axis([0,1.05,-1,1]);\n",
    "# plt.savefig(\"reports/figures/figure_1.png\")"
   ]
  },
  {
   "cell_type": "code",
   "execution_count": 20,
   "metadata": {
    "ExecuteTime": {
     "end_time": "2019-11-13T23:25:01.288343Z",
     "start_time": "2019-11-13T23:25:01.255816Z"
    }
   },
   "outputs": [
    {
     "name": "stdout",
     "output_type": "stream",
     "text": [
      "Cluster centered at: [0.83607936 0.53697329] color= r\n",
      "398 : [0.84138492 0.54043632] As a boy, I loved cars.\n",
      "498 : [0.84124476 0.54065447] Because out of the urban devastation in Port-au-Prince came a torrent of SMS texts — people crying for help, beseeching us for assistance, sharing data, offering support, looking for their loved ones.\n",
      "322 : [0.84094919 0.54111409] We wondered: does this have an effect on how the parents cope with the loss of their loved one?\n",
      "614 : [0.84089536 0.54119774] (Typing) And then once she found out when Mother's Day was happening, she delivered a special Mother's Day greeting of how much she loved her mom.\n",
      "\n",
      "\n",
      "Cluster centered at: [ 0.93471345 -0.34117869] color= g\n",
      "771 : [ 0.93963339 -0.34218283] Since then, every conference I go to, I give a science talk and a second, special talk called \"Love and fear in the lab,\" and I start it off by doing a song about scientists' greatest fear, which is that we work hard, we discover something new, and somebody else publishes it before we do.\n",
      "7 : [ 0.93966309 -0.34210128] I just, this is why I love what Michael does, because it's like, if he's debunking it, then I don't have to.\n",
      "32 : [ 0.93908731 -0.34367866] Hard Candy nail polish, doesn't appeal to everybody, but to the people who love it, they talk about it like crazy.\n",
      "1051 : [ 0.93907025 -0.34372528] A lot of parents now can love those kids. They're adorable, you love them, but there on the swing next to them, their best friend is a GM kid, and the two of them are kind of swinging like this, and you can't help but compare them, right?\n",
      "\n",
      "\n",
      "Cluster centered at: [ 0.77492884 -0.62552416] color= b\n",
      "611 : [ 0.77808795 -0.62815535] Most of all, I learned about love. Martha Gellhorn, who's one of my heroes, once said, \"You can only love one war.\n",
      "401 : [ 0.77785667 -0.62844172] And I would love for CEG to help make it happen.\n",
      "765 : [ 0.77759039 -0.62877118] I really love them.\n",
      "682 : [ 0.77743157 -0.62896753] It's lovely to see you. Lovely watch, it doesn't come off very well. So we'd love to give you this lovely watch as a gift.\n",
      "\n",
      "\n",
      "Cluster centered at: [0.99192202 0.01433842] color= c\n",
      "917 : [0.99990398 0.01385739] Let's start with a question: Does my dog really love me, or does she just want a treat? Well, it's easy to see that our dog really loves us, easy to see, right, what's going on in that fuzzy little head. But why is the question always do they love us? But love is not the thing that makes us human. So we started with a question: Do they love us?\n",
      "867 : [0.99986767 0.0162676 ] Well, first of all, I was just trying to find, you know, couples, normal couples making love, but this, so many people together at one time. But the one thing they didn't capture was making love. There was lots of making of something, but they took the love part right out of it, you know, the fun. (Applause)Thanks, that's lovely, and just the cup of tea, love, and just a splash of the whiskey. Well, surprise, surprise, I fell in love with another fella much older than me, and I always say I was just so happy because he didn't drink, I married the bastard.\n",
      "929 : [0.99992393 0.01233455] I predate so much and I've been through ebbs and flows and I've been through good and bad times, and still I absolutely love being a police officer. I love being a police officer because it's always been a calling for me and never a job. I was tired of the vicious cycle, and I was tired of it even in the beloved agency in the department that I still love today. We would retire and I would go off into the sunset, maybe do ministry full time, love my wife a long time. There was a love for the city that I loved, that I grew up in, that I was educated in — a city that pulled my heart back into the system. We all want love.\n",
      "547 : [0.99993642 0.01127618] And I loved that sense, so I started skating when I was about 10 years old, in 1977, and when I did, I picked it up pretty quickly. It goes every which way — it's like a cartoon, the falls, and that's what I love the most about it. Oh, I love this, it's like surfing, this one, the way you catch it. Where you're not doing — it usurped the joy of what I loved to do because I was no longer doing it to create and have fun, and when it died out from under me, that was one of the most liberating things, because I could create.\n",
      "\n",
      "\n"
     ]
    }
   ],
   "source": [
    "for i,center in enumerate(km.cluster_centers_):\n",
    "    n_closest=pd.DataFrame(cosine_similarity(X=[center],Y=normalize(doc_topic)).T)[0].nlargest(4)\n",
    "    print('Cluster centered at:',center,'color=',cmap[i])\n",
    "    for j,item in n_closest.iteritems():\n",
    "        print(j,':',normalize(doc_topic)[j],love_snippets.iloc[j].love)\n",
    "    print('\\n')"
   ]
  },
  {
   "cell_type": "markdown",
   "metadata": {},
   "source": [
    "# The 3-topic Result"
   ]
  },
  {
   "cell_type": "code",
   "execution_count": 21,
   "metadata": {
    "ExecuteTime": {
     "end_time": "2019-11-13T23:25:01.298859Z",
     "start_time": "2019-11-13T23:25:01.290009Z"
    },
    "scrolled": true
   },
   "outputs": [
    {
     "name": "stdout",
     "output_type": "stream",
     "text": [
      "\n",
      "Topic  0\n",
      "love, loved, people, like, just, know, think, laughter, really, time, ve, things, life, said\n",
      "\n",
      "Topic  1\n",
      "loved, just, person, think, feel, people, say, want, got, like, don, time, life, years\n",
      "\n",
      "Topic  2\n",
      "love, think, want, study, thinking, lot, brain, romantic, ve, work, little, know, single, drive\n"
     ]
    }
   ],
   "source": [
    "display_topics(cv_lsa[1], cv1.get_feature_names(), 14)"
   ]
  },
  {
   "cell_type": "code",
   "execution_count": 22,
   "metadata": {
    "ExecuteTime": {
     "end_time": "2019-11-13T23:25:01.304063Z",
     "start_time": "2019-11-13T23:25:01.300504Z"
    }
   },
   "outputs": [
    {
     "data": {
      "text/plain": [
       "array([[ 1.3398987 , -0.22883412, -0.6467435 ],\n",
       "       [ 1.11049008, -0.37106042,  0.11720741],\n",
       "       [ 0.78114617, -0.61806764,  0.18964757],\n",
       "       ...,\n",
       "       [ 0.74191756, -0.62435153,  0.16361874],\n",
       "       [ 1.13037865, -0.57086203,  0.16808038],\n",
       "       [ 0.87370687, -0.57872989,  0.04239485]])"
      ]
     },
     "execution_count": 22,
     "metadata": {},
     "output_type": "execute_result"
    }
   ],
   "source": [
    "cv_doc_topic[1]"
   ]
  },
  {
   "cell_type": "code",
   "execution_count": 23,
   "metadata": {
    "ExecuteTime": {
     "end_time": "2019-11-13T23:25:01.318420Z",
     "start_time": "2019-11-13T23:25:01.310066Z"
    }
   },
   "outputs": [],
   "source": [
    "from mpl_toolkits.mplot3d import Axes3D"
   ]
  },
  {
   "cell_type": "code",
   "execution_count": 24,
   "metadata": {
    "ExecuteTime": {
     "end_time": "2019-11-13T23:25:01.324813Z",
     "start_time": "2019-11-13T23:25:01.320824Z"
    }
   },
   "outputs": [],
   "source": [
    "# Use this to visualize the un-projected doc-topic space:\n",
    "# df = pd.DataFrame(cv_doc_topic[1])\n",
    "# Use this to visualize the projected doc-topic space:\n",
    "df = pd.DataFrame(normalize(cv_doc_topic[1]))"
   ]
  },
  {
   "cell_type": "markdown",
   "metadata": {},
   "source": [
    "Helpful in getting started with 3D plotting:\n",
    "* https://pythonprogramming.net/3d-graphing-pandas-matplotlib/\n",
    "* https://matplotlib.org/3.1.1/gallery/mplot3d/scatter3d.html#sphx-glr-gallery-mplot3d-scatter3d-py\n",
    "* https://stackoverflow.com/questions/47311632/jupyter-how-to-rotate-3d-graph"
   ]
  },
  {
   "cell_type": "code",
   "execution_count": 25,
   "metadata": {
    "ExecuteTime": {
     "end_time": "2019-11-13T23:25:02.186591Z",
     "start_time": "2019-11-13T23:25:01.327649Z"
    }
   },
   "outputs": [
    {
     "data": {
      "image/png": "[encoded data removed]",
      "text/plain": [
       "<Figure size 432x288 with 2 Axes>"
      ]
     },
     "metadata": {},
     "output_type": "display_data"
    }
   ],
   "source": [
    "%matplotlib inline\n",
    "km=KMeans()\n",
    "visualizer = KElbowVisualizer(km, k=(2,12))\n",
    "visualizer.fit(df)                     # Fit the data to the visualizer\n",
    "visualizer.show();                     # Finalize and render the figure"
   ]
  },
  {
   "cell_type": "code",
   "execution_count": 26,
   "metadata": {
    "ExecuteTime": {
     "end_time": "2019-11-13T23:25:03.386133Z",
     "start_time": "2019-11-13T23:25:02.188451Z"
    }
   },
   "outputs": [],
   "source": [
    "num_clusters = visualizer.elbow_value_\n",
    "km = KMeans(n_clusters=num_clusters,random_state=10,n_init=300,verbose=0) # n_init, number of times the K-mean algorithm will run\n",
    "km.fit(df)\n",
    "col = pd.DataFrame(np.array([km.labels_])).transpose()[0].map(cmap)"
   ]
  },
  {
   "cell_type": "code",
   "execution_count": 30,
   "metadata": {
    "ExecuteTime": {
     "end_time": "2019-11-13T23:25:13.142108Z",
     "start_time": "2019-11-13T23:25:13.103744Z"
    }
   },
   "outputs": [
    {
     "data": {
      "application/javascript": [
       "/* Put everything inside the global mpl namespace */\n",
       "window.mpl = {};\n",
       "\n",
       "\n",
       "mpl.get_websocket_type = function() {\n",
       "    if (typeof(WebSocket) !== 'undefined') {\n",
       "        return WebSocket;\n",
       "    } else if (typeof(MozWebSocket) !== 'undefined') {\n",
       "        return MozWebSocket;\n",
       "    } else {\n",
       "        alert('Your browser does not have WebSocket support. ' +\n",
       "              'Please try Chrome, Safari or Firefox ≥ 6. ' +\n",
       "              'Firefox 4 and 5 are also supported but you ' +\n",
       "              'have to enable WebSockets in about:config.');\n",
       "    };\n",
       "}\n",
       "\n",
       "mpl.figure = function(figure_id, websocket, ondownload, parent_element) {\n",
       "    this.id = figure_id;\n",
       "\n",
       "    this.ws = websocket;\n",
       "\n",
       "    this.supports_binary = (this.ws.binaryType != undefined);\n",
       "\n",
       "    if (!this.supports_binary) {\n",
       "        var warnings = document.getElementById(\"mpl-warnings\");\n",
       "        if (warnings) {\n",
       "            warnings.style.display = 'block';\n",
       "            warnings.textContent = (\n",
       "                \"This browser does not support binary websocket messages. \" +\n",
       "                    \"Performance may be slow.\");\n",
       "        }\n",
       "    }\n",
       "\n",
       "    this.imageObj = new Image();\n",
       "\n",
       "    this.context = undefined;\n",
       "    this.message = undefined;\n",
       "    this.canvas = undefined;\n",
       "    this.rubberband_canvas = undefined;\n",
       "    this.rubberband_context = undefined;\n",
       "    this.format_dropdown = undefined;\n",
       "\n",
       "    this.image_mode = 'full';\n",
       "\n",
       "    this.root = $('<div/>');\n",
       "    this._root_extra_style(this.root)\n",
       "    this.root.attr('style', 'display: inline-block');\n",
       "\n",
       "    $(parent_element).append(this.root);\n",
       "\n",
       "    this._init_header(this);\n",
       "    this._init_canvas(this);\n",
       "    this._init_toolbar(this);\n",
       "\n",
       "    var fig = this;\n",
       "\n",
       "    this.waiting = false;\n",
       "\n",
       "    this.ws.onopen =  function () {\n",
       "            fig.send_message(\"supports_binary\", {value: fig.supports_binary});\n",
       "            fig.send_message(\"send_image_mode\", {});\n",
       "            if (mpl.ratio != 1) {\n",
       "                fig.send_message(\"set_dpi_ratio\", {'dpi_ratio': mpl.ratio});\n",
       "            }\n",
       "            fig.send_message(\"refresh\", {});\n",
       "        }\n",
       "\n",
       "    this.imageObj.onload = function() {\n",
       "            if (fig.image_mode == 'full') {\n",
       "                // Full images could contain transparency (where diff images\n",
       "                // almost always do), so we need to clear the canvas so that\n",
       "                // there is no ghosting.\n",
       "                fig.context.clearRect(0, 0, fig.canvas.width, fig.canvas.height);\n",
       "            }\n",
       "            fig.context.drawImage(fig.imageObj, 0, 0);\n",
       "        };\n",
       "\n",
       "    this.imageObj.onunload = function() {\n",
       "        fig.ws.close();\n",
       "    }\n",
       "\n",
       "    this.ws.onmessage = this._make_on_message_function(this);\n",
       "\n",
       "    this.ondownload = ondownload;\n",
       "}\n",
       "\n",
       "mpl.figure.prototype._init_header = function() {\n",
       "    var titlebar = $(\n",
       "        '<div class=\"ui-dialog-titlebar ui-widget-header ui-corner-all ' +\n",
       "        'ui-helper-clearfix\"/>');\n",
       "    var titletext = $(\n",
       "        '<div class=\"ui-dialog-title\" style=\"width: 100%; ' +\n",
       "        'text-align: center; padding: 3px;\"/>');\n",
       "    titlebar.append(titletext)\n",
       "    this.root.append(titlebar);\n",
       "    this.header = titletext[0];\n",
       "}\n",
       "\n",
       "\n",
       "\n",
       "mpl.figure.prototype._canvas_extra_style = function(canvas_div) {\n",
       "\n",
       "}\n",
       "\n",
       "\n",
       "mpl.figure.prototype._root_extra_style = function(canvas_div) {\n",
       "\n",
       "}\n",
       "\n",
       "mpl.figure.prototype._init_canvas = function() {\n",
       "    var fig = this;\n",
       "\n",
       "    var canvas_div = $('<div/>');\n",
       "\n",
       "    canvas_div.attr('style', 'position: relative; clear: both; outline: 0');\n",
       "\n",
       "    function canvas_keyboard_event(event) {\n",
       "        return fig.key_event(event, event['data']);\n",
       "    }\n",
       "\n",
       "    canvas_div.keydown('key_press', canvas_keyboard_event);\n",
       "    canvas_div.keyup('key_release', canvas_keyboard_event);\n",
       "    this.canvas_div = canvas_div\n",
       "    this._canvas_extra_style(canvas_div)\n",
       "    this.root.append(canvas_div);\n",
       "\n",
       "    var canvas = $('<canvas/>');\n",
       "    canvas.addClass('mpl-canvas');\n",
       "    canvas.attr('style', \"left: 0; top: 0; z-index: 0; outline: 0\")\n",
       "\n",
       "    this.canvas = canvas[0];\n",
       "    this.context = canvas[0].getContext(\"2d\");\n",
       "\n",
       "    var backingStore = this.context.backingStorePixelRatio ||\n",
       "\tthis.context.webkitBackingStorePixelRatio ||\n",
       "\tthis.context.mozBackingStorePixelRatio ||\n",
       "\tthis.context.msBackingStorePixelRatio ||\n",
       "\tthis.context.oBackingStorePixelRatio ||\n",
       "\tthis.context.backingStorePixelRatio || 1;\n",
       "\n",
       "    mpl.ratio = (window.devicePixelRatio || 1) / backingStore;\n",
       "\n",
       "    var rubberband = $('<canvas/>');\n",
       "    rubberband.attr('style', \"position: absolute; left: 0; top: 0; z-index: 1;\")\n",
       "\n",
       "    var pass_mouse_events = true;\n",
       "\n",
       "    canvas_div.resizable({\n",
       "        start: function(event, ui) {\n",
       "            pass_mouse_events = false;\n",
       "        },\n",
       "        resize: function(event, ui) {\n",
       "            fig.request_resize(ui.size.width, ui.size.height);\n",
       "        },\n",
       "        stop: function(event, ui) {\n",
       "            pass_mouse_events = true;\n",
       "            fig.request_resize(ui.size.width, ui.size.height);\n",
       "        },\n",
       "    });\n",
       "\n",
       "    function mouse_event_fn(event) {\n",
       "        if (pass_mouse_events)\n",
       "            return fig.mouse_event(event, event['data']);\n",
       "    }\n",
       "\n",
       "    rubberband.mousedown('button_press', mouse_event_fn);\n",
       "    rubberband.mouseup('button_release', mouse_event_fn);\n",
       "    // Throttle sequential mouse events to 1 every 20ms.\n",
       "    rubberband.mousemove('motion_notify', mouse_event_fn);\n",
       "\n",
       "    rubberband.mouseenter('figure_enter', mouse_event_fn);\n",
       "    rubberband.mouseleave('figure_leave', mouse_event_fn);\n",
       "\n",
       "    canvas_div.on(\"wheel\", function (event) {\n",
       "        event = event.originalEvent;\n",
       "        event['data'] = 'scroll'\n",
       "        if (event.deltaY < 0) {\n",
       "            event.step = 1;\n",
       "        } else {\n",
       "            event.step = -1;\n",
       "        }\n",
       "        mouse_event_fn(event);\n",
       "    });\n",
       "\n",
       "    canvas_div.append(canvas);\n",
       "    canvas_div.append(rubberband);\n",
       "\n",
       "    this.rubberband = rubberband;\n",
       "    this.rubberband_canvas = rubberband[0];\n",
       "    this.rubberband_context = rubberband[0].getContext(\"2d\");\n",
       "    this.rubberband_context.strokeStyle = \"#000000\";\n",
       "\n",
       "    this._resize_canvas = function(width, height) {\n",
       "        // Keep the size of the canvas, canvas container, and rubber band\n",
       "        // canvas in synch.\n",
       "        canvas_div.css('width', width)\n",
       "        canvas_div.css('height', height)\n",
       "\n",
       "        canvas.attr('width', width * mpl.ratio);\n",
       "        canvas.attr('height', height * mpl.ratio);\n",
       "        canvas.attr('style', 'width: ' + width + 'px; height: ' + height + 'px;');\n",
       "\n",
       "        rubberband.attr('width', width);\n",
       "        rubberband.attr('height', height);\n",
       "    }\n",
       "\n",
       "    // Set the figure to an initial 600x600px, this will subsequently be updated\n",
       "    // upon first draw.\n",
       "    this._resize_canvas(600, 600);\n",
       "\n",
       "    // Disable right mouse context menu.\n",
       "    $(this.rubberband_canvas).bind(\"contextmenu\",function(e){\n",
       "        return false;\n",
       "    });\n",
       "\n",
       "    function set_focus () {\n",
       "        canvas.focus();\n",
       "        canvas_div.focus();\n",
       "    }\n",
       "\n",
       "    window.setTimeout(set_focus, 100);\n",
       "}\n",
       "\n",
       "mpl.figure.prototype._init_toolbar = function() {\n",
       "    var fig = this;\n",
       "\n",
       "    var nav_element = $('<div/>');\n",
       "    nav_element.attr('style', 'width: 100%');\n",
       "    this.root.append(nav_element);\n",
       "\n",
       "    // Define a callback function for later on.\n",
       "    function toolbar_event(event) {\n",
       "        return fig.toolbar_button_onclick(event['data']);\n",
       "    }\n",
       "    function toolbar_mouse_event(event) {\n",
       "        return fig.toolbar_button_onmouseover(event['data']);\n",
       "    }\n",
       "\n",
       "    for(var toolbar_ind in mpl.toolbar_items) {\n",
       "        var name = mpl.toolbar_items[toolbar_ind][0];\n",
       "        var tooltip = mpl.toolbar_items[toolbar_ind][1];\n",
       "        var image = mpl.toolbar_items[toolbar_ind][2];\n",
       "        var method_name = mpl.toolbar_items[toolbar_ind][3];\n",
       "\n",
       "        if (!name) {\n",
       "            // put a spacer in here.\n",
       "            continue;\n",
       "        }\n",
       "        var button = $('<button/>');\n",
       "        button.addClass('ui-button ui-widget ui-state-default ui-corner-all ' +\n",
       "                        'ui-button-icon-only');\n",
       "        button.attr('role', 'button');\n",
       "        button.attr('aria-disabled', 'false');\n",
       "        button.click(method_name, toolbar_event);\n",
       "        button.mouseover(tooltip, toolbar_mouse_event);\n",
       "\n",
       "        var icon_img = $('<span/>');\n",
       "        icon_img.addClass('ui-button-icon-primary ui-icon');\n",
       "        icon_img.addClass(image);\n",
       "        icon_img.addClass('ui-corner-all');\n",
       "\n",
       "        var tooltip_span = $('<span/>');\n",
       "        tooltip_span.addClass('ui-button-text');\n",
       "        tooltip_span.html(tooltip);\n",
       "\n",
       "        button.append(icon_img);\n",
       "        button.append(tooltip_span);\n",
       "\n",
       "        nav_element.append(button);\n",
       "    }\n",
       "\n",
       "    var fmt_picker_span = $('<span/>');\n",
       "\n",
       "    var fmt_picker = $('<select/>');\n",
       "    fmt_picker.addClass('mpl-toolbar-option ui-widget ui-widget-content');\n",
       "    fmt_picker_span.append(fmt_picker);\n",
       "    nav_element.append(fmt_picker_span);\n",
       "    this.format_dropdown = fmt_picker[0];\n",
       "\n",
       "    for (var ind in mpl.extensions) {\n",
       "        var fmt = mpl.extensions[ind];\n",
       "        var option = $(\n",
       "            '<option/>', {selected: fmt === mpl.default_extension}).html(fmt);\n",
       "        fmt_picker.append(option);\n",
       "    }\n",
       "\n",
       "    // Add hover states to the ui-buttons\n",
       "    $( \".ui-button\" ).hover(\n",
       "        function() { $(this).addClass(\"ui-state-hover\");},\n",
       "        function() { $(this).removeClass(\"ui-state-hover\");}\n",
       "    );\n",
       "\n",
       "    var status_bar = $('<span class=\"mpl-message\"/>');\n",
       "    nav_element.append(status_bar);\n",
       "    this.message = status_bar[0];\n",
       "}\n",
       "\n",
       "mpl.figure.prototype.request_resize = function(x_pixels, y_pixels) {\n",
       "    // Request matplotlib to resize the figure. Matplotlib will then trigger a resize in the client,\n",
       "    // which will in turn request a refresh of the image.\n",
       "    this.send_message('resize', {'width': x_pixels, 'height': y_pixels});\n",
       "}\n",
       "\n",
       "mpl.figure.prototype.send_message = function(type, properties) {\n",
       "    properties['type'] = type;\n",
       "    properties['figure_id'] = this.id;\n",
       "    this.ws.send(JSON.stringify(properties));\n",
       "}\n",
       "\n",
       "mpl.figure.prototype.send_draw_message = function() {\n",
       "    if (!this.waiting) {\n",
       "        this.waiting = true;\n",
       "        this.ws.send(JSON.stringify({type: \"draw\", figure_id: this.id}));\n",
       "    }\n",
       "}\n",
       "\n",
       "\n",
       "mpl.figure.prototype.handle_save = function(fig, msg) {\n",
       "    var format_dropdown = fig.format_dropdown;\n",
       "    var format = format_dropdown.options[format_dropdown.selectedIndex].value;\n",
       "    fig.ondownload(fig, format);\n",
       "}\n",
       "\n",
       "\n",
       "mpl.figure.prototype.handle_resize = function(fig, msg) {\n",
       "    var size = msg['size'];\n",
       "    if (size[0] != fig.canvas.width || size[1] != fig.canvas.height) {\n",
       "        fig._resize_canvas(size[0], size[1]);\n",
       "        fig.send_message(\"refresh\", {});\n",
       "    };\n",
       "}\n",
       "\n",
       "mpl.figure.prototype.handle_rubberband = function(fig, msg) {\n",
       "    var x0 = msg['x0'] / mpl.ratio;\n",
       "    var y0 = (fig.canvas.height - msg['y0']) / mpl.ratio;\n",
       "    var x1 = msg['x1'] / mpl.ratio;\n",
       "    var y1 = (fig.canvas.height - msg['y1']) / mpl.ratio;\n",
       "    x0 = Math.floor(x0) + 0.5;\n",
       "    y0 = Math.floor(y0) + 0.5;\n",
       "    x1 = Math.floor(x1) + 0.5;\n",
       "    y1 = Math.floor(y1) + 0.5;\n",
       "    var min_x = Math.min(x0, x1);\n",
       "    var min_y = Math.min(y0, y1);\n",
       "    var width = Math.abs(x1 - x0);\n",
       "    var height = Math.abs(y1 - y0);\n",
       "\n",
       "    fig.rubberband_context.clearRect(\n",
       "        0, 0, fig.canvas.width / mpl.ratio, fig.canvas.height / mpl.ratio);\n",
       "\n",
       "    fig.rubberband_context.strokeRect(min_x, min_y, width, height);\n",
       "}\n",
       "\n",
       "mpl.figure.prototype.handle_figure_label = function(fig, msg) {\n",
       "    // Updates the figure title.\n",
       "    fig.header.textContent = msg['label'];\n",
       "}\n",
       "\n",
       "mpl.figure.prototype.handle_cursor = function(fig, msg) {\n",
       "    var cursor = msg['cursor'];\n",
       "    switch(cursor)\n",
       "    {\n",
       "    case 0:\n",
       "        cursor = 'pointer';\n",
       "        break;\n",
       "    case 1:\n",
       "        cursor = 'default';\n",
       "        break;\n",
       "    case 2:\n",
       "        cursor = 'crosshair';\n",
       "        break;\n",
       "    case 3:\n",
       "        cursor = 'move';\n",
       "        break;\n",
       "    }\n",
       "    fig.rubberband_canvas.style.cursor = cursor;\n",
       "}\n",
       "\n",
       "mpl.figure.prototype.handle_message = function(fig, msg) {\n",
       "    fig.message.textContent = msg['message'];\n",
       "}\n",
       "\n",
       "mpl.figure.prototype.handle_draw = function(fig, msg) {\n",
       "    // Request the server to send over a new figure.\n",
       "    fig.send_draw_message();\n",
       "}\n",
       "\n",
       "mpl.figure.prototype.handle_image_mode = function(fig, msg) {\n",
       "    fig.image_mode = msg['mode'];\n",
       "}\n",
       "\n",
       "mpl.figure.prototype.updated_canvas_event = function() {\n",
       "    // Called whenever the canvas gets updated.\n",
       "    this.send_message(\"ack\", {});\n",
       "}\n",
       "\n",
       "// A function to construct a web socket function for onmessage handling.\n",
       "// Called in the figure constructor.\n",
       "mpl.figure.prototype._make_on_message_function = function(fig) {\n",
       "    return function socket_on_message(evt) {\n",
       "        if (evt.data instanceof Blob) {\n",
       "            /* FIXME: We get \"Resource interpreted as Image but\n",
       "             * transferred with MIME type text/plain:\" errors on\n",
       "             * Chrome.  But how to set the MIME type?  It doesn't seem\n",
       "             * to be part of the websocket stream */\n",
       "            evt.data.type = \"image/png\";\n",
       "\n",
       "            /* Free the memory for the previous frames */\n",
       "            if (fig.imageObj.src) {\n",
       "                (window.URL || window.webkitURL).revokeObjectURL(\n",
       "                    fig.imageObj.src);\n",
       "            }\n",
       "\n",
       "            fig.imageObj.src = (window.URL || window.webkitURL).createObjectURL(\n",
       "                evt.data);\n",
       "            fig.updated_canvas_event();\n",
       "            fig.waiting = false;\n",
       "            return;\n",
       "        }\n",
       "        else if (typeof evt.data === 'string' && evt.data.slice(0, 21) == \"data:image/png;base64\") {\n",
       "            fig.imageObj.src = evt.data;\n",
       "            fig.updated_canvas_event();\n",
       "            fig.waiting = false;\n",
       "            return;\n",
       "        }\n",
       "\n",
       "        var msg = JSON.parse(evt.data);\n",
       "        var msg_type = msg['type'];\n",
       "\n",
       "        // Call the  \"handle_{type}\" callback, which takes\n",
       "        // the figure and JSON message as its only arguments.\n",
       "        try {\n",
       "            var callback = fig[\"handle_\" + msg_type];\n",
       "        } catch (e) {\n",
       "            console.log(\"No handler for the '\" + msg_type + \"' message type: \", msg);\n",
       "            return;\n",
       "        }\n",
       "\n",
       "        if (callback) {\n",
       "            try {\n",
       "                // console.log(\"Handling '\" + msg_type + \"' message: \", msg);\n",
       "                callback(fig, msg);\n",
       "            } catch (e) {\n",
       "                console.log(\"Exception inside the 'handler_\" + msg_type + \"' callback:\", e, e.stack, msg);\n",
       "            }\n",
       "        }\n",
       "    };\n",
       "}\n",
       "\n",
       "// from http://stackoverflow.com/questions/1114465/getting-mouse-location-in-canvas\n",
       "mpl.findpos = function(e) {\n",
       "    //this section is from http://www.quirksmode.org/js/events_properties.html\n",
       "    var targ;\n",
       "    if (!e)\n",
       "        e = window.event;\n",
       "    if (e.target)\n",
       "        targ = e.target;\n",
       "    else if (e.srcElement)\n",
       "        targ = e.srcElement;\n",
       "    if (targ.nodeType == 3) // defeat Safari bug\n",
       "        targ = targ.parentNode;\n",
       "\n",
       "    // jQuery normalizes the pageX and pageY\n",
       "    // pageX,Y are the mouse positions relative to the document\n",
       "    // offset() returns the position of the element relative to the document\n",
       "    var x = e.pageX - $(targ).offset().left;\n",
       "    var y = e.pageY - $(targ).offset().top;\n",
       "\n",
       "    return {\"x\": x, \"y\": y};\n",
       "};\n",
       "\n",
       "/*\n",
       " * return a copy of an object with only non-object keys\n",
       " * we need this to avoid circular references\n",
       " * http://stackoverflow.com/a/24161582/3208463\n",
       " */\n",
       "function simpleKeys (original) {\n",
       "  return Object.keys(original).reduce(function (obj, key) {\n",
       "    if (typeof original[key] !== 'object')\n",
       "        obj[key] = original[key]\n",
       "    return obj;\n",
       "  }, {});\n",
       "}\n",
       "\n",
       "mpl.figure.prototype.mouse_event = function(event, name) {\n",
       "    var canvas_pos = mpl.findpos(event)\n",
       "\n",
       "    if (name === 'button_press')\n",
       "    {\n",
       "        this.canvas.focus();\n",
       "        this.canvas_div.focus();\n",
       "    }\n",
       "\n",
       "    var x = canvas_pos.x * mpl.ratio;\n",
       "    var y = canvas_pos.y * mpl.ratio;\n",
       "\n",
       "    this.send_message(name, {x: x, y: y, button: event.button,\n",
       "                             step: event.step,\n",
       "                             guiEvent: simpleKeys(event)});\n",
       "\n",
       "    /* This prevents the web browser from automatically changing to\n",
       "     * the text insertion cursor when the button is pressed.  We want\n",
       "     * to control all of the cursor setting manually through the\n",
       "     * 'cursor' event from matplotlib */\n",
       "    event.preventDefault();\n",
       "    return false;\n",
       "}\n",
       "\n",
       "mpl.figure.prototype._key_event_extra = function(event, name) {\n",
       "    // Handle any extra behaviour associated with a key event\n",
       "}\n",
       "\n",
       "mpl.figure.prototype.key_event = function(event, name) {\n",
       "\n",
       "    // Prevent repeat events\n",
       "    if (name == 'key_press')\n",
       "    {\n",
       "        if (event.which === this._key)\n",
       "            return;\n",
       "        else\n",
       "            this._key = event.which;\n",
       "    }\n",
       "    if (name == 'key_release')\n",
       "        this._key = null;\n",
       "\n",
       "    var value = '';\n",
       "    if (event.ctrlKey && event.which != 17)\n",
       "        value += \"ctrl+\";\n",
       "    if (event.altKey && event.which != 18)\n",
       "        value += \"alt+\";\n",
       "    if (event.shiftKey && event.which != 16)\n",
       "        value += \"shift+\";\n",
       "\n",
       "    value += 'k';\n",
       "    value += event.which.toString();\n",
       "\n",
       "    this._key_event_extra(event, name);\n",
       "\n",
       "    this.send_message(name, {key: value,\n",
       "                             guiEvent: simpleKeys(event)});\n",
       "    return false;\n",
       "}\n",
       "\n",
       "mpl.figure.prototype.toolbar_button_onclick = function(name) {\n",
       "    if (name == 'download') {\n",
       "        this.handle_save(this, null);\n",
       "    } else {\n",
       "        this.send_message(\"toolbar_button\", {name: name});\n",
       "    }\n",
       "};\n",
       "\n",
       "mpl.figure.prototype.toolbar_button_onmouseover = function(tooltip) {\n",
       "    this.message.textContent = tooltip;\n",
       "};\n",
       "mpl.toolbar_items = [[\"Home\", \"Reset original view\", \"fa fa-home icon-home\", \"home\"], [\"Back\", \"Back to previous view\", \"fa fa-arrow-left icon-arrow-left\", \"back\"], [\"Forward\", \"Forward to next view\", \"fa fa-arrow-right icon-arrow-right\", \"forward\"], [\"\", \"\", \"\", \"\"], [\"Pan\", \"Pan axes with left mouse, zoom with right\", \"fa fa-arrows icon-move\", \"pan\"], [\"Zoom\", \"Zoom to rectangle\", \"fa fa-square-o icon-check-empty\", \"zoom\"], [\"\", \"\", \"\", \"\"], [\"Download\", \"Download plot\", \"fa fa-floppy-o icon-save\", \"download\"]];\n",
       "\n",
       "mpl.extensions = [\"eps\", \"jpeg\", \"pdf\", \"png\", \"ps\", \"raw\", \"svg\", \"tif\"];\n",
       "\n",
       "mpl.default_extension = \"png\";var comm_websocket_adapter = function(comm) {\n",
       "    // Create a \"websocket\"-like object which calls the given IPython comm\n",
       "    // object with the appropriate methods. Currently this is a non binary\n",
       "    // socket, so there is still some room for performance tuning.\n",
       "    var ws = {};\n",
       "\n",
       "    ws.close = function() {\n",
       "        comm.close()\n",
       "    };\n",
       "    ws.send = function(m) {\n",
       "        //console.log('sending', m);\n",
       "        comm.send(m);\n",
       "    };\n",
       "    // Register the callback with on_msg.\n",
       "    comm.on_msg(function(msg) {\n",
       "        //console.log('receiving', msg['content']['data'], msg);\n",
       "        // Pass the mpl event to the overridden (by mpl) onmessage function.\n",
       "        ws.onmessage(msg['content']['data'])\n",
       "    });\n",
       "    return ws;\n",
       "}\n",
       "\n",
       "mpl.mpl_figure_comm = function(comm, msg) {\n",
       "    // This is the function which gets called when the mpl process\n",
       "    // starts-up an IPython Comm through the \"matplotlib\" channel.\n",
       "\n",
       "    var id = msg.content.data.id;\n",
       "    // Get hold of the div created by the display call when the Comm\n",
       "    // socket was opened in Python.\n",
       "    var element = $(\"#\" + id);\n",
       "    var ws_proxy = comm_websocket_adapter(comm)\n",
       "\n",
       "    function ondownload(figure, format) {\n",
       "        window.open(figure.imageObj.src);\n",
       "    }\n",
       "\n",
       "    var fig = new mpl.figure(id, ws_proxy,\n",
       "                           ondownload,\n",
       "                           element.get(0));\n",
       "\n",
       "    // Call onopen now - mpl needs it, as it is assuming we've passed it a real\n",
       "    // web socket which is closed, not our websocket->open comm proxy.\n",
       "    ws_proxy.onopen();\n",
       "\n",
       "    fig.parent_element = element.get(0);\n",
       "    fig.cell_info = mpl.find_output_cell(\"<div id='\" + id + \"'></div>\");\n",
       "    if (!fig.cell_info) {\n",
       "        console.error(\"Failed to find cell for figure\", id, fig);\n",
       "        return;\n",
       "    }\n",
       "\n",
       "    var output_index = fig.cell_info[2]\n",
       "    var cell = fig.cell_info[0];\n",
       "\n",
       "};\n",
       "\n",
       "mpl.figure.prototype.handle_close = function(fig, msg) {\n",
       "    var width = fig.canvas.width/mpl.ratio\n",
       "    fig.root.unbind('remove')\n",
       "\n",
       "    // Update the output cell to use the data from the current canvas.\n",
       "    fig.push_to_output();\n",
       "    var dataURL = fig.canvas.toDataURL();\n",
       "    // Re-enable the keyboard manager in IPython - without this line, in FF,\n",
       "    // the notebook keyboard shortcuts fail.\n",
       "    IPython.keyboard_manager.enable()\n",
       "    $(fig.parent_element).html('<img src=\"' + dataURL + '\" width=\"' + width + '\">');\n",
       "    fig.close_ws(fig, msg);\n",
       "}\n",
       "\n",
       "mpl.figure.prototype.close_ws = function(fig, msg){\n",
       "    fig.send_message('closing', msg);\n",
       "    // fig.ws.close()\n",
       "}\n",
       "\n",
       "mpl.figure.prototype.push_to_output = function(remove_interactive) {\n",
       "    // Turn the data on the canvas into data in the output cell.\n",
       "    var width = this.canvas.width/mpl.ratio\n",
       "    var dataURL = this.canvas.toDataURL();\n",
       "    this.cell_info[1]['text/html'] = '<img src=\"' + dataURL + '\" width=\"' + width + '\">';\n",
       "}\n",
       "\n",
       "mpl.figure.prototype.updated_canvas_event = function() {\n",
       "    // Tell IPython that the notebook contents must change.\n",
       "    IPython.notebook.set_dirty(true);\n",
       "    this.send_message(\"ack\", {});\n",
       "    var fig = this;\n",
       "    // Wait a second, then push the new image to the DOM so\n",
       "    // that it is saved nicely (might be nice to debounce this).\n",
       "    setTimeout(function () { fig.push_to_output() }, 1000);\n",
       "}\n",
       "\n",
       "mpl.figure.prototype._init_toolbar = function() {\n",
       "    var fig = this;\n",
       "\n",
       "    var nav_element = $('<div/>');\n",
       "    nav_element.attr('style', 'width: 100%');\n",
       "    this.root.append(nav_element);\n",
       "\n",
       "    // Define a callback function for later on.\n",
       "    function toolbar_event(event) {\n",
       "        return fig.toolbar_button_onclick(event['data']);\n",
       "    }\n",
       "    function toolbar_mouse_event(event) {\n",
       "        return fig.toolbar_button_onmouseover(event['data']);\n",
       "    }\n",
       "\n",
       "    for(var toolbar_ind in mpl.toolbar_items){\n",
       "        var name = mpl.toolbar_items[toolbar_ind][0];\n",
       "        var tooltip = mpl.toolbar_items[toolbar_ind][1];\n",
       "        var image = mpl.toolbar_items[toolbar_ind][2];\n",
       "        var method_name = mpl.toolbar_items[toolbar_ind][3];\n",
       "\n",
       "        if (!name) { continue; };\n",
       "\n",
       "        var button = $('<button class=\"btn btn-default\" href=\"#\" title=\"' + name + '\"><i class=\"fa ' + image + ' fa-lg\"></i></button>');\n",
       "        button.click(method_name, toolbar_event);\n",
       "        button.mouseover(tooltip, toolbar_mouse_event);\n",
       "        nav_element.append(button);\n",
       "    }\n",
       "\n",
       "    // Add the status bar.\n",
       "    var status_bar = $('<span class=\"mpl-message\" style=\"text-align:right; float: right;\"/>');\n",
       "    nav_element.append(status_bar);\n",
       "    this.message = status_bar[0];\n",
       "\n",
       "    // Add the close button to the window.\n",
       "    var buttongrp = $('<div class=\"btn-group inline pull-right\"></div>');\n",
       "    var button = $('<button class=\"btn btn-mini btn-primary\" href=\"#\" title=\"Stop Interaction\"><i class=\"fa fa-power-off icon-remove icon-large\"></i></button>');\n",
       "    button.click(function (evt) { fig.handle_close(fig, {}); } );\n",
       "    button.mouseover('Stop Interaction', toolbar_mouse_event);\n",
       "    buttongrp.append(button);\n",
       "    var titlebar = this.root.find($('.ui-dialog-titlebar'));\n",
       "    titlebar.prepend(buttongrp);\n",
       "}\n",
       "\n",
       "mpl.figure.prototype._root_extra_style = function(el){\n",
       "    var fig = this\n",
       "    el.on(\"remove\", function(){\n",
       "\tfig.close_ws(fig, {});\n",
       "    });\n",
       "}\n",
       "\n",
       "mpl.figure.prototype._canvas_extra_style = function(el){\n",
       "    // this is important to make the div 'focusable\n",
       "    el.attr('tabindex', 0)\n",
       "    // reach out to IPython and tell the keyboard manager to turn it's self\n",
       "    // off when our div gets focus\n",
       "\n",
       "    // location in version 3\n",
       "    if (IPython.notebook.keyboard_manager) {\n",
       "        IPython.notebook.keyboard_manager.register_events(el);\n",
       "    }\n",
       "    else {\n",
       "        // location in version 2\n",
       "        IPython.keyboard_manager.register_events(el);\n",
       "    }\n",
       "\n",
       "}\n",
       "\n",
       "mpl.figure.prototype._key_event_extra = function(event, name) {\n",
       "    var manager = IPython.notebook.keyboard_manager;\n",
       "    if (!manager)\n",
       "        manager = IPython.keyboard_manager;\n",
       "\n",
       "    // Check for shift+enter\n",
       "    if (event.shiftKey && event.which == 13) {\n",
       "        this.canvas_div.blur();\n",
       "        event.shiftKey = false;\n",
       "        // Send a \"J\" for go to next cell\n",
       "        event.which = 74;\n",
       "        event.keyCode = 74;\n",
       "        manager.command_mode();\n",
       "        manager.handle_keydown(event);\n",
       "    }\n",
       "}\n",
       "\n",
       "mpl.figure.prototype.handle_save = function(fig, msg) {\n",
       "    fig.ondownload(fig, null);\n",
       "}\n",
       "\n",
       "\n",
       "mpl.find_output_cell = function(html_output) {\n",
       "    // Return the cell and output element which can be found *uniquely* in the notebook.\n",
       "    // Note - this is a bit hacky, but it is done because the \"notebook_saving.Notebook\"\n",
       "    // IPython event is triggered only after the cells have been serialised, which for\n",
       "    // our purposes (turning an active figure into a static one), is too late.\n",
       "    var cells = IPython.notebook.get_cells();\n",
       "    var ncells = cells.length;\n",
       "    for (var i=0; i<ncells; i++) {\n",
       "        var cell = cells[i];\n",
       "        if (cell.cell_type === 'code'){\n",
       "            for (var j=0; j<cell.output_area.outputs.length; j++) {\n",
       "                var data = cell.output_area.outputs[j];\n",
       "                if (data.data) {\n",
       "                    // IPython >= 3 moved mimebundle to data attribute of output\n",
       "                    data = data.data;\n",
       "                }\n",
       "                if (data['text/html'] == html_output) {\n",
       "                    return [cell, data, j];\n",
       "                }\n",
       "            }\n",
       "        }\n",
       "    }\n",
       "}\n",
       "\n",
       "// Register the function which deals with the matplotlib target/channel.\n",
       "// The kernel may be null if the page has been refreshed.\n",
       "if (IPython.notebook.kernel != null) {\n",
       "    IPython.notebook.kernel.comm_manager.register_target('matplotlib', mpl.mpl_figure_comm);\n",
       "}\n"
      ],
      "text/plain": [
       "<IPython.core.display.Javascript object>"
      ]
     },
     "metadata": {},
     "output_type": "display_data"
    },
    {
     "data": {
      "text/html": [
       "<img src=\"data:image/png;base64,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\" width=\"432\">"
      ],
      "text/plain": [
       "<IPython.core.display.HTML object>"
      ]
     },
     "metadata": {},
     "output_type": "display_data"
    }
   ],
   "source": [
    "%matplotlib notebook\n",
    "fig = plt.figure() #.gca(projection='3d')\n",
    "ax = fig.add_subplot(111, projection='3d')\n",
    "ax.scatter(df[0],df[1],df[2],c=col)\n",
    "ax.set_xlabel('Topic 0')\n",
    "ax.set_ylabel('Topic 1')\n",
    "ax.set_zlabel('Topic 2');"
   ]
  },
  {
   "cell_type": "markdown",
   "metadata": {},
   "source": [
    "So, what do the clusters mean?"
   ]
  },
  {
   "cell_type": "code",
   "execution_count": 31,
   "metadata": {
    "ExecuteTime": {
     "end_time": "2019-11-13T23:25:40.915442Z",
     "start_time": "2019-11-13T23:25:40.881597Z"
    }
   },
   "outputs": [
    {
     "name": "stdout",
     "output_type": "stream",
     "text": [
      "Cluster centered at: [ 0.78436314 -0.58881051  0.15293665] color= r\n",
      "665 : [ 0.7889085  -0.59524952  0.15264794] Let's say you're in love.\n",
      "601 : [ 0.79162185 -0.59075099  0.15603883] And it's a very effective way of ending your hate mail: \"Love Markham, Aged 4. \" (Rain and wind sounds)(Explosion) Oh, shit!Markham Nolan: Okay, so now if you're a news producer, this is something you'd love to run with, because obviously, this is gold.\n",
      "961 : [ 0.78981686 -0.59271783  0.15771776] I'd love to sit down with him, wherever he is, and share with him how much the time I spent on Smoky Mountain inspired me.\n",
      "196 : [ 0.792402   -0.59094556  0.15126935] (Laughter)I love my job. This is the — I love this — the boss call. I love the Wired headline: Pigs Fly, Hell Freezes Over and Verizon Opens Up Its Network — No.\n",
      "\n",
      "\n",
      "Cluster centered at: [0.86694593 0.39706469 0.13652252] color= g\n",
      "1075 : [0.89164525 0.42800259 0.14758905] And when we fail mothers and babies, we fail everyone who loves mothers and babies: the fathers, the partners, the grandparents, the aunties, the friends and kin that make our human social networks.\n",
      "340 : [0.91207363 0.38850203 0.13110247] Now David Attenborough is really a plant lover; he did some of the most beautiful movies about plant behavior.\n",
      "658 : [0.90791704 0.41071896 0.0836456 ] One of the things I'm pointing out is that cartoons appear within the context of The New Yorker magazine, that lovely Caslon type, and it seems like a fairly benign cartoon within this context.\n",
      "563 : [0.85995986 0.47708461 0.18127137] Along comes this woman, Ada Lovelace. He was building a machine to do mathematics, and Lovelace said, \"You could do more than mathematics on this machine. \" Whether it's video or text or music or voice, it's all numbers, it's all, underlying it, mathematical functions happening, and Lovelace said, \"Just because you're doing mathematical functions and symbols doesn't mean these things can't represent other things in the real world, such as music. \" This was a huge leap, because Babbage is there saying, \"We could compute these amazing functions and print out tables of numbers and draw graphs,\" — (Laughter) — and Lovelace is there and she says, \"Look, this thing could even compose music if you told it a representation of music numerically. \" So this is what I call Lovelace's Leap.\n",
      "\n",
      "\n",
      "Cluster centered at: [ 0.42492096  0.30246348 -0.83528003] color= b\n",
      "416 : [ 0.42964099  0.29948488 -0.8518905 ] He loved intellectual battle. He loved to win, win these little macho games we would sometimes play. Feynman loved this story.\n",
      "918 : [ 0.44175258  0.29238622 -0.84815385] She said she loved the sound of my project, could she go to her local English-language bookshop and choose my Malaysian book and post it to me?\n",
      "847 : [ 0.41832221  0.29406043 -0.85938058] We all knew about the risks, and how terrifying the journey is, and I met many people who lost loved ones at sea. People below deck were crying, praying, recalling their loved ones.\n",
      "958 : [ 0.43458216  0.28615307 -0.85396415] They were simply so good at making what they loved doing, that they wouldn't change.\n",
      "\n",
      "\n",
      "Cluster centered at: [ 0.94252787 -0.22456287  0.19018427] color= c\n",
      "42 : [ 0.95479305 -0.23201829  0.18584332] And so therefore, I said to them, \"Well, look, if you refuse — if you refuse me through those reasons, as opposed to the ability to perform and to understand and love the art of creating sound — then we have to think very, very hard about the people you do actually accept. \"\n",
      "890 : [ 0.95970681 -0.21387677  0.18226235] We know, for example, from research what's most important to people who are closer to death: comfort; feeling unburdened and unburdening to those they love; existential peace; and a sense of wonderment and spirituality. If we love such moments ferociously, then maybe we can learn to live well — not in spite of death, but because of it.\n",
      "653 : [ 0.96089322 -0.21057042  0.17984525] The second aspect is love. And I just love this guy. I've been in love with this guy since I was a kid. And I wanted this guy to be involved in my crazy project, and he was kind enough to lend his image to the character of Eugène Spaak, who is a cosmologist and artist who seeks relation in between time, space, love, music and women.\n",
      "180 : [ 0.94782929 -0.24005146  0.20974968] Love it. I mean, I love the fact that I can go in anywhere and pick out what I want — the shoes I want, the skirts I want — and I'm hoping to try to bring these over here and make them accessible to a lot of people.\n",
      "\n",
      "\n",
      "Cluster centered at: [ 0.88554518 -0.0762438  -0.40924377] color= m\n",
      "510 : [ 0.90531088 -0.08095437 -0.41696356] And so many of the calls went like this, \"Dr. Brown, we loved your TED talk. It wasn't until a man looked at me after a book signing, and said, \"I love what say about shame, I'm curious why you didn't mention men. \"\n",
      "513 : [ 0.90531088 -0.08095437 -0.41696356] And so many of the calls went like this, \"Dr. Brown, we loved your TED talk. It wasn't until a man looked at me after a book signing, and said, \"I love what say about shame, I'm curious why you didn't mention men. \"\n",
      "1048 : [ 0.90154565 -0.07805814 -0.42558473] I was a PhD student at Harvard, and I loved to travel. I had just gotten engaged to marry the love of my life. On the other end of the spectrum, some were so sick they had to live in complete darkness, unable to tolerate the sound of a human voice or the touch of a loved one.\n",
      "118 : [ 0.90063523 -0.07552199 -0.42796333] And I really loved this idea of the partial glimpse into somebody's life. \"I love how they were able to preserve most in everything that makes you feel close to nature — butterflies, man-made forests, limestone caves and hey, even a huge python. \" She was wearing this silver ring that had the word \"love\" engraved on it, and she'd found it in the road somewhere.\n",
      "\n",
      "\n"
     ]
    }
   ],
   "source": [
    "doc_topic = cv_doc_topic[1]\n",
    "for i,center in enumerate(km.cluster_centers_):\n",
    "    n_closest=pd.DataFrame(cosine_similarity(X=[center],Y=normalize(doc_topic)).T)[0].nlargest(4)\n",
    "    print('Cluster centered at:',center,'color=',cmap[i])\n",
    "    for j,item in n_closest.iteritems():\n",
    "        print(j,':',normalize(doc_topic)[j],love_snippets.iloc[j].love)\n",
    "    print('\\n')"
   ]
  },
  {
   "cell_type": "code",
   "execution_count": null,
   "metadata": {},
   "outputs": [],
   "source": []
  }
 ],
 "metadata": {
  "kernelspec": {
   "display_name": "Python [conda env:metis] *",
   "language": "python",
   "name": "conda-env-metis-py"
  },
  "language_info": {
   "codemirror_mode": {
    "name": "ipython",
    "version": 3
   },
   "file_extension": ".py",
   "mimetype": "text/x-python",
   "name": "python",
   "nbconvert_exporter": "python",
   "pygments_lexer": "ipython3",
   "version": "3.7.3"
  },
  "toc": {
   "base_numbering": 1,
   "nav_menu": {},
   "number_sections": true,
   "sideBar": true,
   "skip_h1_title": false,
   "title_cell": "Table of Contents",
   "title_sidebar": "Contents",
   "toc_cell": false,
   "toc_position": {},
   "toc_section_display": true,
   "toc_window_display": false
  }
 },
 "nbformat": 4,
 "nbformat_minor": 2
}
