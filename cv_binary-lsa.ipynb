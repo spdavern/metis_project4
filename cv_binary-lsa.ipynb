{
 "cells": [
  {
   "cell_type": "code",
   "execution_count": 1,
   "metadata": {
    "ExecuteTime": {
     "end_time": "2019-11-12T22:48:47.232633Z",
     "start_time": "2019-11-12T22:48:45.818779Z"
    }
   },
   "outputs": [],
   "source": [
    "import pandas as pd\n",
    "import numpy as np\n",
    "import nltk\n",
    "from nltk.tokenize import sent_tokenize\n",
    "from nltk.tokenize import punkt\n",
    "from sklearn.feature_extraction.text import CountVectorizer\n",
    "from sklearn.metrics.pairwise import cosine_similarity\n",
    "from sklearn.metrics import pairwise_distances\n",
    "from sklearn.preprocessing import normalize\n",
    "from src.functions import get_sents, display_topics\n",
    "from sklearn.decomposition import TruncatedSVD\n",
    "from sklearn.cluster import KMeans\n",
    "from yellowbrick.cluster import KElbowVisualizer\n",
    "import matplotlib.pylab as plt\n",
    "%matplotlib inline"
   ]
  },
  {
   "cell_type": "code",
   "execution_count": 2,
   "metadata": {
    "ExecuteTime": {
     "end_time": "2019-11-12T22:48:56.328334Z",
     "start_time": "2019-11-12T22:48:47.234803Z"
    }
   },
   "outputs": [],
   "source": [
    "# Read in the transcripts\n",
    "raw_data_path = './data/raw/ted-talks/'\n",
    "transcripts_filename = 'transcripts.csv'\n",
    "t_df = pd.read_csv(raw_data_path+transcripts_filename)\n",
    "# Pare down the corpus to only those talks with the word 'love'\n",
    "love=t_df[t_df['transcript'].str.contains(r'\\blove',case=False)]\n",
    "# Tokenize\n",
    "# Get the collection of n(=5)-sentence snippets with the word 'love'\n",
    "love_snippets = get_sents(love,'love',0,0)"
   ]
  },
  {
   "cell_type": "markdown",
   "metadata": {},
   "source": [
    "From results EDA I found that talk ID=132 and 2382 were 'outliers' after dimension reduction was performed when using CountVectorizer(binary=False).  These two talks were songs that mentioned love a lot.  By deleting them I'm trying to capture orthogonal variance in topics modeling to not be dominated by these 2 talks."
   ]
  },
  {
   "cell_type": "code",
   "execution_count": 3,
   "metadata": {
    "ExecuteTime": {
     "end_time": "2019-11-12T22:48:56.344975Z",
     "start_time": "2019-11-12T22:48:56.330988Z"
    },
    "scrolled": false
   },
   "outputs": [
    {
     "data": {
      "text/html": [
       "<div>\n",
       "<style scoped>\n",
       "    .dataframe tbody tr th:only-of-type {\n",
       "        vertical-align: middle;\n",
       "    }\n",
       "\n",
       "    .dataframe tbody tr th {\n",
       "        vertical-align: top;\n",
       "    }\n",
       "\n",
       "    .dataframe thead th {\n",
       "        text-align: right;\n",
       "    }\n",
       "</style>\n",
       "<table border=\"1\" class=\"dataframe\">\n",
       "  <thead>\n",
       "    <tr style=\"text-align: right;\">\n",
       "      <th></th>\n",
       "      <th>transcript</th>\n",
       "      <th>url</th>\n",
       "      <th>n_love_sents</th>\n",
       "      <th>love</th>\n",
       "    </tr>\n",
       "  </thead>\n",
       "  <tbody>\n",
       "    <tr>\n",
       "      <td>132</td>\n",
       "      <td>I’d like to dedicate this one to all the women...</td>\n",
       "      <td>https://www.ted.com/talks/vusi_mahlasela_sings...</td>\n",
       "      <td>12.0</td>\n",
       "      <td>♫ ♫ Should I now stop singing of love, ♫ ♫ now...</td>\n",
       "    </tr>\n",
       "    <tr>\n",
       "      <td>2382</td>\n",
       "      <td>(Sings) Water Boy(Guitar strum)where are you h...</td>\n",
       "      <td>https://www.ted.com/talks/rhiannon_giddens_3_s...</td>\n",
       "      <td>14.0</td>\n",
       "      <td>So I wrote a song based on some of those narra...</td>\n",
       "    </tr>\n",
       "  </tbody>\n",
       "</table>\n",
       "</div>"
      ],
      "text/plain": [
       "                                             transcript  \\\n",
       "132   I’d like to dedicate this one to all the women...   \n",
       "2382  (Sings) Water Boy(Guitar strum)where are you h...   \n",
       "\n",
       "                                                    url  n_love_sents  \\\n",
       "132   https://www.ted.com/talks/vusi_mahlasela_sings...          12.0   \n",
       "2382  https://www.ted.com/talks/rhiannon_giddens_3_s...          14.0   \n",
       "\n",
       "                                                   love  \n",
       "132   ♫ ♫ Should I now stop singing of love, ♫ ♫ now...  \n",
       "2382  So I wrote a song based on some of those narra...  "
      ]
     },
     "execution_count": 3,
     "metadata": {},
     "output_type": "execute_result"
    }
   ],
   "source": [
    "love_snippets.loc[[132, 2382]]"
   ]
  },
  {
   "cell_type": "markdown",
   "metadata": {},
   "source": [
    "I'll uncomment this when I want those song talks eliminated."
   ]
  },
  {
   "cell_type": "code",
   "execution_count": 4,
   "metadata": {
    "ExecuteTime": {
     "end_time": "2019-11-12T22:48:56.350605Z",
     "start_time": "2019-11-12T22:48:56.347591Z"
    }
   },
   "outputs": [],
   "source": [
    "# love_snippets.drop(labels=[132, 2382],inplace=True)"
   ]
  },
  {
   "cell_type": "code",
   "execution_count": 5,
   "metadata": {
    "ExecuteTime": {
     "end_time": "2019-11-12T22:48:56.498052Z",
     "start_time": "2019-11-12T22:48:56.352272Z"
    }
   },
   "outputs": [
    {
     "name": "stdout",
     "output_type": "stream",
     "text": [
      "2 topics variance ratios: [0.02513815 0.01428794]\n",
      "3 topics variance ratios: [0.02513815 0.01430466 0.01220083]\n",
      "4 topics variance ratios: [0.02513816 0.01431339 0.01218962 0.01083878]\n",
      "5 topics variance ratios: [0.02513815 0.01430509 0.01218056 0.01081614 0.01020274]\n"
     ]
    }
   ],
   "source": [
    "# Topic modeling\n",
    "# Vectorize\n",
    "cv1 = CountVectorizer(stop_words='english',binary=True)\n",
    "cv_doc_word = cv1.fit_transform(love_snippets.love)\n",
    "# Dimension Reduction\n",
    "cv_lsa=[]\n",
    "cv_doc_topic=[]\n",
    "for i in range(2,6):\n",
    "    cv_lsa.append(TruncatedSVD(i))\n",
    "    cv_doc_topic.append(cv_lsa[i-2].fit_transform(cv_doc_word))\n",
    "    print(int(i),'topics variance ratios:',cv_lsa[i-2].explained_variance_ratio_)"
   ]
  },
  {
   "cell_type": "code",
   "execution_count": 6,
   "metadata": {
    "ExecuteTime": {
     "end_time": "2019-11-12T22:48:56.512931Z",
     "start_time": "2019-11-12T22:48:56.500512Z"
    }
   },
   "outputs": [
    {
     "name": "stdout",
     "output_type": "stream",
     "text": [
      "\n",
      "Topic  0\n",
      "love, loved, people, like, just, know, think, really, time, ve, laughter, life, world, way\n",
      "\n",
      "Topic  1\n",
      "person, feel, loved, say, got, end, long, years, time, thank, life, want, wanted, way\n"
     ]
    }
   ],
   "source": [
    "display_topics(cv_lsa[0], cv1.get_feature_names(), 14)"
   ]
  },
  {
   "cell_type": "code",
   "execution_count": 7,
   "metadata": {
    "ExecuteTime": {
     "end_time": "2019-11-12T22:48:56.698348Z",
     "start_time": "2019-11-12T22:48:56.515092Z"
    },
    "scrolled": true
   },
   "outputs": [
    {
     "data": {
      "image/png": "[encoded data removed]",
      "text/plain": [
       "<Figure size 432x288 with 1 Axes>"
      ]
     },
     "metadata": {
      "needs_background": "light"
     },
     "output_type": "display_data"
    }
   ],
   "source": [
    "plt.scatter(cv_doc_topic[0][:,0],cv_doc_topic[0][:,1], alpha = 0.5);\n",
    "# plt.axis([0, 60, -30, 10])"
   ]
  },
  {
   "cell_type": "markdown",
   "metadata": {},
   "source": [
    "Investigating the interesting result above seemed  to show that the points in the upper right had longer snippets.  So, I decided to see if there was a relationship with the number of sentences with love in it:\n",
    "\n",
    "Matplotlib colormaps: https://matplotlib.org/3.1.0/tutorials/colors/colormaps.html"
   ]
  },
  {
   "cell_type": "code",
   "execution_count": 8,
   "metadata": {
    "ExecuteTime": {
     "end_time": "2019-11-12T22:48:57.102276Z",
     "start_time": "2019-11-12T22:48:56.701945Z"
    },
    "scrolled": true
   },
   "outputs": [
    {
     "data": {
      "image/png": "[encoded data removed]",
      "text/plain": [
       "<Figure size 288x288 with 2 Axes>"
      ]
     },
     "metadata": {
      "needs_background": "light"
     },
     "output_type": "display_data"
    }
   ],
   "source": [
    "df=pd.DataFrame(cv_doc_topic[0])\n",
    "df.plot.scatter(x=0,y=1,figsize=(4,4), alpha=0.5,\\\n",
    "               c=love_snippets.n_love_sents+3, cmap=plt.get_cmap('gist_heat_r'),vmin=0);"
   ]
  },
  {
   "cell_type": "code",
   "execution_count": 9,
   "metadata": {
    "ExecuteTime": {
     "end_time": "2019-11-12T22:48:57.472692Z",
     "start_time": "2019-11-12T22:48:57.104782Z"
    }
   },
   "outputs": [
    {
     "data": {
      "image/png": "[encoded data removed]",
      "text/plain": [
       "<Figure size 144x288 with 2 Axes>"
      ]
     },
     "metadata": {
      "needs_background": "light"
     },
     "output_type": "display_data"
    }
   ],
   "source": [
    "df = pd.DataFrame(normalize(cv_doc_topic[0]))\n",
    "df.plot.scatter(x=0,y=1,figsize=(2,4), alpha=0.5,\\\n",
    "               c=love_snippets.n_love_sents+2, cmap=plt.get_cmap('gist_heat_r'),vmin=0)\n",
    "plt.axis([0,1.05,-1,1]);\n",
    "# plt.savefig(\"reports/figures/figure_1.png\")"
   ]
  },
  {
   "cell_type": "code",
   "execution_count": 10,
   "metadata": {
    "ExecuteTime": {
     "end_time": "2019-11-12T22:48:58.454884Z",
     "start_time": "2019-11-12T22:48:57.474408Z"
    }
   },
   "outputs": [
    {
     "data": {
      "image/png": "[encoded data removed]",
      "text/plain": [
       "<Figure size 432x288 with 2 Axes>"
      ]
     },
     "metadata": {},
     "output_type": "display_data"
    }
   ],
   "source": [
    "km=KMeans()\n",
    "visualizer = KElbowVisualizer(km, k=(2,12))\n",
    "visualizer.fit(cv_doc_topic[0])        # Fit the data to the visualizer\n",
    "visualizer.show();        # Finalize and render the figure"
   ]
  },
  {
   "cell_type": "code",
   "execution_count": 11,
   "metadata": {
    "ExecuteTime": {
     "end_time": "2019-11-12T22:48:58.460593Z",
     "start_time": "2019-11-12T22:48:58.456805Z"
    }
   },
   "outputs": [
    {
     "data": {
      "text/plain": [
       "5"
      ]
     },
     "execution_count": 11,
     "metadata": {},
     "output_type": "execute_result"
    }
   ],
   "source": [
    "visualizer.elbow_value_"
   ]
  },
  {
   "cell_type": "code",
   "execution_count": 12,
   "metadata": {
    "ExecuteTime": {
     "end_time": "2019-11-12T22:49:00.022036Z",
     "start_time": "2019-11-12T22:48:58.462693Z"
    },
    "scrolled": true
   },
   "outputs": [
    {
     "data": {
      "image/png": "[encoded data removed]",
      "text/plain": [
       "<Figure size 360x288 with 1 Axes>"
      ]
     },
     "metadata": {
      "needs_background": "light"
     },
     "output_type": "display_data"
    }
   ],
   "source": [
    "df=pd.DataFrame(cv_doc_topic[0],columns=['LSA Dimension 0','LSA Dimension 1'])\n",
    "num_clusters = visualizer.elbow_value_\n",
    "km = KMeans(n_clusters=num_clusters,random_state=None,n_init=300,verbose=0) # n_init, number of times the K-mean algorithm will run\n",
    "km.fit(df)\n",
    "km.labels_\n",
    "cmap = {0:'r',1:'g',2:'b',3:'c',4:'m',5:'y',6:'orange',7:'k',8:'aqua',9:'yellow'}\n",
    "col = pd.DataFrame(np.array([km.labels_])).transpose()[0].map(cmap)\n",
    "df.plot.scatter(x='LSA Dimension 0',y='LSA Dimension 1',\\\n",
    "                figsize=(5,4), c=col, alpha = 0.5,title='Topic Modeling of Love');\n",
    "# plt.axis([-1,1.05,-1,1]);"
   ]
  },
  {
   "cell_type": "code",
   "execution_count": 13,
   "metadata": {
    "ExecuteTime": {
     "end_time": "2019-11-12T22:49:00.028233Z",
     "start_time": "2019-11-12T22:49:00.024117Z"
    },
    "scrolled": true
   },
   "outputs": [
    {
     "name": "stdout",
     "output_type": "stream",
     "text": [
      "r [ 0.85020363 -0.5948375 ]\n",
      "g [5.37051471 3.64778316]\n",
      "b [2.79130625 0.46698173]\n",
      "c [ 1.57413898 -0.25171813]\n",
      "m [0.42972103 0.19168386]\n"
     ]
    }
   ],
   "source": [
    "for i,center in enumerate(km.cluster_centers_):\n",
    "    print(cmap[i],center)"
   ]
  },
  {
   "cell_type": "markdown",
   "metadata": {},
   "source": [
    "Getting the matrix of euclidean distances from the cluster centers: (used to work that out)"
   ]
  },
  {
   "cell_type": "code",
   "execution_count": 14,
   "metadata": {
    "ExecuteTime": {
     "end_time": "2019-11-12T22:49:00.042453Z",
     "start_time": "2019-11-12T22:49:00.029860Z"
    },
    "scrolled": false
   },
   "outputs": [
    {
     "data": {
      "text/html": [
       "<div>\n",
       "<style scoped>\n",
       "    .dataframe tbody tr th:only-of-type {\n",
       "        vertical-align: middle;\n",
       "    }\n",
       "\n",
       "    .dataframe tbody tr th {\n",
       "        vertical-align: top;\n",
       "    }\n",
       "\n",
       "    .dataframe thead th {\n",
       "        text-align: right;\n",
       "    }\n",
       "</style>\n",
       "<table border=\"1\" class=\"dataframe\">\n",
       "  <thead>\n",
       "    <tr style=\"text-align: right;\">\n",
       "      <th></th>\n",
       "      <th>0</th>\n",
       "      <th>1</th>\n",
       "      <th>2</th>\n",
       "      <th>3</th>\n",
       "      <th>4</th>\n",
       "    </tr>\n",
       "  </thead>\n",
       "  <tbody>\n",
       "    <tr>\n",
       "      <td>0</td>\n",
       "      <td>0.453742</td>\n",
       "      <td>5.769735</td>\n",
       "      <td>1.759890</td>\n",
       "      <td>0.347398</td>\n",
       "      <td>1.021546</td>\n",
       "    </tr>\n",
       "    <tr>\n",
       "      <td>1</td>\n",
       "      <td>0.208826</td>\n",
       "      <td>6.004213</td>\n",
       "      <td>2.004954</td>\n",
       "      <td>0.592602</td>\n",
       "      <td>0.934895</td>\n",
       "    </tr>\n",
       "    <tr>\n",
       "      <td>2</td>\n",
       "      <td>0.194360</td>\n",
       "      <td>6.392280</td>\n",
       "      <td>2.405482</td>\n",
       "      <td>0.992847</td>\n",
       "      <td>0.938141</td>\n",
       "    </tr>\n",
       "    <tr>\n",
       "      <td>3</td>\n",
       "      <td>0.957948</td>\n",
       "      <td>5.292935</td>\n",
       "      <td>1.256710</td>\n",
       "      <td>0.156967</td>\n",
       "      <td>1.335001</td>\n",
       "    </tr>\n",
       "    <tr>\n",
       "      <td>4</td>\n",
       "      <td>2.775557</td>\n",
       "      <td>3.546013</td>\n",
       "      <td>0.567996</td>\n",
       "      <td>1.978801</td>\n",
       "      <td>2.881269</td>\n",
       "    </tr>\n",
       "  </tbody>\n",
       "</table>\n",
       "</div>"
      ],
      "text/plain": [
       "          0         1         2         3         4\n",
       "0  0.453742  5.769735  1.759890  0.347398  1.021546\n",
       "1  0.208826  6.004213  2.004954  0.592602  0.934895\n",
       "2  0.194360  6.392280  2.405482  0.992847  0.938141\n",
       "3  0.957948  5.292935  1.256710  0.156967  1.335001\n",
       "4  2.775557  3.546013  0.567996  1.978801  2.881269"
      ]
     },
     "execution_count": 14,
     "metadata": {},
     "output_type": "execute_result"
    }
   ],
   "source": [
    "pd.DataFrame(pairwise_distances(km.cluster_centers_,cv_doc_topic[0]).T).head()"
   ]
  },
  {
   "cell_type": "markdown",
   "metadata": {},
   "source": [
    "Show the snippets from the 4 (euclidean distance) closest documents:"
   ]
  },
  {
   "cell_type": "code",
   "execution_count": 15,
   "metadata": {
    "ExecuteTime": {
     "end_time": "2019-11-12T22:49:00.066047Z",
     "start_time": "2019-11-12T22:49:00.045084Z"
    }
   },
   "outputs": [
    {
     "name": "stdout",
     "output_type": "stream",
     "text": [
      "Cluster centered at: [ 0.85020363 -0.5948375 ] color= r\n",
      "8 : [ 0.8484843  -0.59854944] And so again, we had a whole variety of ideas that came in.This one I personally love, because the idea is that architecture is not just about solutions, but about raising awareness. This one I love.\n",
      "420 : [ 0.85636822 -0.59667339] But you know I'd love to be able to tell you that Umar is a typical kid with polio these days, but it's not true.\n",
      "208 : [ 0.85774872 -0.59792936] In this case misery truly does love company.Now think about the following: if China and India were as rich as the United States is today, the market for cancer drugs would be eight times larger than it is now.\n",
      "946 : [ 0.85994113 -0.59769829] But I said, \"It's still not publishable, because I love what you did with the mumbo jumbo, with the machine learning, but it's not really standard-of-proof evidence that we have.\"\n",
      "\n",
      "\n",
      "Cluster centered at: [5.37051471 3.64778316] color= g\n",
      "138 : [5.20911688 3.29124979] But when I try and think about what I've learned about the meaning in life, my mind keeps wandering back to a seminar that I took when I was a graduate student at Harvard with the great psychologist Erik Erikson.He taught us that the richest and fullest lives attempt to achieve an inner balance between three realms: work, love and play. His mother died when he was only nine years old; his only sister, Sarah, in childbirth a few years later; and his first love, Ann Rutledge, at the age of 22. And with a beauty of language — almost as if the Shakespeare and the poetry he had so loved as a child had worked their way into his very soul.In 1863, when the Emancipation Proclamation was signed, he brought his old friend, Joshua Speed, back to the White House, and remembered that conversation of decades before, when he was so sad. So he said, \"I told them about Napoleon and Alexander the Great and Frederick the Great and Julius Caesar, and they loved it. So as for that second sphere, not of work, but of love — encompassing family, friends and colleagues — it, too, takes work and commitment. (Laughter) So I think that part of his attraction for me was that I loved listening to his tall tales. He had servants to answer any whim, and he had a family who loved him deeply.And yet, years of concentration solely on work and individual success meant that in his retirement he could find no solace in family, in recreation, in sports or in hobbies. It was almost as if the hole in his heart was so large that even the love of a family, without work, could not fill it. Despite all that power, all that wealth, he was alone when he finally died — his ultimate terror realized.So as for that third sphere of play, which he never had learned to enjoy, I've learned over the years that even this sphere requires a commitment of time and energy — enough so that a hobby, a sport, a love of music, or art, or literature, or any form of recreation, can provide true pleasure, relaxation and replenishment. So deep, for instance, was Abraham Lincoln's love of Shakespeare, that he made time to spend more than a hundred nights in the theater, even during those dark days of the war. He said, when the lights went down and a Shakespeare play came on, for a few precious hours he could imagine himself back in Prince Hal's time.But an even more important form of relaxation for him, that Lyndon Johnson never could enjoy, was a love of — somehow — humor, and feeling out what hilarious parts of life can produce as a sidelight to the sadness. So between his nightly treks to the theater, his story telling, and his extraordinary sense of humor and his love of quoting Shakespeare and poetry, he found that form of play which carried him through his days. In my own life, I shall always be grateful for having found a form of play in my irrational love of baseball. I must say, so fervent was my love of the old Brooklyn Dodgers in those days that I had to confess in my first confession two sins that related to baseball.The first occurred because the Dodgers' catcher, Roy Campanella, came to my hometown of Rockville Centre, Long Island, just as I was in preparation for my first Holy Communion. I love the Brooklyn Dodgers, as you do, but I promise you some day they will win fairly and squarely. (Laughter)Well, though my father died of a sudden heart attack when I was still in my 20s, before I had gotten married and had my three sons, I have passed his memory — as well as his love of baseball — on to my boys. When I open my eyes and I see my sons in the place where my father once sat, I feel an invisible loyalty and love linking my sons to the grandfather whose face they never had a chance to see, but whose heart and soul they have come to know through all the stories I have told. Which is why, in the end, I shall always be grateful for this curious love of history, allowing me to spend a lifetime looking back into the past. Allowing me to believe that the private people we have loved and lost in our families, and the public figures we have respected in our history, just as Abraham Lincoln wanted to believe, really can live on, so long as we pledge to tell and to retell the stories of their lives.\n",
      "198 : [4.77584813 3.32466113] \"her hand clawing at my head.I know now her life was hard;she lost three children as babies,then her husband died too,leaving young sons, and no money.She'd stand me in the sink to peebecause there was never room in the toilet.But oh, her soap!Might its bitter burning have been what made me a poet?The street she lived on was unpaved,her flat, two cramped rooms and a fetid kitchenwhere she stalked and caught me.Dare I admit that after she did itI never really loved her again?She lived to a hundred,even then. All along it was the sadness, the squalor,but I never, until nowloved her again.When that was published in a magazine I got an irate letter from my uncle. \"Her five horrid, deformed little dogs who incessantly yap on the roof under my window.Her cats, God knows how many, who must piss on her rugs — her landing's a sickening reek.Her shadow once, fumbling the chain on her door, then the door slamming fearfully shut,only the barking and the music — jazz — filtering as it does, day and night into the hall.The time it was Chris Connor singing \"Lush Life\" —how it brought back my college sweetheart,my first real love, who — till I left her — played the same record.And head on my shoulder, hand on my thigh,sang sweetly along, of regrets and depletions she was too young for,as I was too young, later, to believe in her pain.It startled, then bored, then repelled me.My starting to fancy she'd ended up in this fire-trap in the Village, that my neighbor was her.My thinking we'd meet, recognize one another, become friends, that I'd accomplish a penance.My seeing her, it wasn't her, at the mailbox.Gray-yellow hair, army pants under a nightgown,her turning away, hiding her ravaged face in her hands, muttering an inappropriate \"Hi. \"Medea she was, next time I saw her.Sorceress, tranced, ecstatic, stock-still on the sidewalkragged coat hanging agape, passersby flowing around her,her mouth torn suddenly open as though in a scream,silently though, as though only in her brain or breast had it erupted.A cry so pure, practiced, detached, it had no need of a voice, or could no longer bear one.These invisible links that allure, these transfigurations, even of anguish, that hold us.The girl, my old love, the last lost time I saw herwhen she came to find me at a party,her drunkenly stumbling, falling, sprawling, skirt hiked, eyes veined red, swollen with tears, her shame, her dishonor.My ignorant, arrogant coarseness, my secret pride, my turning away.Still life on a rooftop, dead trees in barrels, a bench broken, dogs, excrement, sky.What pathways through pain, what junctures of vulnerability, what crossings and counterings?Too many lives in our lives already, too many chances for sorrow, too many unaccounted-for pasts. \"Behold me,\" the god of frenzied, inexhaustible love says, rising in bloody splendor, \"Behold me. Her wavering step into the world.Her whispering, \"Thanks love.\" Another confession:Once in a book on pre-war Poland,a studio portrait, an absolute angel, an absolute angel with tormented, tormenting eyes.I kept finding myself at her page.That she died in the camps made her — I didn't dare wonder why —more present, more precious.Died in the camps, that too people — or Jews anyway — kept from their children back then.But it was like sex, you didn't have to be told.Sex and death, how close they can seem.So constantly conscious now of death moving towards me, sometimes I think I confound them.My wife's loveliness almost consumes me.My passion for her goes beyond reasonable bounds.When we make love, her holding me everywhere all around me, I'm there and not there.My mind teems, jumbles of faces, voices, impressions,I live my life over, as though I were drowning.Then I am drowning, in despair at having to leave her, this, everything, all, unbearable, awful.Still, to be able to die with no special contrition, not having been slaughtered, or enslaved.And not having to know history's next mad rage or regression, it might be a relief.No. Seductress.How much more she reveals in her glare of ink than she knows.How she incarnates our desperate human need for regard,our passion to live in beauty, to be beauty, to be cherished by glances,if by no more, of something like love,or love.Thank you.\n",
      "1007 : [5.50994507 2.96569075] It's very common around the world, but we are built to love.How is technology changing love? I and my colleagues have put over 100 people into a brain scanner — people who had just fallen happily in love, people who had just been rejected in love and people who are in love long-term. And it is possible to remain \"in love\" long-term. And I've long ago maintained that we've evolved three distinctly different brain systems for mating and reproduction: sex drive, feelings of intense romantic love and feelings of deep cosmic attachment to a long-term partner. But, you know — is this actually dramatically changing love? Unchained from the great threat of pregnancy and social ruin, women could finally express their primitive and primal sexuality.Even dating sites are not changing love. Technology is not going to change that.Technology is also not going to change who you choose to love. Modern technology is not going to change who we choose to love.But technology is producing one modern trend that I find particularly important. In fact, I've been studying this recently, and I actually think there's some sort of sweet spot in the brain; I don't know what it is, but apparently, from reading a lot of the data, we can embrace about five to nine alternatives, and after that, you get into what academics call \"cognitive overload,\" and you don't choose any.So I've come to think that due to this cognitive overload, we're ushering in a new form of courtship that I call \"slow love.\" Today's singles want to know every single thing about a partner before they wed. You learn a lot between the sheets, not only about how somebody makes love, but whether they're kind, whether they can listen and at my age, whether they've got a sense of humor. (Laughter)And in an age where we have too many choices, we have very little fear of pregnancy and disease and we've got no feeling of shame for sex before marriage, I think people are taking their time to love.And actually, what's happening is, what we're seeing is a real expansion of the precommitment stage before you tie the knot. It's not even slow love. As William Butler Yeats, the poet, once said, \"Love is the crooked thing.\" \"But I will leave you with this: love and attachment will prevail, technology cannot change it. And I will conclude by saying any understanding of human relationships must take into account one the most powerful determinants of human behavior: the unquenchable, adaptable and primordial human drive to love.Thank you. (Applause)So Esther, when you were watching Helen's talk, was there any part of it that resonated with you through the lens of your own work that you'd like to comment on?Esther Perel: It's interesting, because on the one hand, the need for love is ubiquitous and universal. But the way we love — the meaning we make out of it — the rules that govern our relationships, I think, are changing fundamentally.We come from a model that, until now, was primarily regulated around duty and obligation, the needs of the collective and loyalty. (Laughter)Yeah?So I was thinking — these words came up for me as I was listening to you, like how a vocabulary also creates a reality, and at the same time, that's my question to you: Do you think when the context changes, it still means that the nature of love remains the same?You study the brain and I study people's relationships and stories, so I think it's everything you say, plus. First of all, to your first one: there's no question that we've changed, that we now want a person to love, and for thousands of years, we had to marry the right person from the right background and right kin connection.\n",
      "16 : [5.56775808 4.37155391] But I want to start with my work on romantic love, because that's my most recent work. What I and my colleagues did was put 32 people, who were madly in love, into a functional MRI brain scanner. 17 who were madly in love and their love was accepted; and 15 who were madly in love and they had just been dumped. And so I want to tell you about that first, and then go on into where I think love is going. (Laughter)\"What 'tis to love?\" I started out by trying to figure out what romantic love was by looking at the last 45 years of the psychological research and as it turns out, there's a very specific group of things that happen when you fall in love. \"Love consists of overestimating the differences between one woman and another.\" As Chaucer said, \"Love is blind. \"In trying to understand romantic love, I decided I would read poetry from all over the world, and I just want to give you one very short poem from eighth-century China, because it's an almost perfect example of a man who is focused totally on a particular woman. It's a little bit like when you are madly in love with somebody and you walk into a parking lot — their car is different from every other car in the parking lot. Romantic love is very simple.You become extremely sexually possessive. But the moment you fall in love, you become extremely sexually possessive of them. The whole point of this is to pull two people together strongly enough to begin to rear babies as a team.But the main characteristics of romantic love are craving: an intense craving to be with a particular person, not just sexually, but emotionally. It would be nice to go to bed with them, but you want them to call you on the telephone, to invite you out, etc., to tell you that they love you. And indeed, that's exactly what happens.I began to realize that romantic love is not an emotion. But certainly, around the world, people who are rejected in love will kill for it. People live for love. They kill for love. They die for love. The second of these three brain systems is romantic love: that elation, obsession of early love. I think romantic love evolved to enable you to focus your mating energy on just one individual at a time, thereby conserving mating time and energy. One of the last 10,000 years and the other, certainly of the last 25 years, that are going to have an impact on these three different brain systems: lust, romantic love and deep attachment to a partner.The first is women working, moving into the workforce. I'll say just a couple of things, and then go on to sex and love. I'll only just use a couple and then move on to sex and love. This is a marriage between equals, moving forward to a pattern that is highly compatible with the ancient human spirit.We're also seeing a rise of romantic love. 91 percent of American women and 86 percent of American men would not marry somebody who had every single quality they were looking for in a partner, if they were not in love with that person. People around the world, in a study of 37 societies, want to be in love with the person that they marry. These three brain systems — lust, romantic love and attachment — don't always go together. Dopamine's associated with romantic love, and you can just fall in love with somebody who you're just having casual sex with. This is why you can feel such a sense of cosmic union with somebody after you've made love to them.But these three brain systems: lust, romantic love and attachment, aren't always connected to each other. You can feel deep attachment to a long-term partner while you feel intense romantic love for somebody else, while you feel the sex drive for people unrelated to these other partners. In fact, you can lie in bed at night and swing from deep feelings of attachment for one person to deep feelings of romantic love for somebody else. Dopamine is associated with romantic love. I'm just simply saying that a world without love is a deadly place.So now —(Applause)Thank you.I want to end with a story. I've been studying romantic love and sex and attachment for 30 years. It got me thinking about why it is that you fall in love with one person rather than another.That's my current project; it will be my next book. There's all kinds of reasons that you fall in love with one person rather than another. You fall in love with somebody who's somewhat mysterious, in part because mystery elevates dopamine in the brain, probably pushes you over that threshold to fall in love. You fall in love with somebody who fits within what I call your \"love map,\" an unconscious list of traits that you build in childhood as you grow up. I've been carrying on here about the biology of love. That's where we put our people in the MRI machine.And this graduate student was madly in love with another graduate student, and she was not in love with him. And he knew from our work that if you go and do something very novel with somebody, you can drive up the dopamine in the brain, and perhaps trigger this brain system for romantic love. He figured that this would drive up the dopamine, and she'd fall in love with him. \"(Laughter)(Applause)There's magic to love! (Applause)But I will end by saying that millions of years ago, we evolved three basic drives: the sex drive, romantic love and attachment to a long-term partner.\n",
      "\n",
      "\n",
      "Cluster centered at: [2.79130625 0.46698173] color= b\n",
      "877 : [2.71748175 0.51829053] It's a century since we made this really fateful decision to take addicts and punish them and make them suffer, because we believed that would deter them; it would give them an incentive to stop.And a few years ago, I was looking at some of the addicts in my life who I love, and trying to figure out if there was some way to help them. You've got work you love. You've got people you love. I wanted to know how to help the people I love. And what I've tried to do now, and I can't tell you I do it consistently and I can't tell you it's easy, is to say to the addicts in my life that I want to deepen the connection with them, to say to them, I love you whether you're using or you're not. I love you, whatever state you're in, and if you need me, I'll come and sit with you because I love you and I don't want you to be alone or to feel alone.And I think the core of that message — you're not alone, we love you — has to be at every level of how we respond to addicts, socially, politically and individually. I think all along we should have been singing love songs to them, because the opposite of addiction is not sobriety.\n",
      "484 : [2.84567949 0.57317025] (Music)♫ They stood together ♫ ♫ under a tree in tall grass ♫ ♫ on TV ♫ ♫ telling the world ♫ ♫ their story ♫ ♫ We will be left to wander ♫ ♫ and fade away ♫ ♫ Soldiers came and took our husbands ♫ ♫ at the break of day ♫ ♫ We will live on ♫ ♫ then fade away ♫ ♫ Soldiers came and killed our children ♫ ♫ at the break of day ♫ ♫ Women of hope ♫ ♫ Women of change ♫ ♫ Women of war and pain ♫ ♫ I believe ♫ ♫ I believe the almighty knows each and every one of you ♫ ♫ by your name ♫ ♫ Women of hope ♫ ♫ Women of change ♫ ♫ Women of love, joy, no shame ♫ ♫ You've got something this little life ♫ ♫ can never take away ♫ ♫ Running through the darkness of night ♫ ♫ with a child by her side ♫ ♫ Oh Lord, won't you give them ♫ ♫ a shining armor of light ♫ ♫ Oh Lord, won't you give them ♫ ♫ a shining armor of light ♫ ♫ Daybreak brings a sign of new life ♫ ♫ with the power to stand ♫ ♫ Crossing the border ♫ ♫ she said, \"You will grow free on this land\" ♫ ♫ Women of hope ♫ ♫ Women of change ♫ ♫ Women of war and pain ♫ ♫ I can feel your power ♫ ♫ in these words she said ♫ ♫ If you're feeling helpless ♫ ♫ help someone ♫ ♫ If you're feeling helpless ♫ ♫ help someone ♫ ♫ Nobody really knows ♫ ♫ how far they will go ♫ ♫ to keep on living ♫ ♫ Nobody really knows ♫ ♫ how far they will go ♫ ♫ to keep on giving ♫ ♫ and forgiving ♫ ♫ Aung San Suu Kyi ♫ ♫ living under house arrest ♫ ♫ for her peaceful protest ♫ ♫ under house arrest ♫ ♫ for her peaceful protest ♫ ♫ When her people asked her for a message ♫ ♫ she said ♫ ♫ If you're feeling helpless ♫ ♫ help someone ♫ ♫ If you're feeling helpless ♫ ♫ help someone ♫ ♫ If you're feeling helpless ♫ ♫ help someone ♫ ♫ If you're feeling helpless ♫ ♫ help someone ♫ Now we know the words, let's sing. ♫ If you're feeling helpless ♫ ♫ help someone ♫ ♫ If you're feeling helpless ♫ ♫ help someone ♫ ♫ If you're feeling helpless ♫ ♫ help someone ♫ ♫ If you're feeling helpless ♫ ♫ help someone ♫ ♫ People of hope ♫ ♫ People of change ♫ ♫ People of love, joy, no shame ♫ ♫ I believe the almighty ♫ ♫ knows each and every one of you ♫ ♫ by your name ♫Thank you.\n",
      "833 : [2.90953953 0.44922722] Today I want to talk to you about the mathematics of love. Now, I think that we can all agree that mathematicians are famously excellent at finding love. It's also because we've actually done an awful lot of work into the maths of how to find the perfect partner.Now, in my favorite paper on the subject, which is entitled, \"Why I Don't Have a Girlfriend\" —(Laughter)Peter Backus tries to rate his chances of finding love. Because I know, just as well as all of you do, that love doesn't really work like that. But I also know that that doesn't mean that mathematics hasn't got something that it can offer us, because, love, as with most of life, is full of patterns and mathematics is, ultimately, all about the study of patterns. Even something as mysterious as love. And so, to try to persuade you of how totally amazing, excellent and relevant mathematics is, I want to give you my top three mathematically verifiable tips for love. What do you know about love? But I think that it's quite interesting to know that there is really mathematical evidence to say that you should never let the sun go down on your anger.So those are my top three tips of how maths can help you with love and relationships. So I hope that perhaps, for just a couple of you, a little bit of insight into the mathematics of love can persuade you to have a little bit more love for mathematics.Thank you.\n",
      "607 : [2.86383642 0.35183975] Tell the Iranians we from Israel love you too.\" \")(\"I love that blue. I love that star. I love that flag.\") This one is really moving for me because it's the story of a girl who has been raised in Iran to walk on an Israeli flag to enter her school every morning, and now that she sees the posters that we're sending, she starts — she said that she changed her mind, and now she loves that blue, she loves that star, and she loves that flag, talking about the Israeli flag, and she wished that we'd meet and come to visit one another, and just a few days after I posted the first poster.The day after, Iranians started to respond with their own posters. I love those guys.\" Every time a country started talking about it, like Germany, America, wherever, a page on Facebook popped up with the same logo with the same stories, so at the beginning we had \"Iran-Loves-Israel,\" which is an Iranian sitting in Tehran, saying, \"Okay, Israel loves Iran? I give you Iran-Loves-Israel.\" You have Palestine-Loves-Israel. And this whole list of pages on Facebook dedicated to the same message, to people sending their love, one to each other.The moment I really understood that something was happening, a friend of mine told me, \"Google the word 'Israel.'\" Today the Israel-Loves-Iran page is this number, 80,831, and two million people last week went on the page and shared, liked, I don't know, commented on one of the photos.So for five months now, that's what we are doing, me, Michal, a few of my friends, are just making images. This is the Iran-Loves-Israel page. This is not the Israel-Loves-Iran.\n",
      "\n",
      "\n",
      "Cluster centered at: [ 1.57413898 -0.25171813] color= c\n",
      "173 : [ 1.56085685 -0.24871359] I was a ceramic designer for about 10 years, and just loved utilitarian form — simple things that we use every day, little compositions of color and surface on form. And the tourist brochures pointed me in the direction of this bridge — I love bridges, metaphorically and symbolically and structurally — and it was a bit of a disappointment, because of the sludge from the river was encrusted on it; it really wasn't in use.\n",
      "551 : [ 1.58670417 -0.27387755] I would love to see Google maps inside some of these caves. You just need to find one more fact that you didn't know.And for me, I quickly landed on this one: The Earth has a tolerance of about .17 percent from the reference spheroid, which is less than the .22 percent allowed in billiard balls.This is the kind of fact I would have loved as a boy. What this means is that if you could shrink the Earth to the size of a billiard ball, if you could take planet Earth, with all its mountain tops and caves and rainforests, astronauts and uncontacted tribes and chimpanzees, voodoo dolls, fireflies, chocolate, sea creatures making love in the deep blue sea, you just shrink that to the size of a billiard ball, it would be as smooth as a billiard ball, presumably a billiard ball with a slight bulge around the middle.That's pretty cool.\n",
      "1079 : [ 1.57948352 -0.27830854] A lot of women may love that; it's not a conservative viewpoint. So it's fascinating that people who loved what his message was during the campaign, I'm not sure — how do you think they'll react to that?DB: I should say I grew up in Lower Manhattan, in the triangle between ABC Carpets, the Strand Bookstore and The Odeon restaurant. And I would love if, somehow, Trump supporters or people on the left could encourage their leaders to show that compassion from the top, because imagine the change that we could have if Donald Trump tweeted out today, to all of his supporters, \"Let's not be vile anymore to each other.\n",
      "592 : [ 1.55380046 -0.27647317] Let's focus on the conversations between our friends and our family and our coworkers and our loved ones. We got their height up against the wall, we put them on a scale, got their weight — ladies loved that — and then we actually got their driver's license to get their age. Those cold, hard winters, I love it.All right, so why do I care about this? We're going to be able to learn so much more about human thought and expression, about everything from love to attitudes, because everything is being recorded now, but what does it mean for the average citizen?\n",
      "\n",
      "\n",
      "Cluster centered at: [0.42972103 0.19168386] color= m\n",
      "692 : [0.43854152 0.17907771] And he actually says that he didn't intend for \"Wool\" to become a series, but that the audience loved the first story so much they demanded more, and so he gave them more.\n",
      "667 : [0.42612889 0.17619685] (Beatboxing: \"Billie Jean\") ♫ Billie Jean is not my lover ♫ ♫ She's just a girl who claims that I am the one ♫ ♫ But the kid is not my son ♫ (Applause) All right. Music lovers and jazz lovers alike, please give a warm hand of applause for the one and only Mr. Peeping Tom.\n",
      "405 : [0.41560951 0.20001247] What I want you to do is picture her as a Chinese woman receiving a Chinese flag because her loved one has died in America in the coal uprising. It's an American, American soldiers, American woman who lost her loved one in the Middle East, in Iraq or Afghanistan.\n",
      "620 : [0.42992612 0.20961144] We need to increase the consciousness.The final thing I want to say is in relation to this one, which is a lovely website from India called IPaidABribe.com.\n",
      "\n",
      "\n"
     ]
    }
   ],
   "source": [
    "doc_topic = cv_doc_topic[0]\n",
    "euclidean_distances_to_centers=pd.DataFrame(pairwise_distances(km.cluster_centers_,doc_topic).T)\n",
    "for i,center in enumerate(km.cluster_centers_):\n",
    "    n_closest=euclidean_distances_to_centers[i].nsmallest(4)\n",
    "    print('Cluster centered at:',center,'color=',cmap[i])\n",
    "    for j,cs in n_closest.iteritems():\n",
    "#         print(j,cs)\n",
    "        print(j,':',doc_topic[j],love_snippets.iloc[j].love)\n",
    "    print('\\n')"
   ]
  },
  {
   "cell_type": "markdown",
   "metadata": {},
   "source": [
    "I'll now project the doc_topic values onto the unit circle, sphere, hypersphere I.  If I don't re-cluster yet, I'm looking at the clustering results from above:"
   ]
  },
  {
   "cell_type": "code",
   "execution_count": 16,
   "metadata": {
    "ExecuteTime": {
     "end_time": "2019-11-12T22:49:00.283118Z",
     "start_time": "2019-11-12T22:49:00.068207Z"
    },
    "scrolled": true
   },
   "outputs": [
    {
     "data": {
      "image/png": "[encoded data removed]",
      "text/plain": [
       "<Figure size 144x288 with 1 Axes>"
      ]
     },
     "metadata": {
      "needs_background": "light"
     },
     "output_type": "display_data"
    }
   ],
   "source": [
    "df = pd.DataFrame(normalize(doc_topic))\n",
    "df.plot.scatter(x=0,y=1,figsize=(2,4), c=col, alpha = 0.5);\n",
    "plt.axis([0,1.05,-1,1]);\n",
    "# plt.savefig(\"reports/figures/figure_1.png\")"
   ]
  },
  {
   "cell_type": "markdown",
   "metadata": {},
   "source": [
    "This next cell identifies the documents closest to the cluster centers using cosine similarity."
   ]
  },
  {
   "cell_type": "code",
   "execution_count": 17,
   "metadata": {
    "ExecuteTime": {
     "end_time": "2019-11-12T22:49:00.310948Z",
     "start_time": "2019-11-12T22:49:00.285002Z"
    }
   },
   "outputs": [
    {
     "name": "stdout",
     "output_type": "stream",
     "text": [
      "Cluster centered at: [ 0.85020363 -0.5948375 ] color= r\n",
      "273 : [ 0.81653259 -0.56970054] If you gave me only one wish for the next 50 years — I could pick who's president, I could pick a vaccine, which is something I love, or I could pick that this thing that's half the cost with no CO2 gets invented — this is the wish I would pick.\n",
      "430 : [ 0.90248386 -0.62965118] In the rest of my talk, I'd like to tell you about how I learned to stop worrying and love the challenge posed by the Indus script.\n",
      "208 : [ 0.85774872 -0.59792936] In this case misery truly does love company.Now think about the following: if China and India were as rich as the United States is today, the market for cancer drugs would be eight times larger than it is now.\n",
      "420 : [ 0.85636822 -0.59667339] But you know I'd love to be able to tell you that Umar is a typical kid with polio these days, but it's not true.\n",
      "\n",
      "\n",
      "Cluster centered at: [5.37051471 3.64778316] color= g\n",
      "445 : [0.26276397 0.17769987] Our self-deception becomes a positive illusion — why movies are able to take us onto extraordinary adventures; why we believe Romeo when he says he loves Juliet; and why single notes of music, when played together, become a sonata and conjure up meaning.That's \"Clair De lune.\"\n",
      "784 : [0.32396473 0.21903971] As a kid I always loved information that I could get from data and the stories that could be told with numbers.\n",
      "873 : [0.55753555 0.3810866 ] I'd loved it, so much so that within six months I decided to go around the world again, but this time not in a race: to try to be the fastest person ever to sail solo nonstop around the world.\n",
      "1015 : [0.54731423 0.36720738] Conventions of how trust is built, managed, lost and repaired — in brands, leaders and entire systems — is being turned upside down.Now, this is exciting, but it's frightening, because it forces many of us to have to rethink how trust is built and destroyed with our customers, with our employees, even our loved ones.The other day, I was talking to the CEO of a leading international hotel brand, and as is often the case, we got onto the topic of Airbnb.\n",
      "\n",
      "\n",
      "Cluster centered at: [2.79130625 0.46698173] color= b\n",
      "1089 : [3.0625521  0.50811561] You have a lot of love. You've had three life-changing things in a six-month time: pregnant, huge win, fell in love. And when I saw you last year, I was saying, \"How's your love life? I really love my life. I love my freedom. But I love everything that I do, and I love my career, and I always felt like I didn't want anything to interfere with that. So for me I've always felt like I loved that feeling, and obviously I don't like the feeling of losing. She's really love of my life, she's my best friend, she's my soul mate. So we always have this incredible respect for each other and this incredible love, and I think it's important for people to realize you can be successful but you can still have a wonderful relationship. I can think of some stuff I've done bad.SW: Unless she brainwashed me to forget them.GK: No, but the love you have for her I know is very pure. So whatever people say — masculine, whatever, too much, too little — I'm OK with it as long as I love myself.\n",
      "366 : [2.98248085 0.50665629] \"(Laughter)So I'm a researcher-storyteller, and I'm going to talk to you today — we're talking about expanding perception — and so I want to talk to you and tell some stories about a piece of my research that fundamentally expanded my perception and really actually changed the way that I live and love and work and parent.And this is where my story starts. And so you have to understand that I have a bachelor's and a master's in social work, and I was getting my Ph.D. in social work, so my entire academic career was surrounded by people who kind of believed in the \"life's messy, love it.\" Well, apparently this is the way my work went as well, because, when you ask people about love, they tell you about heartbreak. I wrote a book, I published a theory, but something was not okay — and what it was is that, if I roughly took the people I interviewed and divided them into people who really have a sense of worthiness — that's what this comes down to, a sense of worthiness — they have a strong sense of love and belonging — and folks who struggle for it, and folks who are always wondering if they're good enough.There was only one variable that separated the people who have a strong sense of love and belonging and the people who really struggle for it. And that was, the people who have a strong sense of love and belonging believe they're worthy of love and belonging. They talked about the willingness to say, \"I love you\" first ... the willingness to do something where there are no guarantees ... the willingness to breathe through waiting for the doctor to call after your mammogram. And I know that vulnerability is the core of shame and fear and our struggle for worthiness, but it appears that it's also the birthplace of joy, of creativity, of belonging, of love. You're imperfect, and you're wired for struggle, but you are worthy of love and belonging.\" This is what I have found: To let ourselves be seen, deeply seen, vulnerably seen ... to love with our whole hearts, even though there's no guarantee — and that's really hard, and I can tell you as a parent, that's excruciatingly difficult — to practice gratitude and joy in those moments of terror, when we're wondering, \"Can I love you this much?\n",
      "1097 : [2.557267   0.41248058] \"(Laughter)I fell in love with Paul as I watched the care he took with his patients. He later told me he fell in love with me when he saw me cry over an EKG of a heart that had ceased beating. We didn't know it yet, but even in the heady days of young love, we were learning how to approach suffering together.We got married and became doctors. I gave birth to our daughter Cady, and we loved her and each other. I realized that completing an advance directive is an act of love — like a wedding vow. That paperwork became a tangible part of our love story.As physicians, Paul and I were in a good position to understand and even accept his diagnosis. And while we were talking about her life and her health care, she said, \"I love my palliative care team. For me that poem evokes my love for Paul, and a new fortitude that came from loving and losing him.When Paul said, \"It's going to be OK,\" that didn't mean that we could cure his illness. \"Cady, engaging in the full range of experience — living and dying, love and loss — is what we get to do.\n",
      "492 : [0.18101334 0.02891325] And as you go deeper, that lovely, blue water you were launched in gives way to darker and darker blue.\n",
      "\n",
      "\n",
      "Cluster centered at: [ 1.57413898 -0.25171813] color= c\n",
      "28 : [ 1.66412747 -0.26619867] Had to start — this is the third point — with these pro-ams.This is the phrase that I've used in some stuff which I've done with a think tank in London called Demos, where we've been looking at these people who are amateurs — i.e., they do it for the love of it — but they want to do it to very high standards. And across a whole range of fields — from software, astronomy, natural sciences, vast areas of leisure and culture like kite-surfing, so on and so forth — you find people who want to do things because they love it, but they want to do these things to very high standards.\n",
      "427 : [ 1.45070181 -0.23207366] But I really began to love cars then. And even though the color was pretty hideous, I did love the car, and it really cemented my love affair with cars that's continued on to this day.But cars are really more than a passion of mine; they're quite literally in my blood. And it really struck me as the years went by, in a very negative way, when I would go to some stream that I'd loved, and was used to walking through this field that was once filled with fireflies, and now had a strip mall or a bunch of condos on it. But it never really occurred to me that my love of cars and trucks would ever be in conflict with nature.\n",
      "200 : [ 1.63077391 -0.26041003] But I think he has given us this building and we feel all the time for him, that's why, he has given love for us. He could not probably give the right kind of love for you, but for us, he has given the people the right kind of love, that is important. He had an enormous amount of love, he loved everybody. To love everybody, he sometimes did not see the very closest ones, and that is inevitable for men of his stature.\n",
      "1042 : [ 1.46663102 -0.23372971] In medical school, the lowest grades belong to the students who agree most strongly with statements like, \"I love helping others,\" which suggests the doctor you ought to trust is the one who came to med school with no desire to help anybody. Yet if nobody ever asks for help, you have a lot of frustrated givers in your organization who would love to step up and contribute, if they only knew who could benefit and how.But I think the most important thing, if you want to build a culture of successful givers, is to be thoughtful about who you let onto your team.\n",
      "\n",
      "\n",
      "Cluster centered at: [0.42972103 0.19168386] color= m\n",
      "452 : [0.7096681  0.31684048] And what we found — and we got quite a lot of things wrong and then improved them — but we found that the young people loved it.\n",
      "332 : [0.24502146 0.10871431] Referencing Steven Johnson's very lovely speech yesterday on where ideas come from, I was in the shower at the time — I was alone.\n",
      "891 : [0.15138199 0.06840167] Look at the hands of your grandmother or into the eyes of someone who loves you.\n",
      "908 : [1.02720421 0.45083377] And at some point, all of us are going to be in that position, where we have to make a very important decision about the future of our medical care or that of a loved one, to help them with a decision.And so I want to talk about that. These are things to talk about and think about now, with your family and your loved ones.\n",
      "\n",
      "\n"
     ]
    }
   ],
   "source": [
    "for i,center in enumerate(km.cluster_centers_):\n",
    "    n_closest=pd.DataFrame(cosine_similarity(X=[center],Y=doc_topic).T)[0].nlargest(4)\n",
    "    print('Cluster centered at:',center,'color=',cmap[i])\n",
    "    for j,item in n_closest.iteritems():\n",
    "        print(j,':',doc_topic[j],love_snippets.iloc[j].love)\n",
    "    print('\\n')"
   ]
  },
  {
   "cell_type": "markdown",
   "metadata": {},
   "source": [
    "Now clustering on the "
   ]
  },
  {
   "cell_type": "code",
   "execution_count": 18,
   "metadata": {
    "ExecuteTime": {
     "end_time": "2019-11-12T22:49:01.242360Z",
     "start_time": "2019-11-12T22:49:00.312649Z"
    }
   },
   "outputs": [
    {
     "data": {
      "image/png": "[encoded data removed]",
      "text/plain": [
       "<Figure size 432x288 with 2 Axes>"
      ]
     },
     "metadata": {},
     "output_type": "display_data"
    }
   ],
   "source": [
    "km=KMeans()\n",
    "visualizer = KElbowVisualizer(km, k=(2,12))\n",
    "visualizer.fit(df)        # Fit the data to the visualizer\n",
    "visualizer.show();                     # Finalize and render the figure"
   ]
  },
  {
   "cell_type": "code",
   "execution_count": 19,
   "metadata": {
    "ExecuteTime": {
     "end_time": "2019-11-12T22:49:02.648720Z",
     "start_time": "2019-11-12T22:49:01.244226Z"
    },
    "scrolled": true
   },
   "outputs": [
    {
     "data": {
      "image/png": "[encoded data removed]",
      "text/plain": [
       "<Figure size 144x288 with 1 Axes>"
      ]
     },
     "metadata": {
      "needs_background": "light"
     },
     "output_type": "display_data"
    }
   ],
   "source": [
    "df = pd.DataFrame(normalize(doc_topic))\n",
    "num_clusters = visualizer.elbow_value_\n",
    "km = KMeans(n_clusters=num_clusters,random_state=10,n_init=300,verbose=0) # n_init, number of times the K-mean algorithm will run\n",
    "km.fit(df)\n",
    "km.labels_\n",
    "cmap = {0:'r',1:'g',2:'b',3:'c',4:'m',5:'y',6:'orange',7:'k',8:'aqua',9:'yellow'}\n",
    "col = pd.DataFrame(np.array([km.labels_])).transpose()[0].map(cmap)\n",
    "df.plot.scatter(x=0,y=1,figsize=(2,4), c=col, alpha = 0.5);\n",
    "plt.axis([0,1.05,-1,1]);\n",
    "# plt.savefig(\"reports/figures/figure_1.png\")"
   ]
  },
  {
   "cell_type": "code",
   "execution_count": 20,
   "metadata": {
    "ExecuteTime": {
     "end_time": "2019-11-12T22:49:02.682352Z",
     "start_time": "2019-11-12T22:49:02.650562Z"
    }
   },
   "outputs": [
    {
     "name": "stdout",
     "output_type": "stream",
     "text": [
      "Cluster centered at: [ 0.70841856 -0.70052276] color= r\n",
      "145 : [ 0.71090807 -0.70328495] I love her, you know.\n",
      "945 : [ 0.71077658 -0.70341783] That is the moment I love and that is the moment I love to share with others.So at this point, my curiosity grew.\n",
      "388 : [ 0.71149158 -0.70269462] (Laughter) But basically I love being a woman.\n",
      "707 : [ 0.71151645 -0.70266944] We've also learned the penguins love robots.\n",
      "\n",
      "\n",
      "Cluster centered at: [0.91271419 0.38762559] color= g\n",
      "531 : [0.92097798 0.38961464] And he takes the relatives by the hand, and guides them each to their loved ones amid the wreckage.What Simonides figured out at that moment, is something that I think we all kind of intuitively know, which is that, as bad as we are at remembering names and phone numbers, and word-for-word instructions from our colleagues, we have really exceptional visual and spatial memories.\n",
      "735 : [0.92109081 0.3893478 ] I think it's the loveliest thing that our brains have invented.\n",
      "585 : [0.92115465 0.38919675] It asked customers to purchase chocolate with the promise of good deeds towards loved ones.\n",
      "166 : [0.91937024 0.39339339] The word, \"playful\" is a necessary aspect of our work because, actually, one of our problems is that we have to make, produce, lovely things throughout all of life, and this for me is now 75 years.So how can you, without drying up, make things with the same pleasure, as a gift to others, for so long? And since I don't like to travel alone, they also invited my daughter, son-in-law and granddaughter, so we had a lovely trip to see Russia today, which is not a very pleasant and happy view.\n",
      "\n",
      "\n",
      "Cluster centered at: [ 0.98724052 -0.10919618] color= b\n",
      "716 : [ 0.99382013 -0.11100244] I have always loved the fact that my hood and my affliction share the same initials. I also love the fact that if I wanted to walk from my house to New York City, I could.A lot of people with CP don't walk, but my parents didn't believe in \"can't.\" Everybody loved me.\n",
      "239 : [ 0.99380928 -0.11109953] And as you can imagine, it is a lovely and very energetic time.I originally had opened the studio in New York to combine my two loves, music and design. As I realized, just like with many many things in my life that I actually love, I adapt to it. While we built all this up during that week, with the 100 volunteers, a good number of the neighbors surrounding the plaza got very close to it and quite loved it.\n",
      "670 : [ 0.99414503 -0.10805395] And being a theater person, what I know and love about the theater is that when the audience comes in and they suspend their disbelief, when you see men walking or women walking with a platter of grass on their heads, you know it's the savanna. I love the apparent truth of theater. I love that people are willing to fill in the blanks. And I'm one who loves high tech and low tech. I did \"The Tempest\" on a stage three times in the theater since 1984, '86, and I love the play. Miranda: Do you love me? And I, the king, shall love thee. (Applause) So I went from theater, doing \"The Tempest\" on the stage in a very low-budget production many years ago, and I love the play, and I also think it's Shakespeare's last play, and it really lends itself, as you can see, to cinema.\n",
      "457 : [ 0.99361051 -0.11286346] That's the kind of attention, the kind of consciousness, that we might expect from those butterflies who are designed to learn.Well if we want to think about a way of getting a taste of that kind of baby consciousness as adults, I think the best thing is think about cases where we're put in a new situation that we've never been in before — when we fall in love with someone new, or when we're in a new city for the first time. It's like being in love in Paris for the first time after you've had three double-espressos.\n",
      "\n",
      "\n",
      "Cluster centered at: [ 0.89071195 -0.44427577] color= c\n",
      "390 : [ 0.89489606 -0.44627462] I love the way that people will ask me, \"How big will my photo be?\" You know what I love is, for example, when you see the biggest eye there, there are so [many] houses inside.\n",
      "1080 : [ 0.89537547 -0.44531199] Although I'd love to go on about all the details of this algorithm, luckily for you, I don't have the time.But I'd still like to give you a brief idea of how we define what our universe looks like, and how we use this to reconstruct and verify our results.\n",
      "639 : [ 0.89419682 -0.44767404] We have to be in the good and enjoy the good, study and work and adventure and friendship — oh, friendship — and community and love.But most of all, I wished to tell him what Herman Melville wrote, that \"truly to enjoy bodily warmth, some small part of you must be cold, for there is no quality in this world that is not what it is merely by contrast.\"\n",
      "644 : [ 0.89563948 -0.44478075] (Clang) (Laughs)Now obviously, as Maddie's chemistry teacher, I love that she went home and continued to geek out about this kind of ridiculous demonstration that we did in class. She's going to be four years old, and anyone who knows a four-year-old knows that they love to ask, \"Why?\"\n",
      "\n",
      "\n"
     ]
    }
   ],
   "source": [
    "for i,center in enumerate(km.cluster_centers_):\n",
    "    n_closest=pd.DataFrame(cosine_similarity(X=[center],Y=normalize(doc_topic)).T)[0].nlargest(4)\n",
    "    print('Cluster centered at:',center,'color=',cmap[i])\n",
    "    for j,item in n_closest.iteritems():\n",
    "        print(j,':',normalize(doc_topic)[j],love_snippets.iloc[j].love)\n",
    "    print('\\n')"
   ]
  },
  {
   "cell_type": "markdown",
   "metadata": {},
   "source": [
    "# The 3-topic Result"
   ]
  },
  {
   "cell_type": "code",
   "execution_count": 23,
   "metadata": {
    "ExecuteTime": {
     "end_time": "2019-11-12T22:56:04.592509Z",
     "start_time": "2019-11-12T22:56:04.573849Z"
    },
    "scrolled": true
   },
   "outputs": [
    {
     "name": "stdout",
     "output_type": "stream",
     "text": [
      "\n",
      "Topic  0\n",
      "love, loved, people, like, just, know, think, really, time, ve, laughter, life, world, way\n",
      "\n",
      "Topic  1\n",
      "loved, feel, person, got, say, end, time, long, thank, years, life, thinking, later, wanted\n",
      "\n",
      "Topic  2\n",
      "loved, day, told, away, life, girl, old, wasn, lost, school, shadow, came, eyes, saw\n"
     ]
    }
   ],
   "source": [
    "display_topics(cv_lsa[1], cv1.get_feature_names(), 14)"
   ]
  },
  {
   "cell_type": "code",
   "execution_count": 24,
   "metadata": {
    "ExecuteTime": {
     "end_time": "2019-11-12T23:09:56.391750Z",
     "start_time": "2019-11-12T23:09:56.387932Z"
    }
   },
   "outputs": [
    {
     "data": {
      "text/plain": [
       "array([[ 1.2609717 , -0.38873721,  0.295455  ],\n",
       "       [ 1.04280154, -0.52596728, -0.1125232 ],\n",
       "       [ 0.69277549, -0.7075228 , -0.07247713],\n",
       "       ...,\n",
       "       [ 0.65155066, -0.6789017 , -0.03507344],\n",
       "       [ 1.04762451, -0.71017118,  0.05381469],\n",
       "       [ 0.78298403, -0.67532693,  0.02368921]])"
      ]
     },
     "execution_count": 24,
     "metadata": {},
     "output_type": "execute_result"
    }
   ],
   "source": [
    "cv_doc_topic[1]"
   ]
  },
  {
   "cell_type": "code",
   "execution_count": 25,
   "metadata": {
    "ExecuteTime": {
     "end_time": "2019-11-12T23:11:06.558628Z",
     "start_time": "2019-11-12T23:11:06.546766Z"
    }
   },
   "outputs": [],
   "source": [
    "from mpl_toolkits.mplot3d import Axes3D"
   ]
  },
  {
   "cell_type": "code",
   "execution_count": 36,
   "metadata": {
    "ExecuteTime": {
     "end_time": "2019-11-12T23:20:02.401584Z",
     "start_time": "2019-11-12T23:20:02.398411Z"
    }
   },
   "outputs": [],
   "source": [
    "# Use this to visualize the un-projected doc-topic space:\n",
    "# df = pd.DataFrame(cv_doc_topic[1])\n",
    "# Use this to visualize the projected doc-topic space:\n",
    "df = pd.DataFrame(normalize(cv_doc_topic[1]))"
   ]
  },
  {
   "cell_type": "markdown",
   "metadata": {},
   "source": [
    "Helpful in getting started with 3D plotting:\n",
    "* https://pythonprogramming.net/3d-graphing-pandas-matplotlib/\n",
    "* https://matplotlib.org/3.1.1/gallery/mplot3d/scatter3d.html#sphx-glr-gallery-mplot3d-scatter3d-py\n",
    "* https://stackoverflow.com/questions/47311632/jupyter-how-to-rotate-3d-graph"
   ]
  },
  {
   "cell_type": "code",
   "execution_count": 45,
   "metadata": {
    "ExecuteTime": {
     "end_time": "2019-11-12T23:30:12.576928Z",
     "start_time": "2019-11-12T23:30:11.545626Z"
    }
   },
   "outputs": [
    {
     "data": {
      "image/png": "[encoded data removed]",
      "text/plain": [
       "<Figure size 432x288 with 2 Axes>"
      ]
     },
     "metadata": {},
     "output_type": "display_data"
    }
   ],
   "source": [
    "%matplotlib inline\n",
    "km=KMeans()\n",
    "visualizer = KElbowVisualizer(km, k=(2,12))\n",
    "visualizer.fit(df)                     # Fit the data to the visualizer\n",
    "visualizer.show();                     # Finalize and render the figure"
   ]
  },
  {
   "cell_type": "code",
   "execution_count": 46,
   "metadata": {
    "ExecuteTime": {
     "end_time": "2019-11-12T23:32:12.414188Z",
     "start_time": "2019-11-12T23:32:10.538178Z"
    }
   },
   "outputs": [],
   "source": [
    "num_clusters = visualizer.elbow_value_\n",
    "km = KMeans(n_clusters=num_clusters,random_state=10,n_init=300,verbose=0) # n_init, number of times the K-mean algorithm will run\n",
    "km.fit(df)\n",
    "col = pd.DataFrame(np.array([km.labels_])).transpose()[0].map(cmap)"
   ]
  },
  {
   "cell_type": "code",
   "execution_count": 53,
   "metadata": {
    "ExecuteTime": {
     "end_time": "2019-11-13T00:16:34.849533Z",
     "start_time": "2019-11-13T00:16:34.809544Z"
    }
   },
   "outputs": [
    {
     "data": {
      "application/javascript": [
       "/* Put everything inside the global mpl namespace */\n",
       "window.mpl = {};\n",
       "\n",
       "\n",
       "mpl.get_websocket_type = function() {\n",
       "    if (typeof(WebSocket) !== 'undefined') {\n",
       "        return WebSocket;\n",
       "    } else if (typeof(MozWebSocket) !== 'undefined') {\n",
       "        return MozWebSocket;\n",
       "    } else {\n",
       "        alert('Your browser does not have WebSocket support. ' +\n",
       "              'Please try Chrome, Safari or Firefox ≥ 6. ' +\n",
       "              'Firefox 4 and 5 are also supported but you ' +\n",
       "              'have to enable WebSockets in about:config.');\n",
       "    };\n",
       "}\n",
       "\n",
       "mpl.figure = function(figure_id, websocket, ondownload, parent_element) {\n",
       "    this.id = figure_id;\n",
       "\n",
       "    this.ws = websocket;\n",
       "\n",
       "    this.supports_binary = (this.ws.binaryType != undefined);\n",
       "\n",
       "    if (!this.supports_binary) {\n",
       "        var warnings = document.getElementById(\"mpl-warnings\");\n",
       "        if (warnings) {\n",
       "            warnings.style.display = 'block';\n",
       "            warnings.textContent = (\n",
       "                \"This browser does not support binary websocket messages. \" +\n",
       "                    \"Performance may be slow.\");\n",
       "        }\n",
       "    }\n",
       "\n",
       "    this.imageObj = new Image();\n",
       "\n",
       "    this.context = undefined;\n",
       "    this.message = undefined;\n",
       "    this.canvas = undefined;\n",
       "    this.rubberband_canvas = undefined;\n",
       "    this.rubberband_context = undefined;\n",
       "    this.format_dropdown = undefined;\n",
       "\n",
       "    this.image_mode = 'full';\n",
       "\n",
       "    this.root = $('<div/>');\n",
       "    this._root_extra_style(this.root)\n",
       "    this.root.attr('style', 'display: inline-block');\n",
       "\n",
       "    $(parent_element).append(this.root);\n",
       "\n",
       "    this._init_header(this);\n",
       "    this._init_canvas(this);\n",
       "    this._init_toolbar(this);\n",
       "\n",
       "    var fig = this;\n",
       "\n",
       "    this.waiting = false;\n",
       "\n",
       "    this.ws.onopen =  function () {\n",
       "            fig.send_message(\"supports_binary\", {value: fig.supports_binary});\n",
       "            fig.send_message(\"send_image_mode\", {});\n",
       "            if (mpl.ratio != 1) {\n",
       "                fig.send_message(\"set_dpi_ratio\", {'dpi_ratio': mpl.ratio});\n",
       "            }\n",
       "            fig.send_message(\"refresh\", {});\n",
       "        }\n",
       "\n",
       "    this.imageObj.onload = function() {\n",
       "            if (fig.image_mode == 'full') {\n",
       "                // Full images could contain transparency (where diff images\n",
       "                // almost always do), so we need to clear the canvas so that\n",
       "                // there is no ghosting.\n",
       "                fig.context.clearRect(0, 0, fig.canvas.width, fig.canvas.height);\n",
       "            }\n",
       "            fig.context.drawImage(fig.imageObj, 0, 0);\n",
       "        };\n",
       "\n",
       "    this.imageObj.onunload = function() {\n",
       "        fig.ws.close();\n",
       "    }\n",
       "\n",
       "    this.ws.onmessage = this._make_on_message_function(this);\n",
       "\n",
       "    this.ondownload = ondownload;\n",
       "}\n",
       "\n",
       "mpl.figure.prototype._init_header = function() {\n",
       "    var titlebar = $(\n",
       "        '<div class=\"ui-dialog-titlebar ui-widget-header ui-corner-all ' +\n",
       "        'ui-helper-clearfix\"/>');\n",
       "    var titletext = $(\n",
       "        '<div class=\"ui-dialog-title\" style=\"width: 100%; ' +\n",
       "        'text-align: center; padding: 3px;\"/>');\n",
       "    titlebar.append(titletext)\n",
       "    this.root.append(titlebar);\n",
       "    this.header = titletext[0];\n",
       "}\n",
       "\n",
       "\n",
       "\n",
       "mpl.figure.prototype._canvas_extra_style = function(canvas_div) {\n",
       "\n",
       "}\n",
       "\n",
       "\n",
       "mpl.figure.prototype._root_extra_style = function(canvas_div) {\n",
       "\n",
       "}\n",
       "\n",
       "mpl.figure.prototype._init_canvas = function() {\n",
       "    var fig = this;\n",
       "\n",
       "    var canvas_div = $('<div/>');\n",
       "\n",
       "    canvas_div.attr('style', 'position: relative; clear: both; outline: 0');\n",
       "\n",
       "    function canvas_keyboard_event(event) {\n",
       "        return fig.key_event(event, event['data']);\n",
       "    }\n",
       "\n",
       "    canvas_div.keydown('key_press', canvas_keyboard_event);\n",
       "    canvas_div.keyup('key_release', canvas_keyboard_event);\n",
       "    this.canvas_div = canvas_div\n",
       "    this._canvas_extra_style(canvas_div)\n",
       "    this.root.append(canvas_div);\n",
       "\n",
       "    var canvas = $('<canvas/>');\n",
       "    canvas.addClass('mpl-canvas');\n",
       "    canvas.attr('style', \"left: 0; top: 0; z-index: 0; outline: 0\")\n",
       "\n",
       "    this.canvas = canvas[0];\n",
       "    this.context = canvas[0].getContext(\"2d\");\n",
       "\n",
       "    var backingStore = this.context.backingStorePixelRatio ||\n",
       "\tthis.context.webkitBackingStorePixelRatio ||\n",
       "\tthis.context.mozBackingStorePixelRatio ||\n",
       "\tthis.context.msBackingStorePixelRatio ||\n",
       "\tthis.context.oBackingStorePixelRatio ||\n",
       "\tthis.context.backingStorePixelRatio || 1;\n",
       "\n",
       "    mpl.ratio = (window.devicePixelRatio || 1) / backingStore;\n",
       "\n",
       "    var rubberband = $('<canvas/>');\n",
       "    rubberband.attr('style', \"position: absolute; left: 0; top: 0; z-index: 1;\")\n",
       "\n",
       "    var pass_mouse_events = true;\n",
       "\n",
       "    canvas_div.resizable({\n",
       "        start: function(event, ui) {\n",
       "            pass_mouse_events = false;\n",
       "        },\n",
       "        resize: function(event, ui) {\n",
       "            fig.request_resize(ui.size.width, ui.size.height);\n",
       "        },\n",
       "        stop: function(event, ui) {\n",
       "            pass_mouse_events = true;\n",
       "            fig.request_resize(ui.size.width, ui.size.height);\n",
       "        },\n",
       "    });\n",
       "\n",
       "    function mouse_event_fn(event) {\n",
       "        if (pass_mouse_events)\n",
       "            return fig.mouse_event(event, event['data']);\n",
       "    }\n",
       "\n",
       "    rubberband.mousedown('button_press', mouse_event_fn);\n",
       "    rubberband.mouseup('button_release', mouse_event_fn);\n",
       "    // Throttle sequential mouse events to 1 every 20ms.\n",
       "    rubberband.mousemove('motion_notify', mouse_event_fn);\n",
       "\n",
       "    rubberband.mouseenter('figure_enter', mouse_event_fn);\n",
       "    rubberband.mouseleave('figure_leave', mouse_event_fn);\n",
       "\n",
       "    canvas_div.on(\"wheel\", function (event) {\n",
       "        event = event.originalEvent;\n",
       "        event['data'] = 'scroll'\n",
       "        if (event.deltaY < 0) {\n",
       "            event.step = 1;\n",
       "        } else {\n",
       "            event.step = -1;\n",
       "        }\n",
       "        mouse_event_fn(event);\n",
       "    });\n",
       "\n",
       "    canvas_div.append(canvas);\n",
       "    canvas_div.append(rubberband);\n",
       "\n",
       "    this.rubberband = rubberband;\n",
       "    this.rubberband_canvas = rubberband[0];\n",
       "    this.rubberband_context = rubberband[0].getContext(\"2d\");\n",
       "    this.rubberband_context.strokeStyle = \"#000000\";\n",
       "\n",
       "    this._resize_canvas = function(width, height) {\n",
       "        // Keep the size of the canvas, canvas container, and rubber band\n",
       "        // canvas in synch.\n",
       "        canvas_div.css('width', width)\n",
       "        canvas_div.css('height', height)\n",
       "\n",
       "        canvas.attr('width', width * mpl.ratio);\n",
       "        canvas.attr('height', height * mpl.ratio);\n",
       "        canvas.attr('style', 'width: ' + width + 'px; height: ' + height + 'px;');\n",
       "\n",
       "        rubberband.attr('width', width);\n",
       "        rubberband.attr('height', height);\n",
       "    }\n",
       "\n",
       "    // Set the figure to an initial 600x600px, this will subsequently be updated\n",
       "    // upon first draw.\n",
       "    this._resize_canvas(600, 600);\n",
       "\n",
       "    // Disable right mouse context menu.\n",
       "    $(this.rubberband_canvas).bind(\"contextmenu\",function(e){\n",
       "        return false;\n",
       "    });\n",
       "\n",
       "    function set_focus () {\n",
       "        canvas.focus();\n",
       "        canvas_div.focus();\n",
       "    }\n",
       "\n",
       "    window.setTimeout(set_focus, 100);\n",
       "}\n",
       "\n",
       "mpl.figure.prototype._init_toolbar = function() {\n",
       "    var fig = this;\n",
       "\n",
       "    var nav_element = $('<div/>');\n",
       "    nav_element.attr('style', 'width: 100%');\n",
       "    this.root.append(nav_element);\n",
       "\n",
       "    // Define a callback function for later on.\n",
       "    function toolbar_event(event) {\n",
       "        return fig.toolbar_button_onclick(event['data']);\n",
       "    }\n",
       "    function toolbar_mouse_event(event) {\n",
       "        return fig.toolbar_button_onmouseover(event['data']);\n",
       "    }\n",
       "\n",
       "    for(var toolbar_ind in mpl.toolbar_items) {\n",
       "        var name = mpl.toolbar_items[toolbar_ind][0];\n",
       "        var tooltip = mpl.toolbar_items[toolbar_ind][1];\n",
       "        var image = mpl.toolbar_items[toolbar_ind][2];\n",
       "        var method_name = mpl.toolbar_items[toolbar_ind][3];\n",
       "\n",
       "        if (!name) {\n",
       "            // put a spacer in here.\n",
       "            continue;\n",
       "        }\n",
       "        var button = $('<button/>');\n",
       "        button.addClass('ui-button ui-widget ui-state-default ui-corner-all ' +\n",
       "                        'ui-button-icon-only');\n",
       "        button.attr('role', 'button');\n",
       "        button.attr('aria-disabled', 'false');\n",
       "        button.click(method_name, toolbar_event);\n",
       "        button.mouseover(tooltip, toolbar_mouse_event);\n",
       "\n",
       "        var icon_img = $('<span/>');\n",
       "        icon_img.addClass('ui-button-icon-primary ui-icon');\n",
       "        icon_img.addClass(image);\n",
       "        icon_img.addClass('ui-corner-all');\n",
       "\n",
       "        var tooltip_span = $('<span/>');\n",
       "        tooltip_span.addClass('ui-button-text');\n",
       "        tooltip_span.html(tooltip);\n",
       "\n",
       "        button.append(icon_img);\n",
       "        button.append(tooltip_span);\n",
       "\n",
       "        nav_element.append(button);\n",
       "    }\n",
       "\n",
       "    var fmt_picker_span = $('<span/>');\n",
       "\n",
       "    var fmt_picker = $('<select/>');\n",
       "    fmt_picker.addClass('mpl-toolbar-option ui-widget ui-widget-content');\n",
       "    fmt_picker_span.append(fmt_picker);\n",
       "    nav_element.append(fmt_picker_span);\n",
       "    this.format_dropdown = fmt_picker[0];\n",
       "\n",
       "    for (var ind in mpl.extensions) {\n",
       "        var fmt = mpl.extensions[ind];\n",
       "        var option = $(\n",
       "            '<option/>', {selected: fmt === mpl.default_extension}).html(fmt);\n",
       "        fmt_picker.append(option);\n",
       "    }\n",
       "\n",
       "    // Add hover states to the ui-buttons\n",
       "    $( \".ui-button\" ).hover(\n",
       "        function() { $(this).addClass(\"ui-state-hover\");},\n",
       "        function() { $(this).removeClass(\"ui-state-hover\");}\n",
       "    );\n",
       "\n",
       "    var status_bar = $('<span class=\"mpl-message\"/>');\n",
       "    nav_element.append(status_bar);\n",
       "    this.message = status_bar[0];\n",
       "}\n",
       "\n",
       "mpl.figure.prototype.request_resize = function(x_pixels, y_pixels) {\n",
       "    // Request matplotlib to resize the figure. Matplotlib will then trigger a resize in the client,\n",
       "    // which will in turn request a refresh of the image.\n",
       "    this.send_message('resize', {'width': x_pixels, 'height': y_pixels});\n",
       "}\n",
       "\n",
       "mpl.figure.prototype.send_message = function(type, properties) {\n",
       "    properties['type'] = type;\n",
       "    properties['figure_id'] = this.id;\n",
       "    this.ws.send(JSON.stringify(properties));\n",
       "}\n",
       "\n",
       "mpl.figure.prototype.send_draw_message = function() {\n",
       "    if (!this.waiting) {\n",
       "        this.waiting = true;\n",
       "        this.ws.send(JSON.stringify({type: \"draw\", figure_id: this.id}));\n",
       "    }\n",
       "}\n",
       "\n",
       "\n",
       "mpl.figure.prototype.handle_save = function(fig, msg) {\n",
       "    var format_dropdown = fig.format_dropdown;\n",
       "    var format = format_dropdown.options[format_dropdown.selectedIndex].value;\n",
       "    fig.ondownload(fig, format);\n",
       "}\n",
       "\n",
       "\n",
       "mpl.figure.prototype.handle_resize = function(fig, msg) {\n",
       "    var size = msg['size'];\n",
       "    if (size[0] != fig.canvas.width || size[1] != fig.canvas.height) {\n",
       "        fig._resize_canvas(size[0], size[1]);\n",
       "        fig.send_message(\"refresh\", {});\n",
       "    };\n",
       "}\n",
       "\n",
       "mpl.figure.prototype.handle_rubberband = function(fig, msg) {\n",
       "    var x0 = msg['x0'] / mpl.ratio;\n",
       "    var y0 = (fig.canvas.height - msg['y0']) / mpl.ratio;\n",
       "    var x1 = msg['x1'] / mpl.ratio;\n",
       "    var y1 = (fig.canvas.height - msg['y1']) / mpl.ratio;\n",
       "    x0 = Math.floor(x0) + 0.5;\n",
       "    y0 = Math.floor(y0) + 0.5;\n",
       "    x1 = Math.floor(x1) + 0.5;\n",
       "    y1 = Math.floor(y1) + 0.5;\n",
       "    var min_x = Math.min(x0, x1);\n",
       "    var min_y = Math.min(y0, y1);\n",
       "    var width = Math.abs(x1 - x0);\n",
       "    var height = Math.abs(y1 - y0);\n",
       "\n",
       "    fig.rubberband_context.clearRect(\n",
       "        0, 0, fig.canvas.width / mpl.ratio, fig.canvas.height / mpl.ratio);\n",
       "\n",
       "    fig.rubberband_context.strokeRect(min_x, min_y, width, height);\n",
       "}\n",
       "\n",
       "mpl.figure.prototype.handle_figure_label = function(fig, msg) {\n",
       "    // Updates the figure title.\n",
       "    fig.header.textContent = msg['label'];\n",
       "}\n",
       "\n",
       "mpl.figure.prototype.handle_cursor = function(fig, msg) {\n",
       "    var cursor = msg['cursor'];\n",
       "    switch(cursor)\n",
       "    {\n",
       "    case 0:\n",
       "        cursor = 'pointer';\n",
       "        break;\n",
       "    case 1:\n",
       "        cursor = 'default';\n",
       "        break;\n",
       "    case 2:\n",
       "        cursor = 'crosshair';\n",
       "        break;\n",
       "    case 3:\n",
       "        cursor = 'move';\n",
       "        break;\n",
       "    }\n",
       "    fig.rubberband_canvas.style.cursor = cursor;\n",
       "}\n",
       "\n",
       "mpl.figure.prototype.handle_message = function(fig, msg) {\n",
       "    fig.message.textContent = msg['message'];\n",
       "}\n",
       "\n",
       "mpl.figure.prototype.handle_draw = function(fig, msg) {\n",
       "    // Request the server to send over a new figure.\n",
       "    fig.send_draw_message();\n",
       "}\n",
       "\n",
       "mpl.figure.prototype.handle_image_mode = function(fig, msg) {\n",
       "    fig.image_mode = msg['mode'];\n",
       "}\n",
       "\n",
       "mpl.figure.prototype.updated_canvas_event = function() {\n",
       "    // Called whenever the canvas gets updated.\n",
       "    this.send_message(\"ack\", {});\n",
       "}\n",
       "\n",
       "// A function to construct a web socket function for onmessage handling.\n",
       "// Called in the figure constructor.\n",
       "mpl.figure.prototype._make_on_message_function = function(fig) {\n",
       "    return function socket_on_message(evt) {\n",
       "        if (evt.data instanceof Blob) {\n",
       "            /* FIXME: We get \"Resource interpreted as Image but\n",
       "             * transferred with MIME type text/plain:\" errors on\n",
       "             * Chrome.  But how to set the MIME type?  It doesn't seem\n",
       "             * to be part of the websocket stream */\n",
       "            evt.data.type = \"image/png\";\n",
       "\n",
       "            /* Free the memory for the previous frames */\n",
       "            if (fig.imageObj.src) {\n",
       "                (window.URL || window.webkitURL).revokeObjectURL(\n",
       "                    fig.imageObj.src);\n",
       "            }\n",
       "\n",
       "            fig.imageObj.src = (window.URL || window.webkitURL).createObjectURL(\n",
       "                evt.data);\n",
       "            fig.updated_canvas_event();\n",
       "            fig.waiting = false;\n",
       "            return;\n",
       "        }\n",
       "        else if (typeof evt.data === 'string' && evt.data.slice(0, 21) == \"data:image/png;base64\") {\n",
       "            fig.imageObj.src = evt.data;\n",
       "            fig.updated_canvas_event();\n",
       "            fig.waiting = false;\n",
       "            return;\n",
       "        }\n",
       "\n",
       "        var msg = JSON.parse(evt.data);\n",
       "        var msg_type = msg['type'];\n",
       "\n",
       "        // Call the  \"handle_{type}\" callback, which takes\n",
       "        // the figure and JSON message as its only arguments.\n",
       "        try {\n",
       "            var callback = fig[\"handle_\" + msg_type];\n",
       "        } catch (e) {\n",
       "            console.log(\"No handler for the '\" + msg_type + \"' message type: \", msg);\n",
       "            return;\n",
       "        }\n",
       "\n",
       "        if (callback) {\n",
       "            try {\n",
       "                // console.log(\"Handling '\" + msg_type + \"' message: \", msg);\n",
       "                callback(fig, msg);\n",
       "            } catch (e) {\n",
       "                console.log(\"Exception inside the 'handler_\" + msg_type + \"' callback:\", e, e.stack, msg);\n",
       "            }\n",
       "        }\n",
       "    };\n",
       "}\n",
       "\n",
       "// from http://stackoverflow.com/questions/1114465/getting-mouse-location-in-canvas\n",
       "mpl.findpos = function(e) {\n",
       "    //this section is from http://www.quirksmode.org/js/events_properties.html\n",
       "    var targ;\n",
       "    if (!e)\n",
       "        e = window.event;\n",
       "    if (e.target)\n",
       "        targ = e.target;\n",
       "    else if (e.srcElement)\n",
       "        targ = e.srcElement;\n",
       "    if (targ.nodeType == 3) // defeat Safari bug\n",
       "        targ = targ.parentNode;\n",
       "\n",
       "    // jQuery normalizes the pageX and pageY\n",
       "    // pageX,Y are the mouse positions relative to the document\n",
       "    // offset() returns the position of the element relative to the document\n",
       "    var x = e.pageX - $(targ).offset().left;\n",
       "    var y = e.pageY - $(targ).offset().top;\n",
       "\n",
       "    return {\"x\": x, \"y\": y};\n",
       "};\n",
       "\n",
       "/*\n",
       " * return a copy of an object with only non-object keys\n",
       " * we need this to avoid circular references\n",
       " * http://stackoverflow.com/a/24161582/3208463\n",
       " */\n",
       "function simpleKeys (original) {\n",
       "  return Object.keys(original).reduce(function (obj, key) {\n",
       "    if (typeof original[key] !== 'object')\n",
       "        obj[key] = original[key]\n",
       "    return obj;\n",
       "  }, {});\n",
       "}\n",
       "\n",
       "mpl.figure.prototype.mouse_event = function(event, name) {\n",
       "    var canvas_pos = mpl.findpos(event)\n",
       "\n",
       "    if (name === 'button_press')\n",
       "    {\n",
       "        this.canvas.focus();\n",
       "        this.canvas_div.focus();\n",
       "    }\n",
       "\n",
       "    var x = canvas_pos.x * mpl.ratio;\n",
       "    var y = canvas_pos.y * mpl.ratio;\n",
       "\n",
       "    this.send_message(name, {x: x, y: y, button: event.button,\n",
       "                             step: event.step,\n",
       "                             guiEvent: simpleKeys(event)});\n",
       "\n",
       "    /* This prevents the web browser from automatically changing to\n",
       "     * the text insertion cursor when the button is pressed.  We want\n",
       "     * to control all of the cursor setting manually through the\n",
       "     * 'cursor' event from matplotlib */\n",
       "    event.preventDefault();\n",
       "    return false;\n",
       "}\n",
       "\n",
       "mpl.figure.prototype._key_event_extra = function(event, name) {\n",
       "    // Handle any extra behaviour associated with a key event\n",
       "}\n",
       "\n",
       "mpl.figure.prototype.key_event = function(event, name) {\n",
       "\n",
       "    // Prevent repeat events\n",
       "    if (name == 'key_press')\n",
       "    {\n",
       "        if (event.which === this._key)\n",
       "            return;\n",
       "        else\n",
       "            this._key = event.which;\n",
       "    }\n",
       "    if (name == 'key_release')\n",
       "        this._key = null;\n",
       "\n",
       "    var value = '';\n",
       "    if (event.ctrlKey && event.which != 17)\n",
       "        value += \"ctrl+\";\n",
       "    if (event.altKey && event.which != 18)\n",
       "        value += \"alt+\";\n",
       "    if (event.shiftKey && event.which != 16)\n",
       "        value += \"shift+\";\n",
       "\n",
       "    value += 'k';\n",
       "    value += event.which.toString();\n",
       "\n",
       "    this._key_event_extra(event, name);\n",
       "\n",
       "    this.send_message(name, {key: value,\n",
       "                             guiEvent: simpleKeys(event)});\n",
       "    return false;\n",
       "}\n",
       "\n",
       "mpl.figure.prototype.toolbar_button_onclick = function(name) {\n",
       "    if (name == 'download') {\n",
       "        this.handle_save(this, null);\n",
       "    } else {\n",
       "        this.send_message(\"toolbar_button\", {name: name});\n",
       "    }\n",
       "};\n",
       "\n",
       "mpl.figure.prototype.toolbar_button_onmouseover = function(tooltip) {\n",
       "    this.message.textContent = tooltip;\n",
       "};\n",
       "mpl.toolbar_items = [[\"Home\", \"Reset original view\", \"fa fa-home icon-home\", \"home\"], [\"Back\", \"Back to previous view\", \"fa fa-arrow-left icon-arrow-left\", \"back\"], [\"Forward\", \"Forward to next view\", \"fa fa-arrow-right icon-arrow-right\", \"forward\"], [\"\", \"\", \"\", \"\"], [\"Pan\", \"Pan axes with left mouse, zoom with right\", \"fa fa-arrows icon-move\", \"pan\"], [\"Zoom\", \"Zoom to rectangle\", \"fa fa-square-o icon-check-empty\", \"zoom\"], [\"\", \"\", \"\", \"\"], [\"Download\", \"Download plot\", \"fa fa-floppy-o icon-save\", \"download\"]];\n",
       "\n",
       "mpl.extensions = [\"eps\", \"jpeg\", \"pdf\", \"png\", \"ps\", \"raw\", \"svg\", \"tif\"];\n",
       "\n",
       "mpl.default_extension = \"png\";var comm_websocket_adapter = function(comm) {\n",
       "    // Create a \"websocket\"-like object which calls the given IPython comm\n",
       "    // object with the appropriate methods. Currently this is a non binary\n",
       "    // socket, so there is still some room for performance tuning.\n",
       "    var ws = {};\n",
       "\n",
       "    ws.close = function() {\n",
       "        comm.close()\n",
       "    };\n",
       "    ws.send = function(m) {\n",
       "        //console.log('sending', m);\n",
       "        comm.send(m);\n",
       "    };\n",
       "    // Register the callback with on_msg.\n",
       "    comm.on_msg(function(msg) {\n",
       "        //console.log('receiving', msg['content']['data'], msg);\n",
       "        // Pass the mpl event to the overridden (by mpl) onmessage function.\n",
       "        ws.onmessage(msg['content']['data'])\n",
       "    });\n",
       "    return ws;\n",
       "}\n",
       "\n",
       "mpl.mpl_figure_comm = function(comm, msg) {\n",
       "    // This is the function which gets called when the mpl process\n",
       "    // starts-up an IPython Comm through the \"matplotlib\" channel.\n",
       "\n",
       "    var id = msg.content.data.id;\n",
       "    // Get hold of the div created by the display call when the Comm\n",
       "    // socket was opened in Python.\n",
       "    var element = $(\"#\" + id);\n",
       "    var ws_proxy = comm_websocket_adapter(comm)\n",
       "\n",
       "    function ondownload(figure, format) {\n",
       "        window.open(figure.imageObj.src);\n",
       "    }\n",
       "\n",
       "    var fig = new mpl.figure(id, ws_proxy,\n",
       "                           ondownload,\n",
       "                           element.get(0));\n",
       "\n",
       "    // Call onopen now - mpl needs it, as it is assuming we've passed it a real\n",
       "    // web socket which is closed, not our websocket->open comm proxy.\n",
       "    ws_proxy.onopen();\n",
       "\n",
       "    fig.parent_element = element.get(0);\n",
       "    fig.cell_info = mpl.find_output_cell(\"<div id='\" + id + \"'></div>\");\n",
       "    if (!fig.cell_info) {\n",
       "        console.error(\"Failed to find cell for figure\", id, fig);\n",
       "        return;\n",
       "    }\n",
       "\n",
       "    var output_index = fig.cell_info[2]\n",
       "    var cell = fig.cell_info[0];\n",
       "\n",
       "};\n",
       "\n",
       "mpl.figure.prototype.handle_close = function(fig, msg) {\n",
       "    var width = fig.canvas.width/mpl.ratio\n",
       "    fig.root.unbind('remove')\n",
       "\n",
       "    // Update the output cell to use the data from the current canvas.\n",
       "    fig.push_to_output();\n",
       "    var dataURL = fig.canvas.toDataURL();\n",
       "    // Re-enable the keyboard manager in IPython - without this line, in FF,\n",
       "    // the notebook keyboard shortcuts fail.\n",
       "    IPython.keyboard_manager.enable()\n",
       "    $(fig.parent_element).html('<img src=\"' + dataURL + '\" width=\"' + width + '\">');\n",
       "    fig.close_ws(fig, msg);\n",
       "}\n",
       "\n",
       "mpl.figure.prototype.close_ws = function(fig, msg){\n",
       "    fig.send_message('closing', msg);\n",
       "    // fig.ws.close()\n",
       "}\n",
       "\n",
       "mpl.figure.prototype.push_to_output = function(remove_interactive) {\n",
       "    // Turn the data on the canvas into data in the output cell.\n",
       "    var width = this.canvas.width/mpl.ratio\n",
       "    var dataURL = this.canvas.toDataURL();\n",
       "    this.cell_info[1]['text/html'] = '<img src=\"' + dataURL + '\" width=\"' + width + '\">';\n",
       "}\n",
       "\n",
       "mpl.figure.prototype.updated_canvas_event = function() {\n",
       "    // Tell IPython that the notebook contents must change.\n",
       "    IPython.notebook.set_dirty(true);\n",
       "    this.send_message(\"ack\", {});\n",
       "    var fig = this;\n",
       "    // Wait a second, then push the new image to the DOM so\n",
       "    // that it is saved nicely (might be nice to debounce this).\n",
       "    setTimeout(function () { fig.push_to_output() }, 1000);\n",
       "}\n",
       "\n",
       "mpl.figure.prototype._init_toolbar = function() {\n",
       "    var fig = this;\n",
       "\n",
       "    var nav_element = $('<div/>');\n",
       "    nav_element.attr('style', 'width: 100%');\n",
       "    this.root.append(nav_element);\n",
       "\n",
       "    // Define a callback function for later on.\n",
       "    function toolbar_event(event) {\n",
       "        return fig.toolbar_button_onclick(event['data']);\n",
       "    }\n",
       "    function toolbar_mouse_event(event) {\n",
       "        return fig.toolbar_button_onmouseover(event['data']);\n",
       "    }\n",
       "\n",
       "    for(var toolbar_ind in mpl.toolbar_items){\n",
       "        var name = mpl.toolbar_items[toolbar_ind][0];\n",
       "        var tooltip = mpl.toolbar_items[toolbar_ind][1];\n",
       "        var image = mpl.toolbar_items[toolbar_ind][2];\n",
       "        var method_name = mpl.toolbar_items[toolbar_ind][3];\n",
       "\n",
       "        if (!name) { continue; };\n",
       "\n",
       "        var button = $('<button class=\"btn btn-default\" href=\"#\" title=\"' + name + '\"><i class=\"fa ' + image + ' fa-lg\"></i></button>');\n",
       "        button.click(method_name, toolbar_event);\n",
       "        button.mouseover(tooltip, toolbar_mouse_event);\n",
       "        nav_element.append(button);\n",
       "    }\n",
       "\n",
       "    // Add the status bar.\n",
       "    var status_bar = $('<span class=\"mpl-message\" style=\"text-align:right; float: right;\"/>');\n",
       "    nav_element.append(status_bar);\n",
       "    this.message = status_bar[0];\n",
       "\n",
       "    // Add the close button to the window.\n",
       "    var buttongrp = $('<div class=\"btn-group inline pull-right\"></div>');\n",
       "    var button = $('<button class=\"btn btn-mini btn-primary\" href=\"#\" title=\"Stop Interaction\"><i class=\"fa fa-power-off icon-remove icon-large\"></i></button>');\n",
       "    button.click(function (evt) { fig.handle_close(fig, {}); } );\n",
       "    button.mouseover('Stop Interaction', toolbar_mouse_event);\n",
       "    buttongrp.append(button);\n",
       "    var titlebar = this.root.find($('.ui-dialog-titlebar'));\n",
       "    titlebar.prepend(buttongrp);\n",
       "}\n",
       "\n",
       "mpl.figure.prototype._root_extra_style = function(el){\n",
       "    var fig = this\n",
       "    el.on(\"remove\", function(){\n",
       "\tfig.close_ws(fig, {});\n",
       "    });\n",
       "}\n",
       "\n",
       "mpl.figure.prototype._canvas_extra_style = function(el){\n",
       "    // this is important to make the div 'focusable\n",
       "    el.attr('tabindex', 0)\n",
       "    // reach out to IPython and tell the keyboard manager to turn it's self\n",
       "    // off when our div gets focus\n",
       "\n",
       "    // location in version 3\n",
       "    if (IPython.notebook.keyboard_manager) {\n",
       "        IPython.notebook.keyboard_manager.register_events(el);\n",
       "    }\n",
       "    else {\n",
       "        // location in version 2\n",
       "        IPython.keyboard_manager.register_events(el);\n",
       "    }\n",
       "\n",
       "}\n",
       "\n",
       "mpl.figure.prototype._key_event_extra = function(event, name) {\n",
       "    var manager = IPython.notebook.keyboard_manager;\n",
       "    if (!manager)\n",
       "        manager = IPython.keyboard_manager;\n",
       "\n",
       "    // Check for shift+enter\n",
       "    if (event.shiftKey && event.which == 13) {\n",
       "        this.canvas_div.blur();\n",
       "        event.shiftKey = false;\n",
       "        // Send a \"J\" for go to next cell\n",
       "        event.which = 74;\n",
       "        event.keyCode = 74;\n",
       "        manager.command_mode();\n",
       "        manager.handle_keydown(event);\n",
       "    }\n",
       "}\n",
       "\n",
       "mpl.figure.prototype.handle_save = function(fig, msg) {\n",
       "    fig.ondownload(fig, null);\n",
       "}\n",
       "\n",
       "\n",
       "mpl.find_output_cell = function(html_output) {\n",
       "    // Return the cell and output element which can be found *uniquely* in the notebook.\n",
       "    // Note - this is a bit hacky, but it is done because the \"notebook_saving.Notebook\"\n",
       "    // IPython event is triggered only after the cells have been serialised, which for\n",
       "    // our purposes (turning an active figure into a static one), is too late.\n",
       "    var cells = IPython.notebook.get_cells();\n",
       "    var ncells = cells.length;\n",
       "    for (var i=0; i<ncells; i++) {\n",
       "        var cell = cells[i];\n",
       "        if (cell.cell_type === 'code'){\n",
       "            for (var j=0; j<cell.output_area.outputs.length; j++) {\n",
       "                var data = cell.output_area.outputs[j];\n",
       "                if (data.data) {\n",
       "                    // IPython >= 3 moved mimebundle to data attribute of output\n",
       "                    data = data.data;\n",
       "                }\n",
       "                if (data['text/html'] == html_output) {\n",
       "                    return [cell, data, j];\n",
       "                }\n",
       "            }\n",
       "        }\n",
       "    }\n",
       "}\n",
       "\n",
       "// Register the function which deals with the matplotlib target/channel.\n",
       "// The kernel may be null if the page has been refreshed.\n",
       "if (IPython.notebook.kernel != null) {\n",
       "    IPython.notebook.kernel.comm_manager.register_target('matplotlib', mpl.mpl_figure_comm);\n",
       "}\n"
      ],
      "text/plain": [
       "<IPython.core.display.Javascript object>"
      ]
     },
     "metadata": {},
     "output_type": "display_data"
    },
    {
     "data": {
      "text/html": [
       "<img src=\"data:image/png;base64,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\" width=\"432\">"
      ],
      "text/plain": [
       "<IPython.core.display.HTML object>"
      ]
     },
     "metadata": {},
     "output_type": "display_data"
    }
   ],
   "source": [
    "%matplotlib notebook\n",
    "fig = plt.figure() #.gca(projection='3d')\n",
    "ax = fig.add_subplot(111, projection='3d')\n",
    "ax.scatter(df[0],df[1],df[2],c=col)\n",
    "ax.set_xlabel('Topic 0')\n",
    "ax.set_ylabel('Topic 1')\n",
    "ax.set_zlabel('Topic 2');"
   ]
  },
  {
   "cell_type": "markdown",
   "metadata": {},
   "source": [
    "So, what do the clusters mean?"
   ]
  },
  {
   "cell_type": "code",
   "execution_count": 52,
   "metadata": {
    "ExecuteTime": {
     "end_time": "2019-11-12T23:57:56.898258Z",
     "start_time": "2019-11-12T23:57:56.865801Z"
    }
   },
   "outputs": [
    {
     "name": "stdout",
     "output_type": "stream",
     "text": [
      "Cluster centered at: [ 0.70811608 -0.69794321 -0.00386964] color= r\n",
      "1006 : [ 0.70960267 -0.70455775 -0.00790145] And the impossibilities that had been imposed upon them by a disadvantaged community were replaced by hope and purpose.The revolution in education is happening in our schools, with adults who provide love, structure, support and knowledge.\n",
      "1082 : [ 0.71338927 -0.70063759 -0.01351732] (Laughter)But he does love cupcakes.\n",
      "1107 : [ 0.70570847 -0.70843308 -0.00990586] And then we did what I'm about to show you now, and I still love watching this one. Back to that lovely photo, or photo in a picture.\n",
      "566 : [ 0.7011479  -0.71287101 -0.01437181] (Laughter)I'd love to share with you some images of urban beehives, because they can be anything.\n",
      "\n",
      "\n",
      "Cluster centered at: [0.80167943 0.37060731 0.41715367] color= g\n",
      "918 : [0.8189803  0.38364619 0.42671638] She said she loved the sound of my project, could she go to her local English-language bookshop and choose my Malaysian book and post it to me?\n",
      "614 : [0.80120668 0.39726203 0.44749383] (Typing) And then once she found out when Mother's Day was happening, she delivered a special Mother's Day greeting of how much she loved her mom.So I really enjoyed looking at these projects and interacting with these projects.\n",
      "585 : [0.81491996 0.35163726 0.46071324] It asked customers to purchase chocolate with the promise of good deeds towards loved ones.\n",
      "1129 : [0.83268518 0.40362936 0.37910253] And I loved it. And don't get me wrong — sometimes I loved it and it was great, but other times, I felt like I had been left alone to fend for myself.\n",
      "\n",
      "\n",
      "Cluster centered at: [ 0.91016437  0.30557217 -0.14540845] color= b\n",
      "638 : [ 0.94418319  0.31460166 -0.09769292] They have in-built bidet nozzles for a lovely, hands-free cleaning experience, and they have various other features like a heated seat and an automatic lid-raising device which is known as the \"marriage-saver.\"\n",
      "169 : [ 0.92377737  0.3207545  -0.2091696 ] It really caught hold of us, and caught fire, and it would be lovely if we could reproduce that again now.Of course, refusing to grow up — — even though I impersonate a grown-up in daily life, but I do a fairly good job of that — but really retaining that childlike quality of not caring what other people think about what you're interested in, is really critical.\n",
      "206 : [ 0.91532606  0.37782168 -0.13938788] It's also a project that in a very beautiful way, the development of this has actually paralleled the evolution of life on earth, which is a particularly lovely thing to be saying right here in February 2009 — which, as one of our previous speakers told us, is the 200th anniversary of the birth of Charles Darwin.All of this I'm going to get to in the next 18 minutes, I hope.\n",
      "563 : [ 0.92008503  0.3729794  -0.11970761] So he designed a plotter as well, and, you know, at that point, I think he got pretty much a pretty good machine.Along comes this woman, Ada Lovelace. He was building a machine to do mathematics, and Lovelace said, \"You could do more than mathematics on this machine.\" Whether it's video or text or music or voice, it's all numbers, it's all, underlying it, mathematical functions happening, and Lovelace said, \"Just because you're doing mathematical functions and symbols doesn't mean these things can't represent other things in the real world, such as music.\" This was a huge leap, because Babbage is there saying, \"We could compute these amazing functions and print out tables of numbers and draw graphs,\" — (Laughter) — and Lovelace is there and she says, \"Look, this thing could even compose music if you told it a representation of music numerically.\" So this is what I call Lovelace's Leap.\n",
      "\n",
      "\n",
      "Cluster centered at: [ 0.88400714 -0.43987957 -0.0187767 ] color= c\n",
      "999 : [ 0.89783465 -0.43985243 -0.0205618 ] In real life, I love to hike, but every time I want to go on a hike, it makes me nervous.\n",
      "674 : [ 0.89448001 -0.44615618 -0.02915765] Themes have included runs for the environment, breast cancer, for the love of Lebanon, for peace, or just simply to run.The first annual all-women-and-girls race for empowerment, which is one of its kind in the region, has just taken place only a few weeks ago, with 4,512 women, including the first lady, and this is only the beginning.Thank you.\n",
      "468 : [ 0.88811985 -0.45939794 -0.01402377] (Laughter)And I love that moment in this video, because before it became a shared experience, it was something that was maybe a little bit scary, or something that was at least confusing to her. And I love that girl's reaction so much.\n",
      "15 : [ 0.890244   -0.45545777 -0.00488259] ][\"RIDE THE PONY\"][MAKE LOVE TO THE CROWD][SMACKING THAT ASS][STIR THE POT OF LOVE][HANGING OUT ... (Laughter)In March of 2001 —(Laughter)I filmed myself dancing to Madonna's \"Justify My Love.\" (Singing)(Sings) \"Ah, the first time that I made love to a rock shrimp —\"(Laughter)[Spam jokes are the new airplane jokes](Sighs)It's true. And very, very quickly — I love puppets.\n",
      "\n",
      "\n",
      "Cluster centered at: [ 0.97682602 -0.11538877  0.01923002] color= m\n",
      "101 : [ 0.99236321 -0.12043903  0.02664013] Being a child, and sort of crawling around the house, I remember these Turkish carpets, and there were these scenes, these battle scenes, these love scenes. I was a teenager, and at 15 or 16, I guess like all teenagers, we want to just do what we love and what we believe in. And so, I fused together the two things I loved the most, which was skiing and windsurfing. But what he said was really significant, is that design was going to be why the kids were going to love this product, how we were going to make it low cost, robust.\n",
      "517 : [ 0.99375961 -0.10838671  0.02634687] (Laughter)Everybody in house loved it, and so off it goes to the author. And David especially loved this design because at book signings, which he does a lot of, he could take a magic marker and do this. We come upon them, the clandestine lovers. Fourteen weeks on the Best Seller list, eight printings, and still going strong.So even though we love publishing as an art, we very much know it's a business too, and that if we do our jobs right and get a little lucky, that great art can be great business.So that's my story.\n",
      "1106 : [ 0.99496715 -0.09925761  0.01372214] But it's an inside job, and we can't arrange peace or lasting improvement for the people we love most in the world. (Laughter)When William Blake said that we are here to learn to endure the beams of love, he knew that your family would be an intimate part of this, even as you want to run screaming for your cute little life. The mystery of grace is that God loves Henry Kissinger and Vladimir Putin and me exactly as much as He or She loves your new grandchild. And I was surprised, but they said I could give a talk, and I said I'd love to.\n",
      "1031 : [ 0.99005631 -0.13445932  0.04134244] So again, if you deal with those who are the most impacted, everybody has an opportunity to benefit from that, rather than dealing with the folks who are not as impacted, and expecting it to trickle down.MB: So I love the effervescence, bubbling up.AG: Effervescence — like champagne. (Laughter)MB: Who doesn't love a glass of champagne, right? Yet there are people who are finding the strength and wherewithal to travel, to move, to eke out a better living for themselves and to provide for their families and their loved ones. \"(Applause)MB: I love that — yes.So in terms of action, I think that it is awesome to sit here and be able to listen to you all, and to have our minds open and shift, but that's not going to get black people free.\n",
      "\n",
      "\n"
     ]
    }
   ],
   "source": [
    "doc_topic = cv_doc_topic[1]\n",
    "for i,center in enumerate(km.cluster_centers_):\n",
    "    n_closest=pd.DataFrame(cosine_similarity(X=[center],Y=normalize(doc_topic)).T)[0].nlargest(4)\n",
    "    print('Cluster centered at:',center,'color=',cmap[i])\n",
    "    for j,item in n_closest.iteritems():\n",
    "        print(j,':',normalize(doc_topic)[j],love_snippets.iloc[j].love)\n",
    "    print('\\n')"
   ]
  },
  {
   "cell_type": "code",
   "execution_count": null,
   "metadata": {},
   "outputs": [],
   "source": []
  }
 ],
 "metadata": {
  "kernelspec": {
   "display_name": "Python [conda env:metis] *",
   "language": "python",
   "name": "conda-env-metis-py"
  },
  "language_info": {
   "codemirror_mode": {
    "name": "ipython",
    "version": 3
   },
   "file_extension": ".py",
   "mimetype": "text/x-python",
   "name": "python",
   "nbconvert_exporter": "python",
   "pygments_lexer": "ipython3",
   "version": "3.7.3"
  },
  "toc": {
   "base_numbering": 1,
   "nav_menu": {},
   "number_sections": true,
   "sideBar": true,
   "skip_h1_title": false,
   "title_cell": "Table of Contents",
   "title_sidebar": "Contents",
   "toc_cell": false,
   "toc_position": {},
   "toc_section_display": true,
   "toc_window_display": false
  }
 },
 "nbformat": 4,
 "nbformat_minor": 2
}
